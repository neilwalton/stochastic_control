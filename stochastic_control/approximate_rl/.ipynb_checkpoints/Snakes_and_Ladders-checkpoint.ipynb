{
 "cells": [
  {
   "cell_type": "code",
   "execution_count": 1,
   "metadata": {},
   "outputs": [],
   "source": [
    "import numpy as np\n",
    "\n",
    "import sys\n",
    "sys.path.append('../../')\n",
    "\n",
    "import stochastic_control as sc\n",
    "\n",
    "%load_ext autoreload\n",
    "%autoreload 2"
   ]
  },
  {
   "cell_type": "markdown",
   "metadata": {},
   "source": [
    "# Snakes and Ladders"
   ]
  },
  {
   "cell_type": "code",
   "execution_count": 2,
   "metadata": {},
   "outputs": [],
   "source": [
    "\n",
    "\n",
    "class snakes_and_ladders():\n",
    "    def __init__(self,size,snakes,ladders):\n",
    "        self.size = size        \n",
    "        self.state = 1\n",
    "        self.final_state = size\n",
    "        \n",
    "        # add squares, final square, snakes and ladders\n",
    "        self.move = dict()\n",
    "        for i in range(size):\n",
    "            self.move[i+1] = i+1\n",
    "        for i in range(1,6):\n",
    "            self.move[size+i]=size\n",
    "        for key, val in snakes.items():\n",
    "            self.move[key]=val\n",
    "        for key, val in ladders.items():\n",
    "            self.move[key]=val\n",
    "        \n",
    "    def step(self):\n",
    "        dice = np.random.randint(6)+1\n",
    "        self.state = self.move[self.state+dice]\n",
    "        \n",
    "        if self.state==self.final_state:\n",
    "            state = self.state\n",
    "            reward = 1\n",
    "            done = True\n",
    "        else:\n",
    "            reward = 0\n",
    "            done = False\n",
    "            \n",
    "        return (self.state,reward,done)\n",
    "    \n",
    "    def reset(self):\n",
    "        self.state = 1\n",
    "        \n",
    "        "
   ]
  },
  {
   "cell_type": "code",
   "execution_count": 3,
   "metadata": {},
   "outputs": [],
   "source": [
    "size = 12\n",
    "snakes = {11:7,9:3,6:4}\n",
    "ladders = {2:7,8:10}"
   ]
  },
  {
   "cell_type": "code",
   "execution_count": 4,
   "metadata": {},
   "outputs": [],
   "source": [
    "env = snakes_and_ladders(size,snakes,ladders)\n",
    "mc= sc.Monte_Carlo()"
   ]
  },
  {
   "cell_type": "code",
   "execution_count": 18,
   "metadata": {},
   "outputs": [
    {
     "name": "stdout",
     "output_type": "stream",
     "text": [
      "7 0 False\n",
      "10 0 False\n",
      "12 1 True\n"
     ]
    }
   ],
   "source": [
    "done = False \n",
    "env.reset()\n",
    "while not done:\n",
    "    state,reward,done = env.step()\n",
    "    mc.train(state,reward,done)\n",
    "    print(state,reward,done)"
   ]
  },
  {
   "cell_type": "code",
   "execution_count": 19,
   "metadata": {},
   "outputs": [
    {
     "name": "stdout",
     "output_type": "stream",
     "text": [
      "3 1.0\n",
      "4 2.25\n",
      "5 1.0\n",
      "7 1.0\n",
      "10 1.0\n",
      "12 1.0\n"
     ]
    }
   ],
   "source": [
    "mc.print()"
   ]
  },
  {
   "cell_type": "code",
   "execution_count": 7,
   "metadata": {},
   "outputs": [],
   "source": [
    "done = False \n",
    "env.reset()"
   ]
  },
  {
   "cell_type": "code",
   "execution_count": 8,
   "metadata": {},
   "outputs": [
    {
     "data": {
      "text/plain": [
       "(4, 0, False)"
      ]
     },
     "execution_count": 8,
     "metadata": {},
     "output_type": "execute_result"
    }
   ],
   "source": [
    "state,reward,done = env.step()\n",
    "(state,reward,done)"
   ]
  },
  {
   "cell_type": "code",
   "execution_count": 9,
   "metadata": {},
   "outputs": [],
   "source": [
    "mc.train(state,5,done)"
   ]
  },
  {
   "cell_type": "code",
   "execution_count": null,
   "metadata": {},
   "outputs": [],
   "source": []
  }
 ],
 "metadata": {
  "kernelspec": {
   "display_name": "Python 3",
   "language": "python",
   "name": "python3"
  },
  "language_info": {
   "codemirror_mode": {
    "name": "ipython",
    "version": 3
   },
   "file_extension": ".py",
   "mimetype": "text/x-python",
   "name": "python",
   "nbconvert_exporter": "python",
   "pygments_lexer": "ipython3",
   "version": "3.6.3"
  }
 },
 "nbformat": 4,
 "nbformat_minor": 4
}
