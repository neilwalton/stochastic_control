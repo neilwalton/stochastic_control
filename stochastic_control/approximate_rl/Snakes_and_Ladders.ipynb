{
 "cells": [
  {
   "cell_type": "code",
   "execution_count": 1,
   "metadata": {},
   "outputs": [],
   "source": [
    "import numpy as np\n",
    "\n",
    "import sys\n",
    "sys.path.append('../../')\n",
    "\n",
    "import stochastic_control as sc\n",
    "\n",
    "%load_ext autoreload\n",
    "%autoreload 2"
   ]
  },
  {
   "cell_type": "markdown",
   "metadata": {},
   "source": [
    "# Snakes and Ladders"
   ]
  },
  {
   "cell_type": "code",
   "execution_count": 2,
   "metadata": {},
   "outputs": [],
   "source": [
    "\n",
    "\n",
    "class snakes_and_ladders():\n",
    "    def __init__(self,size,snakes,ladders):\n",
    "        self.size = size        \n",
    "        self.state = 1\n",
    "        self.final_state = size\n",
    "        \n",
    "        # add squares, final square, snakes and ladders\n",
    "        self.move = dict()\n",
    "        for i in range(size):\n",
    "            self.move[i+1] = i+1\n",
    "        for i in range(1,6):\n",
    "            self.move[size+i]=size\n",
    "        for key, val in snakes.items():\n",
    "            self.move[key]=val\n",
    "        for key, val in ladders.items():\n",
    "            self.move[key]=val\n",
    "        \n",
    "    def step(self):\n",
    "        dice = np.random.randint(6)+1\n",
    "        self.state = self.move[self.state+dice]\n",
    "        \n",
    "        if self.state==self.final_state:\n",
    "            state = self.state\n",
    "            reward = 1\n",
    "            done = True\n",
    "        else:\n",
    "            reward = 0\n",
    "            done = False\n",
    "            \n",
    "        return (self.state,reward,done)\n",
    "    \n",
    "    def reset(self):\n",
    "        self.state = 1\n",
    "        \n",
    "        "
   ]
  },
  {
   "cell_type": "code",
   "execution_count": 3,
   "metadata": {},
   "outputs": [],
   "source": [
    "size = 12\n",
    "snakes = {11:7,9:3,6:4}\n",
    "ladders = {2:7,8:10}"
   ]
  },
  {
   "cell_type": "code",
   "execution_count": 4,
   "metadata": {},
   "outputs": [],
   "source": [
    "env = snakes_and_ladders(size,snakes,ladders)\n",
    "mc= sc.Monte_Carlo(discount=0.1)"
   ]
  },
  {
   "cell_type": "code",
   "execution_count": 5,
   "metadata": {},
   "outputs": [],
   "source": [
    "for _ in range(10000):\n",
    "    done = False \n",
    "    env.reset()\n",
    "    while not done:\n",
    "        state,reward,done = env.step()\n",
    "        mc.train(state,reward,done)\n",
    "        #print(state,reward,done)"
   ]
  },
  {
   "cell_type": "code",
   "execution_count": 6,
   "metadata": {},
   "outputs": [
    {
     "name": "stdout",
     "output_type": "stream",
     "text": [
      "3 0.002326393927377352\n",
      "4 0.003715595847238274\n",
      "5 0.004066757604326378\n",
      "7 0.03640933019470685\n",
      "10 0.08424636626052542\n",
      "12 1.0\n"
     ]
    }
   ],
   "source": [
    "mc.print()"
   ]
  },
  {
   "cell_type": "code",
   "execution_count": 7,
   "metadata": {},
   "outputs": [],
   "source": [
    "td = sc.TD_Learn(lr=0.01,discount=0.1)"
   ]
  },
  {
   "cell_type": "code",
   "execution_count": 8,
   "metadata": {},
   "outputs": [],
   "source": [
    "for _ in range(10000):\n",
    "    done = False \n",
    "    env.reset()\n",
    "    while not done:\n",
    "        state,reward,done = env.step()\n",
    "        td.train(state,reward,done)"
   ]
  },
  {
   "cell_type": "code",
   "execution_count": 9,
   "metadata": {},
   "outputs": [
    {
     "name": "stdout",
     "output_type": "stream",
     "text": [
      "False 0.0\n",
      "True 0.0\n",
      "3 0.0\n",
      "4 0.0\n",
      "5 0.0\n",
      "7 0.0\n",
      "10 0.0\n",
      "12 0.9999999999999944\n"
     ]
    }
   ],
   "source": [
    "td.print()"
   ]
  },
  {
   "cell_type": "code",
   "execution_count": null,
   "metadata": {},
   "outputs": [],
   "source": []
  }
 ],
 "metadata": {
  "kernelspec": {
   "display_name": "Python 3",
   "language": "python",
   "name": "python3"
  },
  "language_info": {
   "codemirror_mode": {
    "name": "ipython",
    "version": 3
   },
   "file_extension": ".py",
   "mimetype": "text/x-python",
   "name": "python",
   "nbconvert_exporter": "python",
   "pygments_lexer": "ipython3",
   "version": "3.6.3"
  }
 },
 "nbformat": 4,
 "nbformat_minor": 4
}
