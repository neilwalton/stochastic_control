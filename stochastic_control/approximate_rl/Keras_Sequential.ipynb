{
 "cells": [
  {
   "cell_type": "code",
   "execution_count": 27,
   "metadata": {},
   "outputs": [],
   "source": [
    "# get data\n",
    "import keras\n",
    "import numpy as np\n",
    "x_train = np.random.random((1000, 4))\n",
    "y_train = keras.utils.to_categorical(np.random.randint(2, size=(1000, 1)), num_classes=2)\n",
    "x_test = np.random.random((100, 4))\n",
    "y_test = keras.utils.to_categorical(np.random.randint(2, size=(100, 1)), num_classes=2)\n",
    "x_pred = np.random.random((10, 4))"
   ]
  },
  {
   "cell_type": "code",
   "execution_count": 30,
   "metadata": {},
   "outputs": [
    {
     "name": "stdout",
     "output_type": "stream",
     "text": [
      "Epoch 1/20\n",
      "1000/1000 [==============================] - 0s 449us/step - loss: 0.6926\n",
      "Epoch 2/20\n",
      "1000/1000 [==============================] - 0s 18us/step - loss: 0.6936\n",
      "Epoch 3/20\n",
      "1000/1000 [==============================] - 0s 32us/step - loss: 0.6931\n",
      "Epoch 4/20\n",
      "1000/1000 [==============================] - 0s 19us/step - loss: 0.6925\n",
      "Epoch 5/20\n",
      "1000/1000 [==============================] - 0s 21us/step - loss: 0.6915\n",
      "Epoch 6/20\n",
      "1000/1000 [==============================] - 0s 20us/step - loss: 0.6921\n",
      "Epoch 7/20\n",
      "1000/1000 [==============================] - 0s 23us/step - loss: 0.6924\n",
      "Epoch 8/20\n",
      "1000/1000 [==============================] - 0s 24us/step - loss: 0.6913\n",
      "Epoch 9/20\n",
      "1000/1000 [==============================] - 0s 18us/step - loss: 0.6914\n",
      "Epoch 10/20\n",
      "1000/1000 [==============================] - 0s 28us/step - loss: 0.6915\n",
      "Epoch 11/20\n",
      "1000/1000 [==============================] - 0s 21us/step - loss: 0.6912\n",
      "Epoch 12/20\n",
      "1000/1000 [==============================] - 0s 20us/step - loss: 0.6914\n",
      "Epoch 13/20\n",
      "1000/1000 [==============================] - 0s 18us/step - loss: 0.6915\n",
      "Epoch 14/20\n",
      "1000/1000 [==============================] - 0s 20us/step - loss: 0.6910\n",
      "Epoch 15/20\n",
      "1000/1000 [==============================] - 0s 23us/step - loss: 0.6910\n",
      "Epoch 16/20\n",
      "1000/1000 [==============================] - 0s 22us/step - loss: 0.6912\n",
      "Epoch 17/20\n",
      "1000/1000 [==============================] - 0s 24us/step - loss: 0.6905\n",
      "Epoch 18/20\n",
      "1000/1000 [==============================] - 0s 19us/step - loss: 0.6905\n",
      "Epoch 19/20\n",
      "1000/1000 [==============================] - 0s 18us/step - loss: 0.6906\n",
      "Epoch 20/20\n",
      "1000/1000 [==============================] - 0s 23us/step - loss: 0.6907\n",
      "100/100 [==============================] - 0s 1ms/step\n"
     ]
    }
   ],
   "source": [
    "from keras.models import Sequential\n",
    "from keras.layers import Dense, Activation\n",
    "\n",
    "model = Sequential()\n",
    "model.add(Dense(16, activation='relu', input_shape = (4,)))\n",
    "model.add(Dense(32, activation='sigmoid'))   \n",
    "model.add(Dense(2, activation='softmax'))\n",
    "model.compile(optimizer='adam', loss='categorical_crossentropy')\n",
    "\n",
    "model.fit(x_train, y_train, epochs=20, batch_size=128)\n",
    "score = model.evaluate(x_test, y_test, batch_size=128)\n",
    "y_pred = model.predict(x_pred)"
   ]
  },
  {
   "cell_type": "code",
   "execution_count": 25,
   "metadata": {},
   "outputs": [
    {
     "data": {
      "text/plain": [
       "0.6916901469230652"
      ]
     },
     "execution_count": 25,
     "metadata": {},
     "output_type": "execute_result"
    }
   ],
   "source": [
    "score"
   ]
  },
  {
   "cell_type": "code",
   "execution_count": 12,
   "metadata": {},
   "outputs": [
    {
     "name": "stdout",
     "output_type": "stream",
     "text": [
      "Epoch 1/20\n",
      "1000/1000 [==============================] - 1s 584us/step - loss: 2.3935 - acc: 0.0890\n",
      "Epoch 2/20\n",
      "1000/1000 [==============================] - 0s 23us/step - loss: 2.3572 - acc: 0.1100\n",
      "Epoch 3/20\n",
      "1000/1000 [==============================] - 0s 26us/step - loss: 2.3417 - acc: 0.1000\n",
      "Epoch 4/20\n",
      "1000/1000 [==============================] - 0s 23us/step - loss: 2.3296 - acc: 0.1000\n",
      "Epoch 5/20\n",
      "1000/1000 [==============================] - 0s 27us/step - loss: 2.3163 - acc: 0.1070\n",
      "Epoch 6/20\n",
      "1000/1000 [==============================] - 0s 22us/step - loss: 2.3145 - acc: 0.1080\n",
      "Epoch 7/20\n",
      "1000/1000 [==============================] - 0s 23us/step - loss: 2.3105 - acc: 0.1170\n",
      "Epoch 8/20\n",
      "1000/1000 [==============================] - 0s 27us/step - loss: 2.3131 - acc: 0.1050\n",
      "Epoch 9/20\n",
      "1000/1000 [==============================] - 0s 29us/step - loss: 2.3100 - acc: 0.0860\n",
      "Epoch 10/20\n",
      "1000/1000 [==============================] - 0s 32us/step - loss: 2.3104 - acc: 0.1120\n",
      "Epoch 11/20\n",
      "1000/1000 [==============================] - 0s 34us/step - loss: 2.2994 - acc: 0.1200\n",
      "Epoch 12/20\n",
      "1000/1000 [==============================] - 0s 32us/step - loss: 2.3118 - acc: 0.1100\n",
      "Epoch 13/20\n",
      "1000/1000 [==============================] - 0s 22us/step - loss: 2.3053 - acc: 0.1080\n",
      "Epoch 14/20\n",
      "1000/1000 [==============================] - 0s 24us/step - loss: 2.3048 - acc: 0.1180\n",
      "Epoch 15/20\n",
      "1000/1000 [==============================] - 0s 22us/step - loss: 2.2969 - acc: 0.1050\n",
      "Epoch 16/20\n",
      "1000/1000 [==============================] - 0s 26us/step - loss: 2.3079 - acc: 0.1140\n",
      "Epoch 17/20\n",
      "1000/1000 [==============================] - 0s 21us/step - loss: 2.2926 - acc: 0.1120\n",
      "Epoch 18/20\n",
      "1000/1000 [==============================] - 0s 30us/step - loss: 2.2946 - acc: 0.1260\n",
      "Epoch 19/20\n",
      "1000/1000 [==============================] - 0s 34us/step - loss: 2.3028 - acc: 0.0980\n",
      "Epoch 20/20\n",
      "1000/1000 [==============================] - 0s 37us/step - loss: 2.3037 - acc: 0.1250\n",
      "100/100 [==============================] - 0s 1ms/step\n"
     ]
    }
   ],
   "source": [
    "import keras\n",
    "from keras.models import Sequential\n",
    "from keras.layers import Dense, Dropout, Activation\n",
    "from keras.optimizers import SGD\n",
    "\n",
    "# Generate dummy data\n",
    "import numpy as np\n",
    "x_train = np.random.random((1000, 20))\n",
    "y_train = keras.utils.to_categorical(np.random.randint(10, size=(1000, 1)), num_classes=10)\n",
    "x_test = np.random.random((100, 20))\n",
    "y_test = keras.utils.to_categorical(np.random.randint(10, size=(100, 1)), num_classes=10)\n",
    "\n",
    "model = Sequential()\n",
    "# Dense(64) is a fully-connected layer with 64 hidden units.\n",
    "# in the first layer, you must specify the expected input data shape:\n",
    "# here, 20-dimensional vectors.\n",
    "model.add(Dense(64, activation='relu', input_dim=20))\n",
    "model.add(Dropout(0.5))\n",
    "model.add(Dense(64, activation='relu'))\n",
    "model.add(Dropout(0.5))\n",
    "model.add(Dense(10, activation='softmax'))\n",
    "\n",
    "sgd = SGD(lr=0.01, decay=1e-6, momentum=0.9, nesterov=True)\n",
    "model.compile(loss='categorical_crossentropy',\n",
    "              optimizer=sgd,\n",
    "              metrics=['accuracy'])\n",
    "\n",
    "model.fit(x_train, y_train,\n",
    "          epochs=20,\n",
    "          batch_size=128)\n",
    "score = model.evaluate(x_test, y_test, batch_size=128)"
   ]
  },
  {
   "cell_type": "code",
   "execution_count": 13,
   "metadata": {},
   "outputs": [
    {
     "data": {
      "text/plain": [
       "[2.308696746826172, 0.09000000357627869]"
      ]
     },
     "execution_count": 13,
     "metadata": {},
     "output_type": "execute_result"
    }
   ],
   "source": [
    "score"
   ]
  }
 ],
 "metadata": {
  "kernelspec": {
   "display_name": "Python 3",
   "language": "python",
   "name": "python3"
  },
  "language_info": {
   "codemirror_mode": {
    "name": "ipython",
    "version": 3
   },
   "file_extension": ".py",
   "mimetype": "text/x-python",
   "name": "python",
   "nbconvert_exporter": "python",
   "pygments_lexer": "ipython3",
   "version": "3.6.3"
  }
 },
 "nbformat": 4,
 "nbformat_minor": 2
}
