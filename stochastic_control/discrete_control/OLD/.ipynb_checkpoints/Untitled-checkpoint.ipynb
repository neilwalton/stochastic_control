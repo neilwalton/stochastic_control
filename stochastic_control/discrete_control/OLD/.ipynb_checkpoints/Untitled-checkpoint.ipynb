{
 "cells": [
  {
   "cell_type": "code",
   "execution_count": 86,
   "metadata": {},
   "outputs": [],
   "source": [
    "import sys, os\n",
    "sys.path.insert(0,'/Users/mbbssnw3/Dropbox (The University of Manchester)/ACTIVE/COURSE--OptContFinance/code/stochastic_control')"
   ]
  },
  {
   "cell_type": "code",
   "execution_count": 87,
   "metadata": {},
   "outputs": [],
   "source": [
    "import numpy as np\n",
    "from stochastic_control.bandits.bandits import *\n",
    "from stochastic_control.discrete_control.discrete_control import *\n",
    "from stochastic_control.tabular_rl.Q_learner import *\n",
    "from time import time\n",
    "from IPython.display import clear_output"
   ]
  },
  {
   "cell_type": "code",
   "execution_count": 88,
   "metadata": {},
   "outputs": [
    {
     "name": "stdout",
     "output_type": "stream",
     "text": [
      "The autoreload extension is already loaded. To reload it, use:\n",
      "  %reload_ext autoreload\n"
     ]
    }
   ],
   "source": [
    "%load_ext autoreload\n",
    "%autoreload"
   ]
  },
  {
   "cell_type": "code",
   "execution_count": 89,
   "metadata": {},
   "outputs": [],
   "source": [
    "x=[]"
   ]
  },
  {
   "cell_type": "code",
   "execution_count": 90,
   "metadata": {},
   "outputs": [],
   "source": [
    "self = Q_Learn(lr=0.01)"
   ]
  },
  {
   "cell_type": "code",
   "execution_count": 91,
   "metadata": {},
   "outputs": [],
   "source": [
    "import gym \n",
    "env = gym.make('Blackjack-v0')"
   ]
  },
  {
   "cell_type": "code",
   "execution_count": 92,
   "metadata": {},
   "outputs": [],
   "source": [
    "self.lr = 0.0005\n",
    "#self.explore_prob = 0.1"
   ]
  },
  {
   "cell_type": "code",
   "execution_count": null,
   "metadata": {},
   "outputs": [],
   "source": [
    "tic = time()\n",
    "for _ in range(5000000):\n",
    "    state = env.reset()\n",
    "    next_state = None\n",
    "    done = False\n",
    "    while done is False:\n",
    "        action = env.action_space.sample() #self.act(state,explore_prob=0.1,actions=[0,1])\n",
    "        next_state, reward, done, _ = env.step(action)\n",
    "        self.train(state,action,reward,next_state)\n",
    "        state = next_state\n",
    "toc = time()\n",
    "print(toc-tic)"
   ]
  },
  {
   "cell_type": "code",
   "execution_count": 7,
   "metadata": {},
   "outputs": [],
   "source": [
    "def print(self):\n",
    "    for state in states:\n",
    "        for action in self[state].keys():\n",
    "            print(state,action,self[state][action])"
   ]
  },
  {
   "cell_type": "code",
   "execution_count": 9,
   "metadata": {},
   "outputs": [
    {
     "data": {
      "text/plain": [
       "(15, 10, False)"
      ]
     },
     "execution_count": 9,
     "metadata": {},
     "output_type": "execute_result"
    }
   ],
   "source": [
    "state"
   ]
  },
  {
   "cell_type": "code",
   "execution_count": 74,
   "metadata": {},
   "outputs": [
    {
     "data": {
      "text/plain": [
       "{(4, 1, False): 1,\n",
       " (4, 2, False): 1,\n",
       " (4, 3, False): 1,\n",
       " (4, 4, False): 1,\n",
       " (4, 5, False): 1,\n",
       " (4, 6, False): 1,\n",
       " (4, 7, False): 1,\n",
       " (4, 8, False): 1,\n",
       " (4, 9, False): 1,\n",
       " (4, 10, False): 1,\n",
       " (5, 1, False): 1,\n",
       " (5, 2, False): 1,\n",
       " (5, 3, False): 1,\n",
       " (5, 4, False): 1,\n",
       " (5, 5, False): 1,\n",
       " (5, 6, False): 1,\n",
       " (5, 7, False): 1,\n",
       " (5, 8, False): 1,\n",
       " (5, 9, False): 1,\n",
       " (5, 10, False): 1,\n",
       " (6, 1, False): 1,\n",
       " (6, 2, False): 1,\n",
       " (6, 3, False): 1,\n",
       " (6, 4, False): 1,\n",
       " (6, 5, False): 1,\n",
       " (6, 6, False): 1,\n",
       " (6, 7, False): 1,\n",
       " (6, 8, False): 1,\n",
       " (6, 9, False): 1,\n",
       " (6, 10, False): 1,\n",
       " (7, 1, False): 1,\n",
       " (7, 2, False): 1,\n",
       " (7, 3, False): 1,\n",
       " (7, 4, False): 1,\n",
       " (7, 5, False): 1,\n",
       " (7, 6, False): 1,\n",
       " (7, 7, False): 1,\n",
       " (7, 8, False): 1,\n",
       " (7, 9, False): 1,\n",
       " (7, 10, False): 1,\n",
       " (8, 1, False): 1,\n",
       " (8, 2, False): 1,\n",
       " (8, 3, False): 1,\n",
       " (8, 4, False): 1,\n",
       " (8, 5, False): 1,\n",
       " (8, 6, False): 1,\n",
       " (8, 7, False): 1,\n",
       " (8, 8, False): 1,\n",
       " (8, 9, False): 1,\n",
       " (8, 10, False): 1,\n",
       " (9, 1, False): 1,\n",
       " (9, 2, False): 1,\n",
       " (9, 3, False): 1,\n",
       " (9, 4, False): 1,\n",
       " (9, 5, False): 1,\n",
       " (9, 6, False): 1,\n",
       " (9, 7, False): 1,\n",
       " (9, 8, False): 1,\n",
       " (9, 9, False): 1,\n",
       " (9, 10, False): 1,\n",
       " (10, 1, False): 1,\n",
       " (10, 2, False): 1,\n",
       " (10, 3, False): 1,\n",
       " (10, 4, False): 1,\n",
       " (10, 5, False): 1,\n",
       " (10, 6, False): 1,\n",
       " (10, 7, False): 1,\n",
       " (10, 8, False): 1,\n",
       " (10, 9, False): 1,\n",
       " (10, 10, False): 1,\n",
       " (11, 1, False): 1,\n",
       " (11, 2, False): 1,\n",
       " (11, 3, False): 1,\n",
       " (11, 4, False): 1,\n",
       " (11, 5, False): 1,\n",
       " (11, 6, False): 1,\n",
       " (11, 7, False): 1,\n",
       " (11, 8, False): 1,\n",
       " (11, 9, False): 1,\n",
       " (11, 10, False): 1,\n",
       " (12, 1, False): 1,\n",
       " (12, 1, True): 1,\n",
       " (12, 2, False): 1,\n",
       " (12, 2, True): 1,\n",
       " (12, 3, False): 1,\n",
       " (12, 3, True): 1,\n",
       " (12, 4, False): 1,\n",
       " (12, 4, True): 1,\n",
       " (12, 5, False): 1,\n",
       " (12, 5, True): 1,\n",
       " (12, 6, False): 1,\n",
       " (12, 6, True): 1,\n",
       " (12, 7, False): 1,\n",
       " (12, 7, True): 1,\n",
       " (12, 8, False): 1,\n",
       " (12, 8, True): 1,\n",
       " (12, 9, False): 1,\n",
       " (12, 9, True): 1,\n",
       " (12, 10, False): 1,\n",
       " (12, 10, True): 1,\n",
       " (13, 1, False): 1,\n",
       " (13, 1, True): 1,\n",
       " (13, 2, False): 1,\n",
       " (13, 2, True): 1,\n",
       " (13, 3, False): 1,\n",
       " (13, 3, True): 1,\n",
       " (13, 4, False): 1,\n",
       " (13, 4, True): 1,\n",
       " (13, 5, False): 1,\n",
       " (13, 5, True): 1,\n",
       " (13, 6, False): 1,\n",
       " (13, 6, True): 1,\n",
       " (13, 7, False): 1,\n",
       " (13, 7, True): 1,\n",
       " (13, 8, False): 1,\n",
       " (13, 8, True): 1,\n",
       " (13, 9, False): 1,\n",
       " (13, 9, True): 1,\n",
       " (13, 10, False): 1,\n",
       " (13, 10, True): 1,\n",
       " (14, 1, False): 1,\n",
       " (14, 1, True): 1,\n",
       " (14, 2, False): 1,\n",
       " (14, 2, True): 1,\n",
       " (14, 3, False): 1,\n",
       " (14, 3, True): 1,\n",
       " (14, 4, False): 1,\n",
       " (14, 4, True): 1,\n",
       " (14, 5, False): 1,\n",
       " (14, 5, True): 1,\n",
       " (14, 6, False): 1,\n",
       " (14, 6, True): 1,\n",
       " (14, 7, False): 1,\n",
       " (14, 7, True): 1,\n",
       " (14, 8, False): 1,\n",
       " (14, 8, True): 1,\n",
       " (14, 9, False): 1,\n",
       " (14, 9, True): 1,\n",
       " (14, 10, False): 1,\n",
       " (14, 10, True): 1,\n",
       " (15, 1, False): 1,\n",
       " (15, 1, True): 1,\n",
       " (15, 2, False): 1,\n",
       " (15, 2, True): 1,\n",
       " (15, 3, False): 1,\n",
       " (15, 3, True): 1,\n",
       " (15, 4, False): 1,\n",
       " (15, 4, True): 1,\n",
       " (15, 5, False): 1,\n",
       " (15, 5, True): 1,\n",
       " (15, 6, False): 1,\n",
       " (15, 6, True): 1,\n",
       " (15, 7, False): 1,\n",
       " (15, 7, True): 1,\n",
       " (15, 8, False): 1,\n",
       " (15, 8, True): 1,\n",
       " (15, 9, False): 1,\n",
       " (15, 9, True): 1,\n",
       " (15, 10, False): 1,\n",
       " (15, 10, True): 1,\n",
       " (16, 1, False): 1,\n",
       " (16, 1, True): 1,\n",
       " (16, 2, False): 1,\n",
       " (16, 2, True): 1,\n",
       " (16, 3, False): 1,\n",
       " (16, 3, True): 1,\n",
       " (16, 4, False): 1,\n",
       " (16, 4, True): 1,\n",
       " (16, 5, False): 1,\n",
       " (16, 5, True): 1,\n",
       " (16, 6, False): 1,\n",
       " (16, 6, True): 1,\n",
       " (16, 7, False): 1,\n",
       " (16, 7, True): 1,\n",
       " (16, 8, False): 1,\n",
       " (16, 8, True): 1,\n",
       " (16, 9, False): 1,\n",
       " (16, 9, True): 1,\n",
       " (16, 10, False): 1,\n",
       " (16, 10, True): 1,\n",
       " (17, 1, False): 1,\n",
       " (17, 1, True): 1,\n",
       " (17, 2, False): 1,\n",
       " (17, 2, True): 1,\n",
       " (17, 3, False): 1,\n",
       " (17, 3, True): 1,\n",
       " (17, 4, False): 1,\n",
       " (17, 4, True): 1,\n",
       " (17, 5, False): 1,\n",
       " (17, 5, True): 1,\n",
       " (17, 6, False): 1,\n",
       " (17, 6, True): 1,\n",
       " (17, 7, False): 1,\n",
       " (17, 7, True): 1,\n",
       " (17, 8, False): 1,\n",
       " (17, 8, True): 1,\n",
       " (17, 9, False): 1,\n",
       " (17, 9, True): 1,\n",
       " (17, 10, False): 1,\n",
       " (17, 10, True): 1,\n",
       " (18, 1, False): 1,\n",
       " (18, 1, True): 1,\n",
       " (18, 2, False): 0,\n",
       " (18, 2, True): 1,\n",
       " (18, 3, False): 0,\n",
       " (18, 3, True): 0,\n",
       " (18, 4, False): 0,\n",
       " (18, 4, True): 1,\n",
       " (18, 5, False): 0,\n",
       " (18, 5, True): 0,\n",
       " (18, 6, False): 0,\n",
       " (18, 6, True): 0,\n",
       " (18, 7, False): 0,\n",
       " (18, 7, True): 0,\n",
       " (18, 8, False): 0,\n",
       " (18, 8, True): 0,\n",
       " (18, 9, False): 1,\n",
       " (18, 9, True): 1,\n",
       " (18, 10, False): 1,\n",
       " (18, 10, True): 1,\n",
       " (19, 1, False): 1,\n",
       " (19, 1, True): 1,\n",
       " (19, 2, False): 0,\n",
       " (19, 2, True): 0,\n",
       " (19, 3, False): 0,\n",
       " (19, 3, True): 0,\n",
       " (19, 4, False): 0,\n",
       " (19, 4, True): 0,\n",
       " (19, 5, False): 0,\n",
       " (19, 5, True): 1,\n",
       " (19, 6, False): 0,\n",
       " (19, 6, True): 0,\n",
       " (19, 7, False): 0,\n",
       " (19, 7, True): 0,\n",
       " (19, 8, False): 0,\n",
       " (19, 8, True): 0,\n",
       " (19, 9, False): 0,\n",
       " (19, 9, True): 0,\n",
       " (19, 10, False): 1,\n",
       " (19, 10, True): 1,\n",
       " (20, 1, False): 0,\n",
       " (20, 1, True): 0,\n",
       " (20, 2, False): 0,\n",
       " (20, 2, True): 0,\n",
       " (20, 3, False): 0,\n",
       " (20, 3, True): 0,\n",
       " (20, 4, False): 0,\n",
       " (20, 4, True): 0,\n",
       " (20, 5, False): 0,\n",
       " (20, 5, True): 0,\n",
       " (20, 6, False): 0,\n",
       " (20, 6, True): 1,\n",
       " (20, 7, False): 0,\n",
       " (20, 7, True): 0,\n",
       " (20, 8, False): 0,\n",
       " (20, 8, True): 0,\n",
       " (20, 9, False): 0,\n",
       " (20, 9, True): 0,\n",
       " (20, 10, False): 0,\n",
       " (20, 10, True): 0,\n",
       " (21, 1, False): 0,\n",
       " (21, 1, True): 0,\n",
       " (21, 2, False): 0,\n",
       " (21, 2, True): 0,\n",
       " (21, 3, False): 0,\n",
       " (21, 3, True): 0,\n",
       " (21, 4, False): 0,\n",
       " (21, 4, True): 0,\n",
       " (21, 5, False): 0,\n",
       " (21, 5, True): 0,\n",
       " (21, 6, False): 0,\n",
       " (21, 6, True): 0,\n",
       " (21, 7, False): 0,\n",
       " (21, 7, True): 0,\n",
       " (21, 8, False): 0,\n",
       " (21, 8, True): 0,\n",
       " (21, 9, False): 0,\n",
       " (21, 9, True): 0,\n",
       " (21, 10, False): 0,\n",
       " (21, 10, True): 0}"
      ]
     },
     "execution_count": 74,
     "metadata": {},
     "output_type": "execute_result"
    }
   ],
   "source": [
    "self.policy()"
   ]
  },
  {
   "cell_type": "code",
   "execution_count": 24,
   "metadata": {},
   "outputs": [],
   "source": [
    "x.append(None)"
   ]
  },
  {
   "cell_type": "code",
   "execution_count": 25,
   "metadata": {},
   "outputs": [
    {
     "data": {
      "text/plain": [
       "[1, 2, None]"
      ]
     },
     "execution_count": 25,
     "metadata": {},
     "output_type": "execute_result"
    }
   ],
   "source": [
    "x"
   ]
  },
  {
   "cell_type": "code",
   "execution_count": 8,
   "metadata": {},
   "outputs": [],
   "source": [
    "list(self.keys()).sort()"
   ]
  },
  {
   "cell_type": "code",
   "execution_count": 9,
   "metadata": {},
   "outputs": [
    {
     "data": {
      "text/plain": [
       "dict_keys([(19, 6, False), (14, 6, False), (29, 6, False), (13, 10, False), (12, 10, False), (15, 7, False), (17, 10, True), (21, 10, False), (11, 10, False), (24, 4, False), (19, 4, False), (15, 3, False), (5, 6, False), (13, 5, False), (4, 6, False), (18, 9, False), (14, 9, False), (28, 9, False), (4, 10, False), (15, 10, False), (25, 10, False), (20, 10, False), (17, 2, False), (26, 5, False), (17, 5, False), (19, 4, True), (16, 4, True), (21, 2, True), (20, 1, False), (14, 5, False), (27, 2, False), (19, 2, False), (12, 4, False), (18, 1, True), (17, 1, True), (19, 1, True), (18, 2, False), (15, 2, False), (21, 4, False), (13, 4, False), (26, 4, False), (21, 9, True), (10, 9, False), (18, 6, False), (15, 6, False), (19, 8, False), (23, 7, False), (13, 7, False), (26, 9, False), (19, 9, False), (9, 6, False), (21, 10, True), (14, 2, False), (26, 10, False), (16, 10, False), (24, 10, False), (18, 8, False), (14, 10, False), (9, 10, False), (8, 9, False), (27, 8, False), (17, 8, False), (20, 9, False), (16, 9, False), (23, 9, False), (16, 5, False), (30, 10, False), (22, 10, False), (17, 10, False), (19, 5, False), (15, 1, False), (12, 1, False), (30, 1, False), (12, 6, False), (14, 7, False), (17, 3, False), (18, 3, False), (18, 10, False), (19, 10, False), (30, 9, False), (23, 4, False), (15, 4, False), (16, 4, False), (7, 10, False), (12, 9, False), (23, 10, False), (13, 9, False), (22, 9, False), (28, 10, False), (20, 10, True), (20, 7, False), (19, 3, False), (19, 5, True), (30, 4, False), (20, 4, False), (21, 1, True), (10, 1, False), (11, 5, False), (20, 8, False), (21, 6, True), (16, 6, True), (13, 8, False), (12, 8, False), (22, 8, False), (15, 9, True), (14, 8, True), (15, 9, False), (5, 9, False), (25, 9, False), (15, 5, False), (22, 5, False), (17, 9, False)])"
      ]
     },
     "execution_count": 9,
     "metadata": {},
     "output_type": "execute_result"
    }
   ],
   "source": [
    "print(keys()"
   ]
  },
  {
   "cell_type": "code",
   "execution_count": 10,
   "metadata": {},
   "outputs": [
    {
     "data": {
      "text/plain": [
       "dict_keys([(19, 6, False), (14, 6, False), (29, 6, False), (13, 10, False), (12, 10, False), (15, 7, False), (17, 10, True), (21, 10, False), (11, 10, False), (24, 4, False), (19, 4, False), (15, 3, False), (5, 6, False), (13, 5, False), (4, 6, False), (18, 9, False), (14, 9, False), (28, 9, False), (4, 10, False), (15, 10, False), (25, 10, False), (20, 10, False), (17, 2, False), (26, 5, False), (17, 5, False), (19, 4, True), (16, 4, True), (21, 2, True), (20, 1, False), (14, 5, False), (27, 2, False), (19, 2, False), (12, 4, False), (18, 1, True), (17, 1, True), (19, 1, True), (18, 2, False), (15, 2, False), (21, 4, False), (13, 4, False), (26, 4, False), (21, 9, True), (10, 9, False), (18, 6, False), (15, 6, False), (19, 8, False), (23, 7, False), (13, 7, False), (26, 9, False), (19, 9, False), (9, 6, False), (21, 10, True), (14, 2, False), (26, 10, False), (16, 10, False), (24, 10, False), (18, 8, False), (14, 10, False), (9, 10, False), (8, 9, False), (27, 8, False), (17, 8, False), (20, 9, False), (16, 9, False), (23, 9, False), (16, 5, False), (30, 10, False), (22, 10, False), (17, 10, False), (19, 5, False), (15, 1, False), (12, 1, False), (30, 1, False), (12, 6, False), (14, 7, False), (17, 3, False), (18, 3, False), (18, 10, False), (19, 10, False), (30, 9, False), (23, 4, False), (15, 4, False), (16, 4, False), (7, 10, False), (12, 9, False), (23, 10, False), (13, 9, False), (22, 9, False), (28, 10, False), (20, 10, True), (20, 7, False), (19, 3, False), (19, 5, True), (30, 4, False), (20, 4, False), (21, 1, True), (10, 1, False), (11, 5, False), (20, 8, False), (21, 6, True), (16, 6, True), (13, 8, False), (12, 8, False), (22, 8, False), (15, 9, True), (14, 8, True), (15, 9, False), (5, 9, False), (25, 9, False), (15, 5, False), (22, 5, False), (17, 9, False)])"
      ]
     },
     "execution_count": 10,
     "metadata": {},
     "output_type": "execute_result"
    }
   ],
   "source": [
    "self.keys()"
   ]
  },
  {
   "cell_type": "code",
   "execution_count": 11,
   "metadata": {},
   "outputs": [
    {
     "ename": "TypeError",
     "evalue": "'NoneType' object is not iterable",
     "output_type": "error",
     "traceback": [
      "\u001b[0;31m---------------------------------------------------------------------------\u001b[0m",
      "\u001b[0;31mTypeError\u001b[0m                                 Traceback (most recent call last)",
      "\u001b[0;32m<ipython-input-11-b037788fde9d>\u001b[0m in \u001b[0;36m<module>\u001b[0;34m()\u001b[0m\n\u001b[1;32m      4\u001b[0m     \u001b[0mstates\u001b[0m \u001b[0;34m=\u001b[0m \u001b[0mlist\u001b[0m\u001b[0;34m(\u001b[0m\u001b[0mself\u001b[0m\u001b[0;34m.\u001b[0m\u001b[0mkeys\u001b[0m\u001b[0;34m(\u001b[0m\u001b[0;34m)\u001b[0m\u001b[0;34m)\u001b[0m\u001b[0;34m\u001b[0m\u001b[0m\n\u001b[1;32m      5\u001b[0m \u001b[0;34m\u001b[0m\u001b[0m\n\u001b[0;32m----> 6\u001b[0;31m \u001b[0;32mfor\u001b[0m \u001b[0mstate\u001b[0m \u001b[0;32min\u001b[0m \u001b[0mstates\u001b[0m\u001b[0;34m:\u001b[0m\u001b[0;34m\u001b[0m\u001b[0m\n\u001b[0m\u001b[1;32m      7\u001b[0m     \u001b[0;32mfor\u001b[0m \u001b[0maction\u001b[0m \u001b[0;32min\u001b[0m \u001b[0mself\u001b[0m\u001b[0;34m[\u001b[0m\u001b[0mstate\u001b[0m\u001b[0;34m]\u001b[0m\u001b[0;34m.\u001b[0m\u001b[0mkeys\u001b[0m\u001b[0;34m(\u001b[0m\u001b[0;34m)\u001b[0m\u001b[0;34m:\u001b[0m\u001b[0;34m\u001b[0m\u001b[0m\n\u001b[1;32m      8\u001b[0m         \u001b[0mprint\u001b[0m\u001b[0;34m(\u001b[0m\u001b[0mstate\u001b[0m\u001b[0;34m,\u001b[0m\u001b[0maction\u001b[0m\u001b[0;34m,\u001b[0m\u001b[0mself\u001b[0m\u001b[0;34m[\u001b[0m\u001b[0mstate\u001b[0m\u001b[0;34m]\u001b[0m\u001b[0;34m[\u001b[0m\u001b[0maction\u001b[0m\u001b[0;34m]\u001b[0m\u001b[0;34m)\u001b[0m\u001b[0;34m\u001b[0m\u001b[0m\n",
      "\u001b[0;31mTypeError\u001b[0m: 'NoneType' object is not iterable"
     ]
    }
   ],
   "source": [
    "try:\n",
    "    states = list(self.keys()).sort()\n",
    "except:\n",
    "    states = list(self.keys())\n",
    "\n",
    "for state in states:\n",
    "    for action in self[state].keys():\n",
    "        print(state,action,self[state][action])"
   ]
  },
  {
   "cell_type": "code",
   "execution_count": null,
   "metadata": {},
   "outputs": [],
   "source": []
  }
 ],
 "metadata": {
  "kernelspec": {
   "display_name": "Python 3",
   "language": "python",
   "name": "python3"
  },
  "language_info": {
   "codemirror_mode": {
    "name": "ipython",
    "version": 3
   },
   "file_extension": ".py",
   "mimetype": "text/x-python",
   "name": "python",
   "nbconvert_exporter": "python",
   "pygments_lexer": "ipython3",
   "version": "3.6.3"
  }
 },
 "nbformat": 4,
 "nbformat_minor": 4
}
