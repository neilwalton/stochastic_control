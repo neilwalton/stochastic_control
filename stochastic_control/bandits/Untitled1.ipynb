{
 "cells": [
  {
   "cell_type": "code",
   "execution_count": null,
   "metadata": {},
   "outputs": [],
   "source": []
  },
  {
   "cell_type": "code",
   "execution_count": 1,
   "metadata": {},
   "outputs": [],
   "source": [
    "# Add location to import stochastic_control\n",
    "import sys\n",
    "sys.path.append('../../')\n",
    "\n",
    "import numpy as np\n",
    "\n",
    "# The main modules that we need\n",
    "import gym\n",
    "import stochastic_control\n",
    "\n",
    "from tqdm import tqdm\n",
    "from imp import reload\n",
    "\n",
    "%load_ext autoreload\n",
    "%autoreload 2"
   ]
  },
  {
   "cell_type": "code",
   "execution_count": 2,
   "metadata": {},
   "outputs": [],
   "source": [
    "def print_lake(vi,size=8):\n",
    "    '''prints the solution more nicely '''  \n",
    "    \n",
    "    # print the lake\n",
    "    env.render()\n",
    "    print('')\n",
    "    \n",
    "    # print the solution\n",
    "    A_dict = { 0 : 'L', 1: 'D', 2:'R', 3:'U' }\n",
    "    for s in range(vi.nS):\n",
    "        print(A_dict[vi.act(s)], end='')\n",
    "        if (s+1) % size ==0 :\n",
    "            print('')\n",
    "    \n",
    "    # print values/sucess_probabilities\n",
    "    print('')\n",
    "    for s in range(vi.nS):\n",
    "        print(np.round(vi.V[s],2), end=' ')\n",
    "        if (s+1) % size ==0 :\n",
    "            print('')"
   ]
  },
  {
   "cell_type": "code",
   "execution_count": 3,
   "metadata": {},
   "outputs": [],
   "source": [
    "env = gym.make('FrozenLake-v0', map_name=None)"
   ]
  },
  {
   "cell_type": "code",
   "execution_count": 4,
   "metadata": {},
   "outputs": [
    {
     "name": "stdout",
     "output_type": "stream",
     "text": [
      "\n",
      "\u001b[41mS\u001b[0mHHFFFFF\n",
      "FFHFFFFH\n",
      "FFFFFFFF\n",
      "HFFHFFHF\n",
      "FFFFFFFF\n",
      "HFFFFFFF\n",
      "HFFFHFFF\n",
      "FFFFFFFG\n",
      "\n",
      "LLLRRRLU\n",
      "DLLRDDLL\n",
      "UDDURDUD\n",
      "LRLLRLLR\n",
      "DRDDRDDD\n",
      "LRRRURDD\n",
      "LRRLLRDD\n",
      "DRRDDRRL\n",
      "\n",
      "0.0 0.0 0.0 0.0 0.0 0.0 0.0 0.0 \n",
      "0.0 0.0 0.0 0.0 0.0 0.0 0.0 0.0 \n",
      "0.0 0.0 0.0 0.0 0.0 0.0 0.0 0.0 \n",
      "0.0 0.0 0.0 0.0 0.0 0.0 0.0 0.0 \n",
      "0.0 0.0 0.0 0.0 0.0 0.0 0.0 0.01 \n",
      "0.0 0.0 0.0 0.0 0.0 0.01 0.02 0.07 \n",
      "0.0 0.0 0.0 0.0 0.0 0.02 0.11 0.4 \n",
      "0.0 0.0 0.0 0.0 0.01 0.07 0.4 0.0 \n"
     ]
    }
   ],
   "source": [
    "# value iteration solution\n",
    "vi = stochastic_control.Value_Iteration(env.nS,env.nA,env.P,disc=0.4)\n",
    "V = vi.train(10000)\n",
    "print_lake(vi)"
   ]
  },
  {
   "cell_type": "code",
   "execution_count": 5,
   "metadata": {},
   "outputs": [],
   "source": [
    "import sys"
   ]
  },
  {
   "cell_type": "code",
   "execution_count": 6,
   "metadata": {},
   "outputs": [
    {
     "name": "stdout",
     "output_type": "stream",
     "text": [
      "['', '/Users/mbbssnw3/Dropbox (The University of Manchester)/ACTIVE/COURSE--OptContFinance/code', '/Users/mbbssnw3/Dropbox (The University of Manchester)/ACTIVE/COURSE--OptContFinance/code/stochastic_control/stochastic_control/bandits', '/Library/Frameworks/Python.framework/Versions/3.6/lib/python36.zip', '/Library/Frameworks/Python.framework/Versions/3.6/lib/python3.6', '/Library/Frameworks/Python.framework/Versions/3.6/lib/python3.6/lib-dynload', '/Library/Frameworks/Python.framework/Versions/3.6/lib/python3.6/site-packages', '/Library/Frameworks/Python.framework/Versions/3.6/lib/python3.6/site-packages/IPython/extensions', '/Users/mbbssnw3/.ipython', '../../']\n"
     ]
    }
   ],
   "source": [
    "print(sys.path)"
   ]
  },
  {
   "cell_type": "code",
   "execution_count": null,
   "metadata": {},
   "outputs": [],
   "source": []
  }
 ],
 "metadata": {
  "kernelspec": {
   "display_name": "Python 3",
   "language": "python",
   "name": "python3"
  },
  "language_info": {
   "codemirror_mode": {
    "name": "ipython",
    "version": 3
   },
   "file_extension": ".py",
   "mimetype": "text/x-python",
   "name": "python",
   "nbconvert_exporter": "python",
   "pygments_lexer": "ipython3",
   "version": "3.6.3"
  }
 },
 "nbformat": 4,
 "nbformat_minor": 4
}
