{
 "cells": [
  {
   "cell_type": "code",
   "execution_count": 1,
   "metadata": {},
   "outputs": [],
   "source": [
    "import stochastic_control"
   ]
  },
  {
   "cell_type": "code",
   "execution_count": 4,
   "metadata": {},
   "outputs": [],
   "source": [
    "import sys"
   ]
  },
  {
   "cell_type": "code",
   "execution_count": 5,
   "metadata": {},
   "outputs": [
    {
     "name": "stdout",
     "output_type": "stream",
     "text": [
      "['', '/Users/mbbssnw3/Dropbox (The University of Manchester)/ACTIVE/COURSE--OptContFinance/code', '/Users/mbbssnw3/Dropbox (The University of Manchester)/ACTIVE/COURSE--OptContFinance/code/stochastic_control/stochastic_control/bandits', '/Library/Frameworks/Python.framework/Versions/3.6/lib/python36.zip', '/Library/Frameworks/Python.framework/Versions/3.6/lib/python3.6', '/Library/Frameworks/Python.framework/Versions/3.6/lib/python3.6/lib-dynload', '/Library/Frameworks/Python.framework/Versions/3.6/lib/python3.6/site-packages', '/Library/Frameworks/Python.framework/Versions/3.6/lib/python3.6/site-packages/IPython/extensions', '/Users/mbbssnw3/.ipython']\n"
     ]
    }
   ],
   "source": [
    "print(sys.path)"
   ]
  },
  {
   "cell_type": "code",
   "execution_count": 9,
   "metadata": {},
   "outputs": [],
   "source": [
    "sys.path.append('../...')"
   ]
  },
  {
   "cell_type": "code",
   "execution_count": 10,
   "metadata": {},
   "outputs": [],
   "source": [
    "import stochastic_control"
   ]
  },
  {
   "cell_type": "code",
   "execution_count": 11,
   "metadata": {},
   "outputs": [],
   "source": [
    "# Add location to import stochastic_control\n",
    "import sys\n",
    "sys.path.append('../../')\n",
    "\n",
    "import numpy as np\n",
    "\n",
    "# The main modules that we need\n",
    "import gym\n",
    "import stochastic_control\n",
    "\n",
    "from tqdm import tqdm\n",
    "from imp import reload\n",
    "\n",
    "%load_ext autoreload\n",
    "%autoreload 2"
   ]
  },
  {
   "cell_type": "code",
   "execution_count": 12,
   "metadata": {},
   "outputs": [],
   "source": [
    "def print_lake(vi,size=8):\n",
    "    '''prints the solution more nicely '''  \n",
    "    \n",
    "    # print the lake\n",
    "    env.render()\n",
    "    print('')\n",
    "    \n",
    "    # print the solution\n",
    "    A_dict = { 0 : 'L', 1: 'D', 2:'R', 3:'U' }\n",
    "    for s in range(vi.nS):\n",
    "        print(A_dict[vi.act(s)], end='')\n",
    "        if (s+1) % size ==0 :\n",
    "            print('')\n",
    "    \n",
    "    # print values/sucess_probabilities\n",
    "    print('')\n",
    "    for s in range(vi.nS):\n",
    "        print(np.round(vi.V[s],2), end=' ')\n",
    "        if (s+1) % size ==0 :\n",
    "            print('')"
   ]
  },
  {
   "cell_type": "code",
   "execution_count": 13,
   "metadata": {},
   "outputs": [],
   "source": [
    "env = gym.make('FrozenLake-v0', map_name=None)"
   ]
  },
  {
   "cell_type": "code",
   "execution_count": 14,
   "metadata": {},
   "outputs": [
    {
     "ename": "AttributeError",
     "evalue": "module 'stochastic_control' has no attribute 'Value_Iteration'",
     "output_type": "error",
     "traceback": [
      "\u001b[0;31m---------------------------------------------------------------------------\u001b[0m",
      "\u001b[0;31mAttributeError\u001b[0m                            Traceback (most recent call last)",
      "\u001b[0;32m<ipython-input-14-43f3ab5a3f8f>\u001b[0m in \u001b[0;36m<module>\u001b[0;34m()\u001b[0m\n\u001b[1;32m      1\u001b[0m \u001b[0;31m# value iteration solution\u001b[0m\u001b[0;34m\u001b[0m\u001b[0;34m\u001b[0m\u001b[0m\n\u001b[0;32m----> 2\u001b[0;31m \u001b[0mvi\u001b[0m \u001b[0;34m=\u001b[0m \u001b[0mstochastic_control\u001b[0m\u001b[0;34m.\u001b[0m\u001b[0mValue_Iteration\u001b[0m\u001b[0;34m(\u001b[0m\u001b[0menv\u001b[0m\u001b[0;34m.\u001b[0m\u001b[0mnS\u001b[0m\u001b[0;34m,\u001b[0m\u001b[0menv\u001b[0m\u001b[0;34m.\u001b[0m\u001b[0mnA\u001b[0m\u001b[0;34m,\u001b[0m\u001b[0menv\u001b[0m\u001b[0;34m.\u001b[0m\u001b[0mP\u001b[0m\u001b[0;34m,\u001b[0m\u001b[0mdisc\u001b[0m\u001b[0;34m=\u001b[0m\u001b[0;36m0.4\u001b[0m\u001b[0;34m)\u001b[0m\u001b[0;34m\u001b[0m\u001b[0m\n\u001b[0m\u001b[1;32m      3\u001b[0m \u001b[0mV\u001b[0m \u001b[0;34m=\u001b[0m \u001b[0mvi\u001b[0m\u001b[0;34m.\u001b[0m\u001b[0mtrain\u001b[0m\u001b[0;34m(\u001b[0m\u001b[0;36m10000\u001b[0m\u001b[0;34m)\u001b[0m\u001b[0;34m\u001b[0m\u001b[0m\n\u001b[1;32m      4\u001b[0m \u001b[0mprint_lake\u001b[0m\u001b[0;34m(\u001b[0m\u001b[0mvi\u001b[0m\u001b[0;34m)\u001b[0m\u001b[0;34m\u001b[0m\u001b[0m\n",
      "\u001b[0;31mAttributeError\u001b[0m: module 'stochastic_control' has no attribute 'Value_Iteration'"
     ]
    }
   ],
   "source": [
    "# value iteration solution\n",
    "vi = stochastic_control.Value_Iteration(env.nS,env.nA,env.P,disc=0.4)\n",
    "V = vi.train(10000)\n",
    "print_lake(vi)"
   ]
  },
  {
   "cell_type": "code",
   "execution_count": 27,
   "metadata": {},
   "outputs": [
    {
     "name": "stdout",
     "output_type": "stream",
     "text": [
      "[0, 0, 0]\n",
      "[1, 0, 0]\n",
      "[2, 0, 0]\n",
      "[3, 0, 0]\n",
      "[4, 0, 0]\n",
      "[0, 1, 0]\n",
      "[1, 1, 0]\n",
      "[2, 1, 0]\n",
      "[3, 1, 0]\n",
      "[4, 1, 0]\n",
      "[0, 2, 0]\n",
      "[1, 2, 0]\n",
      "[2, 2, 0]\n",
      "[3, 2, 0]\n",
      "[4, 2, 0]\n",
      "[0, 3, 0]\n",
      "[1, 3, 0]\n",
      "[2, 3, 0]\n",
      "[3, 3, 0]\n",
      "[4, 3, 0]\n",
      "[0, 4, 0]\n",
      "[1, 4, 0]\n",
      "[2, 4, 0]\n",
      "[3, 4, 0]\n",
      "[4, 4, 0]\n",
      "[0, 0, 1]\n",
      "[1, 0, 1]\n",
      "[2, 0, 1]\n",
      "[3, 0, 1]\n",
      "[4, 0, 1]\n",
      "[0, 1, 1]\n",
      "[1, 1, 1]\n",
      "[2, 1, 1]\n",
      "[3, 1, 1]\n",
      "[4, 1, 1]\n",
      "[0, 2, 1]\n",
      "[1, 2, 1]\n",
      "[2, 2, 1]\n",
      "[3, 2, 1]\n",
      "[4, 2, 1]\n",
      "[0, 3, 1]\n",
      "[1, 3, 1]\n",
      "[2, 3, 1]\n",
      "[3, 3, 1]\n",
      "[4, 3, 1]\n",
      "[0, 4, 1]\n",
      "[1, 4, 1]\n",
      "[2, 4, 1]\n",
      "[3, 4, 1]\n",
      "[4, 4, 1]\n",
      "[0, 0, 2]\n",
      "[1, 0, 2]\n",
      "[2, 0, 2]\n",
      "[3, 0, 2]\n",
      "[4, 0, 2]\n",
      "[0, 1, 2]\n",
      "[1, 1, 2]\n",
      "[2, 1, 2]\n",
      "[3, 1, 2]\n",
      "[4, 1, 2]\n",
      "[0, 2, 2]\n",
      "[1, 2, 2]\n",
      "[2, 2, 2]\n",
      "[3, 2, 2]\n",
      "[4, 2, 2]\n",
      "[0, 3, 2]\n",
      "[1, 3, 2]\n",
      "[2, 3, 2]\n",
      "[3, 3, 2]\n",
      "[4, 3, 2]\n",
      "[0, 4, 2]\n",
      "[1, 4, 2]\n",
      "[2, 4, 2]\n",
      "[3, 4, 2]\n",
      "[4, 4, 2]\n",
      "[0, 0, 3]\n",
      "[1, 0, 3]\n",
      "[2, 0, 3]\n",
      "[3, 0, 3]\n",
      "[4, 0, 3]\n",
      "[0, 1, 3]\n",
      "[1, 1, 3]\n",
      "[2, 1, 3]\n",
      "[3, 1, 3]\n",
      "[4, 1, 3]\n",
      "[0, 2, 3]\n",
      "[1, 2, 3]\n",
      "[2, 2, 3]\n",
      "[3, 2, 3]\n",
      "[4, 2, 3]\n",
      "[0, 3, 3]\n",
      "[1, 3, 3]\n",
      "[2, 3, 3]\n",
      "[3, 3, 3]\n",
      "[4, 3, 3]\n",
      "[0, 4, 3]\n",
      "[1, 4, 3]\n",
      "[2, 4, 3]\n",
      "[3, 4, 3]\n",
      "[4, 4, 3]\n",
      "[0, 0, 4]\n",
      "[1, 0, 4]\n",
      "[2, 0, 4]\n",
      "[3, 0, 4]\n",
      "[4, 0, 4]\n",
      "[0, 1, 4]\n",
      "[1, 1, 4]\n",
      "[2, 1, 4]\n",
      "[3, 1, 4]\n",
      "[4, 1, 4]\n",
      "[0, 2, 4]\n",
      "[1, 2, 4]\n",
      "[2, 2, 4]\n",
      "[3, 2, 4]\n",
      "[4, 2, 4]\n",
      "[0, 3, 4]\n",
      "[1, 3, 4]\n",
      "[2, 3, 4]\n",
      "[3, 3, 4]\n",
      "[4, 3, 4]\n",
      "[0, 4, 4]\n",
      "[1, 4, 4]\n",
      "[2, 4, 4]\n",
      "[3, 4, 4]\n",
      "[4, 4, 4]\n"
     ]
    }
   ],
   "source": [
    "num_angles = 3\n",
    "angle = 1\n",
    "max_angle = 5\n",
    "Angles = [0 for _ in range(num_angles)]\n",
    "\n",
    "done = False\n",
    "idx = 0\n",
    "while not done:\n",
    "    \n",
    "    if Angles[idx] >= max_angle:\n",
    "        Angles[idx] = 0\n",
    "        idx +=1       \n",
    "    else:\n",
    "        print(Angles)\n",
    "        idx = 0   \n",
    "    \n",
    "    if idx < num_angles:\n",
    "        Angles[idx] += angle  \n",
    "    else:\n",
    "        done = True\n",
    "    "
   ]
  },
  {
   "cell_type": "code",
   "execution_count": null,
   "metadata": {},
   "outputs": [],
   "source": []
  }
 ],
 "metadata": {
  "kernelspec": {
   "display_name": "Python 3",
   "language": "python",
   "name": "python3"
  },
  "language_info": {
   "codemirror_mode": {
    "name": "ipython",
    "version": 3
   },
   "file_extension": ".py",
   "mimetype": "text/x-python",
   "name": "python",
   "nbconvert_exporter": "python",
   "pygments_lexer": "ipython3",
   "version": "3.7.1"
  }
 },
 "nbformat": 4,
 "nbformat_minor": 4
}
