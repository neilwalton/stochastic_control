{
 "cells": [
  {
   "cell_type": "code",
   "execution_count": 1,
   "metadata": {},
   "outputs": [],
   "source": [
    "import numpy as np\n",
    "from IPython.display import clear_output"
   ]
  },
  {
   "cell_type": "code",
   "execution_count": null,
   "metadata": {},
   "outputs": [],
   "source": []
  },
  {
   "cell_type": "code",
   "execution_count": null,
   "metadata": {},
   "outputs": [],
   "source": []
  },
  {
   "cell_type": "code",
   "execution_count": null,
   "metadata": {},
   "outputs": [
    {
     "name": "stdout",
     "output_type": "stream",
     "text": [
      "-0.04803 -0.0142\n",
      "-16.039643201710376\n",
      "5.219999999999878\n"
     ]
    }
   ],
   "source": [
    "x = 5.\n",
    "x2 = 5.\n",
    "x3 = 5.\n",
    "g_bar = 0.1\n",
    "alpha = 10.\n",
    "\n",
    "for t in range(100000):\n",
    "    p = np.exp(x)/(1+np.exp(x))\n",
    "    if np.random.rand() < p :\n",
    "        y = 0.5\n",
    "    else :\n",
    "        y = -0.5\n",
    "\n",
    "    g_bar = g_bar + (1/(t+1)) * ( y - g_bar )\n",
    "    x = x - np.absolute(g_bar)**2 * y\n",
    "    \n",
    "    x2 = x2 - alpha*(y/(t+1)) \n",
    "    x3 = x3 - 0.001*(y) \n",
    "\n",
    "    print(np.round(x,5),np.round(g_bar,4) )\n",
    "    print(x2)\n",
    "    print(x3)\n",
    "    clear_output(wait=True)\n"
   ]
  },
  {
   "cell_type": "code",
   "execution_count": 7,
   "metadata": {},
   "outputs": [
    {
     "data": {
      "text/plain": [
       "5.0"
      ]
     },
     "execution_count": 7,
     "metadata": {},
     "output_type": "execute_result"
    }
   ],
   "source": [
    "x"
   ]
  },
  {
   "cell_type": "code",
   "execution_count": null,
   "metadata": {},
   "outputs": [],
   "source": []
  }
 ],
 "metadata": {
  "kernelspec": {
   "display_name": "Python 3",
   "language": "python",
   "name": "python3"
  },
  "language_info": {
   "codemirror_mode": {
    "name": "ipython",
    "version": 3
   },
   "file_extension": ".py",
   "mimetype": "text/x-python",
   "name": "python",
   "nbconvert_exporter": "python",
   "pygments_lexer": "ipython3",
   "version": "3.7.1"
  }
 },
 "nbformat": 4,
 "nbformat_minor": 4
}
