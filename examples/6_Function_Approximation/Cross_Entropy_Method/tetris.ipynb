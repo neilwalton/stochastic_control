{
 "cells": [
  {
   "cell_type": "markdown",
   "metadata": {},
   "source": [
    "# Tetris\n",
    "\n",
    "We apply the cross entropy method to solve the game of tetris.\n",
    "\n",
    "This follows the work of \n",
    "\n",
    "> Szita, István, and András Lörincz. \"Learning Tetris using the noisy cross-entropy method.\" Neural computation 18.12 (2006): 2936-2941.\n",
    "\n",
    "The github repository for Tetris that we use is:\n",
    "\n",
    "https://github.com/jaybutera/tetrisRL\n",
    "\n",
    "(Please follow the install instructions there.) \n",
    "\n",
    "To play tetris yourself, type the following in the command line:\n",
    "```\n",
    "$ python3 user_engine.py\n",
    "```\n",
    "\n"
   ]
  },
  {
   "cell_type": "code",
   "execution_count": 1,
   "metadata": {},
   "outputs": [],
   "source": [
    "from copy import deepcopy\n",
    "from time import time\n",
    "\n",
    "from tetrisRL.engine import *"
   ]
  },
  {
   "cell_type": "code",
   "execution_count": 2,
   "metadata": {},
   "outputs": [],
   "source": [
    "def screen_print(obs):\n",
    "    for y in range(len(obs[0])):\n",
    "        for x in range(len(obs)):\n",
    "            if obs[x,y] == 0:\n",
    "                print(chr(9617),end='')\n",
    "            else :\n",
    "                print(chr(9608),end='')\n",
    "        print('')\n",
    "        \n",
    "    print('')\n",
    "    print('shape: ',print(reverse_shapes(str(env.shape))) )\n",
    "    "
   ]
  },
  {
   "cell_type": "code",
   "execution_count": 3,
   "metadata": {},
   "outputs": [],
   "source": [
    "shapes = {\n",
    "    'T': [(0, 0), (-1, 0), (1, 0), (0, -1)],\n",
    "    'J': [(0, 0), (-1, 0), (0, -1), (0, -2)],\n",
    "    'L': [(0, 0), (1, 0), (0, -1), (0, -2)],\n",
    "    'Z': [(0, 0), (-1, 0), (0, -1), (1, -1)],\n",
    "    'S': [(0, 0), (-1, -1), (0, -1), (1, 0)],\n",
    "    'I': [(0, 0), (0, -1), (0, -2), (0, -3)],\n",
    "    'O': [(0, 0), (0, -1), (-1, 0), (-1, -1)],\n",
    "}\n",
    "\n",
    "shape_names = ['T', 'J', 'L', 'Z', 'S', 'I', 'O']\n",
    "# This can be done more clean..\n",
    "rs_0 = {str(val) : key for key, val in shapes.items()}\n",
    "rs_1 = {str(rotated(val)) : key for key, val in shapes.items()}\n",
    "rs_2 = {str(rotated(val,cclk=True)) : key for key, val in shapes.items()}\n",
    "rs_3 = {str(rotated(rotated(val))) : key for key, val in shapes.items()}\n"
   ]
  },
  {
   "cell_type": "code",
   "execution_count": 9,
   "metadata": {},
   "outputs": [],
   "source": [
    "shape_letters = {**rs_0, **rs_1, **rs_2, **rs_3}"
   ]
  },
  {
   "cell_type": "code",
   "execution_count": 94,
   "metadata": {},
   "outputs": [],
   "source": [
    "# Action representation a rotation and a column\n",
    "rotations = [-1,0,1,2]\n",
    "columns = [0,1,2,3,4,5,6,7,8,9]"
   ]
  },
  {
   "cell_type": "code",
   "execution_count": 1225,
   "metadata": {},
   "outputs": [],
   "source": [
    "\n",
    "class mover:\n",
    "    '''sequence of moves to correct rotation and column'''\n",
    "    def __init__(self,env,rotation,column):\n",
    "        self.rotation = rotation\n",
    "        self.column = column\n",
    "        self.env = env\n",
    "        self.done_rotating = False\n",
    "        self.done_translating = False\n",
    "        self.old_anchor = (None,None)\n",
    "        self.action = None\n",
    "        self.time_step=0\n",
    "        \n",
    "    def act(self):        \n",
    "        # if done rotating move to correct colummn\n",
    "        if self.done_rotating:\n",
    "            self._translate(self.column)\n",
    "            print('a')\n",
    "              \n",
    "        # rotate into the correct position\n",
    "        if not self.done_rotating:\n",
    "            self._rotate(self.rotation)\n",
    "            print('b')    \n",
    "    \n",
    "        # if done translating reset\n",
    "        if self.done_translating :\n",
    "            action = self.action\n",
    "            self._reset()\n",
    "            return action, True\n",
    "        else:\n",
    "            return self.action, False\n",
    "    \n",
    "    def _rotate(self,rotation):\n",
    "        if rotation == -1 :\n",
    "            self.action = 4\n",
    "            self.done_rotating = True\n",
    "        elif rotation == 1 :\n",
    "            self.action = 5 \n",
    "            self.done_rotating = True\n",
    "        elif rotation == 2 :\n",
    "            self.time_step+=1\n",
    "            self.action = 5\n",
    "            if self.time_step == 2:\n",
    "                self.done_rotating = True \n",
    "                self.time_step =0\n",
    "        elif rotation == 0 :\n",
    "            self.done_rotating = True\n",
    "            self.action = 6\n",
    "    \n",
    "    def _translate(self,column):\n",
    "        # if correct or not moving or anchor out of bounds then drop \n",
    "        if self.env.anchor[0]==column \\\n",
    "            or self.env.anchor[0]==self.old_anchor[0] \\\n",
    "            or (not 0<=self.env.anchor[0]<=self.env.width):\n",
    "            self.action = 2\n",
    "            self.done_translating = True\n",
    "\n",
    "        # keep moving if not done\n",
    "        if not self.done_translating:\n",
    "            if self.env.anchor[0] > column:\n",
    "                self.action = 0\n",
    "            elif self.env.anchor[0] < column :\n",
    "                self.action = 1\n",
    "            \n",
    "        self.old_anchor = self.env.anchor\n",
    "        \n",
    "    def _reset(self):\n",
    "        self.done_rotating = False\n",
    "        self.done_translating = False\n",
    "        self.old_anchor = (None,None)\n",
    "        self.action = None\n",
    "        self.time_step=0\n",
    "        print('resetting')\n",
    "\n",
    "    "
   ]
  },
  {
   "cell_type": "code",
   "execution_count": 1274,
   "metadata": {},
   "outputs": [],
   "source": [
    "env.clear()\n",
    "self = mover(env,rotation=1,column=2)"
   ]
  },
  {
   "cell_type": "code",
   "execution_count": 1459,
   "metadata": {},
   "outputs": [
    {
     "name": "stdout",
     "output_type": "stream",
     "text": [
      "b\n",
      "True False\n",
      "(5, 1) (None, None)\n",
      "5\n",
      "0\n",
      "o----------o\n",
      "|          |\n",
      "|     XXX  |\n",
      "|     X    |\n",
      "|          |\n",
      "|          |\n",
      "|          |\n",
      "|          |\n",
      "|          |\n",
      "|          |\n",
      "|          |\n",
      "|          |\n",
      "|          |\n",
      "|  X       |\n",
      "|  XX      |\n",
      "|   X      |\n",
      "|  XX      |\n",
      "|  XX      |\n",
      "|  X       |\n",
      "|  X       |\n",
      "|  XX      |\n",
      "o----------o\n"
     ]
    }
   ],
   "source": [
    "\n",
    "action, done_moving = self.act()\n",
    "env.step(action)\n",
    "print(self.done_rotating,self.done_translating)\n",
    "print(env.anchor,self.old_anchor)\n",
    "print(action)\n",
    "print(self.time_step)\n",
    "print(env)"
   ]
  },
  {
   "cell_type": "code",
   "execution_count": 1199,
   "metadata": {},
   "outputs": [
    {
     "data": {
      "text/plain": [
       "5"
      ]
     },
     "execution_count": 1199,
     "metadata": {},
     "output_type": "execute_result"
    }
   ],
   "source": [
    "self.env.anchor[0]"
   ]
  },
  {
   "cell_type": "code",
   "execution_count": 1189,
   "metadata": {},
   "outputs": [],
   "source": [
    "self.old_anchor[0]"
   ]
  },
  {
   "cell_type": "code",
   "execution_count": 957,
   "metadata": {},
   "outputs": [
    {
     "ename": "AttributeError",
     "evalue": "'mover' object has no attribute 'done'",
     "output_type": "error",
     "traceback": [
      "\u001b[0;31m---------------------------------------------------------------------------\u001b[0m",
      "\u001b[0;31mAttributeError\u001b[0m                            Traceback (most recent call last)",
      "\u001b[0;32m<ipython-input-957-792905f9f7bb>\u001b[0m in \u001b[0;36m<module>\u001b[0;34m()\u001b[0m\n\u001b[0;32m----> 1\u001b[0;31m \u001b[0mself\u001b[0m\u001b[0;34m.\u001b[0m\u001b[0mdone\u001b[0m\u001b[0;34m\u001b[0m\u001b[0m\n\u001b[0m",
      "\u001b[0;31mAttributeError\u001b[0m: 'mover' object has no attribute 'done'"
     ]
    }
   ],
   "source": [
    "self.done"
   ]
  },
  {
   "cell_type": "code",
   "execution_count": 258,
   "metadata": {},
   "outputs": [
    {
     "name": "stdout",
     "output_type": "stream",
     "text": [
      "0\n",
      "(3, 2)\n"
     ]
    }
   ],
   "source": [
    "action, done_moving = self.act()\n",
    "env.step(action)\n",
    "print(action)\n",
    "print(env.anchor)"
   ]
  },
  {
   "cell_type": "code",
   "execution_count": 184,
   "metadata": {},
   "outputs": [
    {
     "ename": "KeyError",
     "evalue": "None",
     "output_type": "error",
     "traceback": [
      "\u001b[0;31m---------------------------------------------------------------------------\u001b[0m",
      "\u001b[0;31mKeyError\u001b[0m                                  Traceback (most recent call last)",
      "\u001b[0;32m<ipython-input-184-ce77912dbd68>\u001b[0m in \u001b[0;36m<module>\u001b[0;34m()\u001b[0m\n\u001b[0;32m----> 1\u001b[0;31m \u001b[0menv\u001b[0m\u001b[0;34m.\u001b[0m\u001b[0mstep\u001b[0m\u001b[0;34m(\u001b[0m\u001b[0maction\u001b[0m\u001b[0;34m)\u001b[0m\u001b[0;34m\u001b[0m\u001b[0m\n\u001b[0m\u001b[1;32m      2\u001b[0m \u001b[0menv\u001b[0m\u001b[0;34m\u001b[0m\u001b[0m\n",
      "\u001b[0;32m~/Dropbox (The University of Manchester)/ACTIVE/COURSE--OptContFinance/code/stochastic_control/examples/7_Cross_Entropy_Method/tetrisRL/engine.py\u001b[0m in \u001b[0;36mstep\u001b[0;34m(self, action)\u001b[0m\n\u001b[1;32m    146\u001b[0m     \u001b[0;32mdef\u001b[0m \u001b[0mstep\u001b[0m\u001b[0;34m(\u001b[0m\u001b[0mself\u001b[0m\u001b[0;34m,\u001b[0m \u001b[0maction\u001b[0m\u001b[0;34m)\u001b[0m\u001b[0;34m:\u001b[0m\u001b[0;34m\u001b[0m\u001b[0m\n\u001b[1;32m    147\u001b[0m         \u001b[0mself\u001b[0m\u001b[0;34m.\u001b[0m\u001b[0manchor\u001b[0m \u001b[0;34m=\u001b[0m \u001b[0;34m(\u001b[0m\u001b[0mint\u001b[0m\u001b[0;34m(\u001b[0m\u001b[0mself\u001b[0m\u001b[0;34m.\u001b[0m\u001b[0manchor\u001b[0m\u001b[0;34m[\u001b[0m\u001b[0;36m0\u001b[0m\u001b[0;34m]\u001b[0m\u001b[0;34m)\u001b[0m\u001b[0;34m,\u001b[0m \u001b[0mint\u001b[0m\u001b[0;34m(\u001b[0m\u001b[0mself\u001b[0m\u001b[0;34m.\u001b[0m\u001b[0manchor\u001b[0m\u001b[0;34m[\u001b[0m\u001b[0;36m1\u001b[0m\u001b[0;34m]\u001b[0m\u001b[0;34m)\u001b[0m\u001b[0;34m)\u001b[0m\u001b[0;34m\u001b[0m\u001b[0m\n\u001b[0;32m--> 148\u001b[0;31m         \u001b[0mself\u001b[0m\u001b[0;34m.\u001b[0m\u001b[0mshape\u001b[0m\u001b[0;34m,\u001b[0m \u001b[0mself\u001b[0m\u001b[0;34m.\u001b[0m\u001b[0manchor\u001b[0m \u001b[0;34m=\u001b[0m \u001b[0mself\u001b[0m\u001b[0;34m.\u001b[0m\u001b[0mvalue_action_map\u001b[0m\u001b[0;34m[\u001b[0m\u001b[0maction\u001b[0m\u001b[0;34m]\u001b[0m\u001b[0;34m(\u001b[0m\u001b[0mself\u001b[0m\u001b[0;34m.\u001b[0m\u001b[0mshape\u001b[0m\u001b[0;34m,\u001b[0m \u001b[0mself\u001b[0m\u001b[0;34m.\u001b[0m\u001b[0manchor\u001b[0m\u001b[0;34m,\u001b[0m \u001b[0mself\u001b[0m\u001b[0;34m.\u001b[0m\u001b[0mboard\u001b[0m\u001b[0;34m)\u001b[0m\u001b[0;34m\u001b[0m\u001b[0m\n\u001b[0m\u001b[1;32m    149\u001b[0m         \u001b[0;31m# Drop each step\u001b[0m\u001b[0;34m\u001b[0m\u001b[0;34m\u001b[0m\u001b[0m\n\u001b[1;32m    150\u001b[0m         \u001b[0mself\u001b[0m\u001b[0;34m.\u001b[0m\u001b[0mshape\u001b[0m\u001b[0;34m,\u001b[0m \u001b[0mself\u001b[0m\u001b[0;34m.\u001b[0m\u001b[0manchor\u001b[0m \u001b[0;34m=\u001b[0m \u001b[0msoft_drop\u001b[0m\u001b[0;34m(\u001b[0m\u001b[0mself\u001b[0m\u001b[0;34m.\u001b[0m\u001b[0mshape\u001b[0m\u001b[0;34m,\u001b[0m \u001b[0mself\u001b[0m\u001b[0;34m.\u001b[0m\u001b[0manchor\u001b[0m\u001b[0;34m,\u001b[0m \u001b[0mself\u001b[0m\u001b[0;34m.\u001b[0m\u001b[0mboard\u001b[0m\u001b[0;34m)\u001b[0m\u001b[0;34m\u001b[0m\u001b[0m\n",
      "\u001b[0;31mKeyError\u001b[0m: None"
     ]
    }
   ],
   "source": [
    "env.step(action)\n",
    "env"
   ]
  },
  {
   "cell_type": "code",
   "execution_count": 87,
   "metadata": {},
   "outputs": [],
   "source": [
    "width, height = 10, 20\n",
    "env = TetrisEngine(width, height)"
   ]
  },
  {
   "cell_type": "code",
   "execution_count": null,
   "metadata": {},
   "outputs": [],
   "source": []
  },
  {
   "cell_type": "code",
   "execution_count": 42,
   "metadata": {},
   "outputs": [],
   "source": [
    "# Reset the environment\n",
    "obs = env.clear()\n",
    "\n",
    "while True:\n",
    "    # Get an action from a theoretical AI agent\n",
    "    action = np.random.randint(7)\n",
    "\n",
    "    # Sim step takes action and returns results\n",
    "    obs, reward, done = env.step(action)\n",
    "\n",
    "    # Done when game is lost\n",
    "    if done:\n",
    "        break"
   ]
  },
  {
   "cell_type": "code",
   "execution_count": 43,
   "metadata": {},
   "outputs": [],
   "source": [
    "width, height = 10, 20\n",
    "env = TetrisEngine(width, height)"
   ]
  },
  {
   "cell_type": "code",
   "execution_count": 44,
   "metadata": {},
   "outputs": [],
   "source": [
    "action = np.random.randint(7)"
   ]
  },
  {
   "cell_type": "code",
   "execution_count": 50,
   "metadata": {},
   "outputs": [
    {
     "data": {
      "text/plain": [
       "[(0, 0), (-1, 0), (0, -1), (1, -1)]"
      ]
     },
     "execution_count": 50,
     "metadata": {},
     "output_type": "execute_result"
    }
   ],
   "source": [
    "env.shape"
   ]
  },
  {
   "cell_type": "code",
   "execution_count": 46,
   "metadata": {},
   "outputs": [
    {
     "data": {
      "text/plain": [
       "(5.0, 0)"
      ]
     },
     "execution_count": 46,
     "metadata": {},
     "output_type": "execute_result"
    }
   ],
   "source": [
    "env.anchor"
   ]
  },
  {
   "cell_type": "code",
   "execution_count": 61,
   "metadata": {},
   "outputs": [],
   "source": [
    "mv = mover(env,0,3)\n",
    "\n",
    "mv.act()"
   ]
  },
  {
   "cell_type": "code",
   "execution_count": 58,
   "metadata": {},
   "outputs": [
    {
     "data": {
      "text/plain": [
       "(5.0, 0)"
      ]
     },
     "execution_count": 58,
     "metadata": {},
     "output_type": "execute_result"
    }
   ],
   "source": [
    "env.anchor"
   ]
  },
  {
   "cell_type": "code",
   "execution_count": 39,
   "metadata": {},
   "outputs": [
    {
     "data": {
      "text/plain": [
       "(5.0, 0)"
      ]
     },
     "execution_count": 39,
     "metadata": {},
     "output_type": "execute_result"
    }
   ],
   "source": [
    "env.anchor"
   ]
  },
  {
   "cell_type": "code",
   "execution_count": 105,
   "metadata": {},
   "outputs": [
    {
     "name": "stdout",
     "output_type": "stream",
     "text": [
      "0.016115188598632812\n"
     ]
    }
   ],
   "source": [
    "tic = time()\n",
    "for _ in range(100):\n",
    "    deepcopy(env)\n",
    "toc = time()\n",
    "print(toc-tic)"
   ]
  },
  {
   "cell_type": "code",
   "execution_count": 106,
   "metadata": {},
   "outputs": [],
   "source": [
    "t_cop = deepcopy(env)"
   ]
  },
  {
   "cell_type": "code",
   "execution_count": 113,
   "metadata": {},
   "outputs": [
    {
     "name": "stdout",
     "output_type": "stream",
     "text": [
      "░░░░░░░░░░\n",
      "░░░░░░░░░░\n",
      "░░░░░░░░░░\n",
      "░░░░░░░░░░\n",
      "░░░░░░░░░░\n",
      "░░░░░░░░░░\n",
      "░░░░░░░░░░\n",
      "░░░░░░░░░░\n",
      "░░░░░░░░░░\n",
      "░░░░░░░░░░\n",
      "░░░░░░░░░░\n",
      "░░░░░░░░░░\n",
      "░░░░░░░░░░\n",
      "░░░░░░░░░░\n",
      "░░░░░░░░░░\n",
      "░░░░░░░░░░\n",
      "░░░░░░░░░░\n",
      "░░░░░░░░░░\n",
      "░░░░██░░░░\n",
      "░░░░░██░░░\n"
     ]
    }
   ],
   "source": [
    "screen_print(t_cop.board)"
   ]
  },
  {
   "cell_type": "code",
   "execution_count": 90,
   "metadata": {},
   "outputs": [
    {
     "name": "stdout",
     "output_type": "stream",
     "text": [
      "▀\n",
      "▁\n",
      "▂\n",
      "▃\n",
      "▄\n",
      "▅\n",
      "▆\n",
      "▇\n",
      "█\n",
      "▉\n",
      "▊\n",
      "▋\n",
      "▌\n",
      "▍\n",
      "▎\n",
      "▏\n",
      "▐\n",
      "░\n",
      "▒\n",
      "▓\n"
     ]
    }
   ],
   "source": [
    "for i in range(9600,9620):\n",
    "    print(chr(i))"
   ]
  },
  {
   "cell_type": "code",
   "execution_count": 92,
   "metadata": {},
   "outputs": [
    {
     "data": {
      "text/plain": [
       "'░'"
      ]
     },
     "execution_count": 92,
     "metadata": {},
     "output_type": "execute_result"
    }
   ],
   "source": [
    "chr(9617)"
   ]
  },
  {
   "cell_type": "code",
   "execution_count": 114,
   "metadata": {},
   "outputs": [
    {
     "data": {
      "text/plain": [
       "o----------o\n",
       "|    XXX   |\n",
       "|          |\n",
       "|          |\n",
       "|          |\n",
       "|          |\n",
       "|          |\n",
       "|          |\n",
       "|          |\n",
       "|          |\n",
       "|          |\n",
       "|          |\n",
       "|          |\n",
       "|          |\n",
       "|          |\n",
       "|          |\n",
       "|          |\n",
       "|          |\n",
       "|          |\n",
       "|    XX    |\n",
       "|     XX   |\n",
       "o----------o"
      ]
     },
     "execution_count": 114,
     "metadata": {},
     "output_type": "execute_result"
    }
   ],
   "source": [
    "t_cop"
   ]
  },
  {
   "cell_type": "code",
   "execution_count": 115,
   "metadata": {},
   "outputs": [
    {
     "data": {
      "text/plain": [
       "[(0, 0), (-1, 0), (1, 0), (0, -1)]"
      ]
     },
     "execution_count": 115,
     "metadata": {},
     "output_type": "execute_result"
    }
   ],
   "source": [
    "t_cop.shape"
   ]
  },
  {
   "cell_type": "code",
   "execution_count": 149,
   "metadata": {},
   "outputs": [
    {
     "data": {
      "text/plain": [
       "'T'"
      ]
     },
     "execution_count": 149,
     "metadata": {},
     "output_type": "execute_result"
    }
   ],
   "source": [
    "reverse_shapes[str(t_cop.shape)]"
   ]
  },
  {
   "cell_type": "code",
   "execution_count": null,
   "metadata": {},
   "outputs": [],
   "source": []
  }
 ],
 "metadata": {
  "kernelspec": {
   "display_name": "Python 3",
   "language": "python",
   "name": "python3"
  },
  "language_info": {
   "codemirror_mode": {
    "name": "ipython",
    "version": 3
   },
   "file_extension": ".py",
   "mimetype": "text/x-python",
   "name": "python",
   "nbconvert_exporter": "python",
   "pygments_lexer": "ipython3",
   "version": "3.6.3"
  }
 },
 "nbformat": 4,
 "nbformat_minor": 4
}
