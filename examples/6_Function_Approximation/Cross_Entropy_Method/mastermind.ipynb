{
 "cells": [
  {
   "cell_type": "markdown",
   "metadata": {},
   "source": [
    "# Mastermind"
   ]
  },
  {
   "cell_type": "markdown",
   "metadata": {},
   "source": [
    "Mastermind is the following game:\n",
    "\n",
    "> *There are 7 colours to choose from. 4 colored pegs are chosen and placed 4 slots in order. This is hidden from the player.  The player places combinations of 4. As feedback the player recieves the number of correct colors and, amoung the remaining pegs, the number of correct colours in the incorrect place. The player wins when the correct 4 colours are placed in the correct order.*\n",
    "\n",
    "The book of \"The Cross-Entropy Method\" by Rubenstien and Kroese discusses Mastermind  using the Cross-Entropy Method as a solution method. Here it is not obvious how to approach the problem as a dynamic program (with a reasonable state space), in this sense it is a valid alternative to a DP approach. Also it is much computationally faster than exhaustive approaches. These find a solution with far fewer guesses but do not scale well as we increaase the number of colors and slots. This highlights the advantages of the approach as a heuristic. Nonetheless there are straightforward solutions for this problem that do better than the cross entropy method. "
   ]
  },
  {
   "cell_type": "code",
   "execution_count": 1255,
   "metadata": {},
   "outputs": [],
   "source": [
    "import string\n",
    "import numpy as np\n",
    "\n",
    "import stochastic_control as sc\n",
    "from mastermind import Mastermind\n",
    "\n",
    "from IPython.display import clear_output\n",
    "\n",
    "%load_ext autoreload\n",
    "%autoreload 2\n",
    "\n",
    "def reward(feedback):\n",
    "    return 2*feedback['correct']+1*feedback['correct_color']\n",
    "\n",
    "def consistency_check(guess,feedbacks,num_slots = 4,num_colors = 7):\n",
    "    guess_works = True\n",
    "    mm_guess = Mastermind(num_slots,num_colors,solution=guess,)\n",
    "    for idx, feedback in enumerate(feedbacks):\n",
    "        guess_feedback, done = mm_guess.step(feedback['guess'])\n",
    "        if feedback != guess_feedback :\n",
    "            guess_works = False\n",
    "            break\n",
    "    return guess_works\n",
    "\n",
    "def generate_all_solutions(num_slots = 4,num_colors = 7, shuffle=True):\n",
    "    soln = np.array([0 for _ in range(num_slots)])\n",
    "    solutions = np.array([soln])\n",
    "\n",
    "    done = False\n",
    "    idx = 0\n",
    "    while not done:    \n",
    "        if soln[idx] >= num_colors:\n",
    "            soln[idx] = 0\n",
    "            idx +=1       \n",
    "        else:\n",
    "            solutions=np.append(solutions,[soln],axis=0)\n",
    "            idx = 0   \n",
    "\n",
    "        if idx < num_slots:\n",
    "            soln[idx] += 1  \n",
    "        else:\n",
    "            done = True\n",
    "        \n",
    "    if shuffle :\n",
    "        np.random.shuffle(solutions)          \n",
    "            \n",
    "    return solutions"
   ]
  },
  {
   "cell_type": "markdown",
   "metadata": {},
   "source": [
    "## Exhaustive"
   ]
  },
  {
   "cell_type": "markdown",
   "metadata": {},
   "source": [
    "Here we go through a list all solutions one-by-one, only proposing guesses that are consistent with all prior feedback. This works very well but is expensive. A related solution is the following:\n",
    "\n",
    "> Knuth, Donald E. \"The computer as master mind.\" Journal of Recreational Mathematics 9.1 (1976): 1-6."
   ]
  },
  {
   "cell_type": "code",
   "execution_count": 1297,
   "metadata": {},
   "outputs": [
    {
     "name": "stdout",
     "output_type": "stream",
     "text": [
      "[6 0 4 5]\n"
     ]
    }
   ],
   "source": [
    "num_slots=4\n",
    "num_colors=7\n",
    "slots = range(num_slots)\n",
    "colors = range(num_colors)\n",
    "\n",
    "mm = Mastermind(num_slots,num_colors)\n",
    "print(mm.solution)"
   ]
  },
  {
   "cell_type": "code",
   "execution_count": 1298,
   "metadata": {},
   "outputs": [
    {
     "name": "stdout",
     "output_type": "stream",
     "text": [
      "{'guess': array([0, 4, 0, 0]), 'correct': 0, 'correct_color': 2}\n",
      "{'guess': array([1, 0, 4, 4]), 'correct': 2, 'correct_color': 0}\n",
      "{'guess': array([6, 0, 5, 4]), 'correct': 2, 'correct_color': 2}\n",
      "{'guess': array([6, 0, 4, 5]), 'correct': 4, 'correct_color': 0}\n",
      "\n",
      "Solution:  [5 2 1 5]\n",
      "Number of guesses:  4\n"
     ]
    }
   ],
   "source": [
    "guesses = None\n",
    "rewards = None\n",
    "feedbacks = []\n",
    "\n",
    "guesses = generate_all_solutions(num_slots,num_colors, shuffle=True)\n",
    "for idx, guess in enumerate(guesses):\n",
    "    consistent = consistency_check(guess,feedbacks,num_slots,num_colors)\n",
    "    if consistent:\n",
    "        feedback, done = mm.step(guess)\n",
    "        feedbacks.append(feedback)\n",
    "        print(feedback)\n",
    "    \n",
    "print('\\nSolution: ',guess)\n",
    "print('Number of guesses: ', len(feedbacks))    "
   ]
  },
  {
   "cell_type": "markdown",
   "metadata": {},
   "source": [
    "## Cross Entropy Method\n",
    "\n",
    "You will notice it is not very obvious how to formulate this problem as dynamic program without having a really enormous state space (because the set of states are very big for larger numbers of slots and colors). However, you can implement the cross entropy method. This is proposed in Chapter 8 \"Applications of CE to Machine Learning\" from the following book:\n",
    "\n",
    "> Rubinstein, Reuven Y., and Dirk P. Kroese. The cross-entropy method: a unified approach to combinatorial optimization, Monte-Carlo simulation and machine learning. Springer Science & Business Media, 2013."
   ]
  },
  {
   "cell_type": "code",
   "execution_count": 1300,
   "metadata": {},
   "outputs": [
    {
     "name": "stdout",
     "output_type": "stream",
     "text": [
      "[6 1 1 3 5 6 1 6 1 0]\n"
     ]
    }
   ],
   "source": [
    "num_slots=10\n",
    "num_colors=7\n",
    "slots = range(num_slots)\n",
    "colors = range(num_colors)\n",
    "\n",
    "mm = Mastermind(num_slots,num_colors)\n",
    "cems = [sc.CrossEntropyCategorical(np.ones(num_colors)/num_colors,\n",
    "                                   rho=0.5,\n",
    "                                   alpha=1.) \n",
    "                                        for slot in range(num_slots)]\n",
    "\n",
    "print(mm.solution)"
   ]
  },
  {
   "cell_type": "code",
   "execution_count": 1301,
   "metadata": {},
   "outputs": [
    {
     "name": "stdout",
     "output_type": "stream",
     "text": [
      "rewards: 20 \n",
      "number of guesses:  400\n",
      "\n",
      "Solution [6 1 1 3 5 6 1 6 1 0]\n"
     ]
    }
   ],
   "source": [
    "N=100\n",
    "feedbacks = []\n",
    "\n",
    "iters = 0\n",
    "done = False\n",
    "while not done :\n",
    "    iters+=1\n",
    "    \n",
    "    guesses = None\n",
    "    rewards = None\n",
    "    \n",
    "    for _ in range(N):\n",
    "        guess = np.array([cem.act() for cem in cems])   \n",
    "\n",
    "        # evaluate the guess\n",
    "        feedback, done = mm.step(guess)\n",
    "        rwrd = reward(feedback)  \n",
    "        if done :\n",
    "            solution = guess\n",
    "            break\n",
    "        \n",
    "        rewards = np.append(rewards,rwrd) if rewards is not None else np.array([rwrd])\n",
    "        guesses = np.append(guesses,[guess],axis=0) if guesses is not None else np.array([guess])\n",
    "\n",
    "    for slot, cem in enumerate(cems) :\n",
    "        cuttoff, x = cem.train(guesses[:,slot],rewards)      \n",
    "    \n",
    "    clear_output()\n",
    "    print('rewards:', rwrd,'\\nnumber of guesses: ',iters*N)\n",
    "\n",
    "    \n",
    "print('\\nSolution:',solution)\n"
   ]
  },
  {
   "cell_type": "markdown",
   "metadata": {},
   "source": [
    "## Polynomial $n\\times k$"
   ]
  },
  {
   "cell_type": "markdown",
   "metadata": {},
   "source": [
    "It is worth noting that, despite being proposed previously, the cross-entropy method is not the best approach to this problem. The state space is $k^n$ where $k$ is the number of colors and $n$ is the number of slots. E.g. $10$ colors and $82$ slots gives more solutions than there atoms in the universe. Scarily big no...?\n",
    "\n",
    "The following algorithm simply checks each color each slot one-by-one and returns a solution in $n\\times k$ time. This solution approach can be improved further:\n",
    "\n",
    "> V. Chvatal, Mastermind, Combinatorica 3 (1983), 325–329.\n",
    "\n",
    "> Erdos, Paul, and Alfréd Rényi. \"On two problems of information theory.\" Magyar Tud. Akad. Mat. Kutató Int. Közl 8 (1963): 229-243.\n",
    "\n",
    "These solutions obviously do not generalize to general MDP/RL problems. However, it is worth noting that not all \"unapproachably big\" dynamic programming problems need or should be solved via function approximation RL methods."
   ]
  },
  {
   "cell_type": "code",
   "execution_count": 1309,
   "metadata": {},
   "outputs": [
    {
     "name": "stdout",
     "output_type": "stream",
     "text": [
      "[32 28 72 48 19 79 59 36 57  5]\n"
     ]
    }
   ],
   "source": [
    "num_slots=10\n",
    "num_colors=82\n",
    "slots = range(num_slots)\n",
    "colors = range(num_colors)\n",
    "mm = Mastermind(num_slots,num_colors)\n",
    "print(mm.solution)"
   ]
  },
  {
   "cell_type": "code",
   "execution_count": 1310,
   "metadata": {},
   "outputs": [
    {
     "name": "stdout",
     "output_type": "stream",
     "text": [
      "number of guesses:  820\n",
      "solution:  [32 28 72 48 19 79 59 36 57  5]\n"
     ]
    }
   ],
   "source": [
    "correct_solution = np.zeros(num_slots, dtype=int)\n",
    "num_guesses = 0\n",
    "for slot in slots:\n",
    "    last_feedback = None\n",
    "    guess = np.zeros(num_slots, dtype=int)     \n",
    "    for color in colors:\n",
    "        guess[slot] = color\n",
    "        feedback, done = mm.step(guess)\n",
    "        num_guesses += 1\n",
    "        if last_feedback is not None:\n",
    "            if feedback['correct'] > last_feedback['correct']:\n",
    "                correct_solution[slot] = color\n",
    "            elif feedback['correct'] < last_feedback['correct']:\n",
    "                correct_solution[slot] = color -1\n",
    "            \n",
    "        last_feedback = feedback\n",
    "print('number of guesses: ',num_guesses)\n",
    "print('solution: ',correct_solution)"
   ]
  }
 ],
 "metadata": {
  "kernelspec": {
   "display_name": "Python 3",
   "language": "python",
   "name": "python3"
  },
  "language_info": {
   "codemirror_mode": {
    "name": "ipython",
    "version": 3
   },
   "file_extension": ".py",
   "mimetype": "text/x-python",
   "name": "python",
   "nbconvert_exporter": "python",
   "pygments_lexer": "ipython3",
   "version": "3.6.3"
  }
 },
 "nbformat": 4,
 "nbformat_minor": 4
}
