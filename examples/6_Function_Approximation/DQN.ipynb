{
 "cells": [
  {
   "cell_type": "markdown",
   "id": "hourly-description",
   "metadata": {},
   "source": [
    "# DQN implementation\n",
    "\n",
    "https://www.datascienceassn.org/sites/default/files/Human-level%20Control%20Through%20Deep%20Reinforcement%20Learning.pdf\n",
    "\n",
    "useful sites\n",
    "\n",
    "https://github.com/openai/baselines/tree/master/baselines\n",
    "https://github.com/DavidJanz/successor_uncertainties_atari\n",
    "https://github.com/davidreiman/pytorch-atari-dqn\n",
    "https://pytorch.org/tutorials/intermediate/reinforcement_q_learning.html\n",
    "\n",
    "https://github.com/roclark/openai-gym-pytorch\n",
    "\n",
    "cartpole\n",
    "\n",
    "https://github.com/Rowing0914/TF_RL/blob/master/tf_rl/env/cartpole_pixel.py\n"
   ]
  },
  {
   "cell_type": "code",
   "execution_count": 66,
   "id": "australian-railway",
   "metadata": {},
   "outputs": [],
   "source": [
    "from collections import deque\n",
    "\n",
    "import torch\n",
    "from torch import nn\n",
    "from torch.optim import Adam\n",
    "import torch.nn.functional as F\n",
    "\n",
    "import random\n",
    "import torchvision\n",
    "import gym\n",
    "\n",
    "from tqdm import tqdm"
   ]
  },
  {
   "cell_type": "code",
   "execution_count": 67,
   "id": "unlike-implement",
   "metadata": {},
   "outputs": [],
   "source": [
    "import sys\n",
    "sys.path.append('../../')\n",
    "sys.path.append('../../stochastic_control/neural_rl/')\n",
    "\n",
    "import numpy as np\n",
    "import stochastic_control\n",
    "from atari_env_torch import make_atari\n"
   ]
  },
  {
   "cell_type": "code",
   "execution_count": 68,
   "id": "peripheral-strike",
   "metadata": {},
   "outputs": [],
   "source": [
    "from IPython.display import clear_output"
   ]
  },
  {
   "cell_type": "code",
   "execution_count": 69,
   "id": "stupid-might",
   "metadata": {},
   "outputs": [],
   "source": [
    "class DQN_Network(nn.Module):\n",
    "    ''' A Deepmind-type DQN network\n",
    "    '''  \n",
    "    def __init__(self,action_size=6):\n",
    "        super(DQN_Network, self).__init__()\n",
    "        self._args = (action_size,)\n",
    "        self.dqn_model = nn.Sequential(\n",
    "             nn.Conv2d(4, 32, 8, 4),\n",
    "             nn.ReLU(),\n",
    "             nn.Conv2d(32, 64, 4, 2),\n",
    "             nn.ReLU(),\n",
    "             nn.Conv2d(64, 64, 3, 1),\n",
    "             nn.ReLU(),\n",
    "             nn.Flatten(),\n",
    "             nn.Linear(3136,1024),\n",
    "             nn.ReLU(),\n",
    "             nn.Linear(1024, action_size) )\n",
    "\n",
    "    def forward(self, x):\n",
    "        output = self.dqn_model(x)\n",
    "        return output\n",
    "    \n",
    "    def clone(self):# Should this be here?\n",
    "        clone = DQN_Network(*self._args) # Check this? Change self?\n",
    "        clone.load_state_dict(self.state_dict())\n",
    "        return clone   "
   ]
  },
  {
   "cell_type": "code",
   "execution_count": 70,
   "id": "russian-bread",
   "metadata": {},
   "outputs": [],
   "source": [
    "''' to do:\n",
    "\n",
    "Need to add target parameters etc.. to DQN below\n",
    "epsilon decay\n",
    "check everything\n",
    "'''\n",
    "\n",
    "class DQN(): \n",
    "    def __init__(self,\n",
    "                 discount,\n",
    "                 action_size,\n",
    "                 lr,\n",
    "                 neural_network,\n",
    "                 batch_size,\n",
    "                 memory_size,\n",
    "                 target_steps,\n",
    "                 epsilon_steps,\n",
    "                 epsilon_final,\n",
    "                 epsilon_start=1.):\n",
    "        \n",
    "        # MDP parameters\n",
    "        self.disc = discount                       \n",
    "        self.action_size = action_size        \n",
    "\n",
    "        # Network optimization\n",
    "        self.q_fn = neural_network\n",
    "        self.lr = lr                              \n",
    "        self.q_fn_target = self.q_fn.clone()\n",
    "        self.optimizer = Adam(self.q_fn.parameters(), lr=self.lr)   \n",
    "        self.batch_size = batch_size\n",
    "\n",
    "        # Training parameters\n",
    "        self.memory = deque(maxlen=memory_size)             \n",
    "        self.eps = epsilon_start\n",
    "        self.eps_final = epsilon_final      \n",
    "        self.epsilon_steps = epsilon_steps\n",
    "        self.target_steps = target_steps\n",
    "        \n",
    "        # Internal parameters\n",
    "        self.target_counter = 0       \n",
    "        self.memory_full = False\n",
    "        \n",
    "    def update(self,sarsd):\n",
    "        # 1. memorize sarsd\n",
    "        self._memorize(sarsd)\n",
    "        \n",
    "        # 2. learn a batch (Can this be shorter!?)\n",
    "        if len(self.memory) == memory_size:\n",
    "            self.learn(self.batch_size)\n",
    "            if self.memory_full is not True:\n",
    "                self.memory_full = True\n",
    "                print('Memory now full!')\n",
    "        \n",
    "        # 3. update counter and epsilon (once memory full)\n",
    "        s, a, r, s, d = sarsd\n",
    "        self.target_counter += 1\n",
    "        if self.memory_full:\n",
    "            self._eps_update()\n",
    "                  \n",
    "        # 4. update target if update required   \n",
    "        if self.target_counter > self.target_steps:\n",
    "            self.target_counter = 0\n",
    "            self._target_update()\n",
    "               \n",
    "    def policy(self, state, epsilon=None):# checked\n",
    "        eps = self.eps if epsilon is None else epsilon      \n",
    "        if np.random.rand() < eps:\n",
    "            action = np.random.randint(self.action_size)\n",
    "        else:\n",
    "            action = self.q_fn(state).max(1)[1].item()      \n",
    "        return action\n",
    "        \n",
    "    def learn(self,batch_size):\n",
    "        self.optimizer.zero_grad()\n",
    "        batch = self._batch(batch_size)\n",
    "        loss = self._loss(batch)\n",
    "        loss.backward()\n",
    "        self.optimizer.step()\n",
    "        \n",
    "    def save(self):\n",
    "        torch.save({\n",
    "            'q_fn': self.q_fn.state_dict(),\n",
    "            'eps': self.eps\n",
    "            }, './checkpoints/tensor.pt')\n",
    "        \n",
    "    def load(self):\n",
    "        pass\n",
    "    \n",
    "    def _memorize(self, sarsd):# checked\n",
    "        self.memory.append(sarsd)\n",
    "        \n",
    "    def _batch(self,batch_size):# checked\n",
    "        # returns a batch of states, actions, rewards, next_states, dones\n",
    "        idx=np.random.choice(len(self.memory), batch_size)\n",
    "        s_batch = torch.cat([self.memory[i][0] for i in idx])\n",
    "        a_batch = torch.LongTensor([[self.memory[i][1]] for i in idx])\n",
    "        r_batch = torch.FloatTensor([self.memory[i][2] for i in idx])\n",
    "        ns_batch = torch.cat([self.memory[i][3] for i in idx])\n",
    "        d_batch = torch.FloatTensor([self.memory[i][4] for i in idx])\n",
    "        return (s_batch, a_batch, r_batch, ns_batch, d_batch)\n",
    "            \n",
    "    def _eps_update(self):  \n",
    "        self.eps = max(self.eps - 1/self.epsilon_steps,self.eps_final)\n",
    "    \n",
    "    def _loss(self,batch):\n",
    "        s, a, r, ns, d = batch\n",
    "        target = r+ (1-d)* self.disc * self.q_fn_target(ns).max(1)[0].detach()\n",
    "        prediction = self.q_fn(s).gather(1,a).squeeze()\n",
    "        return F.smooth_l1_loss(prediction, target)\n",
    "    \n",
    "    def _target_update(self):\n",
    "        self.q_fn_target = self.q_fn.clone()\n",
    "        self.target_counter = 0\n",
    "        \n",
    "\n",
    "        "
   ]
  },
  {
   "cell_type": "markdown",
   "id": "further-opera",
   "metadata": {},
   "source": [
    "## Atari Example"
   ]
  },
  {
   "cell_type": "code",
   "execution_count": 71,
   "id": "interstate-sunglasses",
   "metadata": {},
   "outputs": [],
   "source": [
    "env = make_atari('PongNoFrameskip-v4')"
   ]
  },
  {
   "cell_type": "code",
   "execution_count": 72,
   "id": "governmental-dealing",
   "metadata": {},
   "outputs": [],
   "source": [
    "# MDP parameters\n",
    "discount = 0.99\n",
    "action_size = env.action_space.n\n",
    "\n",
    "# Network optimization\n",
    "dqn_net = DQN_Network()\n",
    "lr = 5e-5\n",
    "batch_size = 32\n",
    "\n",
    "# Training parameters\n",
    "target_steps = int(1e4)\n",
    "memory_size = int(1e6)\n",
    "epsilon_steps = int(1e6) \n",
    "epsilon_final = 0.1\n",
    "\n",
    "total_steps = int(5e7)"
   ]
  },
  {
   "cell_type": "code",
   "execution_count": 84,
   "id": "instant-climb",
   "metadata": {},
   "outputs": [],
   "source": [
    "# MDP parameters\n",
    "discount = 0.99\n",
    "action_size = env.action_space.n\n",
    "\n",
    "# Network optimization\n",
    "dqn_net = DQN_Network()\n",
    "lr = 5e-5\n",
    "batch_size = 32\n",
    "\n",
    "# Training parameters\n",
    "target_steps = int(1e3)\n",
    "memory_size = int(1e3)\n",
    "epsilon_steps = int(1e3) \n",
    "epsilon_final = 0.1\n",
    "\n",
    "total_steps = int(1e4)"
   ]
  },
  {
   "cell_type": "code",
   "execution_count": 85,
   "id": "clean-match",
   "metadata": {},
   "outputs": [],
   "source": [
    "dqn_net = DQN_Network()"
   ]
  },
  {
   "cell_type": "code",
   "execution_count": 86,
   "id": "communist-discretion",
   "metadata": {},
   "outputs": [],
   "source": [
    "dqn = DQN(discount,\n",
    "          action_size,\n",
    "          lr,\n",
    "          dqn_net,\n",
    "          batch_size,\n",
    "          memory_size,\n",
    "          target_steps,\n",
    "          epsilon_steps,\n",
    "          epsilon_final)"
   ]
  },
  {
   "cell_type": "code",
   "execution_count": 87,
   "id": "married-samoa",
   "metadata": {},
   "outputs": [
    {
     "name": "stderr",
     "output_type": "stream",
     "text": [
      " 10%|▉         | 984/10000 [00:01<00:12, 717.38it/s]"
     ]
    },
    {
     "name": "stdout",
     "output_type": "stream",
     "text": [
      "Memory now full!\n"
     ]
    },
    {
     "name": "stderr",
     "output_type": "stream",
     "text": [
      "100%|██████████| 10000/10000 [13:44<00:00, 12.13it/s]\n"
     ]
    }
   ],
   "source": [
    "# Training loop\n",
    "s = env.reset()\n",
    "for _ in tqdm(range(total_steps)):\n",
    "    a = dqn.policy(s)\n",
    "    ns, r, d, _ = env.step(a)\n",
    "    sarsd = (s,a,r,ns,float(d))\n",
    "    dqn.update(sarsd)\n",
    "    if d:\n",
    "        s = env.reset()\n",
    "    else:\n",
    "        s = ns  "
   ]
  },
  {
   "cell_type": "markdown",
   "id": "complete-nation",
   "metadata": {},
   "source": [
    "## Cartpol Easy Example"
   ]
  },
  {
   "cell_type": "code",
   "execution_count": null,
   "id": "organized-vulnerability",
   "metadata": {},
   "outputs": [],
   "source": [
    "env = gym.make('Cartpol-v0')"
   ]
  },
  {
   "cell_type": "markdown",
   "id": "bearing-grenada",
   "metadata": {},
   "source": [
    "# Debug env "
   ]
  },
  {
   "cell_type": "code",
   "execution_count": 52,
   "id": "appropriate-collection",
   "metadata": {},
   "outputs": [],
   "source": [
    "dqn.save()"
   ]
  },
  {
   "cell_type": "code",
   "execution_count": 53,
   "id": "broad-oriental",
   "metadata": {},
   "outputs": [
    {
     "name": "stdout",
     "output_type": "stream",
     "text": [
      "/Users/mbbssnw3/Dropbox (The University of Manchester)/ACTIVE/COURSE--OptContFinance/code/stochastic_control/examples/6_Function_Approximation\n"
     ]
    }
   ],
   "source": [
    "import os\n",
    "print(os.getcwd())"
   ]
  },
  {
   "cell_type": "code",
   "execution_count": null,
   "id": "flying-payday",
   "metadata": {},
   "outputs": [],
   "source": [
    "self = dqn"
   ]
  },
  {
   "cell_type": "code",
   "execution_count": 202,
   "id": "common-monaco",
   "metadata": {},
   "outputs": [
    {
     "name": "stdout",
     "output_type": "stream",
     "text": [
      "5\n"
     ]
    }
   ],
   "source": [
    "s = env.reset().torch().unsqueeze(0)\n",
    "d=False\n",
    "a = dqn.policy(s)\n",
    "print(a)\n",
    "ns, r, d, _ = env.step(a)\n",
    "sarsd = (s,a,r,ns.torch().unsqueeze(0),float(d))"
   ]
  },
  {
   "cell_type": "code",
   "execution_count": 13,
   "id": "measured-greece",
   "metadata": {},
   "outputs": [
    {
     "name": "stdout",
     "output_type": "stream",
     "text": [
      "here\n"
     ]
    }
   ],
   "source": [
    "if 1.:\n",
    "    print('here')"
   ]
  },
  {
   "cell_type": "code",
   "execution_count": 64,
   "id": "aging-hypothetical",
   "metadata": {},
   "outputs": [
    {
     "data": {
      "text/plain": [
       "'Auto Hella Restart Report 5'"
      ]
     },
     "execution_count": 64,
     "metadata": {},
     "output_type": "execute_result"
    }
   ],
   "source": [
    "x=5\n",
    "y=6\n",
    "f\"Auto Hella Restart Report {x}\""
   ]
  },
  {
   "cell_type": "code",
   "execution_count": 65,
   "id": "promotional-restaurant",
   "metadata": {},
   "outputs": [
    {
     "data": {
      "text/plain": [
       "'Auto Hella Restart Report {x}'"
      ]
     },
     "execution_count": 65,
     "metadata": {},
     "output_type": "execute_result"
    }
   ],
   "source": [
    "\"Auto Hella Restart Report {x}\""
   ]
  },
  {
   "cell_type": "code",
   "execution_count": 205,
   "id": "broken-strip",
   "metadata": {},
   "outputs": [],
   "source": [
    "# 1. memorize sarsd\n",
    "self._memorize(sarsd)"
   ]
  },
  {
   "cell_type": "code",
   "execution_count": 206,
   "id": "unusual-salon",
   "metadata": {},
   "outputs": [],
   "source": [
    "self.learn(self.batch_size)"
   ]
  },
  {
   "cell_type": "code",
   "execution_count": 207,
   "id": "banned-columbus",
   "metadata": {},
   "outputs": [
    {
     "data": {
      "text/plain": [
       "0.0"
      ]
     },
     "execution_count": 207,
     "metadata": {},
     "output_type": "execute_result"
    }
   ],
   "source": [
    "self.memory[0][4]"
   ]
  },
  {
   "cell_type": "code",
   "execution_count": 208,
   "id": "concrete-example",
   "metadata": {},
   "outputs": [],
   "source": [
    "#print('1')\n",
    "\n",
    "# 2. learn a batch\n",
    "if len(self.memory) == memory_size:\n",
    "    self.learn(self.batch_size)\n",
    "    if self.memory_full is not True:\n",
    "        self.memory_full = True\n",
    "        print('Memory now full!')\n",
    "\n",
    "#print('2')\n",
    "\n",
    "# 3. update epsilon if episode done\n",
    "s, a, r, s, d = sarsd\n",
    "self._eps_update()\n",
    "self.target_counter += 1\n",
    "\n",
    "#print('3')\n",
    "\n",
    "\n",
    "# 4. update target if update required   \n",
    "if self.target_counter > self.target_update:\n",
    "    self.target_counter = 0\n",
    "    self._target_update()"
   ]
  },
  {
   "cell_type": "code",
   "execution_count": 209,
   "id": "strategic-underwear",
   "metadata": {},
   "outputs": [],
   "source": [
    "batch_size = self.batch_size\n",
    "idx=np.random.choice(len(self.memory), batch_size)\n",
    "s_batch = torch.cat([self.memory[i][0] for i in idx])\n",
    "a_batch = torch.LongTensor([[self.memory[i][1]] for i in idx])\n",
    "r_batch = torch.FloatTensor([self.memory[i][2] for i in idx])\n",
    "ns_batch = torch.cat([self.memory[i][3] for i in idx])\n",
    "d_batch = torch.FloatTensor([self.memory[i][4] for i in idx])"
   ]
  },
  {
   "cell_type": "code",
   "execution_count": 210,
   "id": "handmade-heater",
   "metadata": {},
   "outputs": [
    {
     "data": {
      "text/plain": [
       "array([0, 0, 0, 0, 0, 0, 0, 0, 0, 0, 0, 0, 0, 0, 0, 0, 0, 0, 0, 0, 0, 0,\n",
       "       0, 0, 0, 0, 0, 0, 0, 0, 0, 0])"
      ]
     },
     "execution_count": 210,
     "metadata": {},
     "output_type": "execute_result"
    }
   ],
   "source": [
    "np.random.choice(len(self.memory), batch_size)"
   ]
  },
  {
   "cell_type": "code",
   "execution_count": 211,
   "id": "great-abraham",
   "metadata": {},
   "outputs": [
    {
     "data": {
      "text/plain": [
       "tensor([[ 0.0028,  0.0199, -0.0323,  0.0039,  0.0250, -0.0079]],\n",
       "       grad_fn=<AddmmBackward>)"
      ]
     },
     "execution_count": 211,
     "metadata": {},
     "output_type": "execute_result"
    }
   ],
   "source": [
    "dqn_net(s)"
   ]
  },
  {
   "cell_type": "code",
   "execution_count": 212,
   "id": "sublime-questionnaire",
   "metadata": {},
   "outputs": [
    {
     "data": {
      "text/plain": [
       "tensor([[[0.2039, 0.2039, 0.2039,  ..., 0.3412, 0.3412, 0.3412],\n",
       "         [0.3412, 0.3412, 0.3412,  ..., 0.3412, 0.3412, 0.3412],\n",
       "         [0.3412, 0.3412, 0.3412,  ..., 0.3412, 0.3412, 0.3412],\n",
       "         ...,\n",
       "         [0.9255, 0.9255, 0.9255,  ..., 0.9255, 0.9255, 0.9255],\n",
       "         [0.9255, 0.9255, 0.9255,  ..., 0.9255, 0.9255, 0.9255],\n",
       "         [0.9255, 0.9255, 0.9255,  ..., 0.9255, 0.9255, 0.9255]],\n",
       "\n",
       "        [[0.2039, 0.2039, 0.2039,  ..., 0.3412, 0.3412, 0.3412],\n",
       "         [0.3412, 0.3412, 0.3412,  ..., 0.3412, 0.3412, 0.3412],\n",
       "         [0.3412, 0.3412, 0.3412,  ..., 0.3412, 0.3412, 0.3412],\n",
       "         ...,\n",
       "         [0.9255, 0.9255, 0.9255,  ..., 0.9255, 0.9255, 0.9255],\n",
       "         [0.9255, 0.9255, 0.9255,  ..., 0.9255, 0.9255, 0.9255],\n",
       "         [0.9255, 0.9255, 0.9255,  ..., 0.9255, 0.9255, 0.9255]],\n",
       "\n",
       "        [[0.2039, 0.2039, 0.2039,  ..., 0.3412, 0.3412, 0.3412],\n",
       "         [0.3412, 0.3412, 0.3412,  ..., 0.3412, 0.3412, 0.3412],\n",
       "         [0.3412, 0.3412, 0.3412,  ..., 0.3412, 0.3412, 0.3412],\n",
       "         ...,\n",
       "         [0.9255, 0.9255, 0.9255,  ..., 0.9255, 0.9255, 0.9255],\n",
       "         [0.9255, 0.9255, 0.9255,  ..., 0.9255, 0.9255, 0.9255],\n",
       "         [0.9255, 0.9255, 0.9255,  ..., 0.9255, 0.9255, 0.9255]],\n",
       "\n",
       "        [[0.2039, 0.2039, 0.2039,  ..., 0.3412, 0.3412, 0.3412],\n",
       "         [0.3412, 0.3412, 0.3412,  ..., 0.3412, 0.3412, 0.3412],\n",
       "         [0.3412, 0.3412, 0.3412,  ..., 0.3412, 0.3412, 0.3412],\n",
       "         ...,\n",
       "         [0.9255, 0.9255, 0.9255,  ..., 0.9255, 0.9255, 0.9255],\n",
       "         [0.9255, 0.9255, 0.9255,  ..., 0.9255, 0.9255, 0.9255],\n",
       "         [0.9255, 0.9255, 0.9255,  ..., 0.9255, 0.9255, 0.9255]]])"
      ]
     },
     "execution_count": 212,
     "metadata": {},
     "output_type": "execute_result"
    }
   ],
   "source": [
    "state[0]"
   ]
  },
  {
   "cell_type": "code",
   "execution_count": 213,
   "id": "unsigned-aspect",
   "metadata": {},
   "outputs": [],
   "source": [
    "state = s"
   ]
  },
  {
   "cell_type": "code",
   "execution_count": 214,
   "id": "arabic-storm",
   "metadata": {},
   "outputs": [
    {
     "data": {
      "text/plain": [
       "tensor([4])"
      ]
     },
     "execution_count": 214,
     "metadata": {},
     "output_type": "execute_result"
    }
   ],
   "source": [
    "self.q_fn(state).max(1)[1]"
   ]
  },
  {
   "cell_type": "code",
   "execution_count": 215,
   "id": "available-weekend",
   "metadata": {},
   "outputs": [
    {
     "data": {
      "text/plain": [
       "4"
      ]
     },
     "execution_count": 215,
     "metadata": {},
     "output_type": "execute_result"
    }
   ],
   "source": [
    "self.policy(s,epsilon=0.)"
   ]
  },
  {
   "cell_type": "code",
   "execution_count": 216,
   "id": "dangerous-raising",
   "metadata": {},
   "outputs": [
    {
     "name": "stderr",
     "output_type": "stream",
     "text": [
      "100%|██████████| 2/2 [00:02<00:00,  1.21s/it]\n"
     ]
    }
   ],
   "source": [
    "for i in tqdm(range(2)):\n",
    "    s = env.reset().torch().unsqueeze(0)\n",
    "    d=False\n",
    "    while not d:\n",
    "        a = 0\n",
    "        ns, r, d, _ = env.step(dqn.policy(s))\n",
    "        sarsd = (s,a,r,ns.torch().unsqueeze(0),float(d))\n",
    "        dqn.update(sarsd)\n",
    "        s = ns.torch().unsqueeze(0)"
   ]
  },
  {
   "cell_type": "code",
   "execution_count": 68,
   "id": "pacific-cargo",
   "metadata": {},
   "outputs": [],
   "source": [
    "dqn.update(sarsd)"
   ]
  },
  {
   "cell_type": "code",
   "execution_count": 217,
   "id": "equipped-pharmacology",
   "metadata": {},
   "outputs": [
    {
     "data": {
      "text/plain": [
       "True"
      ]
     },
     "execution_count": 217,
     "metadata": {},
     "output_type": "execute_result"
    }
   ],
   "source": [
    "d"
   ]
  },
  {
   "cell_type": "code",
   "execution_count": 658,
   "id": "homeless-fifth",
   "metadata": {},
   "outputs": [],
   "source": [
    "s,a,r,ns,d = dqn._batch(1)"
   ]
  },
  {
   "cell_type": "code",
   "execution_count": 661,
   "id": "superb-scanner",
   "metadata": {},
   "outputs": [
    {
     "data": {
      "text/plain": [
       "tensor([[[0.2039, 0.2039, 0.2039,  ..., 0.3412, 0.3412, 0.3412],\n",
       "         [0.3412, 0.3412, 0.3412,  ..., 0.3412, 0.3412, 0.3412],\n",
       "         [0.3412, 0.3412, 0.3412,  ..., 0.3412, 0.3412, 0.3412],\n",
       "         ...,\n",
       "         [0.9255, 0.9255, 0.9255,  ..., 0.9255, 0.9255, 0.9255],\n",
       "         [0.9255, 0.9255, 0.9255,  ..., 0.9255, 0.9255, 0.9255],\n",
       "         [0.9255, 0.9255, 0.9255,  ..., 0.9255, 0.9255, 0.9255]],\n",
       "\n",
       "        [[0.2039, 0.2039, 0.2039,  ..., 0.3412, 0.3412, 0.3412],\n",
       "         [0.3412, 0.3412, 0.3412,  ..., 0.3412, 0.3412, 0.3412],\n",
       "         [0.3412, 0.3412, 0.3412,  ..., 0.3412, 0.3412, 0.3412],\n",
       "         ...,\n",
       "         [0.9255, 0.9255, 0.9255,  ..., 0.9255, 0.9255, 0.9255],\n",
       "         [0.9255, 0.9255, 0.9255,  ..., 0.9255, 0.9255, 0.9255],\n",
       "         [0.9255, 0.9255, 0.9255,  ..., 0.9255, 0.9255, 0.9255]],\n",
       "\n",
       "        [[0.2039, 0.2039, 0.2039,  ..., 0.3412, 0.3412, 0.3412],\n",
       "         [0.3412, 0.3412, 0.3412,  ..., 0.3412, 0.3412, 0.3412],\n",
       "         [0.3412, 0.3412, 0.3412,  ..., 0.3412, 0.3412, 0.3412],\n",
       "         ...,\n",
       "         [0.9255, 0.9255, 0.9255,  ..., 0.9255, 0.9255, 0.9255],\n",
       "         [0.9255, 0.9255, 0.9255,  ..., 0.9255, 0.9255, 0.9255],\n",
       "         [0.9255, 0.9255, 0.9255,  ..., 0.9255, 0.9255, 0.9255]],\n",
       "\n",
       "        [[0.2039, 0.2039, 0.2039,  ..., 0.3412, 0.3412, 0.3412],\n",
       "         [0.3412, 0.3412, 0.3412,  ..., 0.3412, 0.3412, 0.3412],\n",
       "         [0.3412, 0.3412, 0.3412,  ..., 0.3412, 0.3412, 0.3412],\n",
       "         ...,\n",
       "         [0.9255, 0.9255, 0.9255,  ..., 0.9255, 0.9255, 0.9255],\n",
       "         [0.9255, 0.9255, 0.9255,  ..., 0.9255, 0.9255, 0.9255],\n",
       "         [0.9255, 0.9255, 0.9255,  ..., 0.9255, 0.9255, 0.9255]]])"
      ]
     },
     "execution_count": 661,
     "metadata": {},
     "output_type": "execute_result"
    }
   ],
   "source": [
    "ns[0]"
   ]
  },
  {
   "cell_type": "code",
   "execution_count": 651,
   "id": "combined-welsh",
   "metadata": {},
   "outputs": [
    {
     "data": {
      "text/plain": [
       "tensor([0.0277, 0.0274])"
      ]
     },
     "execution_count": 651,
     "metadata": {},
     "output_type": "execute_result"
    }
   ],
   "source": [
    "r+ (1-d)* self.disc * self.q_fn(ns).max(1)[0].detach()"
   ]
  },
  {
   "cell_type": "code",
   "execution_count": 670,
   "id": "sticky-motor",
   "metadata": {},
   "outputs": [],
   "source": [
    "s = ns.torch().unsqueeze(0)"
   ]
  },
  {
   "cell_type": "code",
   "execution_count": null,
   "id": "norwegian-baseball",
   "metadata": {},
   "outputs": [],
   "source": [
    "s = env.reset().torch().unsqueeze(0)"
   ]
  },
  {
   "cell_type": "code",
   "execution_count": 195,
   "id": "weird-stuart",
   "metadata": {},
   "outputs": [
    {
     "data": {
      "text/plain": [
       "1"
      ]
     },
     "execution_count": 195,
     "metadata": {},
     "output_type": "execute_result"
    }
   ],
   "source": [
    "self.q_fn(s).max(1)[1].item()"
   ]
  },
  {
   "cell_type": "code",
   "execution_count": 641,
   "id": "smooth-heart",
   "metadata": {},
   "outputs": [],
   "source": [
    "s, a, r, ns, d = dqn._batch(2)\n",
    "target = r+ (1-d)* self.disc * self.q_fn(ns).max(1)[0].detach()\n",
    "prediction = self.q_fn(s).gather(1,a)\n"
   ]
  },
  {
   "cell_type": "code",
   "execution_count": 587,
   "id": "british-tuesday",
   "metadata": {},
   "outputs": [
    {
     "data": {
      "text/plain": [
       "tensor([0.0273, 0.0273, 0.0270, 0.0274], grad_fn=<SqueezeBackward0>)"
      ]
     },
     "execution_count": 587,
     "metadata": {},
     "output_type": "execute_result"
    }
   ],
   "source": [
    "self.q_fn(s).gather(1,a).squeeze()"
   ]
  },
  {
   "cell_type": "code",
   "execution_count": 588,
   "id": "modular-ownership",
   "metadata": {},
   "outputs": [
    {
     "data": {
      "text/plain": [
       "tensor([0.0272, 0.0272, 0.0267, 0.0272])"
      ]
     },
     "execution_count": 588,
     "metadata": {},
     "output_type": "execute_result"
    }
   ],
   "source": [
    "r + (1-d)* self.disc * self.q_fn(ns).max(1)[0].detach()"
   ]
  },
  {
   "cell_type": "code",
   "execution_count": 604,
   "id": "above-sally",
   "metadata": {},
   "outputs": [
    {
     "data": {
      "text/plain": [
       "tensor([-0.0155, -0.0155], grad_fn=<SqueezeBackward0>)"
      ]
     },
     "execution_count": 604,
     "metadata": {},
     "output_type": "execute_result"
    }
   ],
   "source": [
    "self.q_fn(s).gather(1,a).squeeze()"
   ]
  },
  {
   "cell_type": "code",
   "execution_count": 590,
   "id": "superior-hamilton",
   "metadata": {},
   "outputs": [
    {
     "ename": "IndexError",
     "evalue": "Dimension out of range (expected to be in range of [-1, 0], but got 1)",
     "output_type": "error",
     "traceback": [
      "\u001b[0;31m---------------------------------------------------------------------------\u001b[0m",
      "\u001b[0;31mIndexError\u001b[0m                                Traceback (most recent call last)",
      "\u001b[0;32m<ipython-input-590-d795bf4b3684>\u001b[0m in \u001b[0;36m<module>\u001b[0;34m\u001b[0m\n\u001b[0;32m----> 1\u001b[0;31m \u001b[0mdqn\u001b[0m\u001b[0;34m.\u001b[0m\u001b[0m_loss\u001b[0m\u001b[0;34m(\u001b[0m\u001b[0mbatch\u001b[0m\u001b[0;34m)\u001b[0m\u001b[0;34m\u001b[0m\u001b[0;34m\u001b[0m\u001b[0m\n\u001b[0m",
      "\u001b[0;32m<ipython-input-575-21b4896e58dd>\u001b[0m in \u001b[0;36m_loss\u001b[0;34m(self, batch)\u001b[0m\n\u001b[1;32m     56\u001b[0m         \u001b[0ms\u001b[0m\u001b[0;34m,\u001b[0m \u001b[0ma\u001b[0m\u001b[0;34m,\u001b[0m \u001b[0mr\u001b[0m\u001b[0;34m,\u001b[0m \u001b[0mns\u001b[0m\u001b[0;34m,\u001b[0m \u001b[0md\u001b[0m \u001b[0;34m=\u001b[0m \u001b[0mbatch\u001b[0m\u001b[0;34m\u001b[0m\u001b[0;34m\u001b[0m\u001b[0m\n\u001b[1;32m     57\u001b[0m         \u001b[0mtarget\u001b[0m \u001b[0;34m=\u001b[0m \u001b[0mr\u001b[0m\u001b[0;34m+\u001b[0m \u001b[0;34m(\u001b[0m\u001b[0;36m1\u001b[0m\u001b[0;34m-\u001b[0m\u001b[0md\u001b[0m\u001b[0;34m)\u001b[0m\u001b[0;34m*\u001b[0m \u001b[0mself\u001b[0m\u001b[0;34m.\u001b[0m\u001b[0mdisc\u001b[0m \u001b[0;34m*\u001b[0m \u001b[0mself\u001b[0m\u001b[0;34m.\u001b[0m\u001b[0mq_fn_target\u001b[0m\u001b[0;34m(\u001b[0m\u001b[0mns\u001b[0m\u001b[0;34m)\u001b[0m\u001b[0;34m.\u001b[0m\u001b[0mmax\u001b[0m\u001b[0;34m(\u001b[0m\u001b[0;36m1\u001b[0m\u001b[0;34m)\u001b[0m\u001b[0;34m[\u001b[0m\u001b[0;36m0\u001b[0m\u001b[0;34m]\u001b[0m\u001b[0;34m.\u001b[0m\u001b[0mdetach\u001b[0m\u001b[0;34m(\u001b[0m\u001b[0;34m)\u001b[0m\u001b[0;34m\u001b[0m\u001b[0;34m\u001b[0m\u001b[0m\n\u001b[0;32m---> 58\u001b[0;31m         \u001b[0mprediction\u001b[0m \u001b[0;34m=\u001b[0m \u001b[0mself\u001b[0m\u001b[0;34m.\u001b[0m\u001b[0mq_fn\u001b[0m\u001b[0;34m(\u001b[0m\u001b[0ms\u001b[0m\u001b[0;34m)\u001b[0m\u001b[0;34m.\u001b[0m\u001b[0mgather\u001b[0m\u001b[0;34m(\u001b[0m\u001b[0;36m1\u001b[0m\u001b[0;34m,\u001b[0m\u001b[0ma\u001b[0m\u001b[0;34m)\u001b[0m\u001b[0;34m\u001b[0m\u001b[0;34m\u001b[0m\u001b[0m\n\u001b[0m\u001b[1;32m     59\u001b[0m         \u001b[0;32mreturn\u001b[0m \u001b[0mF\u001b[0m\u001b[0;34m.\u001b[0m\u001b[0msmooth_l1_loss\u001b[0m\u001b[0;34m(\u001b[0m\u001b[0mprediction\u001b[0m\u001b[0;34m,\u001b[0m \u001b[0mtarget\u001b[0m\u001b[0;34m)\u001b[0m\u001b[0;34m\u001b[0m\u001b[0;34m\u001b[0m\u001b[0m\n",
      "\u001b[0;31mIndexError\u001b[0m: Dimension out of range (expected to be in range of [-1, 0], but got 1)"
     ]
    }
   ],
   "source": [
    "dqn._loss(batch)"
   ]
  },
  {
   "cell_type": "code",
   "execution_count": 525,
   "id": "broke-kazakhstan",
   "metadata": {},
   "outputs": [],
   "source": [
    "a_ = torch.from_numpy(np.array([a[i] for i in range(len(a))]))"
   ]
  },
  {
   "cell_type": "code",
   "execution_count": 526,
   "id": "wound-healthcare",
   "metadata": {},
   "outputs": [],
   "source": [
    "\n",
    "qs = self.q_fn(s)"
   ]
  },
  {
   "cell_type": "code",
   "execution_count": 304,
   "id": "global-monster",
   "metadata": {},
   "outputs": [],
   "source": [
    "states = torch.cat([self.memory[i][0] for i in idx])\n",
    "next_states = torch.cat([self.memory[i][3] for i in idx])"
   ]
  },
  {
   "cell_type": "code",
   "execution_count": 315,
   "id": "mental-banana",
   "metadata": {},
   "outputs": [],
   "source": [
    "s_batch = torch.cat([self.memory[i][0] for i in idx])\n",
    "a_batch = [self.memory[i][1] for i in idx]\n",
    "r_batch = [self.memory[i][2] for i in idx]\n",
    "ns_batch = torch.cat([self.memory[i][3] for i in idx])\n",
    "d_batch = [self.memory[i][4] for i in idx]"
   ]
  },
  {
   "cell_type": "code",
   "execution_count": 566,
   "id": "arctic-pixel",
   "metadata": {},
   "outputs": [],
   "source": [
    "import math\n",
    "x = torch.linspace(-math.pi, math.pi, 10)\n",
    "y = torch.sin(x)"
   ]
  },
  {
   "cell_type": "code",
   "execution_count": 567,
   "id": "white-orlando",
   "metadata": {},
   "outputs": [
    {
     "data": {
      "text/plain": [
       "tensor([ 8.7423e-08, -6.4279e-01, -9.8481e-01, -8.6603e-01, -3.4202e-01,\n",
       "         3.4202e-01,  8.6603e-01,  9.8481e-01,  6.4279e-01, -8.7423e-08])"
      ]
     },
     "execution_count": 567,
     "metadata": {},
     "output_type": "execute_result"
    }
   ],
   "source": [
    "y"
   ]
  },
  {
   "cell_type": "code",
   "execution_count": 302,
   "id": "blessed-novel",
   "metadata": {},
   "outputs": [
    {
     "data": {
      "text/plain": [
       "tensor([[[[0.2039, 0.2039, 0.2039,  ..., 0.3412, 0.3412, 0.3412],\n",
       "          [0.3412, 0.3412, 0.3412,  ..., 0.3412, 0.3412, 0.3412],\n",
       "          [0.3412, 0.3412, 0.3412,  ..., 0.3412, 0.3412, 0.3412],\n",
       "          ...,\n",
       "          [0.9255, 0.9255, 0.9255,  ..., 0.9255, 0.9255, 0.9255],\n",
       "          [0.9255, 0.9255, 0.9255,  ..., 0.9255, 0.9255, 0.9255],\n",
       "          [0.9255, 0.9255, 0.9255,  ..., 0.9255, 0.9255, 0.9255]],\n",
       "\n",
       "         [[0.2039, 0.2039, 0.2039,  ..., 0.3412, 0.3412, 0.3412],\n",
       "          [0.3412, 0.3412, 0.3412,  ..., 0.3412, 0.3412, 0.3412],\n",
       "          [0.3412, 0.3412, 0.3412,  ..., 0.3412, 0.3412, 0.3412],\n",
       "          ...,\n",
       "          [0.9255, 0.9255, 0.9255,  ..., 0.9255, 0.9255, 0.9255],\n",
       "          [0.9255, 0.9255, 0.9255,  ..., 0.9255, 0.9255, 0.9255],\n",
       "          [0.9255, 0.9255, 0.9255,  ..., 0.9255, 0.9255, 0.9255]],\n",
       "\n",
       "         [[0.2039, 0.2039, 0.2039,  ..., 0.3412, 0.3412, 0.3412],\n",
       "          [0.3412, 0.3412, 0.3412,  ..., 0.3412, 0.3412, 0.3412],\n",
       "          [0.3412, 0.3412, 0.3412,  ..., 0.3412, 0.3412, 0.3412],\n",
       "          ...,\n",
       "          [0.9255, 0.9255, 0.9255,  ..., 0.9255, 0.9255, 0.9255],\n",
       "          [0.9255, 0.9255, 0.9255,  ..., 0.9255, 0.9255, 0.9255],\n",
       "          [0.9255, 0.9255, 0.9255,  ..., 0.9255, 0.9255, 0.9255]],\n",
       "\n",
       "         [[0.2039, 0.2039, 0.2039,  ..., 0.3412, 0.3412, 0.3412],\n",
       "          [0.3412, 0.3412, 0.3412,  ..., 0.3412, 0.3412, 0.3412],\n",
       "          [0.3412, 0.3412, 0.3412,  ..., 0.3412, 0.3412, 0.3412],\n",
       "          ...,\n",
       "          [0.9255, 0.9255, 0.9255,  ..., 0.9255, 0.9255, 0.9255],\n",
       "          [0.9255, 0.9255, 0.9255,  ..., 0.9255, 0.9255, 0.9255],\n",
       "          [0.9255, 0.9255, 0.9255,  ..., 0.9255, 0.9255, 0.9255]]],\n",
       "\n",
       "\n",
       "        [[[0.2039, 0.2039, 0.2039,  ..., 0.3412, 0.3412, 0.3412],\n",
       "          [0.3412, 0.3412, 0.3412,  ..., 0.3412, 0.3412, 0.3412],\n",
       "          [0.3412, 0.3412, 0.3412,  ..., 0.3412, 0.3412, 0.3412],\n",
       "          ...,\n",
       "          [0.9255, 0.9255, 0.9255,  ..., 0.9255, 0.9255, 0.9255],\n",
       "          [0.9255, 0.9255, 0.9255,  ..., 0.9255, 0.9255, 0.9255],\n",
       "          [0.9255, 0.9255, 0.9255,  ..., 0.9255, 0.9255, 0.9255]],\n",
       "\n",
       "         [[0.2039, 0.2039, 0.2039,  ..., 0.3412, 0.3412, 0.3412],\n",
       "          [0.3412, 0.3412, 0.3412,  ..., 0.3412, 0.3412, 0.3412],\n",
       "          [0.3412, 0.3412, 0.3412,  ..., 0.3412, 0.3412, 0.3412],\n",
       "          ...,\n",
       "          [0.9255, 0.9255, 0.9255,  ..., 0.9255, 0.9255, 0.9255],\n",
       "          [0.9255, 0.9255, 0.9255,  ..., 0.9255, 0.9255, 0.9255],\n",
       "          [0.9255, 0.9255, 0.9255,  ..., 0.9255, 0.9255, 0.9255]],\n",
       "\n",
       "         [[0.2039, 0.2039, 0.2039,  ..., 0.3412, 0.3412, 0.3412],\n",
       "          [0.3412, 0.3412, 0.3412,  ..., 0.3412, 0.3412, 0.3412],\n",
       "          [0.3412, 0.3412, 0.3412,  ..., 0.3412, 0.3412, 0.3412],\n",
       "          ...,\n",
       "          [0.9255, 0.9255, 0.9255,  ..., 0.9255, 0.9255, 0.9255],\n",
       "          [0.9255, 0.9255, 0.9255,  ..., 0.9255, 0.9255, 0.9255],\n",
       "          [0.9255, 0.9255, 0.9255,  ..., 0.9255, 0.9255, 0.9255]],\n",
       "\n",
       "         [[0.2039, 0.2039, 0.2039,  ..., 0.3412, 0.3412, 0.3412],\n",
       "          [0.3412, 0.3412, 0.3412,  ..., 0.3412, 0.3412, 0.3412],\n",
       "          [0.3412, 0.3412, 0.3412,  ..., 0.3412, 0.3412, 0.3412],\n",
       "          ...,\n",
       "          [0.9255, 0.9255, 0.9255,  ..., 0.9255, 0.9255, 0.9255],\n",
       "          [0.9255, 0.9255, 0.9255,  ..., 0.9255, 0.9255, 0.9255],\n",
       "          [0.9255, 0.9255, 0.9255,  ..., 0.9255, 0.9255, 0.9255]]],\n",
       "\n",
       "\n",
       "        [[[0.2039, 0.2039, 0.2039,  ..., 0.3412, 0.3412, 0.3412],\n",
       "          [0.3412, 0.3412, 0.3412,  ..., 0.3412, 0.3412, 0.3412],\n",
       "          [0.3412, 0.3412, 0.3412,  ..., 0.3412, 0.3412, 0.3412],\n",
       "          ...,\n",
       "          [0.9255, 0.9255, 0.9255,  ..., 0.9255, 0.9255, 0.9255],\n",
       "          [0.9255, 0.9255, 0.9255,  ..., 0.9255, 0.9255, 0.9255],\n",
       "          [0.9255, 0.9255, 0.9255,  ..., 0.9255, 0.9255, 0.9255]],\n",
       "\n",
       "         [[0.2039, 0.2039, 0.2039,  ..., 0.3412, 0.3412, 0.3412],\n",
       "          [0.3412, 0.3412, 0.3412,  ..., 0.3412, 0.3412, 0.3412],\n",
       "          [0.3412, 0.3412, 0.3412,  ..., 0.3412, 0.3412, 0.3412],\n",
       "          ...,\n",
       "          [0.9255, 0.9255, 0.9255,  ..., 0.9255, 0.9255, 0.9255],\n",
       "          [0.9255, 0.9255, 0.9255,  ..., 0.9255, 0.9255, 0.9255],\n",
       "          [0.9255, 0.9255, 0.9255,  ..., 0.9255, 0.9255, 0.9255]],\n",
       "\n",
       "         [[0.2039, 0.2039, 0.2039,  ..., 0.3412, 0.3412, 0.3412],\n",
       "          [0.3412, 0.3412, 0.3412,  ..., 0.3412, 0.3412, 0.3412],\n",
       "          [0.3412, 0.3412, 0.3412,  ..., 0.3412, 0.3412, 0.3412],\n",
       "          ...,\n",
       "          [0.9255, 0.9255, 0.9255,  ..., 0.9255, 0.9255, 0.9255],\n",
       "          [0.9255, 0.9255, 0.9255,  ..., 0.9255, 0.9255, 0.9255],\n",
       "          [0.9255, 0.9255, 0.9255,  ..., 0.9255, 0.9255, 0.9255]],\n",
       "\n",
       "         [[0.2039, 0.2039, 0.2039,  ..., 0.3412, 0.3412, 0.3412],\n",
       "          [0.3412, 0.3412, 0.3412,  ..., 0.3412, 0.3412, 0.3412],\n",
       "          [0.3412, 0.3412, 0.3412,  ..., 0.3412, 0.3412, 0.3412],\n",
       "          ...,\n",
       "          [0.9255, 0.9255, 0.9255,  ..., 0.9255, 0.9255, 0.9255],\n",
       "          [0.9255, 0.9255, 0.9255,  ..., 0.9255, 0.9255, 0.9255],\n",
       "          [0.9255, 0.9255, 0.9255,  ..., 0.9255, 0.9255, 0.9255]]],\n",
       "\n",
       "\n",
       "        ...,\n",
       "\n",
       "\n",
       "        [[[0.2039, 0.2039, 0.2039,  ..., 0.3412, 0.3412, 0.3412],\n",
       "          [0.3412, 0.3412, 0.3412,  ..., 0.3412, 0.3412, 0.3412],\n",
       "          [0.3412, 0.3412, 0.3412,  ..., 0.3412, 0.3412, 0.3412],\n",
       "          ...,\n",
       "          [0.9255, 0.9255, 0.9255,  ..., 0.9255, 0.9255, 0.9255],\n",
       "          [0.9255, 0.9255, 0.9255,  ..., 0.9255, 0.9255, 0.9255],\n",
       "          [0.9255, 0.9255, 0.9255,  ..., 0.9255, 0.9255, 0.9255]],\n",
       "\n",
       "         [[0.2039, 0.2039, 0.2039,  ..., 0.3412, 0.3412, 0.3412],\n",
       "          [0.3412, 0.3412, 0.3412,  ..., 0.3412, 0.3412, 0.3412],\n",
       "          [0.3412, 0.3412, 0.3412,  ..., 0.3412, 0.3412, 0.3412],\n",
       "          ...,\n",
       "          [0.9255, 0.9255, 0.9255,  ..., 0.9255, 0.9255, 0.9255],\n",
       "          [0.9255, 0.9255, 0.9255,  ..., 0.9255, 0.9255, 0.9255],\n",
       "          [0.9255, 0.9255, 0.9255,  ..., 0.9255, 0.9255, 0.9255]],\n",
       "\n",
       "         [[0.2039, 0.2039, 0.2039,  ..., 0.3412, 0.3412, 0.3412],\n",
       "          [0.3412, 0.3412, 0.3412,  ..., 0.3412, 0.3412, 0.3412],\n",
       "          [0.3412, 0.3412, 0.3412,  ..., 0.3412, 0.3412, 0.3412],\n",
       "          ...,\n",
       "          [0.9255, 0.9255, 0.9255,  ..., 0.9255, 0.9255, 0.9255],\n",
       "          [0.9255, 0.9255, 0.9255,  ..., 0.9255, 0.9255, 0.9255],\n",
       "          [0.9255, 0.9255, 0.9255,  ..., 0.9255, 0.9255, 0.9255]],\n",
       "\n",
       "         [[0.2039, 0.2039, 0.2039,  ..., 0.3412, 0.3412, 0.3412],\n",
       "          [0.3412, 0.3412, 0.3412,  ..., 0.3412, 0.3412, 0.3412],\n",
       "          [0.3412, 0.3412, 0.3412,  ..., 0.3412, 0.3412, 0.3412],\n",
       "          ...,\n",
       "          [0.9255, 0.9255, 0.9255,  ..., 0.9255, 0.9255, 0.9255],\n",
       "          [0.9255, 0.9255, 0.9255,  ..., 0.9255, 0.9255, 0.9255],\n",
       "          [0.9255, 0.9255, 0.9255,  ..., 0.9255, 0.9255, 0.9255]]],\n",
       "\n",
       "\n",
       "        [[[0.2039, 0.2039, 0.2039,  ..., 0.3412, 0.3412, 0.3412],\n",
       "          [0.3412, 0.3412, 0.3412,  ..., 0.3412, 0.3412, 0.3412],\n",
       "          [0.3412, 0.3412, 0.3412,  ..., 0.3412, 0.3412, 0.3412],\n",
       "          ...,\n",
       "          [0.9255, 0.9255, 0.9255,  ..., 0.9255, 0.9255, 0.9255],\n",
       "          [0.9255, 0.9255, 0.9255,  ..., 0.9255, 0.9255, 0.9255],\n",
       "          [0.9255, 0.9255, 0.9255,  ..., 0.9255, 0.9255, 0.9255]],\n",
       "\n",
       "         [[0.2039, 0.2039, 0.2039,  ..., 0.3412, 0.3412, 0.3412],\n",
       "          [0.3412, 0.3412, 0.3412,  ..., 0.3412, 0.3412, 0.3412],\n",
       "          [0.3412, 0.3412, 0.3412,  ..., 0.3412, 0.3412, 0.3412],\n",
       "          ...,\n",
       "          [0.9255, 0.9255, 0.9255,  ..., 0.9255, 0.9255, 0.9255],\n",
       "          [0.9255, 0.9255, 0.9255,  ..., 0.9255, 0.9255, 0.9255],\n",
       "          [0.9255, 0.9255, 0.9255,  ..., 0.9255, 0.9255, 0.9255]],\n",
       "\n",
       "         [[0.2039, 0.2039, 0.2039,  ..., 0.3412, 0.3412, 0.3412],\n",
       "          [0.3412, 0.3412, 0.3412,  ..., 0.3412, 0.3412, 0.3412],\n",
       "          [0.3412, 0.3412, 0.3412,  ..., 0.3412, 0.3412, 0.3412],\n",
       "          ...,\n",
       "          [0.9255, 0.9255, 0.9255,  ..., 0.9255, 0.9255, 0.9255],\n",
       "          [0.9255, 0.9255, 0.9255,  ..., 0.9255, 0.9255, 0.9255],\n",
       "          [0.9255, 0.9255, 0.9255,  ..., 0.9255, 0.9255, 0.9255]],\n",
       "\n",
       "         [[0.2039, 0.2039, 0.2039,  ..., 0.3412, 0.3412, 0.3412],\n",
       "          [0.3412, 0.3412, 0.3412,  ..., 0.3412, 0.3412, 0.3412],\n",
       "          [0.3412, 0.3412, 0.3412,  ..., 0.3412, 0.3412, 0.3412],\n",
       "          ...,\n",
       "          [0.9255, 0.9255, 0.9255,  ..., 0.9255, 0.9255, 0.9255],\n",
       "          [0.9255, 0.9255, 0.9255,  ..., 0.9255, 0.9255, 0.9255],\n",
       "          [0.9255, 0.9255, 0.9255,  ..., 0.9255, 0.9255, 0.9255]]],\n",
       "\n",
       "\n",
       "        [[[0.2039, 0.2039, 0.2039,  ..., 0.3412, 0.3412, 0.3412],\n",
       "          [0.3412, 0.3412, 0.3412,  ..., 0.3412, 0.3412, 0.3412],\n",
       "          [0.3412, 0.3412, 0.3412,  ..., 0.3412, 0.3412, 0.3412],\n",
       "          ...,\n",
       "          [0.9255, 0.9255, 0.9255,  ..., 0.9255, 0.9255, 0.9255],\n",
       "          [0.9255, 0.9255, 0.9255,  ..., 0.9255, 0.9255, 0.9255],\n",
       "          [0.9255, 0.9255, 0.9255,  ..., 0.9255, 0.9255, 0.9255]],\n",
       "\n",
       "         [[0.2039, 0.2039, 0.2039,  ..., 0.3412, 0.3412, 0.3412],\n",
       "          [0.3412, 0.3412, 0.3412,  ..., 0.3412, 0.3412, 0.3412],\n",
       "          [0.3412, 0.3412, 0.3412,  ..., 0.3412, 0.3412, 0.3412],\n",
       "          ...,\n",
       "          [0.9255, 0.9255, 0.9255,  ..., 0.9255, 0.9255, 0.9255],\n",
       "          [0.9255, 0.9255, 0.9255,  ..., 0.9255, 0.9255, 0.9255],\n",
       "          [0.9255, 0.9255, 0.9255,  ..., 0.9255, 0.9255, 0.9255]],\n",
       "\n",
       "         [[0.2039, 0.2039, 0.2039,  ..., 0.3412, 0.3412, 0.3412],\n",
       "          [0.3412, 0.3412, 0.3412,  ..., 0.3412, 0.3412, 0.3412],\n",
       "          [0.3412, 0.3412, 0.3412,  ..., 0.3412, 0.3412, 0.3412],\n",
       "          ...,\n",
       "          [0.9255, 0.9255, 0.9255,  ..., 0.9255, 0.9255, 0.9255],\n",
       "          [0.9255, 0.9255, 0.9255,  ..., 0.9255, 0.9255, 0.9255],\n",
       "          [0.9255, 0.9255, 0.9255,  ..., 0.9255, 0.9255, 0.9255]],\n",
       "\n",
       "         [[0.2039, 0.2039, 0.2039,  ..., 0.3412, 0.3412, 0.3412],\n",
       "          [0.3412, 0.3412, 0.3412,  ..., 0.3412, 0.3412, 0.3412],\n",
       "          [0.3412, 0.3412, 0.3412,  ..., 0.3412, 0.3412, 0.3412],\n",
       "          ...,\n",
       "          [0.9255, 0.9255, 0.9255,  ..., 0.9255, 0.9255, 0.9255],\n",
       "          [0.9255, 0.9255, 0.9255,  ..., 0.9255, 0.9255, 0.9255],\n",
       "          [0.9255, 0.9255, 0.9255,  ..., 0.9255, 0.9255, 0.9255]]]])"
      ]
     },
     "execution_count": 302,
     "metadata": {},
     "output_type": "execute_result"
    }
   ],
   "source": [
    "torch.cat([self.memory[i][0] for i in idx])"
   ]
  },
  {
   "cell_type": "code",
   "execution_count": 263,
   "id": "political-uruguay",
   "metadata": {},
   "outputs": [
    {
     "ename": "ValueError",
     "evalue": "only one element tensors can be converted to Python scalars",
     "output_type": "error",
     "traceback": [
      "\u001b[0;31m---------------------------------------------------------------------------\u001b[0m",
      "\u001b[0;31mValueError\u001b[0m                                Traceback (most recent call last)",
      "\u001b[0;32m<ipython-input-263-a83cce5c7aa7>\u001b[0m in \u001b[0;36m<module>\u001b[0;34m\u001b[0m\n\u001b[0;32m----> 1\u001b[0;31m \u001b[0mbatch\u001b[0m \u001b[0;34m=\u001b[0m \u001b[0mtorch\u001b[0m\u001b[0;34m.\u001b[0m\u001b[0mfrom_numpy\u001b[0m\u001b[0;34m(\u001b[0m\u001b[0mdqn\u001b[0m\u001b[0;34m.\u001b[0m\u001b[0m_batch\u001b[0m\u001b[0;34m(\u001b[0m\u001b[0;36m25\u001b[0m\u001b[0;34m)\u001b[0m\u001b[0;34m)\u001b[0m\u001b[0;34m\u001b[0m\u001b[0;34m\u001b[0m\u001b[0m\n\u001b[0m",
      "\u001b[0;32m<ipython-input-255-c212e73bef2e>\u001b[0m in \u001b[0;36m_batch\u001b[0;34m(self, batch_size)\u001b[0m\n\u001b[1;32m     39\u001b[0m \u001b[0;34m\u001b[0m\u001b[0m\n\u001b[1;32m     40\u001b[0m     \u001b[0;32mdef\u001b[0m \u001b[0m_batch\u001b[0m\u001b[0;34m(\u001b[0m\u001b[0mself\u001b[0m\u001b[0;34m,\u001b[0m\u001b[0mbatch_size\u001b[0m\u001b[0;34m)\u001b[0m\u001b[0;34m:\u001b[0m \u001b[0;31m#'''check this'''\u001b[0m\u001b[0;34m\u001b[0m\u001b[0;34m\u001b[0m\u001b[0m\n\u001b[0;32m---> 41\u001b[0;31m         \u001b[0;32mreturn\u001b[0m \u001b[0mnp\u001b[0m\u001b[0;34m.\u001b[0m\u001b[0mrandom\u001b[0m\u001b[0;34m.\u001b[0m\u001b[0mchoice\u001b[0m\u001b[0;34m(\u001b[0m\u001b[0mself\u001b[0m\u001b[0;34m.\u001b[0m\u001b[0mmemory\u001b[0m\u001b[0;34m,\u001b[0m \u001b[0mbatch_size\u001b[0m\u001b[0;34m)\u001b[0m\u001b[0;34m\u001b[0m\u001b[0;34m\u001b[0m\u001b[0m\n\u001b[0m\u001b[1;32m     42\u001b[0m \u001b[0;34m\u001b[0m\u001b[0m\n\u001b[1;32m     43\u001b[0m     \u001b[0;32mdef\u001b[0m \u001b[0m_eps_update\u001b[0m\u001b[0;34m(\u001b[0m\u001b[0mself\u001b[0m\u001b[0;34m)\u001b[0m\u001b[0;34m:\u001b[0m\u001b[0;34m\u001b[0m\u001b[0;34m\u001b[0m\u001b[0m\n",
      "\u001b[0;32mmtrand.pyx\u001b[0m in \u001b[0;36mnumpy.random.mtrand.RandomState.choice\u001b[0;34m()\u001b[0m\n",
      "\u001b[0;31mValueError\u001b[0m: only one element tensors can be converted to Python scalars"
     ]
    }
   ],
   "source": [
    "batch = torch.from_numpy (dqn._batch(25))"
   ]
  },
  {
   "cell_type": "code",
   "execution_count": 266,
   "id": "written-alexander",
   "metadata": {},
   "outputs": [
    {
     "data": {
      "text/plain": [
       "(tensor([[[[0.2039, 0.2039, 0.2039,  ..., 0.3412, 0.3412, 0.3412],\n",
       "           [0.3412, 0.3412, 0.3412,  ..., 0.3412, 0.3412, 0.3412],\n",
       "           [0.3412, 0.3412, 0.3412,  ..., 0.3412, 0.3412, 0.3412],\n",
       "           ...,\n",
       "           [0.9255, 0.9255, 0.9255,  ..., 0.9255, 0.9255, 0.9255],\n",
       "           [0.9255, 0.9255, 0.9255,  ..., 0.9255, 0.9255, 0.9255],\n",
       "           [0.9255, 0.9255, 0.9255,  ..., 0.9255, 0.9255, 0.9255]],\n",
       " \n",
       "          [[0.2039, 0.2039, 0.2039,  ..., 0.3412, 0.3412, 0.3412],\n",
       "           [0.3412, 0.3412, 0.3412,  ..., 0.3412, 0.3412, 0.3412],\n",
       "           [0.3412, 0.3412, 0.3412,  ..., 0.3412, 0.3412, 0.3412],\n",
       "           ...,\n",
       "           [0.9255, 0.9255, 0.9255,  ..., 0.9255, 0.9255, 0.9255],\n",
       "           [0.9255, 0.9255, 0.9255,  ..., 0.9255, 0.9255, 0.9255],\n",
       "           [0.9255, 0.9255, 0.9255,  ..., 0.9255, 0.9255, 0.9255]],\n",
       " \n",
       "          [[0.2039, 0.2039, 0.2039,  ..., 0.3412, 0.3412, 0.3412],\n",
       "           [0.3412, 0.3412, 0.3412,  ..., 0.3412, 0.3412, 0.3412],\n",
       "           [0.3412, 0.3412, 0.3412,  ..., 0.3412, 0.3412, 0.3412],\n",
       "           ...,\n",
       "           [0.9255, 0.9255, 0.9255,  ..., 0.9255, 0.9255, 0.9255],\n",
       "           [0.9255, 0.9255, 0.9255,  ..., 0.9255, 0.9255, 0.9255],\n",
       "           [0.9255, 0.9255, 0.9255,  ..., 0.9255, 0.9255, 0.9255]],\n",
       " \n",
       "          [[0.2039, 0.2039, 0.2039,  ..., 0.3412, 0.3412, 0.3412],\n",
       "           [0.3412, 0.3412, 0.3412,  ..., 0.3412, 0.3412, 0.3412],\n",
       "           [0.3412, 0.3412, 0.3412,  ..., 0.3412, 0.3412, 0.3412],\n",
       "           ...,\n",
       "           [0.9255, 0.9255, 0.9255,  ..., 0.9255, 0.9255, 0.9255],\n",
       "           [0.9255, 0.9255, 0.9255,  ..., 0.9255, 0.9255, 0.9255],\n",
       "           [0.9255, 0.9255, 0.9255,  ..., 0.9255, 0.9255, 0.9255]]]]),\n",
       " 0,\n",
       " 0.0,\n",
       " tensor([[[[0.2039, 0.2039, 0.2039,  ..., 0.3412, 0.3412, 0.3412],\n",
       "           [0.3412, 0.3412, 0.3412,  ..., 0.3412, 0.3412, 0.3412],\n",
       "           [0.3412, 0.3412, 0.3412,  ..., 0.3412, 0.3412, 0.3412],\n",
       "           ...,\n",
       "           [0.9255, 0.9255, 0.9255,  ..., 0.9255, 0.9255, 0.9255],\n",
       "           [0.9255, 0.9255, 0.9255,  ..., 0.9255, 0.9255, 0.9255],\n",
       "           [0.9255, 0.9255, 0.9255,  ..., 0.9255, 0.9255, 0.9255]],\n",
       " \n",
       "          [[0.2039, 0.2039, 0.2039,  ..., 0.3412, 0.3412, 0.3412],\n",
       "           [0.3412, 0.3412, 0.3412,  ..., 0.3412, 0.3412, 0.3412],\n",
       "           [0.3412, 0.3412, 0.3412,  ..., 0.3412, 0.3412, 0.3412],\n",
       "           ...,\n",
       "           [0.9255, 0.9255, 0.9255,  ..., 0.9255, 0.9255, 0.9255],\n",
       "           [0.9255, 0.9255, 0.9255,  ..., 0.9255, 0.9255, 0.9255],\n",
       "           [0.9255, 0.9255, 0.9255,  ..., 0.9255, 0.9255, 0.9255]],\n",
       " \n",
       "          [[0.2039, 0.2039, 0.2039,  ..., 0.3412, 0.3412, 0.3412],\n",
       "           [0.3412, 0.3412, 0.3412,  ..., 0.3412, 0.3412, 0.3412],\n",
       "           [0.3412, 0.3412, 0.3412,  ..., 0.3412, 0.3412, 0.3412],\n",
       "           ...,\n",
       "           [0.9255, 0.9255, 0.9255,  ..., 0.9255, 0.9255, 0.9255],\n",
       "           [0.9255, 0.9255, 0.9255,  ..., 0.9255, 0.9255, 0.9255],\n",
       "           [0.9255, 0.9255, 0.9255,  ..., 0.9255, 0.9255, 0.9255]],\n",
       " \n",
       "          [[0.2039, 0.2039, 0.2039,  ..., 0.3412, 0.3412, 0.3412],\n",
       "           [0.3412, 0.3412, 0.3412,  ..., 0.3412, 0.3412, 0.3412],\n",
       "           [0.3412, 0.3412, 0.3412,  ..., 0.3412, 0.3412, 0.3412],\n",
       "           ...,\n",
       "           [0.9255, 0.9255, 0.9255,  ..., 0.9255, 0.9255, 0.9255],\n",
       "           [0.9255, 0.9255, 0.9255,  ..., 0.9255, 0.9255, 0.9255],\n",
       "           [0.9255, 0.9255, 0.9255,  ..., 0.9255, 0.9255, 0.9255]]]]),\n",
       " 0.0)"
      ]
     },
     "execution_count": 266,
     "metadata": {},
     "output_type": "execute_result"
    }
   ],
   "source": [
    "batch[0]"
   ]
  },
  {
   "cell_type": "code",
   "execution_count": 241,
   "id": "invalid-county",
   "metadata": {},
   "outputs": [],
   "source": [
    "a =np.array([[1, 4, 5], [4, 6, 8], [8, 3, 10]])"
   ]
  },
  {
   "cell_type": "code",
   "execution_count": 243,
   "id": "informal-slovenia",
   "metadata": {},
   "outputs": [
    {
     "data": {
      "text/plain": [
       "array([4, 6, 3])"
      ]
     },
     "execution_count": 243,
     "metadata": {},
     "output_type": "execute_result"
    }
   ],
   "source": [
    "a[:,1]"
   ]
  },
  {
   "cell_type": "code",
   "execution_count": 285,
   "id": "endangered-update",
   "metadata": {},
   "outputs": [],
   "source": [
    "loss_fn = torch.nn.MSELoss(reduction='sum')"
   ]
  },
  {
   "cell_type": "code",
   "execution_count": 297,
   "id": "trained-criticism",
   "metadata": {},
   "outputs": [],
   "source": [
    "loss = loss_fn(y_pred, y_pred)"
   ]
  },
  {
   "cell_type": "code",
   "execution_count": 298,
   "id": "separate-excuse",
   "metadata": {},
   "outputs": [
    {
     "ename": "RuntimeError",
     "evalue": "Trying to backward through the graph a second time, but the saved intermediate results have already been freed. Specify retain_graph=True when calling .backward() or autograd.grad() the first time.",
     "output_type": "error",
     "traceback": [
      "\u001b[0;31m---------------------------------------------------------------------------\u001b[0m",
      "\u001b[0;31mRuntimeError\u001b[0m                              Traceback (most recent call last)",
      "\u001b[0;32m<ipython-input-298-52a0569421b1>\u001b[0m in \u001b[0;36m<module>\u001b[0;34m\u001b[0m\n\u001b[0;32m----> 1\u001b[0;31m \u001b[0mloss\u001b[0m\u001b[0;34m.\u001b[0m\u001b[0mbackward\u001b[0m\u001b[0;34m(\u001b[0m\u001b[0;34m)\u001b[0m\u001b[0;34m\u001b[0m\u001b[0;34m\u001b[0m\u001b[0m\n\u001b[0m",
      "\u001b[0;32m~/anaconda3/envs/sc/lib/python3.8/site-packages/torch/tensor.py\u001b[0m in \u001b[0;36mbackward\u001b[0;34m(self, gradient, retain_graph, create_graph, inputs)\u001b[0m\n\u001b[1;32m    243\u001b[0m                 \u001b[0mcreate_graph\u001b[0m\u001b[0;34m=\u001b[0m\u001b[0mcreate_graph\u001b[0m\u001b[0;34m,\u001b[0m\u001b[0;34m\u001b[0m\u001b[0;34m\u001b[0m\u001b[0m\n\u001b[1;32m    244\u001b[0m                 inputs=inputs)\n\u001b[0;32m--> 245\u001b[0;31m         \u001b[0mtorch\u001b[0m\u001b[0;34m.\u001b[0m\u001b[0mautograd\u001b[0m\u001b[0;34m.\u001b[0m\u001b[0mbackward\u001b[0m\u001b[0;34m(\u001b[0m\u001b[0mself\u001b[0m\u001b[0;34m,\u001b[0m \u001b[0mgradient\u001b[0m\u001b[0;34m,\u001b[0m \u001b[0mretain_graph\u001b[0m\u001b[0;34m,\u001b[0m \u001b[0mcreate_graph\u001b[0m\u001b[0;34m,\u001b[0m \u001b[0minputs\u001b[0m\u001b[0;34m=\u001b[0m\u001b[0minputs\u001b[0m\u001b[0;34m)\u001b[0m\u001b[0;34m\u001b[0m\u001b[0;34m\u001b[0m\u001b[0m\n\u001b[0m\u001b[1;32m    246\u001b[0m \u001b[0;34m\u001b[0m\u001b[0m\n\u001b[1;32m    247\u001b[0m     \u001b[0;32mdef\u001b[0m \u001b[0mregister_hook\u001b[0m\u001b[0;34m(\u001b[0m\u001b[0mself\u001b[0m\u001b[0;34m,\u001b[0m \u001b[0mhook\u001b[0m\u001b[0;34m)\u001b[0m\u001b[0;34m:\u001b[0m\u001b[0;34m\u001b[0m\u001b[0;34m\u001b[0m\u001b[0m\n",
      "\u001b[0;32m~/anaconda3/envs/sc/lib/python3.8/site-packages/torch/autograd/__init__.py\u001b[0m in \u001b[0;36mbackward\u001b[0;34m(tensors, grad_tensors, retain_graph, create_graph, grad_variables, inputs)\u001b[0m\n\u001b[1;32m    143\u001b[0m         \u001b[0mretain_graph\u001b[0m \u001b[0;34m=\u001b[0m \u001b[0mcreate_graph\u001b[0m\u001b[0;34m\u001b[0m\u001b[0;34m\u001b[0m\u001b[0m\n\u001b[1;32m    144\u001b[0m \u001b[0;34m\u001b[0m\u001b[0m\n\u001b[0;32m--> 145\u001b[0;31m     Variable._execution_engine.run_backward(\n\u001b[0m\u001b[1;32m    146\u001b[0m         \u001b[0mtensors\u001b[0m\u001b[0;34m,\u001b[0m \u001b[0mgrad_tensors_\u001b[0m\u001b[0;34m,\u001b[0m \u001b[0mretain_graph\u001b[0m\u001b[0;34m,\u001b[0m \u001b[0mcreate_graph\u001b[0m\u001b[0;34m,\u001b[0m \u001b[0minputs\u001b[0m\u001b[0;34m,\u001b[0m\u001b[0;34m\u001b[0m\u001b[0;34m\u001b[0m\u001b[0m\n\u001b[1;32m    147\u001b[0m         allow_unreachable=True, accumulate_grad=True)  # allow_unreachable flag\n",
      "\u001b[0;31mRuntimeError\u001b[0m: Trying to backward through the graph a second time, but the saved intermediate results have already been freed. Specify retain_graph=True when calling .backward() or autograd.grad() the first time."
     ]
    }
   ],
   "source": [
    "loss.backward()"
   ]
  },
  {
   "cell_type": "code",
   "execution_count": null,
   "id": "comprehensive-response",
   "metadata": {},
   "outputs": [],
   "source": []
  },
  {
   "cell_type": "code",
   "execution_count": 211,
   "id": "lasting-athens",
   "metadata": {},
   "outputs": [],
   "source": [
    "env.close()"
   ]
  },
  {
   "cell_type": "code",
   "execution_count": 200,
   "id": "demographic-offering",
   "metadata": {},
   "outputs": [],
   "source": [
    "env = gym.make('CartPole-v0').unwrapped"
   ]
  },
  {
   "cell_type": "code",
   "execution_count": 201,
   "id": "checked-delay",
   "metadata": {},
   "outputs": [],
   "source": [
    "state = env.reset()"
   ]
  },
  {
   "cell_type": "code",
   "execution_count": 202,
   "id": "smaller-chick",
   "metadata": {},
   "outputs": [],
   "source": [
    "screen = env.render(mode='rgb_array')"
   ]
  },
  {
   "cell_type": "code",
   "execution_count": 212,
   "id": "optical-execution",
   "metadata": {},
   "outputs": [],
   "source": [
    "env = CartPole_Pixel(gym.make('CartPole-v0'))"
   ]
  },
  {
   "cell_type": "code",
   "execution_count": 213,
   "id": "capable-spokesman",
   "metadata": {},
   "outputs": [],
   "source": [
    "state = env.reset()"
   ]
  },
  {
   "cell_type": "code",
   "execution_count": 196,
   "id": "periodic-appointment",
   "metadata": {},
   "outputs": [],
   "source": [
    "from threading import Event, Thread\n",
    "\n",
    "\n",
    "class RenderThread(Thread):\n",
    "    \"\"\"\n",
    "    Original Code:\n",
    "        https://github.com/tqjxlm/Simple-DQN-Pytorch/blob/master/Pytorch-DQN-CartPole-Raw-Pixels.ipynb\n",
    "    Data:\n",
    "        - Observation: 3 x 400 x 600\n",
    "    Usage:\n",
    "        1. call env.step() or env.reset() to update env state\n",
    "        2. call begin_render() to schedule a rendering task (non-blocking)\n",
    "        3. call get_screen() to get the lastest scheduled result (block main thread if rendering not done)\n",
    "    Sample Code:\n",
    "    ```python\n",
    "        # A simple test\n",
    "        env = gym.make('CartPole-v0').unwrapped\n",
    "        renderer = RenderThread(env)\n",
    "        renderer.start()\n",
    "        env.reset()\n",
    "        renderer.begin_render()\n",
    "        for i in range(100):\n",
    "            screen = renderer.get_screen() # Render the screen\n",
    "            env.step(env.action_space.sample()) # Select and perform an action\n",
    "            renderer.begin_render()\n",
    "            print(screen)\n",
    "            print(screen.shape)\n",
    "        renderer.stop()\n",
    "        renderer.join()\n",
    "        env.close()\n",
    "    ```\n",
    "    \"\"\"\n",
    "\n",
    "    def __init__(self, env):\n",
    "        super(RenderThread, self).__init__(target=self.render)\n",
    "        self._stop_event = Event()\n",
    "        self._state_event = Event()\n",
    "        self._render_event = Event()\n",
    "        self.env = env\n",
    "\n",
    "    def stop(self):\n",
    "        \"\"\"\n",
    "        Stops the threads\n",
    "        :return:\n",
    "        \"\"\"\n",
    "        self._stop_event.set()\n",
    "        self._state_event.set()\n",
    "\n",
    "    def stopped(self):\n",
    "        \"\"\"\n",
    "        Check if the thread has been stopped\n",
    "        :return:\n",
    "        \"\"\"\n",
    "        return self._stop_event.is_set()\n",
    "\n",
    "    def begin_render(self):\n",
    "        \"\"\"\n",
    "        Start rendering the screen\n",
    "        :return:\n",
    "        \"\"\"\n",
    "        self._state_event.set()\n",
    "\n",
    "    def get_screen(self):\n",
    "        \"\"\"\n",
    "        get and output the screen image\n",
    "        :return:\n",
    "        \"\"\"\n",
    "        self._render_event.wait()\n",
    "        self._render_event.clear()\n",
    "        return self.screen\n",
    "\n",
    "    def render(self):\n",
    "        while not self.stopped():\n",
    "            self._state_event.wait()\n",
    "            self._state_event.clear()\n",
    "            self.screen = self.env.render(mode='rgb_array')\n",
    "            self._render_event.set()"
   ]
  },
  {
   "cell_type": "code",
   "execution_count": 197,
   "id": "burning-plymouth",
   "metadata": {},
   "outputs": [],
   "source": [
    "\n",
    "import numpy as np\n",
    "import os, math\n",
    "\n",
    "os.environ.setdefault('PATH', '')\n",
    "from collections import deque\n",
    "import gym\n",
    "from gym import spaces\n",
    "\n",
    "# for those who installed ROS on local env\n",
    "import sys\n",
    "\n",
    "try:\n",
    "    sys.path.remove('/opt/ros/kinetic/lib/python2.7/dist-packages')\n",
    "except:\n",
    "    pass\n",
    "\n",
    "import cv2\n",
    "\n",
    "cv2.ocl.setUseOpenCL(False)\n",
    "\n",
    "\"\"\"\n",
    "Wrapper for Cartpole\n",
    "This is to change the reward at the terminal state because originally it is set as 1.0\n",
    "check here: https://github.com/openai/gym/blob/master/gym/envs/classic_control/cartpole.py\n",
    "\"\"\"\n",
    "\n",
    "\n",
    "class CartPole_Pixel(gym.Wrapper):\n",
    "    \"\"\"\n",
    "    Wrapper for getting raw pixel in cartpole env\n",
    "    observation: 400x400x1 => (Width, Height, Colour-chennel)\n",
    "    we dispose 100pxl from each side of width to make the frame divisible(Square) in CNN\n",
    "    \"\"\"\n",
    "\n",
    "    def __init__(self, env):\n",
    "        self.width = 400\n",
    "        self.height = 400\n",
    "\n",
    "        gym.Wrapper.__init__(self, env)\n",
    "        self.env = env.unwrapped\n",
    "        # self.env.seed(123)  # fix the randomness for reproducibility purpose\n",
    "\n",
    "        \"\"\"\n",
    "        start new thread to deal with getting raw image\n",
    "        \"\"\"\n",
    "        #from tf_rl.env.cartpole_pixel import RenderThread\n",
    "        self.renderer = RenderThread(env)\n",
    "        self.renderer.start()\n",
    "\n",
    "    def _pre_process(self, frame):\n",
    "        frame = cv2.cvtColor(frame, cv2.COLOR_RGB2GRAY)\n",
    "        frame = cv2.resize(frame, (self.width, self.height), interpolation=cv2.INTER_AREA)\n",
    "        frame = np.expand_dims(frame, -1)\n",
    "        return frame\n",
    "\n",
    "    def step(self, ac):\n",
    "        _, reward, done, info = self.env.step(ac)\n",
    "        self.renderer.begin_render()  # move screen one step\n",
    "        observation = self._pre_process(self.renderer.get_screen())\n",
    "\n",
    "        if done:\n",
    "            reward = -1.0  # reward at a terminal state\n",
    "        return observation, reward, done, info\n",
    "\n",
    "    def reset(self, **kwargs):\n",
    "        self.env.reset()\n",
    "        self.renderer.begin_render()  # move screen one step\n",
    "        return self._pre_process(self.renderer.get_screen())  # overwrite observation by raw image pixels of screen\n",
    "\n",
    "    def close(self):\n",
    "        self.renderer.stop()  # terminate the threads\n",
    "        self.renderer.join()  # collect the dead threads and notice all threads are safely terminated\n",
    "        if self.env:\n",
    "            return self.env.close()"
   ]
  },
  {
   "cell_type": "markdown",
   "id": "unnecessary-logic",
   "metadata": {},
   "source": [
    "## Debugging"
   ]
  },
  {
   "cell_type": "markdown",
   "id": "comic-fraud",
   "metadata": {},
   "source": [
    "### Define Neural network"
   ]
  },
  {
   "cell_type": "code",
   "execution_count": 171,
   "id": "molecular-foster",
   "metadata": {},
   "outputs": [],
   "source": [
    "action_size = 4\n",
    "dqn_model = nn.Sequential(\n",
    "    nn.Conv2d(4, 32, 8, 4),\n",
    "    nn.ReLU(),\n",
    "    nn.Conv2d(32, 64, 4, 2),\n",
    "    nn.ReLU(),\n",
    "    nn.Conv2d(64, 64, 3, 1),\n",
    "    nn.ReLU(),\n",
    "    nn.Flatten(0, 1),\n",
    "    nn.Linear(3136,1024),\n",
    "    nn.ReLU(),\n",
    "    nn.Linear(1024, action_size)\n",
    ")\n",
    "\n",
    "\n",
    "# do you need to flatten?"
   ]
  },
  {
   "cell_type": "code",
   "execution_count": 172,
   "id": "digital-parker",
   "metadata": {},
   "outputs": [
    {
     "ename": "TypeError",
     "evalue": "forward() missing 1 required positional argument: 'input'",
     "output_type": "error",
     "traceback": [
      "\u001b[0;31m---------------------------------------------------------------------------\u001b[0m",
      "\u001b[0;31mTypeError\u001b[0m                                 Traceback (most recent call last)",
      "\u001b[0;32m<ipython-input-172-e39ad2991bef>\u001b[0m in \u001b[0;36m<module>\u001b[0;34m\u001b[0m\n\u001b[0;32m----> 1\u001b[0;31m \u001b[0mdqn\u001b[0m \u001b[0;34m=\u001b[0m \u001b[0mdqn_model\u001b[0m\u001b[0;34m(\u001b[0m\u001b[0;34m)\u001b[0m\u001b[0;34m\u001b[0m\u001b[0;34m\u001b[0m\u001b[0m\n\u001b[0m",
      "\u001b[0;32m~/anaconda3/envs/sc/lib/python3.8/site-packages/torch/nn/modules/module.py\u001b[0m in \u001b[0;36m_call_impl\u001b[0;34m(self, *input, **kwargs)\u001b[0m\n\u001b[1;32m    887\u001b[0m             \u001b[0mresult\u001b[0m \u001b[0;34m=\u001b[0m \u001b[0mself\u001b[0m\u001b[0;34m.\u001b[0m\u001b[0m_slow_forward\u001b[0m\u001b[0;34m(\u001b[0m\u001b[0;34m*\u001b[0m\u001b[0minput\u001b[0m\u001b[0;34m,\u001b[0m \u001b[0;34m**\u001b[0m\u001b[0mkwargs\u001b[0m\u001b[0;34m)\u001b[0m\u001b[0;34m\u001b[0m\u001b[0;34m\u001b[0m\u001b[0m\n\u001b[1;32m    888\u001b[0m         \u001b[0;32melse\u001b[0m\u001b[0;34m:\u001b[0m\u001b[0;34m\u001b[0m\u001b[0;34m\u001b[0m\u001b[0m\n\u001b[0;32m--> 889\u001b[0;31m             \u001b[0mresult\u001b[0m \u001b[0;34m=\u001b[0m \u001b[0mself\u001b[0m\u001b[0;34m.\u001b[0m\u001b[0mforward\u001b[0m\u001b[0;34m(\u001b[0m\u001b[0;34m*\u001b[0m\u001b[0minput\u001b[0m\u001b[0;34m,\u001b[0m \u001b[0;34m**\u001b[0m\u001b[0mkwargs\u001b[0m\u001b[0;34m)\u001b[0m\u001b[0;34m\u001b[0m\u001b[0;34m\u001b[0m\u001b[0m\n\u001b[0m\u001b[1;32m    890\u001b[0m         for hook in itertools.chain(\n\u001b[1;32m    891\u001b[0m                 \u001b[0m_global_forward_hooks\u001b[0m\u001b[0;34m.\u001b[0m\u001b[0mvalues\u001b[0m\u001b[0;34m(\u001b[0m\u001b[0;34m)\u001b[0m\u001b[0;34m,\u001b[0m\u001b[0;34m\u001b[0m\u001b[0;34m\u001b[0m\u001b[0m\n",
      "\u001b[0;31mTypeError\u001b[0m: forward() missing 1 required positional argument: 'input'"
     ]
    }
   ],
   "source": [
    "dqn = dqn_model()"
   ]
  },
  {
   "cell_type": "code",
   "execution_count": 121,
   "id": "surgical-wrist",
   "metadata": {},
   "outputs": [],
   "source": [
    "action_size = 4\n",
    "dqn_model = nn.Sequential(\n",
    "    nn.Conv2d(4, 32, 8, 4),\n",
    "    nn.ReLU(),\n",
    "    nn.Conv2d(32, 64, 4, 2),\n",
    "    nn.ReLU(),\n",
    "    nn.Conv2d(64, 64, 3, 1),\n",
    "    nn.ReLU(),\n",
    "    nn.Flatten(0, 1),\n",
    "    nn.Linear(3136,1024),\n",
    "    nn.ReLU(),\n",
    "    nn.Linear(1024, action_size)\n",
    ")\n",
    "\n",
    "\n",
    "# do you need to flatten?"
   ]
  },
  {
   "cell_type": "code",
   "execution_count": 11,
   "id": "chicken-tucson",
   "metadata": {},
   "outputs": [
    {
     "ename": "IndexError",
     "evalue": "index 5 is out of bounds for dimension 0 with size 4",
     "output_type": "error",
     "traceback": [
      "\u001b[0;31m---------------------------------------------------------------------------\u001b[0m",
      "\u001b[0;31mIndexError\u001b[0m                                Traceback (most recent call last)",
      "\u001b[0;32m<ipython-input-11-072c2bbcd487>\u001b[0m in \u001b[0;36m<module>\u001b[0;34m\u001b[0m\n\u001b[0;32m----> 1\u001b[0;31m \u001b[0mstate\u001b[0m\u001b[0;34m.\u001b[0m\u001b[0mtorch\u001b[0m\u001b[0;34m(\u001b[0m\u001b[0;34m)\u001b[0m\u001b[0;34m[\u001b[0m\u001b[0;36m5\u001b[0m\u001b[0;34m]\u001b[0m\u001b[0;34m\u001b[0m\u001b[0;34m\u001b[0m\u001b[0m\n\u001b[0m",
      "\u001b[0;31mIndexError\u001b[0m: index 5 is out of bounds for dimension 0 with size 4"
     ]
    }
   ],
   "source": [
    "state.torch()[5]"
   ]
  },
  {
   "cell_type": "code",
   "execution_count": 12,
   "id": "governmental-assumption",
   "metadata": {},
   "outputs": [],
   "source": [
    "_default_conv_sizes = [(4, 32, 8, 4),\n",
    "                       (32, 64, 4, 2),\n",
    "                       (64, 64, 3, 1)]\n",
    "\n",
    "\n",
    "_default_feature_size = 3136\n",
    "hidden_size = 1024"
   ]
  },
  {
   "cell_type": "code",
   "execution_count": 13,
   "id": "married-michigan",
   "metadata": {},
   "outputs": [
    {
     "ename": "NameError",
     "evalue": "name 'x' is not defined",
     "output_type": "error",
     "traceback": [
      "\u001b[0;31m---------------------------------------------------------------------------\u001b[0m",
      "\u001b[0;31mNameError\u001b[0m                                 Traceback (most recent call last)",
      "\u001b[0;32m<ipython-input-13-6fcf9dfbd479>\u001b[0m in \u001b[0;36m<module>\u001b[0;34m\u001b[0m\n\u001b[0;32m----> 1\u001b[0;31m \u001b[0mx\u001b[0m\u001b[0;34m\u001b[0m\u001b[0;34m\u001b[0m\u001b[0m\n\u001b[0m",
      "\u001b[0;31mNameError\u001b[0m: name 'x' is not defined"
     ]
    }
   ],
   "source": [
    "x"
   ]
  },
  {
   "cell_type": "code",
   "execution_count": 14,
   "id": "blessed-space",
   "metadata": {},
   "outputs": [],
   "source": [
    "class NeuralNetwork(nn.Module):\n",
    "    def __init__(self):\n",
    "        super(NeuralNetwork, self).__init__()\n",
    "        self.flatten = nn.Flatten()\n",
    "        self.linear_relu_stack = nn.Sequential(\n",
    "            nn.Linear(28*28, 512),\n",
    "            nn.ReLU(),\n",
    "            nn.Linear(512, 512),\n",
    "            nn.ReLU(),\n",
    "            nn.Linear(512, 10),\n",
    "            nn.ReLU()\n",
    "        )\n",
    "\n",
    "    def forward(self, x):\n",
    "        x = self.flatten(x)\n",
    "        logits = self.linear_relu_stack(x)\n",
    "        return logits"
   ]
  },
  {
   "cell_type": "code",
   "execution_count": 15,
   "id": "weighted-garbage",
   "metadata": {},
   "outputs": [
    {
     "ename": "NameError",
     "evalue": "name 'torch' is not defined",
     "output_type": "error",
     "traceback": [
      "\u001b[0;31m---------------------------------------------------------------------------\u001b[0m",
      "\u001b[0;31mNameError\u001b[0m                                 Traceback (most recent call last)",
      "\u001b[0;32m<ipython-input-15-7a4c524dba1b>\u001b[0m in \u001b[0;36m<module>\u001b[0;34m\u001b[0m\n\u001b[0;32m----> 1\u001b[0;31m \u001b[0mdevice\u001b[0m \u001b[0;34m=\u001b[0m \u001b[0;34m'cuda'\u001b[0m \u001b[0;32mif\u001b[0m \u001b[0mtorch\u001b[0m\u001b[0;34m.\u001b[0m\u001b[0mcuda\u001b[0m\u001b[0;34m.\u001b[0m\u001b[0mis_available\u001b[0m\u001b[0;34m(\u001b[0m\u001b[0;34m)\u001b[0m \u001b[0;32melse\u001b[0m \u001b[0;34m'cpu'\u001b[0m\u001b[0;34m\u001b[0m\u001b[0;34m\u001b[0m\u001b[0m\n\u001b[0m\u001b[1;32m      2\u001b[0m \u001b[0mprint\u001b[0m\u001b[0;34m(\u001b[0m\u001b[0;34m'Using {} device'\u001b[0m\u001b[0;34m.\u001b[0m\u001b[0mformat\u001b[0m\u001b[0;34m(\u001b[0m\u001b[0mdevice\u001b[0m\u001b[0;34m)\u001b[0m\u001b[0;34m)\u001b[0m\u001b[0;34m\u001b[0m\u001b[0;34m\u001b[0m\u001b[0m\n",
      "\u001b[0;31mNameError\u001b[0m: name 'torch' is not defined"
     ]
    }
   ],
   "source": [
    "device = 'cuda' if torch.cuda.is_available() else 'cpu'\n",
    "print('Using {} device'.format(device))"
   ]
  },
  {
   "cell_type": "code",
   "execution_count": 16,
   "id": "several-italian",
   "metadata": {},
   "outputs": [
    {
     "ename": "NameError",
     "evalue": "name 'device' is not defined",
     "output_type": "error",
     "traceback": [
      "\u001b[0;31m---------------------------------------------------------------------------\u001b[0m",
      "\u001b[0;31mNameError\u001b[0m                                 Traceback (most recent call last)",
      "\u001b[0;32m<ipython-input-16-0fdd06b42e7c>\u001b[0m in \u001b[0;36m<module>\u001b[0;34m\u001b[0m\n\u001b[0;32m----> 1\u001b[0;31m \u001b[0mmodel\u001b[0m \u001b[0;34m=\u001b[0m \u001b[0mNeuralNetwork\u001b[0m\u001b[0;34m(\u001b[0m\u001b[0;34m)\u001b[0m\u001b[0;34m.\u001b[0m\u001b[0mto\u001b[0m\u001b[0;34m(\u001b[0m\u001b[0mdevice\u001b[0m\u001b[0;34m)\u001b[0m\u001b[0;34m\u001b[0m\u001b[0;34m\u001b[0m\u001b[0m\n\u001b[0m\u001b[1;32m      2\u001b[0m \u001b[0mprint\u001b[0m\u001b[0;34m(\u001b[0m\u001b[0mmodel\u001b[0m\u001b[0;34m)\u001b[0m\u001b[0;34m\u001b[0m\u001b[0;34m\u001b[0m\u001b[0m\n",
      "\u001b[0;31mNameError\u001b[0m: name 'device' is not defined"
     ]
    }
   ],
   "source": [
    "model = NeuralNetwork().to(device)\n",
    "print(model)"
   ]
  },
  {
   "cell_type": "code",
   "execution_count": 17,
   "id": "decent-knowing",
   "metadata": {},
   "outputs": [
    {
     "ename": "NameError",
     "evalue": "name 'torch' is not defined",
     "output_type": "error",
     "traceback": [
      "\u001b[0;31m---------------------------------------------------------------------------\u001b[0m",
      "\u001b[0;31mNameError\u001b[0m                                 Traceback (most recent call last)",
      "\u001b[0;32m<ipython-input-17-ab41a6c8dffa>\u001b[0m in \u001b[0;36m<module>\u001b[0;34m\u001b[0m\n\u001b[0;32m----> 1\u001b[0;31m \u001b[0mX\u001b[0m \u001b[0;34m=\u001b[0m \u001b[0mtorch\u001b[0m\u001b[0;34m.\u001b[0m\u001b[0mrand\u001b[0m\u001b[0;34m(\u001b[0m\u001b[0;36m1\u001b[0m\u001b[0;34m,\u001b[0m \u001b[0;36m28\u001b[0m\u001b[0;34m,\u001b[0m \u001b[0;36m28\u001b[0m\u001b[0;34m,\u001b[0m \u001b[0mdevice\u001b[0m\u001b[0;34m=\u001b[0m\u001b[0mdevice\u001b[0m\u001b[0;34m)\u001b[0m\u001b[0;34m\u001b[0m\u001b[0;34m\u001b[0m\u001b[0m\n\u001b[0m\u001b[1;32m      2\u001b[0m \u001b[0mlogits\u001b[0m \u001b[0;34m=\u001b[0m \u001b[0mmodel\u001b[0m\u001b[0;34m(\u001b[0m\u001b[0mX\u001b[0m\u001b[0;34m)\u001b[0m\u001b[0;34m\u001b[0m\u001b[0;34m\u001b[0m\u001b[0m\n\u001b[1;32m      3\u001b[0m \u001b[0mpred_probab\u001b[0m \u001b[0;34m=\u001b[0m \u001b[0mnn\u001b[0m\u001b[0;34m.\u001b[0m\u001b[0mSoftmax\u001b[0m\u001b[0;34m(\u001b[0m\u001b[0mdim\u001b[0m\u001b[0;34m=\u001b[0m\u001b[0;36m1\u001b[0m\u001b[0;34m)\u001b[0m\u001b[0;34m(\u001b[0m\u001b[0mlogits\u001b[0m\u001b[0;34m)\u001b[0m\u001b[0;34m\u001b[0m\u001b[0;34m\u001b[0m\u001b[0m\n\u001b[1;32m      4\u001b[0m \u001b[0my_pred\u001b[0m \u001b[0;34m=\u001b[0m \u001b[0mpred_probab\u001b[0m\u001b[0;34m.\u001b[0m\u001b[0margmax\u001b[0m\u001b[0;34m(\u001b[0m\u001b[0;36m1\u001b[0m\u001b[0;34m)\u001b[0m\u001b[0;34m\u001b[0m\u001b[0;34m\u001b[0m\u001b[0m\n\u001b[1;32m      5\u001b[0m \u001b[0mprint\u001b[0m\u001b[0;34m(\u001b[0m\u001b[0;34mf\"Predicted class: {y_pred}\"\u001b[0m\u001b[0;34m)\u001b[0m\u001b[0;34m\u001b[0m\u001b[0;34m\u001b[0m\u001b[0m\n",
      "\u001b[0;31mNameError\u001b[0m: name 'torch' is not defined"
     ]
    }
   ],
   "source": [
    "X = torch.rand(1, 28, 28, device=device)\n",
    "logits = model(X)\n",
    "pred_probab = nn.Softmax(dim=1)(logits)\n",
    "y_pred = pred_probab.argmax(1)\n",
    "print(f\"Predicted class: {y_pred}\")"
   ]
  },
  {
   "cell_type": "code",
   "execution_count": 18,
   "id": "sunset-concert",
   "metadata": {},
   "outputs": [
    {
     "ename": "NameError",
     "evalue": "name 'logits' is not defined",
     "output_type": "error",
     "traceback": [
      "\u001b[0;31m---------------------------------------------------------------------------\u001b[0m",
      "\u001b[0;31mNameError\u001b[0m                                 Traceback (most recent call last)",
      "\u001b[0;32m<ipython-input-18-2e9d74249473>\u001b[0m in \u001b[0;36m<module>\u001b[0;34m\u001b[0m\n\u001b[0;32m----> 1\u001b[0;31m \u001b[0mlogits\u001b[0m\u001b[0;34m\u001b[0m\u001b[0;34m\u001b[0m\u001b[0m\n\u001b[0m",
      "\u001b[0;31mNameError\u001b[0m: name 'logits' is not defined"
     ]
    }
   ],
   "source": [
    "logits"
   ]
  },
  {
   "cell_type": "code",
   "execution_count": 19,
   "id": "victorian-divorce",
   "metadata": {},
   "outputs": [
    {
     "ename": "NameError",
     "evalue": "name 'pred_probab' is not defined",
     "output_type": "error",
     "traceback": [
      "\u001b[0;31m---------------------------------------------------------------------------\u001b[0m",
      "\u001b[0;31mNameError\u001b[0m                                 Traceback (most recent call last)",
      "\u001b[0;32m<ipython-input-19-e8db5c6bfccb>\u001b[0m in \u001b[0;36m<module>\u001b[0;34m\u001b[0m\n\u001b[0;32m----> 1\u001b[0;31m \u001b[0mpred_probab\u001b[0m\u001b[0;34m\u001b[0m\u001b[0;34m\u001b[0m\u001b[0m\n\u001b[0m",
      "\u001b[0;31mNameError\u001b[0m: name 'pred_probab' is not defined"
     ]
    }
   ],
   "source": [
    "pred_probab"
   ]
  },
  {
   "cell_type": "code",
   "execution_count": 20,
   "id": "incorrect-johnston",
   "metadata": {},
   "outputs": [],
   "source": [
    "from collections import OrderedDict\n",
    "\n",
    "from torch import nn\n",
    "def flatten(x):\n",
    "    return x.view(x.size()[0], -1)\n",
    "\n",
    "\n",
    "class FlattenModule(nn.Module):\n",
    "    def forward(self, input):\n",
    "        return flatten(input)\n",
    "\n",
    "\n",
    "class ConvRelu(nn.Sequential):\n",
    "    def __init__(self, conv_sizes):\n",
    "        layers = OrderedDict()\n",
    "\n",
    "        for i, conv_size in enumerate(conv_sizes):\n",
    "            layers[f'conv{i}'] = nn.Conv2d(*conv_size)\n",
    "            layers[f'relu{i}'] = nn.ReLU()\n",
    "\n",
    "        layers['flatten'] = FlattenModule()\n",
    "        super().__init__(layers)\n",
    "\n",
    "\n",
    "class LinearRelu(nn.Sequential):\n",
    "    def __init__(self, layer_sizes):\n",
    "        layers = OrderedDict()\n",
    "\n",
    "        input_size = layer_sizes[0]\n",
    "        for i, layer_size in enumerate(layer_sizes[1:]):\n",
    "            layers[f'lin{i}'] = nn.Linear(input_size, layer_size)\n",
    "            layers[f'relu{i}'] = nn.ReLU()\n",
    "            input_size = layer_size\n",
    "\n",
    "        super().__init__(layers)\n",
    "        \n",
    "        \n",
    "def init_weights_xavier(model):\n",
    "    for p_name, p_tensor in model.named_parameters():\n",
    "        if '.weight' in p_name:\n",
    "            nn.init.xavier_uniform_(p_tensor)\n",
    "            \n",
    "\n",
    "class CloneMixin:\n",
    "    def clone(self):\n",
    "        # noinspection PyArgumentList\n",
    "        clone = self.__class__(*self.__args__)\n",
    "        clone.load_state_dict(self.state_dict())\n",
    "        return clone\n",
    "\n",
    "class Q(nn.Module, CloneMixin):\n",
    "    def __init__(self, action_size, hidden_size, bias_out):\n",
    "        super().__init__()\n",
    "        self.__args__ = (action_size, hidden_size, bias_out)\n",
    "\n",
    "        self.featuriser = ConvRelu(_default_conv_sizes)\n",
    "        self.post_featuriser = LinearRelu([_default_feature_size, hidden_size])\n",
    "        self.linear = nn.Linear(hidden_size, action_size, bias=bias_out)\n",
    "\n",
    "        init_weights_xavier(self)\n",
    "\n",
    "    def forward(self, x):\n",
    "        hidden = self.featuriser(x)\n",
    "        embedding = self.post_featuriser(hidden)\n",
    "        return self.linear(embedding)\n",
    "\n",
    "    def q_fn(self, *, state=None, state_embedding=None):\n",
    "        if state is not None:\n",
    "            state_embedding = self.global_embedding(state=state)\n",
    "        return self.linear(state_embedding)\n",
    "\n",
    "    def global_embedding(self, *, state=None, state_features=None):\n",
    "        if state is not None:\n",
    "            state_features = self.featuriser(state)\n",
    "        return self.post_featuriser(state_features)\n",
    "\n",
    "    def get_global_embedding_dim(self):\n",
    "        return self.post_featuriser.out_features"
   ]
  },
  {
   "cell_type": "code",
   "execution_count": 53,
   "id": "buried-dream",
   "metadata": {},
   "outputs": [
    {
     "data": {
      "text/plain": [
       "Discrete(4)"
      ]
     },
     "execution_count": 53,
     "metadata": {},
     "output_type": "execute_result"
    }
   ],
   "source": [
    "env.action_space"
   ]
  },
  {
   "cell_type": "code",
   "execution_count": 55,
   "id": "serial-seeking",
   "metadata": {},
   "outputs": [
    {
     "data": {
      "text/plain": [
       "84"
      ]
     },
     "execution_count": 55,
     "metadata": {},
     "output_type": "execute_result"
    }
   ],
   "source": [
    "env.observation_space.shape[0]"
   ]
  },
  {
   "cell_type": "code",
   "execution_count": 29,
   "id": "offensive-hybrid",
   "metadata": {},
   "outputs": [],
   "source": [
    "q_fn = Q(6,1024,False)"
   ]
  },
  {
   "cell_type": "code",
   "execution_count": 51,
   "id": "popular-botswana",
   "metadata": {},
   "outputs": [
    {
     "data": {
      "text/plain": [
       "Q(\n",
       "  (featuriser): ConvRelu(\n",
       "    (conv0): Conv2d(4, 32, kernel_size=(8, 8), stride=(4, 4))\n",
       "    (relu0): ReLU()\n",
       "    (conv1): Conv2d(32, 64, kernel_size=(4, 4), stride=(2, 2))\n",
       "    (relu1): ReLU()\n",
       "    (conv2): Conv2d(64, 64, kernel_size=(3, 3), stride=(1, 1))\n",
       "    (relu2): ReLU()\n",
       "    (flatten): FlattenModule()\n",
       "  )\n",
       "  (post_featuriser): LinearRelu(\n",
       "    (lin0): Linear(in_features=3136, out_features=1024, bias=True)\n",
       "    (relu0): ReLU()\n",
       "  )\n",
       "  (linear): Linear(in_features=1024, out_features=6, bias=False)\n",
       ")"
      ]
     },
     "execution_count": 51,
     "metadata": {},
     "output_type": "execute_result"
    }
   ],
   "source": [
    "q_fn"
   ]
  },
  {
   "cell_type": "code",
   "execution_count": 36,
   "id": "grand-flash",
   "metadata": {},
   "outputs": [],
   "source": [
    "state, ep_reward, terminal = env.reset(), 0, False"
   ]
  },
  {
   "cell_type": "code",
   "execution_count": 38,
   "id": "widespread-baker",
   "metadata": {},
   "outputs": [
    {
     "data": {
      "text/plain": [
       "tensor([[[0.2039, 0.2039, 0.2039,  ..., 0.3412, 0.3412, 0.3412],\n",
       "         [0.3412, 0.3412, 0.3412,  ..., 0.3412, 0.3412, 0.3412],\n",
       "         [0.3412, 0.3412, 0.3412,  ..., 0.3412, 0.3412, 0.3412],\n",
       "         ...,\n",
       "         [0.9255, 0.9255, 0.9255,  ..., 0.9255, 0.9255, 0.9255],\n",
       "         [0.9255, 0.9255, 0.9255,  ..., 0.9255, 0.9255, 0.9255],\n",
       "         [0.9255, 0.9255, 0.9255,  ..., 0.9255, 0.9255, 0.9255]],\n",
       "\n",
       "        [[0.2039, 0.2039, 0.2039,  ..., 0.3412, 0.3412, 0.3412],\n",
       "         [0.3412, 0.3412, 0.3412,  ..., 0.3412, 0.3412, 0.3412],\n",
       "         [0.3412, 0.3412, 0.3412,  ..., 0.3412, 0.3412, 0.3412],\n",
       "         ...,\n",
       "         [0.9255, 0.9255, 0.9255,  ..., 0.9255, 0.9255, 0.9255],\n",
       "         [0.9255, 0.9255, 0.9255,  ..., 0.9255, 0.9255, 0.9255],\n",
       "         [0.9255, 0.9255, 0.9255,  ..., 0.9255, 0.9255, 0.9255]],\n",
       "\n",
       "        [[0.2039, 0.2039, 0.2039,  ..., 0.3412, 0.3412, 0.3412],\n",
       "         [0.3412, 0.3412, 0.3412,  ..., 0.3412, 0.3412, 0.3412],\n",
       "         [0.3412, 0.3412, 0.3412,  ..., 0.3412, 0.3412, 0.3412],\n",
       "         ...,\n",
       "         [0.9255, 0.9255, 0.9255,  ..., 0.9255, 0.9255, 0.9255],\n",
       "         [0.9255, 0.9255, 0.9255,  ..., 0.9255, 0.9255, 0.9255],\n",
       "         [0.9255, 0.9255, 0.9255,  ..., 0.9255, 0.9255, 0.9255]],\n",
       "\n",
       "        [[0.2039, 0.2039, 0.2039,  ..., 0.3412, 0.3412, 0.3412],\n",
       "         [0.3412, 0.3412, 0.3412,  ..., 0.3412, 0.3412, 0.3412],\n",
       "         [0.3412, 0.3412, 0.3412,  ..., 0.3412, 0.3412, 0.3412],\n",
       "         ...,\n",
       "         [0.9255, 0.9255, 0.9255,  ..., 0.9255, 0.9255, 0.9255],\n",
       "         [0.9255, 0.9255, 0.9255,  ..., 0.9255, 0.9255, 0.9255],\n",
       "         [0.9255, 0.9255, 0.9255,  ..., 0.9255, 0.9255, 0.9255]]])"
      ]
     },
     "execution_count": 38,
     "metadata": {},
     "output_type": "execute_result"
    }
   ],
   "source": [
    "state.torch()"
   ]
  },
  {
   "cell_type": "code",
   "execution_count": 40,
   "id": "complete-consortium",
   "metadata": {},
   "outputs": [
    {
     "data": {
      "text/plain": [
       "7056"
      ]
     },
     "execution_count": 40,
     "metadata": {},
     "output_type": "execute_result"
    }
   ],
   "source": [
    "84*84"
   ]
  },
  {
   "cell_type": "code",
   "execution_count": 41,
   "id": "public-marina",
   "metadata": {},
   "outputs": [],
   "source": [
    "env = make_atari('PongNoFrameskip-v4')"
   ]
  },
  {
   "cell_type": "code",
   "execution_count": 42,
   "id": "sublime-following",
   "metadata": {},
   "outputs": [
    {
     "data": {
      "text/plain": [
       "6"
      ]
     },
     "execution_count": 42,
     "metadata": {},
     "output_type": "execute_result"
    }
   ],
   "source": [
    "env.action_space.n"
   ]
  },
  {
   "cell_type": "code",
   "execution_count": 43,
   "id": "worse-helicopter",
   "metadata": {},
   "outputs": [],
   "source": [
    "state = env.reset()"
   ]
  },
  {
   "cell_type": "code",
   "execution_count": 99,
   "id": "expanded-sample",
   "metadata": {},
   "outputs": [
    {
     "ename": "AttributeError",
     "evalue": "'numpy.ndarray' object has no attribute 'torch'",
     "output_type": "error",
     "traceback": [
      "\u001b[0;31m---------------------------------------------------------------------------\u001b[0m",
      "\u001b[0;31mAttributeError\u001b[0m                            Traceback (most recent call last)",
      "\u001b[0;32m<ipython-input-99-ab66de471b2c>\u001b[0m in \u001b[0;36m<module>\u001b[0;34m\u001b[0m\n\u001b[0;32m----> 1\u001b[0;31m \u001b[0mstate\u001b[0m\u001b[0;34m.\u001b[0m\u001b[0mtorch\u001b[0m\u001b[0;34m(\u001b[0m\u001b[0;34m)\u001b[0m\u001b[0;34m\u001b[0m\u001b[0;34m\u001b[0m\u001b[0m\n\u001b[0m",
      "\u001b[0;31mAttributeError\u001b[0m: 'numpy.ndarray' object has no attribute 'torch'"
     ]
    }
   ],
   "source": [
    "state.torch()"
   ]
  },
  {
   "cell_type": "code",
   "execution_count": 100,
   "id": "least-start",
   "metadata": {},
   "outputs": [],
   "source": [
    "model = nn.Sequential(\n",
    "          nn.Conv2d(4,20,5),\n",
    "          nn.ReLU(),\n",
    "          nn.Conv2d(20,64,5),\n",
    "          nn.ReLU()\n",
    "        )"
   ]
  },
  {
   "cell_type": "code",
   "execution_count": 101,
   "id": "classical-marsh",
   "metadata": {},
   "outputs": [
    {
     "ename": "AttributeError",
     "evalue": "'numpy.ndarray' object has no attribute 'torch'",
     "output_type": "error",
     "traceback": [
      "\u001b[0;31m---------------------------------------------------------------------------\u001b[0m",
      "\u001b[0;31mAttributeError\u001b[0m                            Traceback (most recent call last)",
      "\u001b[0;32m<ipython-input-101-43a82634c015>\u001b[0m in \u001b[0;36m<module>\u001b[0;34m\u001b[0m\n\u001b[0;32m----> 1\u001b[0;31m \u001b[0mmodel\u001b[0m\u001b[0;34m(\u001b[0m\u001b[0mstate\u001b[0m\u001b[0;34m.\u001b[0m\u001b[0mtorch\u001b[0m\u001b[0;34m(\u001b[0m\u001b[0;34m)\u001b[0m\u001b[0;34m)\u001b[0m\u001b[0;34m\u001b[0m\u001b[0;34m\u001b[0m\u001b[0m\n\u001b[0m",
      "\u001b[0;31mAttributeError\u001b[0m: 'numpy.ndarray' object has no attribute 'torch'"
     ]
    }
   ],
   "source": [
    "model(state.torch())"
   ]
  },
  {
   "cell_type": "code",
   "execution_count": 64,
   "id": "clear-calculator",
   "metadata": {},
   "outputs": [
    {
     "data": {
      "text/plain": [
       "torch.Size([4, 84, 84])"
      ]
     },
     "execution_count": 64,
     "metadata": {},
     "output_type": "execute_result"
    }
   ],
   "source": [
    "state.torch().shape"
   ]
  },
  {
   "cell_type": "code",
   "execution_count": 114,
   "id": "tough-palestinian",
   "metadata": {},
   "outputs": [],
   "source": [
    "class Net(nn.Module):\n",
    "    def __init__(self):\n",
    "      super(Net, self).__init__()\n",
    "      self.conv1 = nn.Conv2d(1, 32, 3, 1)\n",
    "      self.conv2 = nn.Conv2d(32, 64, 3, 1)\n",
    "      self.dropout1 = nn.Dropout2d(0.25)\n",
    "      self.dropout2 = nn.Dropout2d(0.5)\n",
    "      self.fc1 = nn.Linear(9216, 128)\n",
    "      self.fc2 = nn.Linear(128, 10)\n",
    "\n",
    "    # x represents our data\n",
    "    def forward(self, x):\n",
    "      # Pass data through conv1\n",
    "      x = self.conv1(x)\n",
    "      # Use the rectified-linear activation function over x\n",
    "      x = F.relu(x)\n",
    "\n",
    "      x = self.conv2(x)\n",
    "      x = F.relu(x)\n",
    "\n",
    "      # Run max pooling over x\n",
    "      x = F.max_pool2d(x, 2)\n",
    "      # Pass data through dropout1\n",
    "      x = self.dropout1(x)\n",
    "      # Flatten x with start_dim=1\n",
    "      x = torch.flatten(x, 1)\n",
    "      # Pass data through fc1\n",
    "      x = self.fc1(x)\n",
    "      x = F.relu(x)\n",
    "      x = self.dropout2(x)\n",
    "      x = self.fc2(x)\n",
    "\n",
    "      # Apply softmax to x \n",
    "      output = F.log_softmax(x, dim=1)\n",
    "      return output"
   ]
  },
  {
   "cell_type": "code",
   "execution_count": null,
   "id": "atlantic-empty",
   "metadata": {},
   "outputs": [],
   "source": []
  },
  {
   "cell_type": "code",
   "execution_count": null,
   "id": "perfect-dining",
   "metadata": {},
   "outputs": [],
   "source": [
    "model = nn.Sequential(\n",
    "          nn.Conv2d(4,20,5),\n",
    "          nn.ReLU(),\n",
    "          nn.Conv2d(20,64,5),\n",
    "          nn.ReLU()\n",
    "        )"
   ]
  },
  {
   "cell_type": "code",
   "execution_count": 77,
   "id": "civic-thing",
   "metadata": {},
   "outputs": [
    {
     "name": "stdout",
     "output_type": "stream",
     "text": [
      "Downloading https://www.cs.toronto.edu/~kriz/cifar-10-python.tar.gz to ./data/cifar-10-python.tar.gz\n"
     ]
    },
    {
     "name": "stderr",
     "output_type": "stream",
     "text": [
      "Exception ignored in: <function tqdm.__del__ at 0x7f9363360040>\n",
      "Traceback (most recent call last):\n",
      "  File \"/Users/mbbssnw3/anaconda3/envs/sc/lib/python3.8/site-packages/tqdm/std.py\", line 1145, in __del__\n",
      "    self.close()\n",
      "  File \"/Users/mbbssnw3/anaconda3/envs/sc/lib/python3.8/site-packages/tqdm/notebook.py\", line 275, in close\n",
      "    self.disp(bar_style='danger')\n",
      "AttributeError: 'tqdm' object has no attribute 'disp'\n",
      "Exception ignored in: <function tqdm.__del__ at 0x7f9363360040>\n",
      "Traceback (most recent call last):\n",
      "  File \"/Users/mbbssnw3/anaconda3/envs/sc/lib/python3.8/site-packages/tqdm/std.py\", line 1145, in __del__\n",
      "    self.close()\n",
      "  File \"/Users/mbbssnw3/anaconda3/envs/sc/lib/python3.8/site-packages/tqdm/notebook.py\", line 275, in close\n",
      "    self.disp(bar_style='danger')\n",
      "AttributeError: 'tqdm' object has no attribute 'disp'\n"
     ]
    },
    {
     "ename": "ImportError",
     "evalue": "IProgress not found. Please update jupyter and ipywidgets. See https://ipywidgets.readthedocs.io/en/stable/user_install.html",
     "output_type": "error",
     "traceback": [
      "\u001b[0;31m---------------------------------------------------------------------------\u001b[0m",
      "\u001b[0;31mImportError\u001b[0m                               Traceback (most recent call last)",
      "\u001b[0;32m<ipython-input-77-56643b3b3743>\u001b[0m in \u001b[0;36m<module>\u001b[0;34m\u001b[0m\n\u001b[1;32m      3\u001b[0m     [transforms.ToTensor(),\n\u001b[1;32m      4\u001b[0m      transforms.Normalize((0.5, 0.5, 0.5), (0.5, 0.5, 0.5))])\n\u001b[0;32m----> 5\u001b[0;31m trainset = torchvision.datasets.CIFAR10(root='./data', train=True,\n\u001b[0m\u001b[1;32m      6\u001b[0m                                         download=True, transform=transform)\n",
      "\u001b[0;32m~/anaconda3/envs/sc/lib/python3.8/site-packages/torchvision/datasets/cifar.py\u001b[0m in \u001b[0;36m__init__\u001b[0;34m(self, root, train, transform, target_transform, download)\u001b[0m\n\u001b[1;32m     63\u001b[0m \u001b[0;34m\u001b[0m\u001b[0m\n\u001b[1;32m     64\u001b[0m         \u001b[0;32mif\u001b[0m \u001b[0mdownload\u001b[0m\u001b[0;34m:\u001b[0m\u001b[0;34m\u001b[0m\u001b[0;34m\u001b[0m\u001b[0m\n\u001b[0;32m---> 65\u001b[0;31m             \u001b[0mself\u001b[0m\u001b[0;34m.\u001b[0m\u001b[0mdownload\u001b[0m\u001b[0;34m(\u001b[0m\u001b[0;34m)\u001b[0m\u001b[0;34m\u001b[0m\u001b[0;34m\u001b[0m\u001b[0m\n\u001b[0m\u001b[1;32m     66\u001b[0m \u001b[0;34m\u001b[0m\u001b[0m\n\u001b[1;32m     67\u001b[0m         \u001b[0;32mif\u001b[0m \u001b[0;32mnot\u001b[0m \u001b[0mself\u001b[0m\u001b[0;34m.\u001b[0m\u001b[0m_check_integrity\u001b[0m\u001b[0;34m(\u001b[0m\u001b[0;34m)\u001b[0m\u001b[0;34m:\u001b[0m\u001b[0;34m\u001b[0m\u001b[0;34m\u001b[0m\u001b[0m\n",
      "\u001b[0;32m~/anaconda3/envs/sc/lib/python3.8/site-packages/torchvision/datasets/cifar.py\u001b[0m in \u001b[0;36mdownload\u001b[0;34m(self)\u001b[0m\n\u001b[1;32m    141\u001b[0m             \u001b[0mprint\u001b[0m\u001b[0;34m(\u001b[0m\u001b[0;34m'Files already downloaded and verified'\u001b[0m\u001b[0;34m)\u001b[0m\u001b[0;34m\u001b[0m\u001b[0;34m\u001b[0m\u001b[0m\n\u001b[1;32m    142\u001b[0m             \u001b[0;32mreturn\u001b[0m\u001b[0;34m\u001b[0m\u001b[0;34m\u001b[0m\u001b[0m\n\u001b[0;32m--> 143\u001b[0;31m         \u001b[0mdownload_and_extract_archive\u001b[0m\u001b[0;34m(\u001b[0m\u001b[0mself\u001b[0m\u001b[0;34m.\u001b[0m\u001b[0murl\u001b[0m\u001b[0;34m,\u001b[0m \u001b[0mself\u001b[0m\u001b[0;34m.\u001b[0m\u001b[0mroot\u001b[0m\u001b[0;34m,\u001b[0m \u001b[0mfilename\u001b[0m\u001b[0;34m=\u001b[0m\u001b[0mself\u001b[0m\u001b[0;34m.\u001b[0m\u001b[0mfilename\u001b[0m\u001b[0;34m,\u001b[0m \u001b[0mmd5\u001b[0m\u001b[0;34m=\u001b[0m\u001b[0mself\u001b[0m\u001b[0;34m.\u001b[0m\u001b[0mtgz_md5\u001b[0m\u001b[0;34m)\u001b[0m\u001b[0;34m\u001b[0m\u001b[0;34m\u001b[0m\u001b[0m\n\u001b[0m\u001b[1;32m    144\u001b[0m \u001b[0;34m\u001b[0m\u001b[0m\n\u001b[1;32m    145\u001b[0m     \u001b[0;32mdef\u001b[0m \u001b[0mextra_repr\u001b[0m\u001b[0;34m(\u001b[0m\u001b[0mself\u001b[0m\u001b[0;34m)\u001b[0m \u001b[0;34m->\u001b[0m \u001b[0mstr\u001b[0m\u001b[0;34m:\u001b[0m\u001b[0;34m\u001b[0m\u001b[0;34m\u001b[0m\u001b[0m\n",
      "\u001b[0;32m~/anaconda3/envs/sc/lib/python3.8/site-packages/torchvision/datasets/utils.py\u001b[0m in \u001b[0;36mdownload_and_extract_archive\u001b[0;34m(url, download_root, extract_root, filename, md5, remove_finished)\u001b[0m\n\u001b[1;32m    314\u001b[0m         \u001b[0mfilename\u001b[0m \u001b[0;34m=\u001b[0m \u001b[0mos\u001b[0m\u001b[0;34m.\u001b[0m\u001b[0mpath\u001b[0m\u001b[0;34m.\u001b[0m\u001b[0mbasename\u001b[0m\u001b[0;34m(\u001b[0m\u001b[0murl\u001b[0m\u001b[0;34m)\u001b[0m\u001b[0;34m\u001b[0m\u001b[0;34m\u001b[0m\u001b[0m\n\u001b[1;32m    315\u001b[0m \u001b[0;34m\u001b[0m\u001b[0m\n\u001b[0;32m--> 316\u001b[0;31m     \u001b[0mdownload_url\u001b[0m\u001b[0;34m(\u001b[0m\u001b[0murl\u001b[0m\u001b[0;34m,\u001b[0m \u001b[0mdownload_root\u001b[0m\u001b[0;34m,\u001b[0m \u001b[0mfilename\u001b[0m\u001b[0;34m,\u001b[0m \u001b[0mmd5\u001b[0m\u001b[0;34m)\u001b[0m\u001b[0;34m\u001b[0m\u001b[0;34m\u001b[0m\u001b[0m\n\u001b[0m\u001b[1;32m    317\u001b[0m \u001b[0;34m\u001b[0m\u001b[0m\n\u001b[1;32m    318\u001b[0m     \u001b[0marchive\u001b[0m \u001b[0;34m=\u001b[0m \u001b[0mos\u001b[0m\u001b[0;34m.\u001b[0m\u001b[0mpath\u001b[0m\u001b[0;34m.\u001b[0m\u001b[0mjoin\u001b[0m\u001b[0;34m(\u001b[0m\u001b[0mdownload_root\u001b[0m\u001b[0;34m,\u001b[0m \u001b[0mfilename\u001b[0m\u001b[0;34m)\u001b[0m\u001b[0;34m\u001b[0m\u001b[0;34m\u001b[0m\u001b[0m\n",
      "\u001b[0;32m~/anaconda3/envs/sc/lib/python3.8/site-packages/torchvision/datasets/utils.py\u001b[0m in \u001b[0;36mdownload_url\u001b[0;34m(url, root, filename, md5, max_redirect_hops)\u001b[0m\n\u001b[1;32m    132\u001b[0m     \u001b[0;32mtry\u001b[0m\u001b[0;34m:\u001b[0m\u001b[0;34m\u001b[0m\u001b[0;34m\u001b[0m\u001b[0m\n\u001b[1;32m    133\u001b[0m         \u001b[0mprint\u001b[0m\u001b[0;34m(\u001b[0m\u001b[0;34m'Downloading '\u001b[0m \u001b[0;34m+\u001b[0m \u001b[0murl\u001b[0m \u001b[0;34m+\u001b[0m \u001b[0;34m' to '\u001b[0m \u001b[0;34m+\u001b[0m \u001b[0mfpath\u001b[0m\u001b[0;34m)\u001b[0m\u001b[0;34m\u001b[0m\u001b[0;34m\u001b[0m\u001b[0m\n\u001b[0;32m--> 134\u001b[0;31m         \u001b[0m_urlretrieve\u001b[0m\u001b[0;34m(\u001b[0m\u001b[0murl\u001b[0m\u001b[0;34m,\u001b[0m \u001b[0mfpath\u001b[0m\u001b[0;34m)\u001b[0m\u001b[0;34m\u001b[0m\u001b[0;34m\u001b[0m\u001b[0m\n\u001b[0m\u001b[1;32m    135\u001b[0m     \u001b[0;32mexcept\u001b[0m \u001b[0;34m(\u001b[0m\u001b[0murllib\u001b[0m\u001b[0;34m.\u001b[0m\u001b[0merror\u001b[0m\u001b[0;34m.\u001b[0m\u001b[0mURLError\u001b[0m\u001b[0;34m,\u001b[0m \u001b[0mIOError\u001b[0m\u001b[0;34m)\u001b[0m \u001b[0;32mas\u001b[0m \u001b[0me\u001b[0m\u001b[0;34m:\u001b[0m  \u001b[0;31m# type: ignore[attr-defined]\u001b[0m\u001b[0;34m\u001b[0m\u001b[0;34m\u001b[0m\u001b[0m\n\u001b[1;32m    136\u001b[0m         \u001b[0;32mif\u001b[0m \u001b[0murl\u001b[0m\u001b[0;34m[\u001b[0m\u001b[0;34m:\u001b[0m\u001b[0;36m5\u001b[0m\u001b[0;34m]\u001b[0m \u001b[0;34m==\u001b[0m \u001b[0;34m'https'\u001b[0m\u001b[0;34m:\u001b[0m\u001b[0;34m\u001b[0m\u001b[0;34m\u001b[0m\u001b[0m\n",
      "\u001b[0;32m~/anaconda3/envs/sc/lib/python3.8/site-packages/torchvision/datasets/utils.py\u001b[0m in \u001b[0;36m_urlretrieve\u001b[0;34m(url, filename, chunk_size)\u001b[0m\n\u001b[1;32m     28\u001b[0m     \u001b[0;32mwith\u001b[0m \u001b[0mopen\u001b[0m\u001b[0;34m(\u001b[0m\u001b[0mfilename\u001b[0m\u001b[0;34m,\u001b[0m \u001b[0;34m\"wb\"\u001b[0m\u001b[0;34m)\u001b[0m \u001b[0;32mas\u001b[0m \u001b[0mfh\u001b[0m\u001b[0;34m:\u001b[0m\u001b[0;34m\u001b[0m\u001b[0;34m\u001b[0m\u001b[0m\n\u001b[1;32m     29\u001b[0m         \u001b[0;32mwith\u001b[0m \u001b[0murllib\u001b[0m\u001b[0;34m.\u001b[0m\u001b[0mrequest\u001b[0m\u001b[0;34m.\u001b[0m\u001b[0murlopen\u001b[0m\u001b[0;34m(\u001b[0m\u001b[0murllib\u001b[0m\u001b[0;34m.\u001b[0m\u001b[0mrequest\u001b[0m\u001b[0;34m.\u001b[0m\u001b[0mRequest\u001b[0m\u001b[0;34m(\u001b[0m\u001b[0murl\u001b[0m\u001b[0;34m,\u001b[0m \u001b[0mheaders\u001b[0m\u001b[0;34m=\u001b[0m\u001b[0;34m{\u001b[0m\u001b[0;34m\"User-Agent\"\u001b[0m\u001b[0;34m:\u001b[0m \u001b[0mUSER_AGENT\u001b[0m\u001b[0;34m}\u001b[0m\u001b[0;34m)\u001b[0m\u001b[0;34m)\u001b[0m \u001b[0;32mas\u001b[0m \u001b[0mresponse\u001b[0m\u001b[0;34m:\u001b[0m\u001b[0;34m\u001b[0m\u001b[0;34m\u001b[0m\u001b[0m\n\u001b[0;32m---> 30\u001b[0;31m             \u001b[0;32mwith\u001b[0m \u001b[0mtqdm\u001b[0m\u001b[0;34m(\u001b[0m\u001b[0mtotal\u001b[0m\u001b[0;34m=\u001b[0m\u001b[0mresponse\u001b[0m\u001b[0;34m.\u001b[0m\u001b[0mlength\u001b[0m\u001b[0;34m)\u001b[0m \u001b[0;32mas\u001b[0m \u001b[0mpbar\u001b[0m\u001b[0;34m:\u001b[0m\u001b[0;34m\u001b[0m\u001b[0;34m\u001b[0m\u001b[0m\n\u001b[0m\u001b[1;32m     31\u001b[0m                 \u001b[0;32mfor\u001b[0m \u001b[0mchunk\u001b[0m \u001b[0;32min\u001b[0m \u001b[0miter\u001b[0m\u001b[0;34m(\u001b[0m\u001b[0;32mlambda\u001b[0m\u001b[0;34m:\u001b[0m \u001b[0mresponse\u001b[0m\u001b[0;34m.\u001b[0m\u001b[0mread\u001b[0m\u001b[0;34m(\u001b[0m\u001b[0mchunk_size\u001b[0m\u001b[0;34m)\u001b[0m\u001b[0;34m,\u001b[0m \u001b[0;34m\"\"\u001b[0m\u001b[0;34m)\u001b[0m\u001b[0;34m:\u001b[0m\u001b[0;34m\u001b[0m\u001b[0;34m\u001b[0m\u001b[0m\n\u001b[1;32m     32\u001b[0m                     \u001b[0;32mif\u001b[0m \u001b[0;32mnot\u001b[0m \u001b[0mchunk\u001b[0m\u001b[0;34m:\u001b[0m\u001b[0;34m\u001b[0m\u001b[0;34m\u001b[0m\u001b[0m\n",
      "\u001b[0;32m~/anaconda3/envs/sc/lib/python3.8/site-packages/tqdm/notebook.py\u001b[0m in \u001b[0;36m__init__\u001b[0;34m(self, *args, **kwargs)\u001b[0m\n\u001b[1;32m    233\u001b[0m         \u001b[0munit_scale\u001b[0m \u001b[0;34m=\u001b[0m \u001b[0;36m1\u001b[0m \u001b[0;32mif\u001b[0m \u001b[0mself\u001b[0m\u001b[0;34m.\u001b[0m\u001b[0munit_scale\u001b[0m \u001b[0;32mis\u001b[0m \u001b[0;32mTrue\u001b[0m \u001b[0;32melse\u001b[0m \u001b[0mself\u001b[0m\u001b[0;34m.\u001b[0m\u001b[0munit_scale\u001b[0m \u001b[0;32mor\u001b[0m \u001b[0;36m1\u001b[0m\u001b[0;34m\u001b[0m\u001b[0;34m\u001b[0m\u001b[0m\n\u001b[1;32m    234\u001b[0m         \u001b[0mtotal\u001b[0m \u001b[0;34m=\u001b[0m \u001b[0mself\u001b[0m\u001b[0;34m.\u001b[0m\u001b[0mtotal\u001b[0m \u001b[0;34m*\u001b[0m \u001b[0munit_scale\u001b[0m \u001b[0;32mif\u001b[0m \u001b[0mself\u001b[0m\u001b[0;34m.\u001b[0m\u001b[0mtotal\u001b[0m \u001b[0;32melse\u001b[0m \u001b[0mself\u001b[0m\u001b[0;34m.\u001b[0m\u001b[0mtotal\u001b[0m\u001b[0;34m\u001b[0m\u001b[0;34m\u001b[0m\u001b[0m\n\u001b[0;32m--> 235\u001b[0;31m         \u001b[0mself\u001b[0m\u001b[0;34m.\u001b[0m\u001b[0mcontainer\u001b[0m \u001b[0;34m=\u001b[0m \u001b[0mself\u001b[0m\u001b[0;34m.\u001b[0m\u001b[0mstatus_printer\u001b[0m\u001b[0;34m(\u001b[0m\u001b[0mself\u001b[0m\u001b[0;34m.\u001b[0m\u001b[0mfp\u001b[0m\u001b[0;34m,\u001b[0m \u001b[0mtotal\u001b[0m\u001b[0;34m,\u001b[0m \u001b[0mself\u001b[0m\u001b[0;34m.\u001b[0m\u001b[0mdesc\u001b[0m\u001b[0;34m,\u001b[0m \u001b[0mself\u001b[0m\u001b[0;34m.\u001b[0m\u001b[0mncols\u001b[0m\u001b[0;34m)\u001b[0m\u001b[0;34m\u001b[0m\u001b[0;34m\u001b[0m\u001b[0m\n\u001b[0m\u001b[1;32m    236\u001b[0m         \u001b[0mself\u001b[0m\u001b[0;34m.\u001b[0m\u001b[0mcontainer\u001b[0m\u001b[0;34m.\u001b[0m\u001b[0mpbar\u001b[0m \u001b[0;34m=\u001b[0m \u001b[0mself\u001b[0m\u001b[0;34m\u001b[0m\u001b[0;34m\u001b[0m\u001b[0m\n\u001b[1;32m    237\u001b[0m         \u001b[0;32mif\u001b[0m \u001b[0mdisplay_here\u001b[0m\u001b[0;34m:\u001b[0m\u001b[0;34m\u001b[0m\u001b[0;34m\u001b[0m\u001b[0m\n",
      "\u001b[0;32m~/anaconda3/envs/sc/lib/python3.8/site-packages/tqdm/notebook.py\u001b[0m in \u001b[0;36mstatus_printer\u001b[0;34m(_, total, desc, ncols)\u001b[0m\n\u001b[1;32m    110\u001b[0m         \u001b[0;31m# Prepare IPython progress bar\u001b[0m\u001b[0;34m\u001b[0m\u001b[0;34m\u001b[0m\u001b[0;34m\u001b[0m\u001b[0m\n\u001b[1;32m    111\u001b[0m         \u001b[0;32mif\u001b[0m \u001b[0mIProgress\u001b[0m \u001b[0;32mis\u001b[0m \u001b[0;32mNone\u001b[0m\u001b[0;34m:\u001b[0m  \u001b[0;31m# #187 #451 #558 #872\u001b[0m\u001b[0;34m\u001b[0m\u001b[0;34m\u001b[0m\u001b[0m\n\u001b[0;32m--> 112\u001b[0;31m             raise ImportError(\n\u001b[0m\u001b[1;32m    113\u001b[0m                 \u001b[0;34m\"IProgress not found. Please update jupyter and ipywidgets.\"\u001b[0m\u001b[0;34m\u001b[0m\u001b[0;34m\u001b[0m\u001b[0m\n\u001b[1;32m    114\u001b[0m                 \u001b[0;34m\" See https://ipywidgets.readthedocs.io/en/stable\"\u001b[0m\u001b[0;34m\u001b[0m\u001b[0;34m\u001b[0m\u001b[0m\n",
      "\u001b[0;31mImportError\u001b[0m: IProgress not found. Please update jupyter and ipywidgets. See https://ipywidgets.readthedocs.io/en/stable/user_install.html"
     ]
    }
   ],
   "source": [
    "\n",
    "import torchvision.transforms as transforms\n",
    "transform = transforms.Compose(\n",
    "    [transforms.ToTensor(),\n",
    "     transforms.Normalize((0.5, 0.5, 0.5), (0.5, 0.5, 0.5))])\n",
    "trainset = torchvision.datasets.CIFAR10(root='./data', train=True,\n",
    "                                        download=True, transform=transform)"
   ]
  },
  {
   "cell_type": "code",
   "execution_count": 76,
   "id": "corresponding-territory",
   "metadata": {},
   "outputs": [
    {
     "ename": "ImportError",
     "evalue": "cannot import name 'IProgress' from 'ipywidgets' (/Users/mbbssnw3/anaconda3/envs/sc/lib/python3.8/site-packages/ipywidgets/__init__.py)",
     "output_type": "error",
     "traceback": [
      "\u001b[0;31m---------------------------------------------------------------------------\u001b[0m",
      "\u001b[0;31mImportError\u001b[0m                               Traceback (most recent call last)",
      "\u001b[0;32m<ipython-input-76-fae3c263e4ba>\u001b[0m in \u001b[0;36m<module>\u001b[0;34m\u001b[0m\n\u001b[0;32m----> 1\u001b[0;31m \u001b[0;32mfrom\u001b[0m \u001b[0mipywidgets\u001b[0m \u001b[0;32mimport\u001b[0m \u001b[0mIProgress\u001b[0m\u001b[0;34m\u001b[0m\u001b[0;34m\u001b[0m\u001b[0m\n\u001b[0m",
      "\u001b[0;31mImportError\u001b[0m: cannot import name 'IProgress' from 'ipywidgets' (/Users/mbbssnw3/anaconda3/envs/sc/lib/python3.8/site-packages/ipywidgets/__init__.py)"
     ]
    }
   ],
   "source": [
    "from ipywidgets import IProgress"
   ]
  },
  {
   "cell_type": "code",
   "execution_count": 78,
   "id": "typical-october",
   "metadata": {},
   "outputs": [],
   "source": [
    "class DeepQNetwork(nn.Module):\n",
    "    def __init__(self, num_frames, num_actions):\n",
    "        super(DeepQNetwork, self).__init__()\n",
    "        self.num_frames = num_frames\n",
    "        self.num_actions = num_actions\n",
    "        \n",
    "        # Layers\n",
    "        self.conv1 = nn.Conv2d(\n",
    "            in_channels=num_frames,\n",
    "            out_channels=16,\n",
    "            kernel_size=8,\n",
    "            stride=4,\n",
    "            padding=2\n",
    "            )\n",
    "        self.conv2 = nn.Conv2d(\n",
    "            in_channels=16,\n",
    "            out_channels=32,\n",
    "            kernel_size=4,\n",
    "            stride=2,\n",
    "            padding=1\n",
    "            )\n",
    "        self.fc1 = nn.Linear(\n",
    "            in_features=3200,\n",
    "            out_features=256,\n",
    "            )\n",
    "        self.fc2 = nn.Linear(\n",
    "            in_features=256,\n",
    "            out_features=num_actions,\n",
    "            )\n",
    "        \n",
    "        # Activation Functions\n",
    "        self.relu = nn.ReLU()\n",
    "    \n",
    "    def flatten(self, x):\n",
    "        batch_size = x.size()[0]\n",
    "        x = x.view(batch_size, -1)\n",
    "        return x\n",
    "    \n",
    "    def forward(self, x):\n",
    "        \n",
    "        # Forward pass\n",
    "        x = self.relu(self.conv1(x))  # In: (80, 80, 4)  Out: (20, 20, 16)\n",
    "        x = self.relu(self.conv2(x))  # In: (20, 20, 16) Out: (10, 10, 32)\n",
    "        x = self.flatten(x)           # In: (10, 10, 32) Out: (3200,)\n",
    "        x = self.relu(self.fc1(x))    # In: (3200,)      Out: (256,)\n",
    "        x = self.fc2(x)               # In: (256,)       Out: (4,)\n",
    "        \n",
    "        return x"
   ]
  },
  {
   "cell_type": "code",
   "execution_count": 81,
   "id": "cubic-japan",
   "metadata": {},
   "outputs": [
    {
     "data": {
      "text/plain": [
       "torch.Size([4, 84, 84])"
      ]
     },
     "execution_count": 81,
     "metadata": {},
     "output_type": "execute_result"
    }
   ],
   "source": [
    "state.torch()"
   ]
  },
  {
   "cell_type": "code",
   "execution_count": 83,
   "id": "governing-bible",
   "metadata": {},
   "outputs": [],
   "source": [
    "DQN = DeepQNetwork(4,6)"
   ]
  },
  {
   "cell_type": "code",
   "execution_count": 85,
   "id": "descending-sentence",
   "metadata": {},
   "outputs": [
    {
     "ename": "RuntimeError",
     "evalue": "Expected 4-dimensional input for 4-dimensional weight [16, 4, 8, 8], but got 3-dimensional input of size [4, 84, 84] instead",
     "output_type": "error",
     "traceback": [
      "\u001b[0;31m---------------------------------------------------------------------------\u001b[0m",
      "\u001b[0;31mRuntimeError\u001b[0m                              Traceback (most recent call last)",
      "\u001b[0;32m<ipython-input-85-ccf581d78b06>\u001b[0m in \u001b[0;36m<module>\u001b[0;34m\u001b[0m\n\u001b[0;32m----> 1\u001b[0;31m \u001b[0mDQN\u001b[0m\u001b[0;34m(\u001b[0m\u001b[0mstate\u001b[0m\u001b[0;34m.\u001b[0m\u001b[0mtorch\u001b[0m\u001b[0;34m(\u001b[0m\u001b[0;34m)\u001b[0m\u001b[0;34m)\u001b[0m\u001b[0;34m\u001b[0m\u001b[0;34m\u001b[0m\u001b[0m\n\u001b[0m",
      "\u001b[0;32m~/anaconda3/envs/sc/lib/python3.8/site-packages/torch/nn/modules/module.py\u001b[0m in \u001b[0;36m_call_impl\u001b[0;34m(self, *input, **kwargs)\u001b[0m\n\u001b[1;32m    887\u001b[0m             \u001b[0mresult\u001b[0m \u001b[0;34m=\u001b[0m \u001b[0mself\u001b[0m\u001b[0;34m.\u001b[0m\u001b[0m_slow_forward\u001b[0m\u001b[0;34m(\u001b[0m\u001b[0;34m*\u001b[0m\u001b[0minput\u001b[0m\u001b[0;34m,\u001b[0m \u001b[0;34m**\u001b[0m\u001b[0mkwargs\u001b[0m\u001b[0;34m)\u001b[0m\u001b[0;34m\u001b[0m\u001b[0;34m\u001b[0m\u001b[0m\n\u001b[1;32m    888\u001b[0m         \u001b[0;32melse\u001b[0m\u001b[0;34m:\u001b[0m\u001b[0;34m\u001b[0m\u001b[0;34m\u001b[0m\u001b[0m\n\u001b[0;32m--> 889\u001b[0;31m             \u001b[0mresult\u001b[0m \u001b[0;34m=\u001b[0m \u001b[0mself\u001b[0m\u001b[0;34m.\u001b[0m\u001b[0mforward\u001b[0m\u001b[0;34m(\u001b[0m\u001b[0;34m*\u001b[0m\u001b[0minput\u001b[0m\u001b[0;34m,\u001b[0m \u001b[0;34m**\u001b[0m\u001b[0mkwargs\u001b[0m\u001b[0;34m)\u001b[0m\u001b[0;34m\u001b[0m\u001b[0;34m\u001b[0m\u001b[0m\n\u001b[0m\u001b[1;32m    890\u001b[0m         for hook in itertools.chain(\n\u001b[1;32m    891\u001b[0m                 \u001b[0m_global_forward_hooks\u001b[0m\u001b[0;34m.\u001b[0m\u001b[0mvalues\u001b[0m\u001b[0;34m(\u001b[0m\u001b[0;34m)\u001b[0m\u001b[0;34m,\u001b[0m\u001b[0;34m\u001b[0m\u001b[0;34m\u001b[0m\u001b[0m\n",
      "\u001b[0;32m<ipython-input-78-f56f0163af2e>\u001b[0m in \u001b[0;36mforward\u001b[0;34m(self, x)\u001b[0m\n\u001b[1;32m     40\u001b[0m \u001b[0;34m\u001b[0m\u001b[0m\n\u001b[1;32m     41\u001b[0m         \u001b[0;31m# Forward pass\u001b[0m\u001b[0;34m\u001b[0m\u001b[0;34m\u001b[0m\u001b[0;34m\u001b[0m\u001b[0m\n\u001b[0;32m---> 42\u001b[0;31m         \u001b[0mx\u001b[0m \u001b[0;34m=\u001b[0m \u001b[0mself\u001b[0m\u001b[0;34m.\u001b[0m\u001b[0mrelu\u001b[0m\u001b[0;34m(\u001b[0m\u001b[0mself\u001b[0m\u001b[0;34m.\u001b[0m\u001b[0mconv1\u001b[0m\u001b[0;34m(\u001b[0m\u001b[0mx\u001b[0m\u001b[0;34m)\u001b[0m\u001b[0;34m)\u001b[0m  \u001b[0;31m# In: (80, 80, 4)  Out: (20, 20, 16)\u001b[0m\u001b[0;34m\u001b[0m\u001b[0;34m\u001b[0m\u001b[0m\n\u001b[0m\u001b[1;32m     43\u001b[0m         \u001b[0mx\u001b[0m \u001b[0;34m=\u001b[0m \u001b[0mself\u001b[0m\u001b[0;34m.\u001b[0m\u001b[0mrelu\u001b[0m\u001b[0;34m(\u001b[0m\u001b[0mself\u001b[0m\u001b[0;34m.\u001b[0m\u001b[0mconv2\u001b[0m\u001b[0;34m(\u001b[0m\u001b[0mx\u001b[0m\u001b[0;34m)\u001b[0m\u001b[0;34m)\u001b[0m  \u001b[0;31m# In: (20, 20, 16) Out: (10, 10, 32)\u001b[0m\u001b[0;34m\u001b[0m\u001b[0;34m\u001b[0m\u001b[0m\n\u001b[1;32m     44\u001b[0m         \u001b[0mx\u001b[0m \u001b[0;34m=\u001b[0m \u001b[0mself\u001b[0m\u001b[0;34m.\u001b[0m\u001b[0mflatten\u001b[0m\u001b[0;34m(\u001b[0m\u001b[0mx\u001b[0m\u001b[0;34m)\u001b[0m           \u001b[0;31m# In: (10, 10, 32) Out: (3200,)\u001b[0m\u001b[0;34m\u001b[0m\u001b[0;34m\u001b[0m\u001b[0m\n",
      "\u001b[0;32m~/anaconda3/envs/sc/lib/python3.8/site-packages/torch/nn/modules/module.py\u001b[0m in \u001b[0;36m_call_impl\u001b[0;34m(self, *input, **kwargs)\u001b[0m\n\u001b[1;32m    887\u001b[0m             \u001b[0mresult\u001b[0m \u001b[0;34m=\u001b[0m \u001b[0mself\u001b[0m\u001b[0;34m.\u001b[0m\u001b[0m_slow_forward\u001b[0m\u001b[0;34m(\u001b[0m\u001b[0;34m*\u001b[0m\u001b[0minput\u001b[0m\u001b[0;34m,\u001b[0m \u001b[0;34m**\u001b[0m\u001b[0mkwargs\u001b[0m\u001b[0;34m)\u001b[0m\u001b[0;34m\u001b[0m\u001b[0;34m\u001b[0m\u001b[0m\n\u001b[1;32m    888\u001b[0m         \u001b[0;32melse\u001b[0m\u001b[0;34m:\u001b[0m\u001b[0;34m\u001b[0m\u001b[0;34m\u001b[0m\u001b[0m\n\u001b[0;32m--> 889\u001b[0;31m             \u001b[0mresult\u001b[0m \u001b[0;34m=\u001b[0m \u001b[0mself\u001b[0m\u001b[0;34m.\u001b[0m\u001b[0mforward\u001b[0m\u001b[0;34m(\u001b[0m\u001b[0;34m*\u001b[0m\u001b[0minput\u001b[0m\u001b[0;34m,\u001b[0m \u001b[0;34m**\u001b[0m\u001b[0mkwargs\u001b[0m\u001b[0;34m)\u001b[0m\u001b[0;34m\u001b[0m\u001b[0;34m\u001b[0m\u001b[0m\n\u001b[0m\u001b[1;32m    890\u001b[0m         for hook in itertools.chain(\n\u001b[1;32m    891\u001b[0m                 \u001b[0m_global_forward_hooks\u001b[0m\u001b[0;34m.\u001b[0m\u001b[0mvalues\u001b[0m\u001b[0;34m(\u001b[0m\u001b[0;34m)\u001b[0m\u001b[0;34m,\u001b[0m\u001b[0;34m\u001b[0m\u001b[0;34m\u001b[0m\u001b[0m\n",
      "\u001b[0;32m~/anaconda3/envs/sc/lib/python3.8/site-packages/torch/nn/modules/conv.py\u001b[0m in \u001b[0;36mforward\u001b[0;34m(self, input)\u001b[0m\n\u001b[1;32m    397\u001b[0m \u001b[0;34m\u001b[0m\u001b[0m\n\u001b[1;32m    398\u001b[0m     \u001b[0;32mdef\u001b[0m \u001b[0mforward\u001b[0m\u001b[0;34m(\u001b[0m\u001b[0mself\u001b[0m\u001b[0;34m,\u001b[0m \u001b[0minput\u001b[0m\u001b[0;34m:\u001b[0m \u001b[0mTensor\u001b[0m\u001b[0;34m)\u001b[0m \u001b[0;34m->\u001b[0m \u001b[0mTensor\u001b[0m\u001b[0;34m:\u001b[0m\u001b[0;34m\u001b[0m\u001b[0;34m\u001b[0m\u001b[0m\n\u001b[0;32m--> 399\u001b[0;31m         \u001b[0;32mreturn\u001b[0m \u001b[0mself\u001b[0m\u001b[0;34m.\u001b[0m\u001b[0m_conv_forward\u001b[0m\u001b[0;34m(\u001b[0m\u001b[0minput\u001b[0m\u001b[0;34m,\u001b[0m \u001b[0mself\u001b[0m\u001b[0;34m.\u001b[0m\u001b[0mweight\u001b[0m\u001b[0;34m,\u001b[0m \u001b[0mself\u001b[0m\u001b[0;34m.\u001b[0m\u001b[0mbias\u001b[0m\u001b[0;34m)\u001b[0m\u001b[0;34m\u001b[0m\u001b[0;34m\u001b[0m\u001b[0m\n\u001b[0m\u001b[1;32m    400\u001b[0m \u001b[0;34m\u001b[0m\u001b[0m\n\u001b[1;32m    401\u001b[0m \u001b[0;32mclass\u001b[0m \u001b[0mConv3d\u001b[0m\u001b[0;34m(\u001b[0m\u001b[0m_ConvNd\u001b[0m\u001b[0;34m)\u001b[0m\u001b[0;34m:\u001b[0m\u001b[0;34m\u001b[0m\u001b[0;34m\u001b[0m\u001b[0m\n",
      "\u001b[0;32m~/anaconda3/envs/sc/lib/python3.8/site-packages/torch/nn/modules/conv.py\u001b[0m in \u001b[0;36m_conv_forward\u001b[0;34m(self, input, weight, bias)\u001b[0m\n\u001b[1;32m    393\u001b[0m                             \u001b[0mweight\u001b[0m\u001b[0;34m,\u001b[0m \u001b[0mbias\u001b[0m\u001b[0;34m,\u001b[0m \u001b[0mself\u001b[0m\u001b[0;34m.\u001b[0m\u001b[0mstride\u001b[0m\u001b[0;34m,\u001b[0m\u001b[0;34m\u001b[0m\u001b[0;34m\u001b[0m\u001b[0m\n\u001b[1;32m    394\u001b[0m                             _pair(0), self.dilation, self.groups)\n\u001b[0;32m--> 395\u001b[0;31m         return F.conv2d(input, weight, bias, self.stride,\n\u001b[0m\u001b[1;32m    396\u001b[0m                         self.padding, self.dilation, self.groups)\n\u001b[1;32m    397\u001b[0m \u001b[0;34m\u001b[0m\u001b[0m\n",
      "\u001b[0;31mRuntimeError\u001b[0m: Expected 4-dimensional input for 4-dimensional weight [16, 4, 8, 8], but got 3-dimensional input of size [4, 84, 84] instead"
     ]
    }
   ],
   "source": [
    "DQN(state.torch())"
   ]
  },
  {
   "cell_type": "code",
   "execution_count": 102,
   "id": "urban-segment",
   "metadata": {},
   "outputs": [],
   "source": [
    "env = gym.make('BreakoutDeterministic-v4')"
   ]
  },
  {
   "cell_type": "code",
   "execution_count": 111,
   "id": "miniature-advocacy",
   "metadata": {},
   "outputs": [
    {
     "name": "stderr",
     "output_type": "stream",
     "text": [
      "Exception ignored in: <function tqdm.__del__ at 0x7f9363360040>\n",
      "Traceback (most recent call last):\n",
      "  File \"/Users/mbbssnw3/anaconda3/envs/sc/lib/python3.8/site-packages/tqdm/std.py\", line 1145, in __del__\n",
      "    self.close()\n",
      "  File \"/Users/mbbssnw3/anaconda3/envs/sc/lib/python3.8/site-packages/tqdm/notebook.py\", line 275, in close\n",
      "    self.disp(bar_style='danger')\n",
      "AttributeError: 'tqdm' object has no attribute 'disp'\n",
      "Exception ignored in: <function tqdm.__del__ at 0x7f9363360040>\n",
      "Traceback (most recent call last):\n",
      "  File \"/Users/mbbssnw3/anaconda3/envs/sc/lib/python3.8/site-packages/tqdm/std.py\", line 1145, in __del__\n",
      "    self.close()\n",
      "  File \"/Users/mbbssnw3/anaconda3/envs/sc/lib/python3.8/site-packages/tqdm/notebook.py\", line 275, in close\n",
      "    self.disp(bar_style='danger')\n",
      "AttributeError: 'tqdm' object has no attribute 'disp'\n",
      "Exception ignored in: <function tqdm.__del__ at 0x7f9363360040>\n",
      "Traceback (most recent call last):\n",
      "  File \"/Users/mbbssnw3/anaconda3/envs/sc/lib/python3.8/site-packages/tqdm/std.py\", line 1145, in __del__\n",
      "    self.close()\n",
      "  File \"/Users/mbbssnw3/anaconda3/envs/sc/lib/python3.8/site-packages/tqdm/notebook.py\", line 275, in close\n",
      "    self.disp(bar_style='danger')\n",
      "AttributeError: 'tqdm' object has no attribute 'disp'\n"
     ]
    }
   ],
   "source": [
    "from skimage.color import rgb2grey\n",
    "from skimage.transform import rescale\n",
    "\n",
    "def process(state):\n",
    "    state = rgb2grey(state[35:195, :, :])\n",
    "    state = rescale(state, scale=0.5)\n",
    "    state = state[np.newaxis, np.newaxis, :, :]\n",
    "    return torch.tensor(state, dtype=torch.float)"
   ]
  },
  {
   "cell_type": "code",
   "execution_count": 112,
   "id": "packed-massachusetts",
   "metadata": {},
   "outputs": [
    {
     "name": "stderr",
     "output_type": "stream",
     "text": [
      "<ipython-input-111-86c5b675bb93>:5: FutureWarning: rgb2grey is deprecated. It will be removed in version 0.19.Please use rgb2gray instead.\n",
      "  state = rgb2grey(state[35:195, :, :])\n"
     ]
    }
   ],
   "source": [
    "state0 = env.reset()\n",
    "state = process(state0)"
   ]
  },
  {
   "cell_type": "code",
   "execution_count": 113,
   "id": "logical-instrument",
   "metadata": {},
   "outputs": [
    {
     "ename": "TypeError",
     "evalue": "expected Tensor as element 1 in argument 0, but got numpy.ndarray",
     "output_type": "error",
     "traceback": [
      "\u001b[0;31m---------------------------------------------------------------------------\u001b[0m",
      "\u001b[0;31mTypeError\u001b[0m                                 Traceback (most recent call last)",
      "\u001b[0;32m<ipython-input-113-3305287714ad>\u001b[0m in \u001b[0;36m<module>\u001b[0;34m\u001b[0m\n\u001b[0;32m----> 1\u001b[0;31m \u001b[0mstate\u001b[0m \u001b[0;34m=\u001b[0m \u001b[0mtorch\u001b[0m\u001b[0;34m.\u001b[0m\u001b[0mcat\u001b[0m\u001b[0;34m(\u001b[0m\u001b[0;34m[\u001b[0m\u001b[0mstate\u001b[0m\u001b[0;34m,\u001b[0m \u001b[0mstate0\u001b[0m\u001b[0;34m]\u001b[0m\u001b[0;34m,\u001b[0m \u001b[0;36m1\u001b[0m\u001b[0;34m)\u001b[0m\u001b[0;34m\u001b[0m\u001b[0;34m\u001b[0m\u001b[0m\n\u001b[0m",
      "\u001b[0;31mTypeError\u001b[0m: expected Tensor as element 1 in argument 0, but got numpy.ndarray"
     ]
    }
   ],
   "source": [
    "state = torch.cat([state, state0], 1)"
   ]
  },
  {
   "cell_type": "code",
   "execution_count": 91,
   "id": "warming-wilderness",
   "metadata": {},
   "outputs": [
    {
     "ename": "TypeError",
     "evalue": "'int' object is not callable",
     "output_type": "error",
     "traceback": [
      "\u001b[0;31m---------------------------------------------------------------------------\u001b[0m",
      "\u001b[0;31mTypeError\u001b[0m                                 Traceback (most recent call last)",
      "\u001b[0;32m<ipython-input-91-87782d2d22af>\u001b[0m in \u001b[0;36m<module>\u001b[0;34m\u001b[0m\n\u001b[1;32m      1\u001b[0m \u001b[0mnum_frames\u001b[0m \u001b[0;34m=\u001b[0m \u001b[0;36m4\u001b[0m\u001b[0;34m\u001b[0m\u001b[0;34m\u001b[0m\u001b[0m\n\u001b[0;32m----> 2\u001b[0;31m \u001b[0;32mwhile\u001b[0m \u001b[0mstate\u001b[0m\u001b[0;34m.\u001b[0m\u001b[0msize\u001b[0m\u001b[0;34m(\u001b[0m\u001b[0;34m)\u001b[0m\u001b[0;34m[\u001b[0m\u001b[0;36m1\u001b[0m\u001b[0;34m]\u001b[0m \u001b[0;34m<\u001b[0m \u001b[0mnum_frames\u001b[0m\u001b[0;34m:\u001b[0m\u001b[0;34m\u001b[0m\u001b[0;34m\u001b[0m\u001b[0m\n\u001b[0m\u001b[1;32m      3\u001b[0m     \u001b[0maction\u001b[0m \u001b[0;34m=\u001b[0m \u001b[0;36m1\u001b[0m \u001b[0;31m# Fire\u001b[0m\u001b[0;34m\u001b[0m\u001b[0;34m\u001b[0m\u001b[0m\n\u001b[1;32m      4\u001b[0m \u001b[0;34m\u001b[0m\u001b[0m\n\u001b[1;32m      5\u001b[0m     \u001b[0mnew_frame\u001b[0m\u001b[0;34m,\u001b[0m \u001b[0mreward\u001b[0m\u001b[0;34m,\u001b[0m \u001b[0mdone\u001b[0m\u001b[0;34m,\u001b[0m \u001b[0minfo\u001b[0m \u001b[0;34m=\u001b[0m \u001b[0menv\u001b[0m\u001b[0;34m.\u001b[0m\u001b[0mstep\u001b[0m\u001b[0;34m(\u001b[0m\u001b[0maction\u001b[0m\u001b[0;34m)\u001b[0m\u001b[0;34m\u001b[0m\u001b[0;34m\u001b[0m\u001b[0m\n",
      "\u001b[0;31mTypeError\u001b[0m: 'int' object is not callable"
     ]
    }
   ],
   "source": [
    "num_frames = 4\n",
    "while state.size()[1] < num_frames:\n",
    "    action = 1 # Fire\n",
    "\n",
    "    new_frame, reward, done, info = env.step(action)\n",
    "    new_frame = self.process(new_frame)\n",
    "\n",
    "    state = torch.cat([state, new_frame], 1)"
   ]
  },
  {
   "cell_type": "code",
   "execution_count": 153,
   "id": "surface-orange",
   "metadata": {},
   "outputs": [],
   "source": [
    "import torch\n",
    "import torch.nn as nn\n",
    "import torch.nn.functional as F\n",
    "\n",
    "class Net(nn.Module):\n",
    "    def __init__(self):\n",
    "      super(Net, self).__init__()\n",
    "      self.conv1 = nn.Conv2d(4, 32, 3, 1)\n",
    "      self.conv2 = nn.Conv2d(32, 64, 3, 1)\n",
    "      self.dropout1 = nn.Dropout2d(0.25)\n",
    "      self.dropout2 = nn.Dropout2d(0.5)\n",
    "      self.fc1 = nn.Linear(9216, 128)\n",
    "      self.fc2 = nn.Linear(128, 10)\n",
    "\n",
    "    # x represents our data\n",
    "    def forward(self, x):\n",
    "      # Pass data through conv1\n",
    "      x = self.conv1(x)\n",
    "      # Use the rectified-linear activation function over x\n",
    "      x = F.relu(x)\n",
    "\n",
    "      x = self.conv2(x)\n",
    "      x = F.relu(x)\n",
    "\n",
    "      # Run max pooling over x\n",
    "      x = F.max_pool2d(x, 2)\n",
    "      # Pass data through dropout1\n",
    "      x = self.dropout1(x)\n",
    "      # Flatten x with start_dim=1\n",
    "      x = torch.flatten(x, 1)\n",
    "      # Pass data through fc1\n",
    "      x = self.fc1(x)\n",
    "      x = F.relu(x)\n",
    "      x = self.dropout2(x)\n",
    "      x = self.fc2(x)\n",
    "\n",
    "      # Apply softmax to x \n",
    "      output = F.log_softmax(x, dim=1)\n",
    "      return output"
   ]
  },
  {
   "cell_type": "code",
   "execution_count": 154,
   "id": "placed-attempt",
   "metadata": {},
   "outputs": [
    {
     "ename": "AttributeError",
     "evalue": "'LazyFrames' object has no attribute 'shape'",
     "output_type": "error",
     "traceback": [
      "\u001b[0;31m---------------------------------------------------------------------------\u001b[0m",
      "\u001b[0;31mAttributeError\u001b[0m                            Traceback (most recent call last)",
      "\u001b[0;32m<ipython-input-154-17dcc5290822>\u001b[0m in \u001b[0;36m<module>\u001b[0;34m\u001b[0m\n\u001b[0;32m----> 1\u001b[0;31m \u001b[0mstate\u001b[0m\u001b[0;34m.\u001b[0m\u001b[0mshape\u001b[0m\u001b[0;34m\u001b[0m\u001b[0;34m\u001b[0m\u001b[0m\n\u001b[0m",
      "\u001b[0;31mAttributeError\u001b[0m: 'LazyFrames' object has no attribute 'shape'"
     ]
    }
   ],
   "source": [
    "state.shape"
   ]
  },
  {
   "cell_type": "code",
   "execution_count": 155,
   "id": "wired-navigator",
   "metadata": {},
   "outputs": [],
   "source": [
    "my_nn = Net()"
   ]
  },
  {
   "cell_type": "code",
   "execution_count": 156,
   "id": "lasting-landscape",
   "metadata": {},
   "outputs": [
    {
     "ename": "RuntimeError",
     "evalue": "Given groups=1, weight of size [32, 4, 3, 3], expected input[1, 1, 28, 28] to have 4 channels, but got 1 channels instead",
     "output_type": "error",
     "traceback": [
      "\u001b[0;31m---------------------------------------------------------------------------\u001b[0m",
      "\u001b[0;31mRuntimeError\u001b[0m                              Traceback (most recent call last)",
      "\u001b[0;32m<ipython-input-156-79df92ff4ec7>\u001b[0m in \u001b[0;36m<module>\u001b[0;34m\u001b[0m\n\u001b[1;32m      1\u001b[0m \u001b[0mrandom_data\u001b[0m \u001b[0;34m=\u001b[0m \u001b[0mtorch\u001b[0m\u001b[0;34m.\u001b[0m\u001b[0mrand\u001b[0m\u001b[0;34m(\u001b[0m\u001b[0;34m(\u001b[0m\u001b[0;36m1\u001b[0m\u001b[0;34m,\u001b[0m \u001b[0;36m1\u001b[0m\u001b[0;34m,\u001b[0m \u001b[0;36m28\u001b[0m\u001b[0;34m,\u001b[0m \u001b[0;36m28\u001b[0m\u001b[0;34m)\u001b[0m\u001b[0;34m)\u001b[0m\u001b[0;34m\u001b[0m\u001b[0;34m\u001b[0m\u001b[0m\n\u001b[0;32m----> 2\u001b[0;31m \u001b[0mmy_nn\u001b[0m\u001b[0;34m(\u001b[0m\u001b[0mrandom_data\u001b[0m\u001b[0;34m)\u001b[0m\u001b[0;34m\u001b[0m\u001b[0;34m\u001b[0m\u001b[0m\n\u001b[0m",
      "\u001b[0;32m~/anaconda3/envs/sc/lib/python3.8/site-packages/torch/nn/modules/module.py\u001b[0m in \u001b[0;36m_call_impl\u001b[0;34m(self, *input, **kwargs)\u001b[0m\n\u001b[1;32m    887\u001b[0m             \u001b[0mresult\u001b[0m \u001b[0;34m=\u001b[0m \u001b[0mself\u001b[0m\u001b[0;34m.\u001b[0m\u001b[0m_slow_forward\u001b[0m\u001b[0;34m(\u001b[0m\u001b[0;34m*\u001b[0m\u001b[0minput\u001b[0m\u001b[0;34m,\u001b[0m \u001b[0;34m**\u001b[0m\u001b[0mkwargs\u001b[0m\u001b[0;34m)\u001b[0m\u001b[0;34m\u001b[0m\u001b[0;34m\u001b[0m\u001b[0m\n\u001b[1;32m    888\u001b[0m         \u001b[0;32melse\u001b[0m\u001b[0;34m:\u001b[0m\u001b[0;34m\u001b[0m\u001b[0;34m\u001b[0m\u001b[0m\n\u001b[0;32m--> 889\u001b[0;31m             \u001b[0mresult\u001b[0m \u001b[0;34m=\u001b[0m \u001b[0mself\u001b[0m\u001b[0;34m.\u001b[0m\u001b[0mforward\u001b[0m\u001b[0;34m(\u001b[0m\u001b[0;34m*\u001b[0m\u001b[0minput\u001b[0m\u001b[0;34m,\u001b[0m \u001b[0;34m**\u001b[0m\u001b[0mkwargs\u001b[0m\u001b[0;34m)\u001b[0m\u001b[0;34m\u001b[0m\u001b[0;34m\u001b[0m\u001b[0m\n\u001b[0m\u001b[1;32m    890\u001b[0m         for hook in itertools.chain(\n\u001b[1;32m    891\u001b[0m                 \u001b[0m_global_forward_hooks\u001b[0m\u001b[0;34m.\u001b[0m\u001b[0mvalues\u001b[0m\u001b[0;34m(\u001b[0m\u001b[0;34m)\u001b[0m\u001b[0;34m,\u001b[0m\u001b[0;34m\u001b[0m\u001b[0;34m\u001b[0m\u001b[0m\n",
      "\u001b[0;32m<ipython-input-153-85d7df8de987>\u001b[0m in \u001b[0;36mforward\u001b[0;34m(self, x)\u001b[0m\n\u001b[1;32m     16\u001b[0m     \u001b[0;32mdef\u001b[0m \u001b[0mforward\u001b[0m\u001b[0;34m(\u001b[0m\u001b[0mself\u001b[0m\u001b[0;34m,\u001b[0m \u001b[0mx\u001b[0m\u001b[0;34m)\u001b[0m\u001b[0;34m:\u001b[0m\u001b[0;34m\u001b[0m\u001b[0;34m\u001b[0m\u001b[0m\n\u001b[1;32m     17\u001b[0m       \u001b[0;31m# Pass data through conv1\u001b[0m\u001b[0;34m\u001b[0m\u001b[0;34m\u001b[0m\u001b[0;34m\u001b[0m\u001b[0m\n\u001b[0;32m---> 18\u001b[0;31m       \u001b[0mx\u001b[0m \u001b[0;34m=\u001b[0m \u001b[0mself\u001b[0m\u001b[0;34m.\u001b[0m\u001b[0mconv1\u001b[0m\u001b[0;34m(\u001b[0m\u001b[0mx\u001b[0m\u001b[0;34m)\u001b[0m\u001b[0;34m\u001b[0m\u001b[0;34m\u001b[0m\u001b[0m\n\u001b[0m\u001b[1;32m     19\u001b[0m       \u001b[0;31m# Use the rectified-linear activation function over x\u001b[0m\u001b[0;34m\u001b[0m\u001b[0;34m\u001b[0m\u001b[0;34m\u001b[0m\u001b[0m\n\u001b[1;32m     20\u001b[0m       \u001b[0mx\u001b[0m \u001b[0;34m=\u001b[0m \u001b[0mF\u001b[0m\u001b[0;34m.\u001b[0m\u001b[0mrelu\u001b[0m\u001b[0;34m(\u001b[0m\u001b[0mx\u001b[0m\u001b[0;34m)\u001b[0m\u001b[0;34m\u001b[0m\u001b[0;34m\u001b[0m\u001b[0m\n",
      "\u001b[0;32m~/anaconda3/envs/sc/lib/python3.8/site-packages/torch/nn/modules/module.py\u001b[0m in \u001b[0;36m_call_impl\u001b[0;34m(self, *input, **kwargs)\u001b[0m\n\u001b[1;32m    887\u001b[0m             \u001b[0mresult\u001b[0m \u001b[0;34m=\u001b[0m \u001b[0mself\u001b[0m\u001b[0;34m.\u001b[0m\u001b[0m_slow_forward\u001b[0m\u001b[0;34m(\u001b[0m\u001b[0;34m*\u001b[0m\u001b[0minput\u001b[0m\u001b[0;34m,\u001b[0m \u001b[0;34m**\u001b[0m\u001b[0mkwargs\u001b[0m\u001b[0;34m)\u001b[0m\u001b[0;34m\u001b[0m\u001b[0;34m\u001b[0m\u001b[0m\n\u001b[1;32m    888\u001b[0m         \u001b[0;32melse\u001b[0m\u001b[0;34m:\u001b[0m\u001b[0;34m\u001b[0m\u001b[0;34m\u001b[0m\u001b[0m\n\u001b[0;32m--> 889\u001b[0;31m             \u001b[0mresult\u001b[0m \u001b[0;34m=\u001b[0m \u001b[0mself\u001b[0m\u001b[0;34m.\u001b[0m\u001b[0mforward\u001b[0m\u001b[0;34m(\u001b[0m\u001b[0;34m*\u001b[0m\u001b[0minput\u001b[0m\u001b[0;34m,\u001b[0m \u001b[0;34m**\u001b[0m\u001b[0mkwargs\u001b[0m\u001b[0;34m)\u001b[0m\u001b[0;34m\u001b[0m\u001b[0;34m\u001b[0m\u001b[0m\n\u001b[0m\u001b[1;32m    890\u001b[0m         for hook in itertools.chain(\n\u001b[1;32m    891\u001b[0m                 \u001b[0m_global_forward_hooks\u001b[0m\u001b[0;34m.\u001b[0m\u001b[0mvalues\u001b[0m\u001b[0;34m(\u001b[0m\u001b[0;34m)\u001b[0m\u001b[0;34m,\u001b[0m\u001b[0;34m\u001b[0m\u001b[0;34m\u001b[0m\u001b[0m\n",
      "\u001b[0;32m~/anaconda3/envs/sc/lib/python3.8/site-packages/torch/nn/modules/conv.py\u001b[0m in \u001b[0;36mforward\u001b[0;34m(self, input)\u001b[0m\n\u001b[1;32m    397\u001b[0m \u001b[0;34m\u001b[0m\u001b[0m\n\u001b[1;32m    398\u001b[0m     \u001b[0;32mdef\u001b[0m \u001b[0mforward\u001b[0m\u001b[0;34m(\u001b[0m\u001b[0mself\u001b[0m\u001b[0;34m,\u001b[0m \u001b[0minput\u001b[0m\u001b[0;34m:\u001b[0m \u001b[0mTensor\u001b[0m\u001b[0;34m)\u001b[0m \u001b[0;34m->\u001b[0m \u001b[0mTensor\u001b[0m\u001b[0;34m:\u001b[0m\u001b[0;34m\u001b[0m\u001b[0;34m\u001b[0m\u001b[0m\n\u001b[0;32m--> 399\u001b[0;31m         \u001b[0;32mreturn\u001b[0m \u001b[0mself\u001b[0m\u001b[0;34m.\u001b[0m\u001b[0m_conv_forward\u001b[0m\u001b[0;34m(\u001b[0m\u001b[0minput\u001b[0m\u001b[0;34m,\u001b[0m \u001b[0mself\u001b[0m\u001b[0;34m.\u001b[0m\u001b[0mweight\u001b[0m\u001b[0;34m,\u001b[0m \u001b[0mself\u001b[0m\u001b[0;34m.\u001b[0m\u001b[0mbias\u001b[0m\u001b[0;34m)\u001b[0m\u001b[0;34m\u001b[0m\u001b[0;34m\u001b[0m\u001b[0m\n\u001b[0m\u001b[1;32m    400\u001b[0m \u001b[0;34m\u001b[0m\u001b[0m\n\u001b[1;32m    401\u001b[0m \u001b[0;32mclass\u001b[0m \u001b[0mConv3d\u001b[0m\u001b[0;34m(\u001b[0m\u001b[0m_ConvNd\u001b[0m\u001b[0;34m)\u001b[0m\u001b[0;34m:\u001b[0m\u001b[0;34m\u001b[0m\u001b[0;34m\u001b[0m\u001b[0m\n",
      "\u001b[0;32m~/anaconda3/envs/sc/lib/python3.8/site-packages/torch/nn/modules/conv.py\u001b[0m in \u001b[0;36m_conv_forward\u001b[0;34m(self, input, weight, bias)\u001b[0m\n\u001b[1;32m    393\u001b[0m                             \u001b[0mweight\u001b[0m\u001b[0;34m,\u001b[0m \u001b[0mbias\u001b[0m\u001b[0;34m,\u001b[0m \u001b[0mself\u001b[0m\u001b[0;34m.\u001b[0m\u001b[0mstride\u001b[0m\u001b[0;34m,\u001b[0m\u001b[0;34m\u001b[0m\u001b[0;34m\u001b[0m\u001b[0m\n\u001b[1;32m    394\u001b[0m                             _pair(0), self.dilation, self.groups)\n\u001b[0;32m--> 395\u001b[0;31m         return F.conv2d(input, weight, bias, self.stride,\n\u001b[0m\u001b[1;32m    396\u001b[0m                         self.padding, self.dilation, self.groups)\n\u001b[1;32m    397\u001b[0m \u001b[0;34m\u001b[0m\u001b[0m\n",
      "\u001b[0;31mRuntimeError\u001b[0m: Given groups=1, weight of size [32, 4, 3, 3], expected input[1, 1, 28, 28] to have 4 channels, but got 1 channels instead"
     ]
    }
   ],
   "source": [
    "random_data = torch.rand((1, 1, 28, 28))\n",
    "my_nn(random_data)"
   ]
  },
  {
   "cell_type": "code",
   "execution_count": 157,
   "id": "conditional-label",
   "metadata": {},
   "outputs": [],
   "source": [
    "env = make_atari('BreakoutNoFrameskip-v4')\n",
    "\n",
    "state = env.reset()\n",
    "\n",
    "statey = state.torch()\n",
    "\n",
    "statey.unsqueeze(0).shape"
   ]
  },
  {
   "cell_type": "code",
   "execution_count": 161,
   "id": "nominated-world",
   "metadata": {},
   "outputs": [
    {
     "ename": "RuntimeError",
     "evalue": "mat1 and mat2 shapes cannot be multiplied (1x102400 and 9216x128)",
     "output_type": "error",
     "traceback": [
      "\u001b[0;31m---------------------------------------------------------------------------\u001b[0m",
      "\u001b[0;31mRuntimeError\u001b[0m                              Traceback (most recent call last)",
      "\u001b[0;32m<ipython-input-161-0cd451ad08b7>\u001b[0m in \u001b[0;36m<module>\u001b[0;34m\u001b[0m\n\u001b[0;32m----> 1\u001b[0;31m \u001b[0mmy_nn\u001b[0m\u001b[0;34m(\u001b[0m\u001b[0mstatey\u001b[0m\u001b[0;34m.\u001b[0m\u001b[0munsqueeze\u001b[0m\u001b[0;34m(\u001b[0m\u001b[0;36m0\u001b[0m\u001b[0;34m)\u001b[0m\u001b[0;34m)\u001b[0m\u001b[0;34m\u001b[0m\u001b[0;34m\u001b[0m\u001b[0m\n\u001b[0m",
      "\u001b[0;32m~/anaconda3/envs/sc/lib/python3.8/site-packages/torch/nn/modules/module.py\u001b[0m in \u001b[0;36m_call_impl\u001b[0;34m(self, *input, **kwargs)\u001b[0m\n\u001b[1;32m    887\u001b[0m             \u001b[0mresult\u001b[0m \u001b[0;34m=\u001b[0m \u001b[0mself\u001b[0m\u001b[0;34m.\u001b[0m\u001b[0m_slow_forward\u001b[0m\u001b[0;34m(\u001b[0m\u001b[0;34m*\u001b[0m\u001b[0minput\u001b[0m\u001b[0;34m,\u001b[0m \u001b[0;34m**\u001b[0m\u001b[0mkwargs\u001b[0m\u001b[0;34m)\u001b[0m\u001b[0;34m\u001b[0m\u001b[0;34m\u001b[0m\u001b[0m\n\u001b[1;32m    888\u001b[0m         \u001b[0;32melse\u001b[0m\u001b[0;34m:\u001b[0m\u001b[0;34m\u001b[0m\u001b[0;34m\u001b[0m\u001b[0m\n\u001b[0;32m--> 889\u001b[0;31m             \u001b[0mresult\u001b[0m \u001b[0;34m=\u001b[0m \u001b[0mself\u001b[0m\u001b[0;34m.\u001b[0m\u001b[0mforward\u001b[0m\u001b[0;34m(\u001b[0m\u001b[0;34m*\u001b[0m\u001b[0minput\u001b[0m\u001b[0;34m,\u001b[0m \u001b[0;34m**\u001b[0m\u001b[0mkwargs\u001b[0m\u001b[0;34m)\u001b[0m\u001b[0;34m\u001b[0m\u001b[0;34m\u001b[0m\u001b[0m\n\u001b[0m\u001b[1;32m    890\u001b[0m         for hook in itertools.chain(\n\u001b[1;32m    891\u001b[0m                 \u001b[0m_global_forward_hooks\u001b[0m\u001b[0;34m.\u001b[0m\u001b[0mvalues\u001b[0m\u001b[0;34m(\u001b[0m\u001b[0;34m)\u001b[0m\u001b[0;34m,\u001b[0m\u001b[0;34m\u001b[0m\u001b[0;34m\u001b[0m\u001b[0m\n",
      "\u001b[0;32m<ipython-input-153-85d7df8de987>\u001b[0m in \u001b[0;36mforward\u001b[0;34m(self, x)\u001b[0m\n\u001b[1;32m     30\u001b[0m       \u001b[0mx\u001b[0m \u001b[0;34m=\u001b[0m \u001b[0mtorch\u001b[0m\u001b[0;34m.\u001b[0m\u001b[0mflatten\u001b[0m\u001b[0;34m(\u001b[0m\u001b[0mx\u001b[0m\u001b[0;34m,\u001b[0m \u001b[0;36m1\u001b[0m\u001b[0;34m)\u001b[0m\u001b[0;34m\u001b[0m\u001b[0;34m\u001b[0m\u001b[0m\n\u001b[1;32m     31\u001b[0m       \u001b[0;31m# Pass data through fc1\u001b[0m\u001b[0;34m\u001b[0m\u001b[0;34m\u001b[0m\u001b[0;34m\u001b[0m\u001b[0m\n\u001b[0;32m---> 32\u001b[0;31m       \u001b[0mx\u001b[0m \u001b[0;34m=\u001b[0m \u001b[0mself\u001b[0m\u001b[0;34m.\u001b[0m\u001b[0mfc1\u001b[0m\u001b[0;34m(\u001b[0m\u001b[0mx\u001b[0m\u001b[0;34m)\u001b[0m\u001b[0;34m\u001b[0m\u001b[0;34m\u001b[0m\u001b[0m\n\u001b[0m\u001b[1;32m     33\u001b[0m       \u001b[0mx\u001b[0m \u001b[0;34m=\u001b[0m \u001b[0mF\u001b[0m\u001b[0;34m.\u001b[0m\u001b[0mrelu\u001b[0m\u001b[0;34m(\u001b[0m\u001b[0mx\u001b[0m\u001b[0;34m)\u001b[0m\u001b[0;34m\u001b[0m\u001b[0;34m\u001b[0m\u001b[0m\n\u001b[1;32m     34\u001b[0m       \u001b[0mx\u001b[0m \u001b[0;34m=\u001b[0m \u001b[0mself\u001b[0m\u001b[0;34m.\u001b[0m\u001b[0mdropout2\u001b[0m\u001b[0;34m(\u001b[0m\u001b[0mx\u001b[0m\u001b[0;34m)\u001b[0m\u001b[0;34m\u001b[0m\u001b[0;34m\u001b[0m\u001b[0m\n",
      "\u001b[0;32m~/anaconda3/envs/sc/lib/python3.8/site-packages/torch/nn/modules/module.py\u001b[0m in \u001b[0;36m_call_impl\u001b[0;34m(self, *input, **kwargs)\u001b[0m\n\u001b[1;32m    887\u001b[0m             \u001b[0mresult\u001b[0m \u001b[0;34m=\u001b[0m \u001b[0mself\u001b[0m\u001b[0;34m.\u001b[0m\u001b[0m_slow_forward\u001b[0m\u001b[0;34m(\u001b[0m\u001b[0;34m*\u001b[0m\u001b[0minput\u001b[0m\u001b[0;34m,\u001b[0m \u001b[0;34m**\u001b[0m\u001b[0mkwargs\u001b[0m\u001b[0;34m)\u001b[0m\u001b[0;34m\u001b[0m\u001b[0;34m\u001b[0m\u001b[0m\n\u001b[1;32m    888\u001b[0m         \u001b[0;32melse\u001b[0m\u001b[0;34m:\u001b[0m\u001b[0;34m\u001b[0m\u001b[0;34m\u001b[0m\u001b[0m\n\u001b[0;32m--> 889\u001b[0;31m             \u001b[0mresult\u001b[0m \u001b[0;34m=\u001b[0m \u001b[0mself\u001b[0m\u001b[0;34m.\u001b[0m\u001b[0mforward\u001b[0m\u001b[0;34m(\u001b[0m\u001b[0;34m*\u001b[0m\u001b[0minput\u001b[0m\u001b[0;34m,\u001b[0m \u001b[0;34m**\u001b[0m\u001b[0mkwargs\u001b[0m\u001b[0;34m)\u001b[0m\u001b[0;34m\u001b[0m\u001b[0;34m\u001b[0m\u001b[0m\n\u001b[0m\u001b[1;32m    890\u001b[0m         for hook in itertools.chain(\n\u001b[1;32m    891\u001b[0m                 \u001b[0m_global_forward_hooks\u001b[0m\u001b[0;34m.\u001b[0m\u001b[0mvalues\u001b[0m\u001b[0;34m(\u001b[0m\u001b[0;34m)\u001b[0m\u001b[0;34m,\u001b[0m\u001b[0;34m\u001b[0m\u001b[0;34m\u001b[0m\u001b[0m\n",
      "\u001b[0;32m~/anaconda3/envs/sc/lib/python3.8/site-packages/torch/nn/modules/linear.py\u001b[0m in \u001b[0;36mforward\u001b[0;34m(self, input)\u001b[0m\n\u001b[1;32m     92\u001b[0m \u001b[0;34m\u001b[0m\u001b[0m\n\u001b[1;32m     93\u001b[0m     \u001b[0;32mdef\u001b[0m \u001b[0mforward\u001b[0m\u001b[0;34m(\u001b[0m\u001b[0mself\u001b[0m\u001b[0;34m,\u001b[0m \u001b[0minput\u001b[0m\u001b[0;34m:\u001b[0m \u001b[0mTensor\u001b[0m\u001b[0;34m)\u001b[0m \u001b[0;34m->\u001b[0m \u001b[0mTensor\u001b[0m\u001b[0;34m:\u001b[0m\u001b[0;34m\u001b[0m\u001b[0;34m\u001b[0m\u001b[0m\n\u001b[0;32m---> 94\u001b[0;31m         \u001b[0;32mreturn\u001b[0m \u001b[0mF\u001b[0m\u001b[0;34m.\u001b[0m\u001b[0mlinear\u001b[0m\u001b[0;34m(\u001b[0m\u001b[0minput\u001b[0m\u001b[0;34m,\u001b[0m \u001b[0mself\u001b[0m\u001b[0;34m.\u001b[0m\u001b[0mweight\u001b[0m\u001b[0;34m,\u001b[0m \u001b[0mself\u001b[0m\u001b[0;34m.\u001b[0m\u001b[0mbias\u001b[0m\u001b[0;34m)\u001b[0m\u001b[0;34m\u001b[0m\u001b[0;34m\u001b[0m\u001b[0m\n\u001b[0m\u001b[1;32m     95\u001b[0m \u001b[0;34m\u001b[0m\u001b[0m\n\u001b[1;32m     96\u001b[0m     \u001b[0;32mdef\u001b[0m \u001b[0mextra_repr\u001b[0m\u001b[0;34m(\u001b[0m\u001b[0mself\u001b[0m\u001b[0;34m)\u001b[0m \u001b[0;34m->\u001b[0m \u001b[0mstr\u001b[0m\u001b[0;34m:\u001b[0m\u001b[0;34m\u001b[0m\u001b[0;34m\u001b[0m\u001b[0m\n",
      "\u001b[0;32m~/anaconda3/envs/sc/lib/python3.8/site-packages/torch/nn/functional.py\u001b[0m in \u001b[0;36mlinear\u001b[0;34m(input, weight, bias)\u001b[0m\n\u001b[1;32m   1751\u001b[0m     \u001b[0;32mif\u001b[0m \u001b[0mhas_torch_function_variadic\u001b[0m\u001b[0;34m(\u001b[0m\u001b[0minput\u001b[0m\u001b[0;34m,\u001b[0m \u001b[0mweight\u001b[0m\u001b[0;34m)\u001b[0m\u001b[0;34m:\u001b[0m\u001b[0;34m\u001b[0m\u001b[0;34m\u001b[0m\u001b[0m\n\u001b[1;32m   1752\u001b[0m         \u001b[0;32mreturn\u001b[0m \u001b[0mhandle_torch_function\u001b[0m\u001b[0;34m(\u001b[0m\u001b[0mlinear\u001b[0m\u001b[0;34m,\u001b[0m \u001b[0;34m(\u001b[0m\u001b[0minput\u001b[0m\u001b[0;34m,\u001b[0m \u001b[0mweight\u001b[0m\u001b[0;34m)\u001b[0m\u001b[0;34m,\u001b[0m \u001b[0minput\u001b[0m\u001b[0;34m,\u001b[0m \u001b[0mweight\u001b[0m\u001b[0;34m,\u001b[0m \u001b[0mbias\u001b[0m\u001b[0;34m=\u001b[0m\u001b[0mbias\u001b[0m\u001b[0;34m)\u001b[0m\u001b[0;34m\u001b[0m\u001b[0;34m\u001b[0m\u001b[0m\n\u001b[0;32m-> 1753\u001b[0;31m     \u001b[0;32mreturn\u001b[0m \u001b[0mtorch\u001b[0m\u001b[0;34m.\u001b[0m\u001b[0m_C\u001b[0m\u001b[0;34m.\u001b[0m\u001b[0m_nn\u001b[0m\u001b[0;34m.\u001b[0m\u001b[0mlinear\u001b[0m\u001b[0;34m(\u001b[0m\u001b[0minput\u001b[0m\u001b[0;34m,\u001b[0m \u001b[0mweight\u001b[0m\u001b[0;34m,\u001b[0m \u001b[0mbias\u001b[0m\u001b[0;34m)\u001b[0m\u001b[0;34m\u001b[0m\u001b[0;34m\u001b[0m\u001b[0m\n\u001b[0m\u001b[1;32m   1754\u001b[0m \u001b[0;34m\u001b[0m\u001b[0m\n\u001b[1;32m   1755\u001b[0m \u001b[0;34m\u001b[0m\u001b[0m\n",
      "\u001b[0;31mRuntimeError\u001b[0m: mat1 and mat2 shapes cannot be multiplied (1x102400 and 9216x128)"
     ]
    }
   ],
   "source": [
    "my_nn(statey.unsqueeze(0))"
   ]
  },
  {
   "cell_type": "code",
   "execution_count": 162,
   "id": "centered-desktop",
   "metadata": {},
   "outputs": [],
   "source": [
    "import torch\n",
    "import torch.nn as nn\n",
    "import torch.nn.functional as F\n",
    "\n",
    "class Net(nn.Module):\n",
    "    def __init__(self):\n",
    "      super(Net, self).__init__()\n",
    "      self.conv1 = nn.Conv2d(4, 32, 3, 1)\n",
    "\n",
    "    # x represents our data\n",
    "    def forward(self, x):\n",
    "      # Pass data through conv1\n",
    "      x = self.conv1(x)\n",
    "      x = F.relu(x)\n",
    "\n",
    "      # Apply softmax to x \n",
    "      output = F.log_softmax(x, dim=1)\n",
    "      return output"
   ]
  },
  {
   "cell_type": "code",
   "execution_count": 163,
   "id": "opened-apple",
   "metadata": {},
   "outputs": [
    {
     "data": {
      "text/plain": [
       "torch.Size([1, 4, 84, 84])"
      ]
     },
     "execution_count": 163,
     "metadata": {},
     "output_type": "execute_result"
    }
   ],
   "source": [
    "env = make_atari('BreakoutNoFrameskip-v4')\n",
    "\n",
    "state = env.reset()\n",
    "\n",
    "statey = state.torch()\n",
    "\n",
    "statey.unsqueeze(0).shape"
   ]
  },
  {
   "cell_type": "code",
   "execution_count": 164,
   "id": "gorgeous-penetration",
   "metadata": {},
   "outputs": [],
   "source": [
    "my_nn = Net()"
   ]
  },
  {
   "cell_type": "code",
   "execution_count": 168,
   "id": "formal-analyst",
   "metadata": {},
   "outputs": [],
   "source": [
    "x =my_nn(statey.unsqueeze(0))"
   ]
  },
  {
   "cell_type": "code",
   "execution_count": 170,
   "id": "political-increase",
   "metadata": {},
   "outputs": [
    {
     "data": {
      "text/plain": [
       "torch.Size([1, 32, 82, 82])"
      ]
     },
     "execution_count": 170,
     "metadata": {},
     "output_type": "execute_result"
    }
   ],
   "source": [
    "x.shape"
   ]
  },
  {
   "cell_type": "code",
   "execution_count": null,
   "id": "structural-melbourne",
   "metadata": {},
   "outputs": [],
   "source": []
  }
 ],
 "metadata": {
  "kernelspec": {
   "display_name": "Python 3",
   "language": "python",
   "name": "python3"
  },
  "language_info": {
   "codemirror_mode": {
    "name": "ipython",
    "version": 3
   },
   "file_extension": ".py",
   "mimetype": "text/x-python",
   "name": "python",
   "nbconvert_exporter": "python",
   "pygments_lexer": "ipython3",
   "version": "3.8.8"
  }
 },
 "nbformat": 4,
 "nbformat_minor": 5
}
