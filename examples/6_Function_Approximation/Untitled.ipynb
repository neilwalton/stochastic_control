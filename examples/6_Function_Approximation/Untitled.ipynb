{
 "cells": [
  {
   "cell_type": "raw",
   "id": "occupational-moral",
   "metadata": {},
   "source": [
    "import scipy"
   ]
  },
  {
   "cell_type": "code",
   "execution_count": 1,
   "id": "about-principle",
   "metadata": {},
   "outputs": [],
   "source": [
    "import scipy\n",
    "import numpy as np"
   ]
  },
  {
   "cell_type": "code",
   "execution_count": 2,
   "id": "appointed-funeral",
   "metadata": {},
   "outputs": [],
   "source": [
    "from scipy.special import comb, perm"
   ]
  },
  {
   "cell_type": "code",
   "execution_count": 13,
   "id": "purple-arbitration",
   "metadata": {},
   "outputs": [
    {
     "name": "stdout",
     "output_type": "stream",
     "text": [
      "0.008678412750415698\n",
      "0.04611856403949676\n",
      "0.10643992558500104\n",
      "0.18288768377434683\n",
      "0.2447210839077823\n",
      "0.31334022153799995\n",
      "0.350991360741361\n",
      "0.3751839952640439\n",
      "0.34257108961630967\n",
      "0.3113459622363663\n",
      "0.37676600947304306\n",
      "0.3766340981324865\n",
      "0.39531469730930424\n",
      "0.44381905149179474\n",
      "0.456237011522286\n",
      "0.4547644229347875\n",
      "0.4901389485181058\n",
      "0.47832198127110576\n",
      "0.5047977224981692\n",
      "0.4781515107456537\n",
      "0.524084323039632\n",
      "0.4885156775976805\n",
      "0.49668011201389883\n",
      "0.47484634203215415\n",
      "0.42808087313300014\n",
      "0.4337966795572246\n",
      "0.471421344998175\n",
      "0.47145709209908254\n",
      "0.42523713408485686\n",
      "0.442917826819518\n",
      "0.4754920611609274\n",
      "0.513916182820027\n",
      "0.5378117421323224\n",
      "0.574009696779288\n",
      "0.5492690757708089\n",
      "0.5308390302206998\n",
      "0.4815543485243433\n",
      "0.503581161865943\n",
      "0.5208072127715787\n",
      "0.5108303698053093\n",
      "0.48303141664802446\n",
      "0.5108107994026072\n",
      "0.5000048139214535\n",
      "0.48192685332474317\n",
      "0.46847409495204756\n",
      "0.4315293046721519\n",
      "0.41576182106358656\n",
      "0.4666738219623099\n",
      "0.49271165295471137\n",
      "0.4622447950654725\n",
      "0.5019950519959543\n",
      "0.47290012301478246\n",
      "0.4373396624624799\n",
      "0.3957545031969227\n",
      "0.40298524102612143\n",
      "0.4415300142668868\n",
      "0.48645168908232145\n",
      "0.47979138447351927\n",
      "0.47764400494866344\n",
      "0.4848283871055407\n",
      "0.46950515303808943\n",
      "0.4886737643052394\n",
      "0.5356491004966915\n",
      "0.5441910392668623\n",
      "0.5497956698767859\n",
      "0.5314343850686749\n",
      "0.5335400155980784\n",
      "0.5497799264352264\n",
      "0.49613842020967136\n",
      "0.5389552134077296\n",
      "0.552178424466823\n",
      "0.5835565512711861\n",
      "0.5997359793194216\n",
      "0.5438763281782081\n",
      "0.5790134063067688\n",
      "0.5640766811980068\n",
      "0.5799530513893867\n",
      "0.5649773426986007\n",
      "0.5430486695469761\n",
      "0.5285345728671397\n",
      "0.5405311726628615\n",
      "0.5724489625930885\n",
      "0.576634421211253\n",
      "0.5298549366108622\n",
      "0.48347374883108807\n",
      "0.4501915259737893\n",
      "0.4599618442574344\n",
      "0.49214757864368563\n",
      "0.4638801939968996\n",
      "0.4676866763217142\n",
      "0.4303448681792767\n",
      "0.4425446472450407\n",
      "0.41939524117876464\n",
      "0.408416821852841\n",
      "0.42234456621563576\n",
      "0.42957588204336733\n",
      "0.40711704286398914\n",
      "0.45866429391876773\n",
      "0.4179438354098052\n",
      "0.3896220384285738\n",
      "3.506598345857164\n"
     ]
    }
   ],
   "source": [
    "x=0\n",
    "for n in range(100):\n",
    "    x += np.random.rand()\n",
    "    y = x*0.1\n",
    "    x -= y\n",
    "    print(y)\n",
    "print(x)"
   ]
  },
  {
   "cell_type": "code",
   "execution_count": 78,
   "id": "preceding-mouth",
   "metadata": {},
   "outputs": [
    {
     "data": {
      "text/plain": [
       "0.0023044372881594333"
      ]
     },
     "execution_count": 78,
     "metadata": {},
     "output_type": "execute_result"
    }
   ],
   "source": [
    "1-comb(6,0)*comb(94,6)/comb(100,6)-comb(6,1)*comb(94,5)/comb(100,6)-comb(6,2)*comb(94,4)/comb(100,6)"
   ]
  },
  {
   "cell_type": "code",
   "execution_count": 72,
   "id": "wound-wilson",
   "metadata": {},
   "outputs": [
    {
     "data": {
      "text/plain": [
       "0.0382280091042978"
      ]
     },
     "execution_count": 72,
     "metadata": {},
     "output_type": "execute_result"
    }
   ],
   "source": [
    "1-comb(7,0)*comb(93,5)/comb(100,5)-comb(7,1)*comb(93,4)/comb(100,5)"
   ]
  },
  {
   "cell_type": "code",
   "execution_count": 81,
   "id": "advised-convergence",
   "metadata": {},
   "outputs": [
    {
     "data": {
      "text/plain": [
       "0.9861350698637226"
      ]
     },
     "execution_count": 81,
     "metadata": {},
     "output_type": "execute_result"
    }
   ],
   "source": [
    "comb(5,0)*comb(30,5)/comb(35,5)+comb(5,1)*comb(30,4)/comb(35,5)+comb(5,2)*comb(30,3)/comb(35,5)"
   ]
  },
  {
   "cell_type": "code",
   "execution_count": 53,
   "id": "friendly-agency",
   "metadata": {},
   "outputs": [
    {
     "data": {
      "text/plain": [
       "0.2557572882525444"
      ]
     },
     "execution_count": 53,
     "metadata": {},
     "output_type": "execute_result"
    }
   ],
   "source": [
    "1-comb(5,0)*comb(30,7)/comb(35,7)-comb(5,1)*comb(30,6)/comb(35,7)"
   ]
  },
  {
   "cell_type": "code",
   "execution_count": 57,
   "id": "valued-tutorial",
   "metadata": {},
   "outputs": [
    {
     "data": {
      "text/plain": [
       "0.0023044372881594333"
      ]
     },
     "execution_count": 57,
     "metadata": {},
     "output_type": "execute_result"
    }
   ],
   "source": [
    "1- comb(6,0)*comb(94,6)/comb(100,6) - comb(6,1)*comb(94,5)/comb(100,6) - comb(6,2)*comb(94,4)/comb(100,6)"
   ]
  },
  {
   "cell_type": "code",
   "execution_count": 19,
   "id": "widespread-switch",
   "metadata": {},
   "outputs": [
    {
     "data": {
      "text/plain": [
       "0.9861350698637226"
      ]
     },
     "execution_count": 19,
     "metadata": {},
     "output_type": "execute_result"
    }
   ],
   "source": [
    "comb(5,0)*comb(30,5)/comb(35,5)+comb(5,1)*comb(30,4)/comb(35,5)+comb(5,2)*comb(30,3)/comb(35,5)"
   ]
  },
  {
   "cell_type": "code",
   "execution_count": 85,
   "id": "literary-young",
   "metadata": {},
   "outputs": [
    {
     "name": "stdout",
     "output_type": "stream",
     "text": [
      "28\n",
      "27\n"
     ]
    }
   ],
   "source": [
    "E = 3\n",
    "V = 3\n",
    "print(4+4*E + V + E**2)\n",
    "print(9*V)"
   ]
  },
  {
   "cell_type": "code",
   "execution_count": 91,
   "id": "other-housing",
   "metadata": {},
   "outputs": [
    {
     "data": {
      "text/plain": [
       "0.03414158412570832"
      ]
     },
     "execution_count": 91,
     "metadata": {},
     "output_type": "execute_result"
    }
   ],
   "source": [
    "l=0.7\n",
    "1-(scipy.e)**(-l)-l*(scipy.e)**(-l)-l**2*(scipy.e)**(-l)/2"
   ]
  },
  {
   "cell_type": "code",
   "execution_count": 92,
   "id": "blessed-discrimination",
   "metadata": {},
   "outputs": [
    {
     "data": {
      "text/plain": [
       "0.5946394843421736"
      ]
     },
     "execution_count": 92,
     "metadata": {},
     "output_type": "execute_result"
    }
   ],
   "source": [
    "np.log(0.9*(scipy.e)**(0.7))"
   ]
  },
  {
   "cell_type": "code",
   "execution_count": 35,
   "id": "republican-abuse",
   "metadata": {},
   "outputs": [
    {
     "data": {
      "text/plain": [
       "0.8366600265340756"
      ]
     },
     "execution_count": 35,
     "metadata": {},
     "output_type": "execute_result"
    }
   ],
   "source": [
    "np.sqrt(0.7)"
   ]
  },
  {
   "cell_type": "code",
   "execution_count": 40,
   "id": "turned-patio",
   "metadata": {},
   "outputs": [],
   "source": [
    "from scipy.stats import norm"
   ]
  },
  {
   "cell_type": "code",
   "execution_count": 94,
   "id": "sensitive-separation",
   "metadata": {},
   "outputs": [
    {
     "data": {
      "text/plain": [
       "0.43673705374145083"
      ]
     },
     "execution_count": 94,
     "metadata": {},
     "output_type": "execute_result"
    }
   ],
   "source": [
    "(2*norm.ppf(0.95) -1)**-1"
   ]
  },
  {
   "cell_type": "code",
   "execution_count": 95,
   "id": "dense-sussex",
   "metadata": {},
   "outputs": [
    {
     "data": {
      "text/plain": [
       "0.8632754924232678"
      ]
     },
     "execution_count": 95,
     "metadata": {},
     "output_type": "execute_result"
    }
   ],
   "source": [
    "(2-norm.ppf(0.8))**-1"
   ]
  },
  {
   "cell_type": "code",
   "execution_count": 69,
   "id": "cathedral-campbell",
   "metadata": {},
   "outputs": [
    {
     "data": {
      "text/plain": [
       "0.4370629370629371"
      ]
     },
     "execution_count": 69,
     "metadata": {},
     "output_type": "execute_result"
    }
   ],
   "source": [
    "1/(2*1.144)"
   ]
  },
  {
   "cell_type": "code",
   "execution_count": 46,
   "id": "broad-street",
   "metadata": {},
   "outputs": [
    {
     "data": {
      "text/plain": [
       "1.7470300489168413"
      ]
     },
     "execution_count": 46,
     "metadata": {},
     "output_type": "execute_result"
    }
   ],
   "source": [
    "2/1.1448"
   ]
  },
  {
   "cell_type": "code",
   "execution_count": 48,
   "id": "effective-peninsula",
   "metadata": {},
   "outputs": [
    {
     "data": {
      "text/plain": [
       "0.8620689655172414"
      ]
     },
     "execution_count": 48,
     "metadata": {},
     "output_type": "execute_result"
    }
   ],
   "source": [
    "1/1.16"
   ]
  },
  {
   "cell_type": "code",
   "execution_count": 50,
   "id": "acting-garbage",
   "metadata": {},
   "outputs": [
    {
     "data": {
      "text/plain": [
       "0.001302381020423716"
      ]
     },
     "execution_count": 50,
     "metadata": {},
     "output_type": "execute_result"
    }
   ],
   "source": [
    "comb(9,5)*6**(-10)*5**4"
   ]
  },
  {
   "cell_type": "code",
   "execution_count": 66,
   "id": "composite-powder",
   "metadata": {},
   "outputs": [
    {
     "data": {
      "text/plain": [
       "0.5946394843421738"
      ]
     },
     "execution_count": 66,
     "metadata": {},
     "output_type": "execute_result"
    }
   ],
   "source": [
    "np.log(np.exp(0.7)*0.9)"
   ]
  },
  {
   "cell_type": "code",
   "execution_count": 64,
   "id": "blond-vertical",
   "metadata": {},
   "outputs": [
    {
     "data": {
      "text/plain": [
       "0.09020401043104986"
      ]
     },
     "execution_count": 64,
     "metadata": {},
     "output_type": "execute_result"
    }
   ],
   "source": [
    "1-np.exp(-0.5)-0.5*np.exp(-0.5)"
   ]
  },
  {
   "cell_type": "code",
   "execution_count": null,
   "id": "dependent-apartment",
   "metadata": {},
   "outputs": [],
   "source": []
  }
 ],
 "metadata": {
  "kernelspec": {
   "display_name": "Python 3",
   "language": "python",
   "name": "python3"
  },
  "language_info": {
   "codemirror_mode": {
    "name": "ipython",
    "version": 3
   },
   "file_extension": ".py",
   "mimetype": "text/x-python",
   "name": "python",
   "nbconvert_exporter": "python",
   "pygments_lexer": "ipython3",
   "version": "3.7.10"
  }
 },
 "nbformat": 4,
 "nbformat_minor": 5
}
