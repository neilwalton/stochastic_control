{
 "cells": [
  {
   "cell_type": "code",
   "execution_count": 4,
   "metadata": {},
   "outputs": [],
   "source": [
    "import numpy as np\n",
    "import random"
   ]
  },
  {
   "cell_type": "code",
   "execution_count": 5,
   "metadata": {},
   "outputs": [],
   "source": [
    "def arm(p):\n",
    "    if random.random() < p :\n",
    "        return 1\n",
    "    else :\n",
    "        return 0"
   ]
  },
  {
   "cell_type": "code",
   "execution_count": 172,
   "metadata": {},
   "outputs": [],
   "source": []
  },
  {
   "cell_type": "code",
   "execution_count": 7,
   "metadata": {},
   "outputs": [
    {
     "data": {
      "text/plain": [
       "1"
      ]
     },
     "execution_count": 7,
     "metadata": {},
     "output_type": "execute_result"
    }
   ],
   "source": [
    "arm(p_true[0])"
   ]
  },
  {
   "cell_type": "code",
   "execution_count": 8,
   "metadata": {},
   "outputs": [],
   "source": [
    "from IPython import display"
   ]
  },
  {
   "cell_type": "code",
   "execution_count": null,
   "metadata": {},
   "outputs": [],
   "source": []
  },
  {
   "cell_type": "code",
   "execution_count": 221,
   "metadata": {},
   "outputs": [],
   "source": [
    "p_true = [0.45, 0.55]\n",
    "p = [ .5 , .5]\n",
    "p_tilde = [ None, None]"
   ]
  },
  {
   "cell_type": "code",
   "execution_count": 222,
   "metadata": {},
   "outputs": [
    {
     "name": "stdout",
     "output_type": "stream",
     "text": [
      "p= [0.9862254022565302, 0.013774597743469789]\n"
     ]
    }
   ],
   "source": [
    "for t in range(1,1000):\n",
    "    alpha = (np.min(p)**(2))\n",
    "    #alpha = 1/((t+4))\n",
    "    a = np.random.choice([0,1] , p=p)\n",
    "    #print(a)\n",
    "    L = arm(p_true[a])\n",
    "    #print(L)\n",
    "    # p update\n",
    "    if a == 0 :\n",
    "        p_tilde = [ max(p[0] - alpha * L / p[0],0) , p[1] ]\n",
    "    else :\n",
    "        p_tilde = [ p[0] , max( p[1] - alpha * L / p[1],0) ]\n",
    "        \n",
    "    \n",
    "    # projection\n",
    "    \n",
    "    proj_factor = (1- p_tilde[0] - p_tilde[1])/2\n",
    "    p = [ p_tilde[0] + proj_factor , p_tilde[1] + proj_factor  ] \n",
    "    #print('p_tilde=',p_tilde)\n",
    "    print('p=',p)\n",
    "    display.clear_output(wait=True)"
   ]
  },
  {
   "cell_type": "code",
   "execution_count": 257,
   "metadata": {},
   "outputs": [],
   "source": [
    "p_true = [0.49, 0.51]\n",
    "p = [ .5 , .5]\n",
    "p_tilde = [ None, None]\n",
    "batch_size = 15"
   ]
  },
  {
   "cell_type": "code",
   "execution_count": 258,
   "metadata": {},
   "outputs": [
    {
     "name": "stdout",
     "output_type": "stream",
     "text": [
      "p= [0.8933129452291787, 0.10668705477082133]\n"
     ]
    }
   ],
   "source": [
    "#Batch version\n",
    "\n",
    "for t in range(1,1000):\n",
    "    alpha = (np.min(p)**(2))/batch_size\n",
    "    a = np.random.choice([0,1] , p=p)\n",
    "\n",
    "    L = [0, 0]\n",
    "    for _ in range(batch_size) :\n",
    "        a = np.random.choice([0,1] , p=p)\n",
    "        L[a] += arm(p_true[a])\n",
    "        \n",
    "    # p update\n",
    "    p_tilde = [ max(p[0] - alpha * L[0] / p[0],0) ,\\\n",
    "                max(p[1] - alpha * L[1] / p[1],0) ]\n",
    "    \n",
    "    # projection    \n",
    "    proj_factor = (1- p_tilde[0] - p_tilde[1])/2\n",
    "    p = [ p_tilde[0] + proj_factor , p_tilde[1] + proj_factor  ] \n",
    "    #print('p_tilde=',p_tilde)\n",
    "    print('p=',p)\n",
    "    display.clear_output(wait=True)"
   ]
  },
  {
   "cell_type": "code",
   "execution_count": null,
   "metadata": {},
   "outputs": [],
   "source": []
  },
  {
   "cell_type": "code",
   "execution_count": null,
   "metadata": {},
   "outputs": [],
   "source": []
  }
 ],
 "metadata": {
  "kernelspec": {
   "display_name": "Python 3",
   "language": "python",
   "name": "python3"
  },
  "language_info": {
   "codemirror_mode": {
    "name": "ipython",
    "version": 3
   },
   "file_extension": ".py",
   "mimetype": "text/x-python",
   "name": "python",
   "nbconvert_exporter": "python",
   "pygments_lexer": "ipython3",
   "version": "3.6.3"
  }
 },
 "nbformat": 4,
 "nbformat_minor": 2
}
