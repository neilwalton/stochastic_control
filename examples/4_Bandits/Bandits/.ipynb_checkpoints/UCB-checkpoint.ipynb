{
 "cells": [
  {
   "cell_type": "code",
   "execution_count": 1,
   "metadata": {
    "collapsed": true
   },
   "outputs": [],
   "source": [
    "import numpy as np\n",
    "import random"
   ]
  },
  {
   "cell_type": "code",
   "execution_count": 2,
   "metadata": {
    "collapsed": true
   },
   "outputs": [],
   "source": [
    "import pylab as pl\n",
    "from IPython import display"
   ]
  },
  {
   "cell_type": "code",
   "execution_count": 3,
   "metadata": {
    "collapsed": false
   },
   "outputs": [],
   "source": [
    "'''We introduce the UCB bandit as an object'''\n",
    "class UCB_Bandit:\n",
    "    # We give the bandit a probability and Parameter alpha\n",
    "    def __init__(self,prob,alpha=3.):\n",
    "        self.prob = prob\n",
    "        self.alpha = alpha\n",
    "        self.wins , self.losses = 0. , 0.\n",
    "        self.UCB = np.inf\n",
    "        \n",
    "    # we pull from the arm\n",
    "    def pull(self):\n",
    "        if random.random() < self.prob :\n",
    "            self.wins += 1\n",
    "            return 1.\n",
    "        else:\n",
    "            self.losses += 1        \n",
    "            return 0.\n",
    "       \n",
    "    #As before with sample, but now with upper confidence\n",
    "    def sample(self,time): \n",
    "        self.UCB = self.wins/(self.wins+self.losses) \\\n",
    "                    + 2 * ( ( np.log(time+1) ) * ( self.alpha ) / (self.wins+self.losses)  )**(1./2)\\\n",
    "                    if (self.wins+self.losses) != 0 else np.inf\n",
    "        return self.UCB"
   ]
  },
  {
   "cell_type": "code",
   "execution_count": 4,
   "metadata": {
    "collapsed": false
   },
   "outputs": [],
   "source": [
    "'''We calculate the largest Confidence Bound'''\n",
    "def UCB_Sample(bandits,time):\n",
    "\n",
    "    for bandit in bandits: \n",
    "        bandit.sample(time)\n",
    "    \n",
    "    # Pull the biggest sample\n",
    "    Samples = [bandit.UCB for bandit in bandits] \n",
    "    winner_index = np.argmax(Samples)\n",
    "    reward=bandits[winner_index].pull()\n",
    "    \n",
    "    return reward"
   ]
  },
  {
   "cell_type": "code",
   "execution_count": 7,
   "metadata": {
    "collapsed": false
   },
   "outputs": [],
   "source": [
    "if __name__ == \"__main__\":\n",
    "    \n",
    "    '''Initialize the bandits and number of rounds'''\n",
    "    bandits = [UCB_Bandit(0.1*t) for t in range(10)]\n",
    "    #bandits = [UCB_Bandit(0.55) , UCB_Bandit(0.6)]\n",
    "    T=1000\n",
    "    \n",
    "    '''Initialize the time, rewards and rewards of the bandits'''\n",
    "    times = None\n",
    "    rewards = None\n",
    "    b_rewards = []\n",
    "    for b in range(len(bandits)):\n",
    "        b_rewards = np.append(b_rewards,[None],axis=0) \n",
    "        \n",
    "        '''For T rounds play the arms'''\n",
    "    for t in range(T):\n",
    "        # collect a list of times\n",
    "        times = np.concatenate((times,[t]),axis=0) \\\n",
    "        if times is not None else [t]\n",
    "        # collect a list of Thompson Sample Rewards\n",
    "        rewards = np.concatenate((rewards,[rewards[-1]+UCB_Sample(bandits,t)]),axis=0) \\\n",
    "        if rewards is not None else [UCB_Sample(bandits,t)]\n",
    "\n",
    "        # collect a list of rewards to date\n",
    "        for b in range(len(bandits)):            \n",
    "            b_rewards[b] = np.concatenate((b_rewards[b],[bandits[b].wins]),axis=0) \\\n",
    "            if b_rewards[b] is not None else [bandits[b].wins]\n",
    "        \n",
    "        \n",
    "\n"
   ]
  },
  {
   "cell_type": "code",
   "execution_count": 8,
   "metadata": {
    "collapsed": false
   },
   "outputs": [
    {
     "data": {
      "image/png": "[encoded data removed]",
      "text/plain": [
       "<matplotlib.figure.Figure at 0x10d5ea8d0>"
      ]
     },
     "metadata": {},
     "output_type": "display_data"
    }
   ],
   "source": [
    "'''Now plot each bandit and the TS rewards'''\n",
    "display.clear_output()\n",
    "for b in range(len(bandits)):\n",
    "    pl.plot(times,b_rewards[b], color=(0.5/(b+1), 1./(b+1),1./(b+1)))\n",
    "pl.plot(times,rewards, color='r') \n",
    "display.display(pl.gcf())\n",
    "pl.clf()"
   ]
  },
  {
   "cell_type": "code",
   "execution_count": null,
   "metadata": {
    "collapsed": true
   },
   "outputs": [],
   "source": []
  }
 ],
 "metadata": {
  "kernelspec": {
   "display_name": "Python 3",
   "language": "python",
   "name": "python3"
  },
  "language_info": {
   "codemirror_mode": {
    "name": "ipython",
    "version": 3
   },
   "file_extension": ".py",
   "mimetype": "text/x-python",
   "name": "python",
   "nbconvert_exporter": "python",
   "pygments_lexer": "ipython3",
   "version": "3.6.0"
  }
 },
 "nbformat": 4,
 "nbformat_minor": 2
}
