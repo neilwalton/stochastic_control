{
 "cells": [
  {
   "cell_type": "code",
   "execution_count": 1,
   "metadata": {
    "collapsed": false
   },
   "outputs": [],
   "source": [
    "import numpy as np\n",
    "import random\n",
    "from random import betavariate as beta"
   ]
  },
  {
   "cell_type": "code",
   "execution_count": 2,
   "metadata": {
    "collapsed": true
   },
   "outputs": [],
   "source": [
    "import pylab as pl\n",
    "from IPython import display"
   ]
  },
  {
   "cell_type": "code",
   "execution_count": 3,
   "metadata": {
    "collapsed": false
   },
   "outputs": [],
   "source": [
    "''' Introduce a bandit as an object '''\n",
    "class Thompson_Bandit:\n",
    "    #  We give bandit a probability and a prior\n",
    "    #  We maintain wins, losses and a posterior sample\n",
    "    def __init__(self,prob,a=1,b=1):  \n",
    "        self.prob = prob\n",
    "        self.a , self.b = a , b\n",
    "        self.wins , self.losses = 0 , 0\n",
    "        self.X = beta( self.wins + self.a , self.losses + self.b )\n",
    "       \n",
    "    # we pull from the arm\n",
    "    def pull(self):\n",
    "        if random.random() < self.prob :\n",
    "            self.wins += 1\n",
    "            return 1.\n",
    "        else:\n",
    "            self.losses += 1        \n",
    "            return 0.\n",
    "    \n",
    "    # We sample from the posterior\n",
    "    def sample(self):\n",
    "        self.X = beta( self.wins + self.a , self.losses + self.b)\n",
    "        return self.X"
   ]
  },
  {
   "cell_type": "code",
   "execution_count": 4,
   "metadata": {
    "collapsed": false
   },
   "outputs": [],
   "source": [
    "''' Function takes an array of bandits and plays the best sample '''\n",
    "def Thompson_Sample(bandits):\n",
    "    # Sample from the posterior of each arm\n",
    "    for bandit in bandits: \n",
    "        bandit.sample()\n",
    "    \n",
    "    # Pull the biggest sample\n",
    "    Samples = [bandit.X for bandit in bandits] \n",
    "    winner_index = np.argmax(Samples)\n",
    "    reward=bandits[winner_index].pull() \n",
    "    return reward"
   ]
  },
  {
   "cell_type": "code",
   "execution_count": 6,
   "metadata": {
    "collapsed": false
   },
   "outputs": [],
   "source": [
    "if __name__ == \"__main__\":\n",
    "    \n",
    "    '''Initialize the bandits and number of rounds'''\n",
    "    bandits = [Thompson_Bandit(0.05*t) for t in range(20)]\n",
    "    T=1000\n",
    "    \n",
    "    '''Initialize the time, rewards and rewards of the bandits'''\n",
    "    times = None\n",
    "    rewards = None\n",
    "    b_rewards = []\n",
    "    for b in range(len(bandits)):\n",
    "        b_rewards = np.append(b_rewards,[None],axis=0) \n",
    "    \n",
    "    '''For T rounds play the arms'''\n",
    "    for t in range(T):\n",
    "        # collect a list of times\n",
    "        times = np.concatenate((times,[t]),axis=0) \\\n",
    "        if times is not None else [t]\n",
    "        # collect a list of Thompson Sample Rewards\n",
    "        rewards = np.concatenate((rewards,[rewards[-1]+Thompson_Sample(bandits)]),axis=0) \\\n",
    "        if rewards is not None else [Thompson_Sample(bandits)]\n",
    "\n",
    "        # collect a list of rewards to date\n",
    "        for b in range(len(bandits)):            \n",
    "            b_rewards[b] = np.concatenate((b_rewards[b],[bandits[b].wins]),axis=0) \\\n",
    "            if b_rewards[b] is not None else [bandits[b].wins]\n",
    "        \n",
    "        \n",
    "        \n",
    "    "
   ]
  },
  {
   "cell_type": "code",
   "execution_count": 7,
   "metadata": {
    "collapsed": false
   },
   "outputs": [
    {
     "data": {
      "image/png": "[encoded data removed]",
      "text/plain": [
       "<matplotlib.figure.Figure at 0x112da7518>"
      ]
     },
     "metadata": {},
     "output_type": "display_data"
    }
   ],
   "source": [
    "'''Now plot each bandit and the TS rewards'''\n",
    "display.clear_output()\n",
    "for b in range(len(bandits)):\n",
    "    pl.plot(times,b_rewards[b], color=(0.5/(b+1), 1./(b+1),1./(b+1)))\n",
    "pl.plot(times,rewards, color='r') \n",
    "display.display(pl.gcf())\n",
    "pl.clf()"
   ]
  },
  {
   "cell_type": "code",
   "execution_count": null,
   "metadata": {
    "collapsed": true
   },
   "outputs": [],
   "source": []
  }
 ],
 "metadata": {
  "kernelspec": {
   "display_name": "Python 3",
   "language": "python",
   "name": "python3"
  },
  "language_info": {
   "codemirror_mode": {
    "name": "ipython",
    "version": 3
   },
   "file_extension": ".py",
   "mimetype": "text/x-python",
   "name": "python",
   "nbconvert_exporter": "python",
   "pygments_lexer": "ipython3",
   "version": "3.6.0"
  }
 },
 "nbformat": 4,
 "nbformat_minor": 2
}
