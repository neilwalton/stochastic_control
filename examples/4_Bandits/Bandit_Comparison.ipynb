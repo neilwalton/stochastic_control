{
 "cells": [
  {
   "cell_type": "code",
   "execution_count": 1,
   "metadata": {},
   "outputs": [],
   "source": [
    "import sys, os\n",
    "sys.path.insert(0,'/Users/mbbssnw3/Dropbox (The University of Manchester)/ACTIVE/COURSE--OptContFinance/code/stochastic_control')"
   ]
  },
  {
   "cell_type": "code",
   "execution_count": 2,
   "metadata": {},
   "outputs": [],
   "source": [
    "import numpy as np\n",
    "from stochastic_control.bandits.bandits import *\n",
    "from time import time\n",
    "from IPython.display import clear_output"
   ]
  },
  {
   "cell_type": "code",
   "execution_count": 300,
   "metadata": {},
   "outputs": [
    {
     "name": "stdout",
     "output_type": "stream",
     "text": [
      "The autoreload extension is already loaded. To reload it, use:\n",
      "  %reload_ext autoreload\n"
     ]
    }
   ],
   "source": [
    "%load_ext autoreload\n",
    "%autoreload 2"
   ]
  },
  {
   "cell_type": "markdown",
   "metadata": {},
   "source": [
    "# SAMBA no cooling"
   ]
  },
  {
   "cell_type": "markdown",
   "metadata": {},
   "source": [
    "- Add number of times each arm is tried\n",
    "- Add total reward from each arm"
   ]
  },
  {
   "cell_type": "code",
   "execution_count": 767,
   "metadata": {},
   "outputs": [],
   "source": [
    "probs = [0.9, 0.8, 0.7, 0.6, 0.5, 0.4, 0.3, 0.2, 0.1]"
   ]
  },
  {
   "cell_type": "code",
   "execution_count": 768,
   "metadata": {},
   "outputs": [
    {
     "name": "stdout",
     "output_type": "stream",
     "text": [
      "869221.0\n",
      "895714.0\n",
      "899276.0\n",
      "799583.0\n"
     ]
    }
   ],
   "source": [
    "Ps = dict()\n",
    "for alp in [0.001, 0.01, 0.1, 0.5]:\n",
    "    bandit = samba_bandit(len(probs),alpha=alp)\n",
    "    Arms = Bernoulli_multiarm(probs)\n",
    "    samba_probs = []\n",
    "    Time = 1000000\n",
    "    for _ in range(Time):\n",
    "        arm = bandit.act()\n",
    "        reward = Arms[arm].pull()\n",
    "        bandit.train(arm,reward)\n",
    "        samba_probs.append(np.array(bandit.probs))\n",
    "    Arms.rewards()\n",
    "    print(np.sum(Arms.rewards()))\n",
    "    Ps[alp] = [1-samba_probs[i][0] for i in range(len(samba_probs))]"
   ]
  },
  {
   "cell_type": "code",
   "execution_count": 771,
   "metadata": {},
   "outputs": [
    {
     "data": {
      "image/png": "[encoded data removed]",
      "text/plain": [
       "<Figure size 432x288 with 1 Axes>"
      ]
     },
     "metadata": {},
     "output_type": "display_data"
    }
   ],
   "source": [
    "import matplotlib\n",
    "import matplotlib.pyplot as plt\n",
    "\n",
    "# Data for plotting\n",
    "t = np.arange(1, Time+1, 1)\n",
    "\n",
    "fig, ax = plt.subplots()\n",
    "ax.loglog(t, Ps[0.001], label='alpha=0.001')#, t, Ps[0.01], t, Ps[0.1], t, Ps[0.5], t, 100/t)\n",
    "ax.loglog(t, Ps[0.01], label='alpha=0.01')\n",
    "ax.loglog(t, Ps[0.1], label='alpha=0.1')\n",
    "ax.loglog(t, Ps[0.5], label='alpha=0.5')\n",
    "ax.loglog(t, 100/t, label='p=100/t')\n",
    "ax.set(xlabel='time (s)', ylabel='probability of sub-optimal arms')#, title='SAMBA without cooling')\n",
    "ax.grid()\n",
    "plt.legend()\n",
    "\n",
    "fig.savefig(\"SAMBA_no_cool.pdf\", format='pdf', dpi=1000)\n",
    "fig.savefig('destination_path.eps', format='eps', dpi=1000)\n",
    "plt.show()"
   ]
  },
  {
   "cell_type": "code",
   "execution_count": 248,
   "metadata": {},
   "outputs": [],
   "source": [
    "Ps08 = [1-samba_probs[i][0] for i in range(len(samba_probs))]"
   ]
  },
  {
   "cell_type": "markdown",
   "metadata": {},
   "source": [
    "# SAMBA with Cooling"
   ]
  },
  {
   "cell_type": "code",
   "execution_count": 760,
   "metadata": {},
   "outputs": [],
   "source": [
    "probs = [0.9, 0.8, 0.7, 0.6, 0.5, 0.4, 0.3, 0.2, 0.1]"
   ]
  },
  {
   "cell_type": "code",
   "execution_count": 761,
   "metadata": {},
   "outputs": [
    {
     "name": "stdout",
     "output_type": "stream",
     "text": [
      "881280.0\n",
      "896582.0\n",
      "899330.0\n"
     ]
    }
   ],
   "source": [
    "Ps = dict()\n",
    "alphas = [0.01, 0.1, 1.]\n",
    "for alp in alphas:\n",
    "    bandit = samba_bandit(len(probs),alpha=alp, cooling=True)\n",
    "    Arms = Bernoulli_multiarm(probs)\n",
    "    samba_probs = []\n",
    "    Time = 1000000\n",
    "    for _ in range(Time):\n",
    "        arm = bandit.act()\n",
    "        reward = Arms[arm].pull()\n",
    "        bandit.train(arm,reward)\n",
    "        samba_probs.append(np.array(bandit.probs))\n",
    "    Arms.rewards()\n",
    "    print(np.sum(Arms.rewards()))\n",
    "    Ps[alp] = [1-samba_probs[i][0] for i in range(len(samba_probs))]"
   ]
  },
  {
   "cell_type": "code",
   "execution_count": 766,
   "metadata": {},
   "outputs": [
    {
     "data": {
      "image/png": "[encoded data removed]",
      "text/plain": [
       "<Figure size 432x288 with 1 Axes>"
      ]
     },
     "metadata": {},
     "output_type": "display_data"
    }
   ],
   "source": [
    "import matplotlib\n",
    "import matplotlib.pyplot as plt\n",
    "\n",
    "# Data for plotting\n",
    "t = np.arange(1, Time+1, 1)\n",
    "\n",
    "fig, ax = plt.subplots()\n",
    "for alp in alphas:\n",
    "    ax.loglog(t, Ps[alp], label='beta='+str(alp))#, t, Ps[0.01], t, Ps[0.1], t, Ps[0.5], t, 100/t)\n",
    "# ax.loglog(t, Ps[0.01], label='alpha=0.01')\n",
    "# ax.loglog(t, Ps[0.1], label='alpha=0.1')\n",
    "# ax.loglog(t, Ps[0.5], label='alpha=0.5')\n",
    "ax.loglog(t, 100/t, label='p=100/t')\n",
    "ax.set(xlabel='time', ylabel='probability of sub-optimal arms')#, title='SAMBA with cooling')\n",
    "ax.grid()\n",
    "plt.legend()\n",
    "\n",
    "fig.savefig(\"test.png\")\n",
    "fig.savefig(\"test.pdf\", format='pdf', dpi=1000)\n",
    "fig.savefig('destination_path.eps', format='eps', dpi=1000)\n",
    "plt.show()"
   ]
  },
  {
   "cell_type": "markdown",
   "metadata": {},
   "source": [
    "## 5 random arms"
   ]
  },
  {
   "cell_type": "code",
   "execution_count": 310,
   "metadata": {},
   "outputs": [],
   "source": [
    "probs = [ [np.random.rand() for _ in range(5)] for __ in range(1000)]"
   ]
  },
  {
   "cell_type": "code",
   "execution_count": 316,
   "metadata": {},
   "outputs": [
    {
     "data": {
      "text/plain": [
       "0.8065175201168608"
      ]
     },
     "execution_count": 316,
     "metadata": {},
     "output_type": "execute_result"
    }
   ],
   "source": [
    "np.max(probs[0])"
   ]
  },
  {
   "cell_type": "code",
   "execution_count": 314,
   "metadata": {},
   "outputs": [
    {
     "name": "stdout",
     "output_type": "stream",
     "text": [
      "5475.1752011686085\n"
     ]
    }
   ],
   "source": [
    "bandit = epsilon_greedy_bandit(len(probs[0]),.1)\n",
    "Arms = Bernoulli_multiarm(probs[0])\n",
    "total_reward = 0.\n",
    "for _ in range(10000):\n",
    "    arm = bandit.act()\n",
    "    reward = Arms[arm].pull()\n",
    "    bandit.train(arm,reward)\n",
    "    total_reward = \n",
    "Arms.rewards()\n",
    "print(10000*np.max(probs[0])- np.sum(Arms.rewards()))"
   ]
  },
  {
   "cell_type": "code",
   "execution_count": 134,
   "metadata": {},
   "outputs": [
    {
     "data": {
      "text/plain": [
       "[43.0, 230.0, 8409.0]"
      ]
     },
     "execution_count": 134,
     "metadata": {},
     "output_type": "execute_result"
    }
   ],
   "source": [
    "Arms.rewards()"
   ]
  },
  {
   "cell_type": "code",
   "execution_count": 135,
   "metadata": {},
   "outputs": [
    {
     "name": "stdout",
     "output_type": "stream",
     "text": [
      "8784.0\n"
     ]
    }
   ],
   "source": [
    "bandit = epsilon_greedy_bandit(3,100.,decay=True)\n",
    "Arms = Bernoulli_multiarm([0.1,0.8,0.9])\n",
    "for _ in range(10000):\n",
    "    arm = bandit.act()\n",
    "    reward = Arms[arm].pull()\n",
    "    bandit.train(arm,reward)\n",
    "Arms.rewards()\n",
    "print(np.sum(Arms.rewards()))"
   ]
  },
  {
   "cell_type": "code",
   "execution_count": 136,
   "metadata": {},
   "outputs": [
    {
     "name": "stdout",
     "output_type": "stream",
     "text": [
      "8917.0\n"
     ]
    }
   ],
   "source": [
    "bandit = exp3_bandit(3)\n",
    "Arms = Bernoulli_multiarm([0.1,0.8,0.9])\n",
    "for _ in range(10000):\n",
    "    arm = bandit.act()\n",
    "    reward = Arms[arm].pull()\n",
    "    bandit.train(arm,reward)\n",
    "Arms.rewards()\n",
    "print(np.sum(Arms.rewards()))"
   ]
  },
  {
   "cell_type": "code",
   "execution_count": 137,
   "metadata": {},
   "outputs": [
    {
     "name": "stdout",
     "output_type": "stream",
     "text": [
      "8967.0\n"
     ]
    }
   ],
   "source": [
    "bandit = samba_bandit(3,alpha=0.1)\n",
    "Arms = Bernoulli_multiarm([0.1,0.8,0.9])\n",
    "for _ in range(10000):\n",
    "    arm = bandit.act()\n",
    "    reward = Arms[arm].pull()\n",
    "    bandit.train(arm,reward)\n",
    "Arms.rewards()\n",
    "print(np.sum(Arms.rewards()))"
   ]
  },
  {
   "cell_type": "code",
   "execution_count": 138,
   "metadata": {},
   "outputs": [
    {
     "name": "stdout",
     "output_type": "stream",
     "text": [
      "8955.0\n"
     ]
    }
   ],
   "source": [
    "bandit = samba_bandit(3,alpha=1.0,cooling=True)\n",
    "Arms = Bernoulli_multiarm([0.1,0.8,0.9])\n",
    "for _ in range(10000):\n",
    "    arm = bandit.act()\n",
    "    reward = Arms[arm].pull()\n",
    "    bandit.train(arm,reward)\n",
    "Arms.rewards()\n",
    "print(np.sum(Arms.rewards()))"
   ]
  },
  {
   "cell_type": "code",
   "execution_count": 139,
   "metadata": {},
   "outputs": [
    {
     "name": "stdout",
     "output_type": "stream",
     "text": [
      "9024.0\n"
     ]
    }
   ],
   "source": [
    "bandit = Thompson_bandit(3)\n",
    "Arms = Bernoulli_multiarm([0.1,0.8,0.9])\n",
    "for _ in range(10000):\n",
    "    arm = bandit.act()\n",
    "    reward = Arms[arm].pull()\n",
    "    bandit.train(arm,reward)\n",
    "Arms.rewards()\n",
    "print(np.sum(Arms.rewards()))"
   ]
  },
  {
   "cell_type": "code",
   "execution_count": 140,
   "metadata": {},
   "outputs": [
    {
     "name": "stdout",
     "output_type": "stream",
     "text": [
      "7951.0\n"
     ]
    }
   ],
   "source": [
    "bandit = UCB_bandit(3)\n",
    "Arms = Bernoulli_multiarm([0.1,0.8,0.9])\n",
    "for _ in range(10000):\n",
    "    arm = bandit.act()\n",
    "    reward = Arms[arm].pull()\n",
    "    bandit.train(arm,reward)\n",
    "Arms.rewards()\n",
    "print(np.sum(Arms.rewards()))"
   ]
  },
  {
   "cell_type": "code",
   "execution_count": 308,
   "metadata": {},
   "outputs": [
    {
     "name": "stdout",
     "output_type": "stream",
     "text": [
      "8948.0\n"
     ]
    }
   ],
   "source": [
    "bandit = Gradient_Bandit_Algorithm(3,0.1)\n",
    "Arms = Bernoulli_multiarm([0.1,0.8,0.9])\n",
    "for _ in range(10000):\n",
    "    arm = bandit.act()\n",
    "    reward = Arms[arm].pull()\n",
    "    bandit.train(arm,reward)\n",
    "Arms.rewards()\n",
    "print(np.sum(Arms.rewards()))"
   ]
  },
  {
   "cell_type": "markdown",
   "metadata": {},
   "source": [
    "## Basic setup"
   ]
  },
  {
   "cell_type": "code",
   "execution_count": 773,
   "metadata": {},
   "outputs": [],
   "source": [
    "Time = 1000\n",
    "num_experiments = 1000\n",
    "probs = np.array([0.1,0.5,0.8,0.9])\n",
    "Data = dict()"
   ]
  },
  {
   "cell_type": "code",
   "execution_count": 774,
   "metadata": {},
   "outputs": [
    {
     "name": "stdout",
     "output_type": "stream",
     "text": [
      "485.697\n"
     ]
    }
   ],
   "source": [
    "All_rewards = np.zeros(Time)\n",
    "for __ in range(num_experiments):\n",
    "    bandit = epsilon_greedy_bandit(4,.1)\n",
    "    Arms = Bernoulli_multiarm(probs)\n",
    "    rewards = []\n",
    "    tot_reward = 0.\n",
    "    for _ in range(Time):\n",
    "        arm = bandit.act()\n",
    "        reward = Arms[arm].pull()\n",
    "        bandit.train(arm,reward)\n",
    "\n",
    "        tot_reward += reward\n",
    "        rewards.append(tot_reward)\n",
    "    All_rewards += np.array(rewards)\n",
    "    print(__,'/',num_experiments)\n",
    "    clear_output(wait=True)\n",
    "    \n",
    "Av_rewards = All_rewards/num_experiments\n",
    "Regret = [ np.max(probs)*t - av for t, av in enumerate(Av_rewards)]\n",
    "Data['Greedy']=Regret\n",
    "print(Regret[-1])"
   ]
  },
  {
   "cell_type": "code",
   "execution_count": 775,
   "metadata": {},
   "outputs": [
    {
     "name": "stdout",
     "output_type": "stream",
     "text": [
      "130.53600000000006\n"
     ]
    }
   ],
   "source": [
    "\n",
    "All_rewards = np.zeros(Time)\n",
    "\n",
    "for __ in range(num_experiments):\n",
    "    bandit = epsilon_greedy_bandit(4,100.,decay=True)\n",
    "    Arms = Bernoulli_multiarm(probs)\n",
    "    rewards = []\n",
    "    tot_reward = 0.\n",
    "    for _ in range(Time):\n",
    "        arm = bandit.act()\n",
    "        reward = Arms[arm].pull()\n",
    "        bandit.train(arm,reward)\n",
    "\n",
    "        tot_reward += reward\n",
    "        rewards.append(tot_reward)\n",
    "    All_rewards += np.array(rewards)\n",
    "    print(__,'/',num_experiments)\n",
    "    clear_output(wait=True)\n",
    "    \n",
    "Av_rewards = All_rewards/num_experiments\n",
    "Regret = [ np.max(probs)*t - av for t, av in enumerate(Av_rewards)]\n",
    "print(Regret[-1])\n",
    "Data['Greedy_Decay']=Regret"
   ]
  },
  {
   "cell_type": "code",
   "execution_count": 776,
   "metadata": {},
   "outputs": [
    {
     "name": "stdout",
     "output_type": "stream",
     "text": [
      "46.322\n"
     ]
    }
   ],
   "source": [
    "\n",
    "All_rewards = np.zeros(Time)\n",
    "\n",
    "for __ in range(num_experiments):\n",
    "    bandit = exp3_bandit(4)\n",
    "    Arms = Bernoulli_multiarm(probs)\n",
    "    rewards = []\n",
    "    tot_reward = 0.\n",
    "    for _ in range(Time):\n",
    "\n",
    "        arm = bandit.act()\n",
    "        reward = Arms[arm].pull()\n",
    "        bandit.train(arm,reward)\n",
    "\n",
    "        tot_reward += reward\n",
    "        rewards.append(tot_reward)\n",
    "    All_rewards += np.array(rewards)\n",
    "    print(__,'/',num_experiments)\n",
    "    clear_output(wait=True)\n",
    "    \n",
    "Av_rewards = All_rewards/num_experiments\n",
    "Regret = [ np.max(probs)*t - av for t, av in enumerate(Av_rewards)]\n",
    "print(Regret[-1])\n",
    "Data['Exp3']=Regret"
   ]
  },
  {
   "cell_type": "code",
   "execution_count": 777,
   "metadata": {},
   "outputs": [
    {
     "name": "stdout",
     "output_type": "stream",
     "text": [
      "80.24900000000002\n"
     ]
    }
   ],
   "source": [
    "\n",
    "All_rewards = np.zeros(Time)\n",
    "\n",
    "for __ in range(num_experiments):\n",
    "    bandit = samba_bandit(4,alpha=0.1)\n",
    "    Arms = Bernoulli_multiarm(probs)\n",
    "    rewards = []\n",
    "    tot_reward = 0.\n",
    "    for _ in range(Time):\n",
    "        arm = bandit.act()\n",
    "        reward = Arms[arm].pull()\n",
    "        bandit.train(arm,reward)\n",
    "        \n",
    "        tot_reward += reward\n",
    "        rewards.append(tot_reward)\n",
    "    All_rewards += np.array(rewards)\n",
    "    print(__,'/',num_experiments)\n",
    "    clear_output(wait=True)\n",
    "    \n",
    "Av_rewards = All_rewards/num_experiments\n",
    "Regret = [ np.max(probs)*t - av for t, av in enumerate(Av_rewards)]\n",
    "print(Regret[-1])\n",
    "Data['Samba']=Regret"
   ]
  },
  {
   "cell_type": "code",
   "execution_count": 778,
   "metadata": {},
   "outputs": [
    {
     "name": "stdout",
     "output_type": "stream",
     "text": [
      "61.442999999999984\n"
     ]
    }
   ],
   "source": [
    "\n",
    "All_rewards = np.zeros(Time)\n",
    "\n",
    "for __ in range(num_experiments):\n",
    "    bandit = samba_bandit(4,alpha=1.0,cooling=True)\n",
    "    Arms = Bernoulli_multiarm(probs)\n",
    "    rewards = []\n",
    "    tot_reward = 0.\n",
    "    for _ in range(Time):\n",
    "        arm = bandit.act()\n",
    "        reward = Arms[arm].pull()\n",
    "        bandit.train(arm,reward)\n",
    "\n",
    "        tot_reward += reward\n",
    "        rewards.append(tot_reward)\n",
    "    All_rewards += np.array(rewards)\n",
    "    print(__,'/',num_experiments)\n",
    "    clear_output(wait=True)\n",
    "\n",
    "Av_rewards = All_rewards/num_experiments\n",
    "Regret = [ np.max(probs)*t - av for t, av in enumerate(Av_rewards)]\n",
    "print(Regret[-1])\n",
    "Data['Samba_Cool']=Regret"
   ]
  },
  {
   "cell_type": "code",
   "execution_count": 779,
   "metadata": {},
   "outputs": [
    {
     "name": "stdout",
     "output_type": "stream",
     "text": [
      "12.017000000000053\n"
     ]
    }
   ],
   "source": [
    "\n",
    "All_rewards = np.zeros(Time)\n",
    "\n",
    "for __ in range(num_experiments):\n",
    "    bandit = Thompson_bandit(4)\n",
    "    Arms = Bernoulli_multiarm(probs)\n",
    "    rewards = []\n",
    "    tot_reward = 0.\n",
    "    for _ in range(Time):\n",
    "        arm = bandit.act()\n",
    "        reward = Arms[arm].pull()\n",
    "        bandit.train(arm,reward)\n",
    "\n",
    "        tot_reward += reward\n",
    "        rewards.append(tot_reward)\n",
    "    All_rewards += np.array(rewards)\n",
    "    print(__,'/',num_experiments)\n",
    "    clear_output(wait=True)\n",
    "\n",
    "Av_rewards = All_rewards/num_experiments\n",
    "Regret = [ np.max(probs)*t - av for t, av in enumerate(Av_rewards)]\n",
    "print(Regret[-1])\n",
    "Data['Thompson']=Regret"
   ]
  },
  {
   "cell_type": "code",
   "execution_count": 780,
   "metadata": {},
   "outputs": [
    {
     "name": "stdout",
     "output_type": "stream",
     "text": [
      "71.61300000000006\n"
     ]
    }
   ],
   "source": [
    "\n",
    "All_rewards = np.zeros(Time)\n",
    "probs = np.array(probs)\n",
    "\n",
    "for __ in range(num_experiments):\n",
    "    bandit = UCB_bandit(4)\n",
    "    Arms = Bernoulli_multiarm(probs)\n",
    "    rewards = []\n",
    "    tot_reward = 0.\n",
    "    for _ in range(Time):\n",
    "        arm = bandit.act()\n",
    "        reward = Arms[arm].pull()\n",
    "        bandit.train(arm,reward)\n",
    "\n",
    "        tot_reward += reward\n",
    "        rewards.append(tot_reward)\n",
    "    All_rewards += np.array(rewards)\n",
    "    print(__,'/',num_experiments)\n",
    "    clear_output(wait=True)\n",
    "\n",
    "Av_rewards = All_rewards/num_experiments\n",
    "Regret = [ np.max(probs)*t - av for t, av in enumerate(Av_rewards)]\n",
    "print(Regret[-1])\n",
    "Data['UCB']=Regret"
   ]
  },
  {
   "cell_type": "code",
   "execution_count": 781,
   "metadata": {},
   "outputs": [
    {
     "name": "stdout",
     "output_type": "stream",
     "text": [
      "61.68799999999999\n"
     ]
    }
   ],
   "source": [
    "\n",
    "All_rewards = np.zeros(Time)\n",
    "\n",
    "for __ in range(num_experiments):\n",
    "    bandit = Gradient_Bandit_Algorithm(4,0.1)\n",
    "    Arms = Bernoulli_multiarm(probs)\n",
    "    rewards = []\n",
    "    tot_reward = 0.\n",
    "    for _ in range(Time):\n",
    "        arm = bandit.act()\n",
    "        reward = Arms[arm].pull()\n",
    "        bandit.train(arm,reward)\n",
    "\n",
    "        tot_reward += reward\n",
    "        rewards.append(tot_reward)\n",
    "    All_rewards += np.array(rewards)\n",
    "    print(__,'/',num_experiments)\n",
    "    clear_output(wait=True)\n",
    "\n",
    "Av_rewards = All_rewards/num_experiments\n",
    "Regret = [ np.max(probs)*t - av for t, av in enumerate(Av_rewards)]\n",
    "print(Regret[-1])\n",
    "Data['GBA']=Regret"
   ]
  },
  {
   "cell_type": "code",
   "execution_count": 784,
   "metadata": {},
   "outputs": [
    {
     "data": {
      "image/png": "[encoded data removed]",
      "text/plain": [
       "<Figure size 432x288 with 1 Axes>"
      ]
     },
     "metadata": {},
     "output_type": "display_data"
    }
   ],
   "source": [
    "import matplotlib\n",
    "import matplotlib.pyplot as plt\n",
    "\n",
    "# Data for plotting\n",
    "t = np.arange(1, Time+1, 1)\n",
    "plt.close()\n",
    "fig, ax = plt.subplots()\n",
    "\n",
    "ax.plot(Data['Greedy'],label='Greedy')\n",
    "ax.plot(Data['Greedy_Decay'],label='Greedy (decaying)')\n",
    "ax.plot(Data['Exp3'],label='Exp3')\n",
    "ax.plot(Data['Samba'],label='SAMBA')\n",
    "ax.plot(Data['Samba_Cool'],label='SAMBA (cooling)')\n",
    "ax.plot(Data['Thompson'],label='Thompson')\n",
    "ax.plot(Data['UCB'],label='UCB')\n",
    "ax.plot(Data['GBA'],label='Gradient Bandit')#, t, Ps[0.01], t, Ps[0.1], t, Ps[0.5], t, 100/t)\n",
    "# ax.loglog(t, Ps[0.01], label='alpha=0.01')\n",
    "# ax.loglog(t, Ps[0.1], label='alpha=0.1')\n",
    "# ax.loglog(t, Ps[0.5], label='alpha=0.5')\n",
    "ax.set(xlabel='Time', ylabel='Regret', title='arm probabilities=[0.1,0.5,0.8,0.9]')\n",
    "ax.grid()\n",
    "plt.xlim(0,1000)\n",
    "plt.ylim(0,150)\n",
    "#plt.text(1010,Data['Greedy'][-1],'Greedy',fontsize=8)\n",
    "plt.text(1010,Data['Greedy_Decay'][-1]-1.5,'Greedy-d',fontsize=8)\n",
    "plt.text(1010,Data['Exp3'][-1],'Exp3',fontsize=8)\n",
    "plt.text(1010,Data['Samba'][-1],'SAMBA',fontsize=8)\n",
    "plt.text(1010,Data['Samba_Cool'][-1]-4,'SAMBA-c',fontsize=8)\n",
    "plt.text(1010,Data['Thompson'][-1]-2,'Thomp.',fontsize=8)\n",
    "plt.text(1010,Data['UCB'][-1]+2,'UCB',fontsize=8)\n",
    "plt.text(1010,Data['GBA'][-1]-1,'GBA',fontsize=8)\n",
    "plt.legend()\n",
    "#plt.autoscale()\n",
    "\n",
    "fig.savefig(\"test.pdf\", format='pdf', dpi=1000)\n",
    "fig.savefig('destination_path.eps', format='eps', dpi=1000)\n",
    "plt.show()"
   ]
  },
  {
   "cell_type": "code",
   "execution_count": null,
   "metadata": {},
   "outputs": [],
   "source": []
  },
  {
   "cell_type": "markdown",
   "metadata": {},
   "source": [
    "## 2nd setup\n",
    "Notes -- Generally methods outperform UCB for small numbers of arms. For larger numbers of arms adaptions to the arguments may be needed."
   ]
  },
  {
   "cell_type": "code",
   "execution_count": 570,
   "metadata": {},
   "outputs": [],
   "source": [
    "probs = [ [np.random.rand() for _ in range(2)] for __ in range(200)]"
   ]
  },
  {
   "cell_type": "code",
   "execution_count": 685,
   "metadata": {},
   "outputs": [],
   "source": [
    "Time = 1000\n",
    "probs = dict()\n",
    "for num_arms in [20, 40, 60, 80, 100]:\n",
    "    probs[num_arms] = [ [np.random.rand()/10 for _ in range(num_arms)] for __ in range(100)]"
   ]
  },
  {
   "cell_type": "code",
   "execution_count": 686,
   "metadata": {},
   "outputs": [
    {
     "name": "stdout",
     "output_type": "stream",
     "text": [
      "52.28\n",
      "59.0161452293396\n",
      "52.28\n"
     ]
    }
   ],
   "source": [
    "\n",
    "tic = time()\n",
    "Thomp_results = []\n",
    "for num_arms in [20, 40, 60, 80, 100]:\n",
    "    Thompson_all_rewards = []\n",
    "    for idx, prob in enumerate(probs[num_arms]):\n",
    "        rewards = []\n",
    "        bandit = Thompson_bandit(len(prob))\n",
    "        Arms = Bernoulli_multiarm(prob)\n",
    "        for _ in range(Time):\n",
    "            arm = bandit.act()\n",
    "            reward = Arms[arm].pull()\n",
    "            bandit.train(arm,reward)\n",
    "            rewards.append(np.sum(Arms.rewards()))    \n",
    "        Thompson_all_rewards.append(rewards)\n",
    "        print(idx)\n",
    "        clear_output(wait=True)\n",
    "    \n",
    "    print(np.mean([Thompson_all_rewards[i][-1] for i in range(len(Thompson_all_rewards)) ]))\n",
    "    Thomp_results.append(np.mean([Thompson_all_rewards[i][-1] for i in range(len(Thompson_all_rewards)) ]))\n",
    "    \n",
    "toc = time()    \n",
    "print(toc-tic)\n",
    "print(np.mean([Thompson_all_rewards[i][-1] for i in range(len(Thompson_all_rewards)) ]))"
   ]
  },
  {
   "cell_type": "code",
   "execution_count": 687,
   "metadata": {},
   "outputs": [
    {
     "data": {
      "text/plain": [
       "[59.84, 56.28, 55.71, 52.92, 52.28]"
      ]
     },
     "execution_count": 687,
     "metadata": {},
     "output_type": "execute_result"
    }
   ],
   "source": [
    "Thomp_results"
   ]
  },
  {
   "cell_type": "code",
   "execution_count": 688,
   "metadata": {},
   "outputs": [
    {
     "name": "stdout",
     "output_type": "stream",
     "text": [
      "74.71\n",
      "93.29404973983765\n",
      "74.71\n"
     ]
    }
   ],
   "source": [
    "tic = time()\n",
    "ucb_results = []\n",
    "for num_arms in [20, 40, 60, 80, 100]:\n",
    "\n",
    "    ucb_all_rewards = []\n",
    "    for idx, prob in enumerate(probs[num_arms]):\n",
    "        rewards = []\n",
    "        bandit = UCB_bandit(len(prob))\n",
    "        Arms = Bernoulli_multiarm(prob)\n",
    "        for _ in range(Time):\n",
    "            arm = bandit.act()\n",
    "            reward = Arms[arm].pull()\n",
    "            bandit.train(arm,reward)\n",
    "            rewards.append(np.sum(Arms.rewards()))    \n",
    "        ucb_all_rewards.append(rewards)\n",
    "        print(idx)\n",
    "        clear_output(wait=True)\n",
    "        \n",
    "    print(np.mean([ucb_all_rewards[i][-1] for i in range(len(ucb_all_rewards)) ]))\n",
    "    ucb_results.append(np.mean([ucb_all_rewards[i][-1] for i in range(len(ucb_all_rewards)) ]))\n",
    "    \n",
    "toc = time()    \n",
    "print(toc-tic)\n",
    "print(np.mean([ucb_all_rewards[i][-1] for i in range(len(ucb_all_rewards)) ]))"
   ]
  },
  {
   "cell_type": "code",
   "execution_count": 689,
   "metadata": {},
   "outputs": [
    {
     "data": {
      "text/plain": [
       "[59.69, 69.32, 70.71, 73.26, 74.71]"
      ]
     },
     "execution_count": 689,
     "metadata": {},
     "output_type": "execute_result"
    }
   ],
   "source": [
    "ucb_results"
   ]
  },
  {
   "cell_type": "code",
   "execution_count": 690,
   "metadata": {},
   "outputs": [
    {
     "name": "stdout",
     "output_type": "stream",
     "text": [
      "53.55\n",
      "10.318915128707886\n",
      "53.55\n"
     ]
    }
   ],
   "source": [
    "tic = time()\n",
    "samba_results = []\n",
    "for num_arms in [20, 40, 60, 80, 100]:\n",
    "\n",
    "    samba_all_rewards = []\n",
    "    tic = time()\n",
    "    for idx, prob in enumerate(probs[num_arms]):\n",
    "        rewards = []\n",
    "        bandit = samba_bandit(len(prob),alpha=1.0,cooling=True)\n",
    "        Arms = Bernoulli_multiarm(prob)\n",
    "        for _ in range(Time):\n",
    "            arm = bandit.act()\n",
    "            reward = Arms[arm].pull()\n",
    "            bandit.train(arm,reward)\n",
    "            rewards.append(np.sum(Arms.rewards()))    \n",
    "        samba_all_rewards.append(rewards)\n",
    "        print(idx)\n",
    "        clear_output(wait=True)\n",
    "        \n",
    "    print(np.mean([samba_all_rewards[i][-1] for i in range(len(samba_all_rewards)) ]))\n",
    "    samba_results.append(np.mean([samba_all_rewards[i][-1] for i in range(len(samba_all_rewards)) ]))\n",
    "    \n",
    "toc = time()    \n",
    "print(toc-tic)\n",
    "print(np.mean([samba_all_rewards[i][-1] for i in range(len(samba_all_rewards)) ]))"
   ]
  },
  {
   "cell_type": "code",
   "execution_count": 691,
   "metadata": {},
   "outputs": [
    {
     "data": {
      "text/plain": [
       "[56.7, 53.64, 52.22, 52.76, 53.55]"
      ]
     },
     "execution_count": 691,
     "metadata": {},
     "output_type": "execute_result"
    }
   ],
   "source": [
    "samba_results"
   ]
  },
  {
   "cell_type": "code",
   "execution_count": 692,
   "metadata": {},
   "outputs": [
    {
     "name": "stdout",
     "output_type": "stream",
     "text": [
      "63.53\n",
      "4.822667121887207\n",
      "63.53\n"
     ]
    }
   ],
   "source": [
    "tic = time()\n",
    "greedy_results = []\n",
    "for num_arms in [20, 40, 60, 80, 100]:\n",
    "\n",
    "    greedy_all_rewards = []\n",
    "    tic = time()\n",
    "    for idx, prob in enumerate(probs[num_arms]):\n",
    "        rewards = []\n",
    "        bandit = epsilon_greedy_bandit(len(prob),100.,decay=True)\n",
    "        Arms = Bernoulli_multiarm(prob)\n",
    "        for _ in range(Time):\n",
    "            arm = bandit.act()\n",
    "            reward = Arms[arm].pull()\n",
    "            bandit.train(arm,reward)\n",
    "            rewards.append(np.sum(Arms.rewards()))    \n",
    "        greedy_all_rewards.append(rewards)\n",
    "        print(idx)\n",
    "        clear_output(wait=True)\n",
    "        \n",
    "    print(np.mean([greedy_all_rewards[i][-1] for i in range(len(greedy_all_rewards)) ]))\n",
    "    greedy_results.append(np.mean([greedy_all_rewards[i][-1] for i in range(len(greedy_all_rewards)) ]))\n",
    "    \n",
    "toc = time()    \n",
    "print(toc-tic)\n",
    "print(np.mean([greedy_all_rewards[i][-1] for i in range(len(greedy_all_rewards)) ]))"
   ]
  },
  {
   "cell_type": "code",
   "execution_count": 693,
   "metadata": {},
   "outputs": [
    {
     "data": {
      "text/plain": [
       "[64.0, 63.41, 66.23, 63.28, 63.53]"
      ]
     },
     "execution_count": 693,
     "metadata": {},
     "output_type": "execute_result"
    }
   ],
   "source": [
    "greedy_results"
   ]
  },
  {
   "cell_type": "code",
   "execution_count": 694,
   "metadata": {},
   "outputs": [
    {
     "name": "stdout",
     "output_type": "stream",
     "text": [
      "51.58\n"
     ]
    }
   ],
   "source": [
    "tic = time()\n",
    "exp3_results = []\n",
    "for num_arms in [20, 40, 60, 80, 100]:\n",
    "\n",
    "    exp3_all_rewards = []\n",
    "    tic = time()\n",
    "    for idx, prob in enumerate(probs[num_arms]):\n",
    "        rewards = []\n",
    "        bandit = exp3_bandit(len(prob))\n",
    "        Arms = Bernoulli_multiarm(prob)\n",
    "        for _ in range(Time):\n",
    "            arm = bandit.act()\n",
    "            reward = Arms[arm].pull()\n",
    "            bandit.train(arm,reward)\n",
    "            rewards.append(np.sum(Arms.rewards()))    \n",
    "        exp3_all_rewards.append(rewards)\n",
    "        print(idx)\n",
    "        clear_output(wait=True)\n",
    "        \n",
    "    print(np.mean([exp3_all_rewards[i][-1] for i in range(len(exp3_all_rewards)) ]))\n",
    "    exp3_results.append(np.mean([exp3_all_rewards[i][-1] for i in range(len(exp3_all_rewards)) ]))\n",
    "\n"
   ]
  },
  {
   "cell_type": "code",
   "execution_count": 695,
   "metadata": {},
   "outputs": [
    {
     "data": {
      "text/plain": [
       "[54.06, 53.64, 52.49, 52.93, 51.58]"
      ]
     },
     "execution_count": 695,
     "metadata": {},
     "output_type": "execute_result"
    }
   ],
   "source": [
    "exp3_results"
   ]
  },
  {
   "cell_type": "code",
   "execution_count": 696,
   "metadata": {},
   "outputs": [
    {
     "name": "stdout",
     "output_type": "stream",
     "text": [
      "50.8\n",
      "10.090417861938477\n",
      "50.8\n"
     ]
    }
   ],
   "source": [
    "tic = time()\n",
    "samba1_results = []\n",
    "for num_arms in [20, 40, 60, 80, 100]:\n",
    "    \n",
    "    samba1_all_rewards = []\n",
    "    tic = time()\n",
    "    for idx, prob in enumerate(probs[num_arms]):\n",
    "        rewards = []\n",
    "        bandit = samba_bandit(len(prob),alpha=0.1)\n",
    "        Arms = Bernoulli_multiarm(prob)\n",
    "        for _ in range(Time):\n",
    "            arm = bandit.act()\n",
    "            reward = Arms[arm].pull()\n",
    "            bandit.train(arm,reward)\n",
    "            rewards.append(np.sum(Arms.rewards()))    \n",
    "        samba1_all_rewards.append(rewards)\n",
    "        print(idx)\n",
    "        clear_output(wait=True)\n",
    "    \n",
    "    print(np.mean([samba1_all_rewards[i][-1] for i in range(len(samba1_all_rewards)) ]))\n",
    "    samba1_results.append(np.mean([samba1_all_rewards[i][-1] for i in range(len(samba1_all_rewards)) ]))\n",
    "    \n",
    "toc = time()    \n",
    "print(toc-tic)\n",
    "print(np.mean([samba1_all_rewards[i][-1] for i in range(len(samba1_all_rewards)) ]))"
   ]
  },
  {
   "cell_type": "code",
   "execution_count": 697,
   "metadata": {},
   "outputs": [
    {
     "data": {
      "text/plain": [
       "[54.27, 52.14, 51.76, 50.99, 50.8]"
      ]
     },
     "execution_count": 697,
     "metadata": {},
     "output_type": "execute_result"
    }
   ],
   "source": [
    "samba1_results"
   ]
  },
  {
   "cell_type": "code",
   "execution_count": 698,
   "metadata": {},
   "outputs": [
    {
     "name": "stdout",
     "output_type": "stream",
     "text": [
      "53.07\n",
      "6.525552034378052\n",
      "53.07\n"
     ]
    }
   ],
   "source": [
    "tic = time()\n",
    "sambam_results = []\n",
    "for num_arms in [20, 40, 60, 80, 100]:\n",
    "    \n",
    "    sambam_all_rewards = []\n",
    "    tic = time()\n",
    "    for idx, prob in enumerate(probs[num_arms]):\n",
    "        rewards = []\n",
    "        bandit = samba_bandit_metropolis(len(prob),alpha=2.0,cooling=True)\n",
    "        Arms = Bernoulli_multiarm(prob)\n",
    "        for _ in range(Time):\n",
    "            arm = bandit.act()\n",
    "            reward = Arms[arm].pull()\n",
    "            bandit.train(arm,reward)\n",
    "            rewards.append(np.sum(Arms.rewards()))    \n",
    "        sambam_all_rewards.append(rewards)\n",
    "        print(idx)\n",
    "        clear_output(wait=True)\n",
    "    \n",
    "    print(np.mean([sambam_all_rewards[i][-1] for i in range(len(sambam_all_rewards)) ]))\n",
    "    sambam_results.append(np.mean([sambam_all_rewards[i][-1] for i in range(len(sambam_all_rewards)) ]))\n",
    "    \n",
    "toc = time()    \n",
    "print(toc-tic)\n",
    "print(np.mean([sambam_all_rewards[i][-1] for i in range(len(sambam_all_rewards)) ]))"
   ]
  },
  {
   "cell_type": "code",
   "execution_count": 699,
   "metadata": {},
   "outputs": [
    {
     "data": {
      "text/plain": [
       "[59.47, 56.4, 55.32, 54.07, 53.07]"
      ]
     },
     "execution_count": 699,
     "metadata": {},
     "output_type": "execute_result"
    }
   ],
   "source": [
    "sambam_results"
   ]
  },
  {
   "cell_type": "code",
   "execution_count": 700,
   "metadata": {},
   "outputs": [
    {
     "name": "stdout",
     "output_type": "stream",
     "text": [
      "50.1\n",
      "9.105292081832886\n",
      "50.1\n"
     ]
    }
   ],
   "source": [
    "tic = time()\n",
    "GBA_results = []\n",
    "for num_arms in [20, 40, 60, 80, 100]:\n",
    "\n",
    "    GBA_all_rewards = []\n",
    "    tic = time()\n",
    "    for idx, prob in enumerate(probs[num_arms]):\n",
    "        rewards = []\n",
    "        bandit = Gradient_Bandit_Algorithm(len(prob),alpha=0.1)\n",
    "        Arms = Bernoulli_multiarm(prob)\n",
    "        for _ in range(Time):\n",
    "            arm = bandit.act()\n",
    "            reward = Arms[arm].pull()\n",
    "            bandit.train(arm,reward)\n",
    "            rewards.append(np.sum(Arms.rewards()))    \n",
    "        GBA_all_rewards.append(rewards)\n",
    "        print(idx)\n",
    "        clear_output(wait=True)\n",
    "\n",
    "    print(np.mean([GBA_all_rewards[i][-1] for i in range(len(GBA_all_rewards)) ]))\n",
    "    GBA_results.append(np.mean([GBA_all_rewards[i][-1] for i in range(len(GBA_all_rewards)) ]))\n",
    "        \n",
    "toc = time()    \n",
    "print(toc-tic)\n",
    "print(np.mean([GBA_all_rewards[i][-1] for i in range(len(GBA_all_rewards)) ]))"
   ]
  },
  {
   "cell_type": "code",
   "execution_count": 701,
   "metadata": {},
   "outputs": [
    {
     "data": {
      "text/plain": [
       "[52.84, 51.0, 50.73, 49.97, 50.1]"
      ]
     },
     "execution_count": 701,
     "metadata": {},
     "output_type": "execute_result"
    }
   ],
   "source": [
    "GBA_results"
   ]
  },
  {
   "cell_type": "code",
   "execution_count": 788,
   "metadata": {},
   "outputs": [
    {
     "data": {
      "image/png": "[encoded data removed]",
      "text/plain": [
       "<Figure size 432x288 with 1 Axes>"
      ]
     },
     "metadata": {},
     "output_type": "display_data"
    }
   ],
   "source": [
    "import matplotlib\n",
    "import matplotlib.pyplot as plt\n",
    "\n",
    "# Data for plotting\n",
    "t = np.arange(1, Time+1, 1)\n",
    "\n",
    "fig, ax = plt.subplots()\n",
    "ax.plot([20, 40, 60, 80, 100], GBA_results, label='Gradient Bandit', marker=\"D\")\n",
    "ax.plot([20, 40, 60, 80, 100], samba1_results, label='SAMBA', marker=\"D\")\n",
    "ax.plot([20, 40, 60, 80, 100], exp3_results, label='Exp3', marker=\"D\")\n",
    "ax.plot([20, 40, 60, 80, 100], greedy_results, label='Greedy (decaying)', marker=\"D\")\n",
    "ax.plot([20, 40, 60, 80, 100], ucb_results, label='UCB', marker=\"D\")\n",
    "ax.plot([20, 40, 60, 80, 100], samba_results, label='SAMBA (cooling)', marker=\"D\")\n",
    "ax.plot([20, 40, 60, 80, 100], Thomp_results, label='Thompson', marker=\"D\")\n",
    "\n",
    "\n",
    "ax.set(xlabel='Number of Arms', ylabel='Reward')\n",
    "ax.grid()\n",
    "plt.legend(loc='center right',bbox_to_anchor=(1.42, 0.5))\n",
    "\n",
    "fig.savefig(\"test.png\",dpi=1000,bbox_inches='tight')\n",
    "fig.savefig('destination_path.eps', format='eps', dpi=1000, bbox_inches='tight')\n",
    "fig.savefig('destination_path.pdf', format='pdf', dpi=1000, bbox_inches='tight')\n",
    "plt.show()"
   ]
  },
  {
   "cell_type": "markdown",
   "metadata": {},
   "source": [
    "# Switch"
   ]
  },
  {
   "cell_type": "code",
   "execution_count": 746,
   "metadata": {},
   "outputs": [],
   "source": [
    "Time = 1000\n",
    "num_experiments = 1000\n",
    "probs = np.array([0.1,0.1,0.1,0.9])\n",
    "probs2 = np.array([0.9,0.1,0.1,0.1])\n",
    "Data = dict()"
   ]
  },
  {
   "cell_type": "code",
   "execution_count": 747,
   "metadata": {},
   "outputs": [
    {
     "name": "stdout",
     "output_type": "stream",
     "text": [
      "437.466\n"
     ]
    }
   ],
   "source": [
    "All_rewards = np.zeros(Time)\n",
    "for __ in range(num_experiments):\n",
    "    bandit = epsilon_greedy_bandit(4,.1)\n",
    "    Arms = Bernoulli_multiarm(probs)\n",
    "    rewards = []\n",
    "    tot_reward = 0.\n",
    "    for t in range(Time):\n",
    "        arm = bandit.act()\n",
    "        reward = Arms[arm].pull()\n",
    "        bandit.train(arm,reward)\n",
    "        \n",
    "        if t == 500 :\n",
    "            Arms = Bernoulli_multiarm(probs2)\n",
    "\n",
    "        tot_reward += reward\n",
    "        rewards.append(tot_reward)\n",
    "    All_rewards += np.array(rewards)\n",
    "    print(__,'/',num_experiments)\n",
    "    clear_output(wait=True)\n",
    "    \n",
    "Av_rewards = All_rewards/num_experiments\n",
    "Regret = [ np.max(probs)*t - av for t, av in enumerate(Av_rewards)]\n",
    "Data['Greedy']=Regret\n",
    "print(Regret[-1])"
   ]
  },
  {
   "cell_type": "code",
   "execution_count": 748,
   "metadata": {},
   "outputs": [
    {
     "name": "stdout",
     "output_type": "stream",
     "text": [
      "197.96400000000006\n"
     ]
    }
   ],
   "source": [
    "\n",
    "All_rewards = np.zeros(Time)\n",
    "\n",
    "for __ in range(num_experiments):\n",
    "    bandit = epsilon_greedy_bandit(4,100.,decay=True)\n",
    "    Arms = Bernoulli_multiarm(probs)\n",
    "    rewards = []\n",
    "    tot_reward = 0.\n",
    "    for _ in range(Time):\n",
    "        arm = bandit.act()\n",
    "        reward = Arms[arm].pull()\n",
    "        bandit.train(arm,reward)\n",
    "        \n",
    "        if t == 500 :\n",
    "            Arms = Bernoulli_multiarm(probs2)\n",
    "\n",
    "        tot_reward += reward\n",
    "        rewards.append(tot_reward)\n",
    "    All_rewards += np.array(rewards)\n",
    "    print(__,'/',num_experiments)\n",
    "    clear_output(wait=True)\n",
    "    \n",
    "Av_rewards = All_rewards/num_experiments\n",
    "Regret = [ np.max(probs)*t - av for t, av in enumerate(Av_rewards)]\n",
    "print(Regret[-1])\n",
    "Data['Greedy_Decay']=Regret"
   ]
  },
  {
   "cell_type": "code",
   "execution_count": 749,
   "metadata": {},
   "outputs": [
    {
     "name": "stdout",
     "output_type": "stream",
     "text": [
      "35.111999999999966\n"
     ]
    }
   ],
   "source": [
    "\n",
    "All_rewards = np.zeros(Time)\n",
    "\n",
    "for __ in range(num_experiments):\n",
    "    bandit = exp3_bandit(4)\n",
    "    Arms = Bernoulli_multiarm(probs)\n",
    "    rewards = []\n",
    "    tot_reward = 0.\n",
    "    for _ in range(Time):\n",
    "\n",
    "        arm = bandit.act()\n",
    "        reward = Arms[arm].pull()\n",
    "        bandit.train(arm,reward)\n",
    "        \n",
    "        if t == 500 :\n",
    "            Arms = Bernoulli_multiarm(probs2)\n",
    "\n",
    "        tot_reward += reward\n",
    "        rewards.append(tot_reward)\n",
    "    All_rewards += np.array(rewards)\n",
    "    print(__,'/',num_experiments)\n",
    "    clear_output(wait=True)\n",
    "    \n",
    "Av_rewards = All_rewards/num_experiments\n",
    "Regret = [ np.max(probs)*t - av for t, av in enumerate(Av_rewards)]\n",
    "print(Regret[-1])\n",
    "Data['Exp3']=Regret"
   ]
  },
  {
   "cell_type": "code",
   "execution_count": 750,
   "metadata": {},
   "outputs": [
    {
     "name": "stdout",
     "output_type": "stream",
     "text": [
      "92.47000000000003\n"
     ]
    }
   ],
   "source": [
    "\n",
    "All_rewards = np.zeros(Time)\n",
    "\n",
    "for __ in range(num_experiments):\n",
    "    bandit = samba_bandit(4,alpha=0.1)\n",
    "    Arms = Bernoulli_multiarm(probs)\n",
    "    rewards = []\n",
    "    tot_reward = 0.\n",
    "    for _ in range(Time):\n",
    "        arm = bandit.act()\n",
    "        reward = Arms[arm].pull()\n",
    "        bandit.train(arm,reward)\n",
    "        \n",
    "        if t == 500 :\n",
    "            Arms = Bernoulli_multiarm(probs2)\n",
    "        \n",
    "        tot_reward += reward\n",
    "        rewards.append(tot_reward)\n",
    "    All_rewards += np.array(rewards)\n",
    "    print(__,'/',num_experiments)\n",
    "    clear_output(wait=True)\n",
    "    \n",
    "Av_rewards = All_rewards/num_experiments\n",
    "Regret = [ np.max(probs)*t - av for t, av in enumerate(Av_rewards)]\n",
    "print(Regret[-1])\n",
    "Data['Samba']=Regret"
   ]
  },
  {
   "cell_type": "code",
   "execution_count": 751,
   "metadata": {},
   "outputs": [
    {
     "name": "stdout",
     "output_type": "stream",
     "text": [
      "46.88200000000006\n"
     ]
    }
   ],
   "source": [
    "\n",
    "All_rewards = np.zeros(Time)\n",
    "\n",
    "for __ in range(num_experiments):\n",
    "    bandit = samba_bandit(4,alpha=1.0,cooling=True)\n",
    "    Arms = Bernoulli_multiarm(probs)\n",
    "    rewards = []\n",
    "    tot_reward = 0.\n",
    "    for _ in range(Time):\n",
    "        arm = bandit.act()\n",
    "        reward = Arms[arm].pull()\n",
    "        bandit.train(arm,reward)\n",
    "        \n",
    "        if t == 500 :\n",
    "            Arms = Bernoulli_multiarm(probs2)\n",
    "\n",
    "        tot_reward += reward\n",
    "        rewards.append(tot_reward)\n",
    "    All_rewards += np.array(rewards)\n",
    "    print(__,'/',num_experiments)\n",
    "    clear_output(wait=True)\n",
    "\n",
    "Av_rewards = All_rewards/num_experiments\n",
    "Regret = [ np.max(probs)*t - av for t, av in enumerate(Av_rewards)]\n",
    "print(Regret[-1])\n",
    "Data['Samba_Cool']=Regret"
   ]
  },
  {
   "cell_type": "code",
   "execution_count": 752,
   "metadata": {},
   "outputs": [
    {
     "name": "stdout",
     "output_type": "stream",
     "text": [
      "6.97199999999998\n"
     ]
    }
   ],
   "source": [
    "\n",
    "All_rewards = np.zeros(Time)\n",
    "\n",
    "for __ in range(num_experiments):\n",
    "    bandit = Thompson_bandit(4)\n",
    "    Arms = Bernoulli_multiarm(probs)\n",
    "    rewards = []\n",
    "    tot_reward = 0.\n",
    "    for _ in range(Time):\n",
    "        arm = bandit.act()\n",
    "        reward = Arms[arm].pull()\n",
    "        bandit.train(arm,reward)\n",
    "        \n",
    "        if t == 500 :\n",
    "            Arms = Bernoulli_multiarm(probs2)\n",
    "\n",
    "        tot_reward += reward\n",
    "        rewards.append(tot_reward)\n",
    "    All_rewards += np.array(rewards)\n",
    "    print(__,'/',num_experiments)\n",
    "    clear_output(wait=True)\n",
    "\n",
    "Av_rewards = All_rewards/num_experiments\n",
    "Regret = [ np.max(probs)*t - av for t, av in enumerate(Av_rewards)]\n",
    "print(Regret[-1])\n",
    "Data['Thompson']=Regret"
   ]
  },
  {
   "cell_type": "code",
   "execution_count": 753,
   "metadata": {},
   "outputs": [
    {
     "name": "stdout",
     "output_type": "stream",
     "text": [
      "82.32500000000005\n"
     ]
    }
   ],
   "source": [
    "\n",
    "All_rewards = np.zeros(Time)\n",
    "probs = np.array(probs)\n",
    "\n",
    "for __ in range(num_experiments):\n",
    "    bandit = UCB_bandit(4)\n",
    "    Arms = Bernoulli_multiarm(probs)\n",
    "    rewards = []\n",
    "    tot_reward = 0.\n",
    "    for _ in range(Time):\n",
    "        arm = bandit.act()\n",
    "        reward = Arms[arm].pull()\n",
    "        bandit.train(arm,reward)\n",
    "        \n",
    "        if t == 500 :\n",
    "            Arms = Bernoulli_multiarm(probs2)\n",
    "\n",
    "        tot_reward += reward\n",
    "        rewards.append(tot_reward)\n",
    "    All_rewards += np.array(rewards)\n",
    "    print(__,'/',num_experiments)\n",
    "    clear_output(wait=True)\n",
    "\n",
    "Av_rewards = All_rewards/num_experiments\n",
    "Regret = [ np.max(probs)*t - av for t, av in enumerate(Av_rewards)]\n",
    "print(Regret[-1])\n",
    "Data['UCB']=Regret"
   ]
  },
  {
   "cell_type": "code",
   "execution_count": 754,
   "metadata": {},
   "outputs": [
    {
     "name": "stdout",
     "output_type": "stream",
     "text": [
      "67.78399999999999\n"
     ]
    }
   ],
   "source": [
    "\n",
    "All_rewards = np.zeros(Time)\n",
    "\n",
    "for __ in range(num_experiments):\n",
    "    bandit = Gradient_Bandit_Algorithm(4,0.1)\n",
    "    Arms = Bernoulli_multiarm(probs)\n",
    "    rewards = []\n",
    "    tot_reward = 0.\n",
    "    for _ in range(Time):\n",
    "        arm = bandit.act()\n",
    "        reward = Arms[arm].pull()\n",
    "        bandit.train(arm,reward)\n",
    "        \n",
    "        if t == 500 :\n",
    "            Arms = Bernoulli_multiarm(probs2)\n",
    "\n",
    "        tot_reward += reward\n",
    "        rewards.append(tot_reward)\n",
    "    All_rewards += np.array(rewards)\n",
    "    print(__,'/',num_experiments)\n",
    "    clear_output(wait=True)\n",
    "\n",
    "Av_rewards = All_rewards/num_experiments\n",
    "Regret = [ np.max(probs)*t - av for t, av in enumerate(Av_rewards)]\n",
    "print(Regret[-1])\n",
    "Data['GBA']=Regret"
   ]
  },
  {
   "cell_type": "code",
   "execution_count": 569,
   "metadata": {},
   "outputs": [
    {
     "data": {
      "image/png": "[encoded data removed]",
      "text/plain": [
       "<Figure size 432x288 with 1 Axes>"
      ]
     },
     "metadata": {},
     "output_type": "display_data"
    }
   ],
   "source": [
    "import matplotlib\n",
    "import matplotlib.pyplot as plt\n",
    "\n",
    "# Data for plotting\n",
    "t = np.arange(1, Time+1, 1)\n",
    "plt.close()\n",
    "fig, ax = plt.subplots()\n",
    "\n",
    "ax.plot(Data['Greedy'],label='Greedy')\n",
    "ax.plot(Data['Greedy_Decay'],label='Greedy (decaying)')\n",
    "ax.plot(Data['Exp3'],label='Exp3')\n",
    "ax.plot(Data['Samba'],label='SAMBA')\n",
    "ax.plot(Data['Samba_Cool'],label='SAMBA (cooling)')\n",
    "ax.plot(Data['Thompson'],label='Thompson')\n",
    "ax.plot(Data['UCB'],label='UCB')\n",
    "ax.plot(Data['GBA'],label='Gradient Bandit')#, t, Ps[0.01], t, Ps[0.1], t, Ps[0.5], t, 100/t)\n",
    "# ax.loglog(t, Ps[0.01], label='alpha=0.01')\n",
    "# ax.loglog(t, Ps[0.1], label='alpha=0.1')\n",
    "# ax.loglog(t, Ps[0.5], label='alpha=0.5')\n",
    "ax.set(xlabel='Time', ylabel='Regret', title='arm probabilities=[0.1,0.5,0.8,0.9]')\n",
    "ax.grid()\n",
    "plt.xlim(0,1000)\n",
    "plt.ylim(0,150)\n",
    "#plt.text(1010,Data['Greedy'][-1],'Greedy',fontsize=8)\n",
    "plt.text(1010,Data['Greedy_Decay'][-1]-1.5,'Greedy-d',fontsize=8)\n",
    "plt.text(1010,Data['Exp3'][-1],'Exp3',fontsize=8)\n",
    "plt.text(1010,Data['Samba'][-1],'SAMBA',fontsize=8)\n",
    "plt.text(1010,Data['Samba_Cool'][-1]-6,'SAMBA-c',fontsize=8)\n",
    "plt.text(1010,Data['Thompson'][-1]-2,'Thomp.',fontsize=8)\n",
    "plt.text(1010,Data['UCB'][-1]+2,'UCB',fontsize=8)\n",
    "plt.text(1010,Data['GBA'][-1]-1,'GBA',fontsize=8)\n",
    "plt.legend()\n",
    "#plt.autoscale()\n",
    "\n",
    "fig.savefig(\"test.png\")\n",
    "fig.savefig('destination_path.eps', format='eps', dpi=1000)\n",
    "plt.show()"
   ]
  },
  {
   "cell_type": "markdown",
   "metadata": {},
   "source": [
    "# Final Perturb Experiment"
   ]
  },
  {
   "cell_type": "markdown",
   "metadata": {},
   "source": [
    "## Debug"
   ]
  },
  {
   "cell_type": "markdown",
   "metadata": {},
   "source": [
    "Works really good for 2 arms"
   ]
  },
  {
   "cell_type": "code",
   "execution_count": 261,
   "metadata": {},
   "outputs": [
    {
     "name": "stdout",
     "output_type": "stream",
     "text": [
      "7 1.0\n",
      "[0.00916207 0.1        0.1        0.1        0.1        0.1\n",
      " 0.1        0.19083793 0.1        0.1       ]\n",
      "5 1.0\n",
      "[0.00916207 0.1        0.1        0.1        0.1        0.19083793\n",
      " 0.1        0.1        0.1        0.1       ]\n",
      "5 0.0\n",
      "[0.00916207 0.1        0.1        0.1        0.1        0.19083793\n",
      " 0.1        0.1        0.1        0.1       ]\n",
      "3 1.0\n",
      "[0.00916207 0.1        0.1        0.19083793 0.1        0.1\n",
      " 0.1        0.1        0.1        0.1       ]\n",
      "2 1.0\n",
      "[0.00916207 0.1        0.19083793 0.1        0.1        0.1\n",
      " 0.1        0.1        0.1        0.1       ]\n",
      "8 0.0\n",
      "[0.00916207 0.1        0.19083793 0.1        0.1        0.1\n",
      " 0.1        0.1        0.1        0.1       ]\n",
      "2 1.0\n",
      "[0.00893026 0.05240048 0.57186587 0.05240048 0.05240048 0.05240048\n",
      " 0.05240048 0.05240048 0.05240048 0.05240048]\n",
      "9 1.0\n",
      "[0.00893026 0.05240048 0.53205633 0.05240048 0.05240048 0.05240048\n",
      " 0.05240048 0.05240048 0.05240048 0.09221002]\n",
      "8 0.0\n",
      "[0.00893026 0.05240048 0.53205633 0.05240048 0.05240048 0.05240048\n",
      " 0.05240048 0.05240048 0.05240048 0.09221002]\n",
      "5 0.0\n",
      "[0.00893026 0.05240048 0.53205633 0.05240048 0.05240048 0.05240048\n",
      " 0.05240048 0.05240048 0.05240048 0.09221002]\n",
      "5 1.0\n",
      "[0.00893026 0.05240048 0.4922468  0.05240048 0.05240048 0.09221002\n",
      " 0.05240048 0.05240048 0.05240048 0.09221002]\n",
      "2 1.0\n",
      "[0.00884526 0.04816269 0.54838765 0.04816269 0.04816269 0.07689546\n",
      " 0.04816269 0.04816269 0.04816269 0.07689546]\n",
      "5 1.0\n",
      "[0.00884526 0.04816269 0.48368459 0.04816269 0.04816269 0.14159852\n",
      " 0.04816269 0.04816269 0.04816269 0.07689546]\n",
      "4 0.0\n",
      "[0.00884526 0.04816269 0.48368459 0.04816269 0.04816269 0.14159852\n",
      " 0.04816269 0.04816269 0.04816269 0.07689546]\n",
      "7 1.0\n",
      "[0.00884526 0.04816269 0.44785965 0.04816269 0.04816269 0.14159852\n",
      " 0.04816269 0.08398763 0.04816269 0.07689546]\n",
      "9 1.0\n",
      "[0.00884526 0.04816269 0.38315659 0.04816269 0.04816269 0.14159852\n",
      " 0.04816269 0.08398763 0.04816269 0.14159852]\n",
      "9 1.0\n",
      "[0.00884526 0.04816269 0.23939004 0.04816269 0.04816269 0.14159852\n",
      " 0.04816269 0.08398763 0.04816269 0.28536507]\n",
      "2 1.0\n",
      "[ 0.00884526  0.04816269  0.53497454  0.04816269  0.04816269  0.14159852\n",
      "  0.04816269  0.08398763  0.04816269 -0.01021942]\n"
     ]
    },
    {
     "name": "stderr",
     "output_type": "stream",
     "text": [
      "/Users/mbbssnw3/Dropbox (The University of Manchester)/ACTIVE/PROG/Bandits/bandits.py:186: RuntimeWarning: invalid value encountered in log\n",
      "  self.alphas = self.alpha / (1-np.log(self.probs))\n"
     ]
    },
    {
     "ename": "ValueError",
     "evalue": "probabilities are not non-negative",
     "output_type": "error",
     "traceback": [
      "\u001b[0;31m---------------------------------------------------------------------------\u001b[0m",
      "\u001b[0;31mValueError\u001b[0m                                Traceback (most recent call last)",
      "\u001b[0;32m<ipython-input-261-43b38c4e6761>\u001b[0m in \u001b[0;36m<module>\u001b[0;34m()\u001b[0m\n\u001b[1;32m      6\u001b[0m     \u001b[0mArms\u001b[0m \u001b[0;34m=\u001b[0m \u001b[0mBernoulli_multiarm\u001b[0m\u001b[0;34m(\u001b[0m\u001b[0mprob\u001b[0m\u001b[0;34m)\u001b[0m\u001b[0;34m\u001b[0m\u001b[0m\n\u001b[1;32m      7\u001b[0m     \u001b[0;32mfor\u001b[0m \u001b[0m_\u001b[0m \u001b[0;32min\u001b[0m \u001b[0mrange\u001b[0m\u001b[0;34m(\u001b[0m\u001b[0;36m50\u001b[0m\u001b[0;34m)\u001b[0m\u001b[0;34m:\u001b[0m\u001b[0;34m\u001b[0m\u001b[0m\n\u001b[0;32m----> 8\u001b[0;31m         \u001b[0marm\u001b[0m \u001b[0;34m=\u001b[0m \u001b[0mbandit\u001b[0m\u001b[0;34m.\u001b[0m\u001b[0mact\u001b[0m\u001b[0;34m(\u001b[0m\u001b[0;34m)\u001b[0m\u001b[0;34m\u001b[0m\u001b[0m\n\u001b[0m\u001b[1;32m      9\u001b[0m         \u001b[0mreward\u001b[0m \u001b[0;34m=\u001b[0m \u001b[0mArms\u001b[0m\u001b[0;34m[\u001b[0m\u001b[0marm\u001b[0m\u001b[0;34m]\u001b[0m\u001b[0;34m.\u001b[0m\u001b[0mpull\u001b[0m\u001b[0;34m(\u001b[0m\u001b[0;34m)\u001b[0m\u001b[0;34m\u001b[0m\u001b[0m\n\u001b[1;32m     10\u001b[0m         \u001b[0mprint\u001b[0m\u001b[0;34m(\u001b[0m\u001b[0marm\u001b[0m\u001b[0;34m,\u001b[0m\u001b[0mreward\u001b[0m\u001b[0;34m)\u001b[0m\u001b[0;34m\u001b[0m\u001b[0m\n",
      "\u001b[0;32m~/Dropbox (The University of Manchester)/ACTIVE/PROG/Bandits/bandits.py\u001b[0m in \u001b[0;36mact\u001b[0;34m(self)\u001b[0m\n\u001b[1;32m    187\u001b[0m \u001b[0;34m\u001b[0m\u001b[0m\n\u001b[1;32m    188\u001b[0m     \u001b[0;32mdef\u001b[0m \u001b[0mact\u001b[0m\u001b[0;34m(\u001b[0m\u001b[0mself\u001b[0m\u001b[0;34m)\u001b[0m\u001b[0;34m:\u001b[0m\u001b[0;34m\u001b[0m\u001b[0m\n\u001b[0;32m--> 189\u001b[0;31m         \u001b[0;32mreturn\u001b[0m \u001b[0mnp\u001b[0m\u001b[0;34m.\u001b[0m\u001b[0mrandom\u001b[0m\u001b[0;34m.\u001b[0m\u001b[0mchoice\u001b[0m\u001b[0;34m(\u001b[0m\u001b[0mself\u001b[0m\u001b[0;34m.\u001b[0m\u001b[0mnum_arms\u001b[0m\u001b[0;34m,\u001b[0m\u001b[0mp\u001b[0m\u001b[0;34m=\u001b[0m\u001b[0mself\u001b[0m\u001b[0;34m.\u001b[0m\u001b[0mprobs\u001b[0m\u001b[0;34m)\u001b[0m\u001b[0;34m\u001b[0m\u001b[0m\n\u001b[0m\u001b[1;32m    190\u001b[0m \u001b[0;34m\u001b[0m\u001b[0m\n\u001b[1;32m    191\u001b[0m \u001b[0;32mclass\u001b[0m \u001b[0mThompson_bandit\u001b[0m\u001b[0;34m:\u001b[0m\u001b[0;34m\u001b[0m\u001b[0m\n",
      "\u001b[0;32mmtrand.pyx\u001b[0m in \u001b[0;36mmtrand.RandomState.choice\u001b[0;34m()\u001b[0m\n",
      "\u001b[0;31mValueError\u001b[0m: probabilities are not non-negative"
     ]
    }
   ],
   "source": [
    "samba_all_rewards = []\n",
    "tic = time()\n",
    "for idx, prob in enumerate(probs):\n",
    "    rewards = []\n",
    "    bandit = samba_bandit(len(prob),alpha=3.0,cooling=True)\n",
    "    Arms = Bernoulli_multiarm(prob)\n",
    "    for _ in range(50): \n",
    "        arm = bandit.act()\n",
    "        reward = Arms[arm].pull()\n",
    "        print(arm,reward)\n",
    "        bandit.train(arm,reward)\n",
    "        rewards.append(np.sum(Arms.rewards()))    \n",
    "        print(bandit.probs)\n",
    "    samba_all_rewards.append(rewards)\n",
    "    print(idx)\n",
    "    clear_output(wait=True)\n",
    "    \n",
    "toc = time()    \n",
    "print(toc-tic)\n",
    "print(np.mean([samba_all_rewards[i][-1] for i in range(len(samba_all_rewards)) ]))"
   ]
  },
  {
   "cell_type": "code",
   "execution_count": 409,
   "metadata": {},
   "outputs": [],
   "source": [
    "probs = [ [np.random.rand() for _ in range(100)] for __ in range(10)]"
   ]
  },
  {
   "cell_type": "code",
   "execution_count": 410,
   "metadata": {},
   "outputs": [
    {
     "name": "stdout",
     "output_type": "stream",
     "text": [
      "7.905816078186035\n",
      "0.1 7738.6\n"
     ]
    }
   ],
   "source": [
    "#alphas = [0.85,0.5,0.2,0.1,0.01]\n",
    "alphas = [0.99,0.95,0.90,0.85,0.75,0.5,0.2,0.1,0.01]\n",
    "alphas = [0.1]\n",
    "\n",
    "for alf in alphas:\n",
    "    samba_all_rewards = []\n",
    "    tic = time()\n",
    "    for idx, prob in enumerate(probs):\n",
    "        rewards = []\n",
    "        bandit = samba_bandit(len(prob),alpha=alf)#,cooling=True)\n",
    "        Arms = Bernoulli_multiarm(prob)\n",
    "        for _ in range(10000):\n",
    "            arm = bandit.act()\n",
    "            reward = Arms[arm].pull()\n",
    "            bandit.train(arm,reward)\n",
    "            rewards.append(np.sum(Arms.rewards()))    \n",
    "        samba_all_rewards.append(rewards)\n",
    "#         print(idx)\n",
    "#         clear_output(wait=True)\n",
    "\n",
    "    toc = time()    \n",
    "    print(toc-tic)\n",
    "    print(alf, np.mean([samba_all_rewards[i][-1] for i in range(len(samba_all_rewards)) ]))"
   ]
  },
  {
   "cell_type": "code",
   "execution_count": 414,
   "metadata": {},
   "outputs": [
    {
     "name": "stdout",
     "output_type": "stream",
     "text": [
      "8.670617818832397\n",
      "1.6 8411.9\n"
     ]
    }
   ],
   "source": [
    "#alphas = [0.85,0.5,0.2,0.1,0.01]\n",
    "\n",
    "alphas = [0.99,0.95,0.90,0.85,0.75,0.5,0.2,0.1,0.01]\n",
    "alphas = [1.6]\n",
    "tot_time = 10000\n",
    "for alf in alphas:\n",
    "    samba_all_rewards = []\n",
    "    tic = time()\n",
    "    for idx, prob in enumerate(probs):\n",
    "        rewards = []\n",
    "        bandit = samba_bandit(len(prob),alpha=alf,cooling=True)\n",
    "        Arms = Bernoulli_multiarm(prob)\n",
    "        for i in range(tot_time):\n",
    "            arm = bandit.act()\n",
    "            reward = Arms[arm].pull()\n",
    "            bandit.train(arm,reward)\n",
    "            rewards.append(np.sum(Arms.rewards()))  \n",
    "            #print(i,bandit.alphas)\n",
    "        samba_all_rewards.append(rewards)\n",
    "#         print(idx)\n",
    "#         clear_output(wait=True)\n",
    "        \n",
    "    toc = time()    \n",
    "    print(toc-tic)\n",
    "    print(alf, np.mean([samba_all_rewards[i][-1] for i in range(len(samba_all_rewards)) ]))"
   ]
  },
  {
   "cell_type": "code",
   "execution_count": 412,
   "metadata": {},
   "outputs": [
    {
     "name": "stdout",
     "output_type": "stream",
     "text": [
      "14.682996034622192\n",
      "9701.0\n"
     ]
    }
   ],
   "source": [
    "Thompson_all_rewards = []\n",
    "tic = time()\n",
    "for idx, prob in enumerate(probs):\n",
    "    rewards = []\n",
    "    bandit = Thompson_bandit(len(prob))\n",
    "    Arms = Bernoulli_multiarm(prob)\n",
    "    for _ in range(10000):\n",
    "        arm = bandit.act()\n",
    "        reward = Arms[arm].pull()\n",
    "        bandit.train(arm,reward)\n",
    "        rewards.append(np.sum(Arms.rewards()))    \n",
    "    Thompson_all_rewards.append(rewards)\n",
    "    print(idx)\n",
    "    clear_output(wait=True)\n",
    "    \n",
    "toc = time()    \n",
    "print(toc-tic)\n",
    "print(np.mean([Thompson_all_rewards[i][-1] for i in range(len(Thompson_all_rewards)) ]))"
   ]
  },
  {
   "cell_type": "code",
   "execution_count": 413,
   "metadata": {},
   "outputs": [
    {
     "name": "stdout",
     "output_type": "stream",
     "text": [
      "25.503042697906494\n",
      "9581.6\n"
     ]
    }
   ],
   "source": [
    "ucb_all_rewards = []\n",
    "tic = time()\n",
    "for idx, prob in enumerate(probs):\n",
    "    rewards = []\n",
    "    bandit = UCB_bandit(len(prob))\n",
    "    Arms = Bernoulli_multiarm(prob)\n",
    "    for _ in range(10000):\n",
    "        arm = bandit.act()\n",
    "        reward = Arms[arm].pull()\n",
    "        bandit.train(arm,reward)\n",
    "        rewards.append(np.sum(Arms.rewards()))    \n",
    "    ucb_all_rewards.append(rewards)\n",
    "    print(idx)\n",
    "    clear_output(wait=True)\n",
    "    \n",
    "toc = time()    \n",
    "print(toc-tic)\n",
    "print(np.mean([ucb_all_rewards[i][-1] for i in range(len(ucb_all_rewards)) ]))"
   ]
  },
  {
   "cell_type": "markdown",
   "metadata": {},
   "source": [
    "What about more arms?"
   ]
  },
  {
   "cell_type": "code",
   "execution_count": 50,
   "metadata": {},
   "outputs": [],
   "source": [
    "probs = [ [np.random.rand() for _ in range(100)] for __ in range(20)]"
   ]
  },
  {
   "cell_type": "code",
   "execution_count": 382,
   "metadata": {},
   "outputs": [
    {
     "name": "stdout",
     "output_type": "stream",
     "text": [
      "8.264143705368042\n",
      "0.99 7286.8\n",
      "6.710864067077637\n",
      "0.95 7675.5\n",
      "6.699939727783203\n",
      "0.9 7627.8\n",
      "6.679640054702759\n",
      "0.85 7940.7\n",
      "6.766922950744629\n",
      "0.75 8085.8\n",
      "6.725687026977539\n",
      "0.5 8283.9\n",
      "6.6591691970825195\n",
      "0.2 8195.4\n",
      "7.013772964477539\n",
      "0.1 8209.0\n",
      "7.401365041732788\n",
      "0.01 7808.2\n"
     ]
    }
   ],
   "source": [
    "#alphas = [0.85,0.5,0.2,0.1,0.01]\n",
    "alphas = [0.99,0.95,0.90,0.85,0.75,0.5,0.2,0.1,0.01]\n",
    "\n",
    "for alf in alphas:\n",
    "    samba_all_rewards = []\n",
    "    tic = time()\n",
    "    for idx, prob in enumerate(probs):\n",
    "        rewards = []\n",
    "        bandit = samba_bandit(len(prob),alpha=alf)#,cooling=True)\n",
    "        Arms = Bernoulli_multiarm(prob)\n",
    "        for _ in range(10000):\n",
    "            arm = bandit.act()\n",
    "            reward = Arms[arm].pull()\n",
    "            bandit.train(arm,reward)\n",
    "            rewards.append(np.sum(Arms.rewards()))    \n",
    "        samba_all_rewards.append(rewards)\n",
    "#         print(idx)\n",
    "#         clear_output(wait=True)\n",
    "\n",
    "    toc = time()    \n",
    "    print(toc-tic)\n",
    "    print(alf, np.mean([samba_all_rewards[i][-1] for i in range(len(samba_all_rewards)) ]))"
   ]
  },
  {
   "cell_type": "code",
   "execution_count": 383,
   "metadata": {},
   "outputs": [
    {
     "name": "stdout",
     "output_type": "stream",
     "text": [
      "7.7236950397491455\n",
      "1.6 7937.1\n",
      "7.3757030963897705\n",
      "1.0 8058.9\n"
     ]
    }
   ],
   "source": [
    "#alphas = [0.85,0.5,0.2,0.1,0.01]\n",
    "alphas = [0.99,0.95,0.90,0.85,0.75,0.5,0.2,0.1,0.01]\n",
    "alphas = [1.6,1.]\n",
    "\n",
    "for alf in alphas:\n",
    "    samba_all_rewards = []\n",
    "    tic = time()\n",
    "    for idx, prob in enumerate(probs):\n",
    "        rewards = []\n",
    "        bandit = samba_bandit(len(prob),alpha=alf,cooling=True)\n",
    "        Arms = Bernoulli_multiarm(prob)\n",
    "        for _ in range(10000):\n",
    "            arm = bandit.act()\n",
    "            reward = Arms[arm].pull()\n",
    "            bandit.train(arm,reward)\n",
    "            rewards.append(np.sum(Arms.rewards()))    \n",
    "        samba_all_rewards.append(rewards)\n",
    "#         print(idx)\n",
    "#         clear_output(wait=True)\n",
    "\n",
    "    toc = time()    \n",
    "    print(toc-tic)\n",
    "    print(alf, np.mean([samba_all_rewards[i][-1] for i in range(len(samba_all_rewards)) ]))"
   ]
  },
  {
   "cell_type": "code",
   "execution_count": null,
   "metadata": {},
   "outputs": [],
   "source": []
  },
  {
   "cell_type": "code",
   "execution_count": 384,
   "metadata": {},
   "outputs": [
    {
     "name": "stdout",
     "output_type": "stream",
     "text": [
      "2.5885050296783447\n",
      "8266.7\n"
     ]
    }
   ],
   "source": [
    "Thompson_all_rewards = []\n",
    "tic = time()\n",
    "for idx, prob in enumerate(probs):\n",
    "    rewards = []\n",
    "    bandit = Thompson_bandit(len(prob))\n",
    "    Arms = Bernoulli_multiarm(prob)\n",
    "    for _ in range(10000):\n",
    "        arm = bandit.act()\n",
    "        reward = Arms[arm].pull()\n",
    "        bandit.train(arm,reward)\n",
    "        rewards.append(np.sum(Arms.rewards()))    \n",
    "    Thompson_all_rewards.append(rewards)\n",
    "    print(idx)\n",
    "    clear_output(wait=True)\n",
    "    \n",
    "toc = time()    \n",
    "print(toc-tic)\n",
    "print(np.mean([Thompson_all_rewards[i][-1] for i in range(len(Thompson_all_rewards)) ]))"
   ]
  },
  {
   "cell_type": "code",
   "execution_count": 385,
   "metadata": {},
   "outputs": [
    {
     "name": "stdout",
     "output_type": "stream",
     "text": [
      "3.362407922744751\n",
      "7034.2\n"
     ]
    }
   ],
   "source": [
    "ucb_all_rewards = []\n",
    "tic = time()\n",
    "for idx, prob in enumerate(probs):\n",
    "    rewards = []\n",
    "    bandit = UCB_bandit(len(prob))\n",
    "    Arms = Bernoulli_multiarm(prob)\n",
    "    for _ in range(10000):\n",
    "        arm = bandit.act()\n",
    "        reward = Arms[arm].pull()\n",
    "        bandit.train(arm,reward)\n",
    "        rewards.append(np.sum(Arms.rewards()))    \n",
    "    ucb_all_rewards.append(rewards)\n",
    "    print(idx)\n",
    "    clear_output(wait=True)\n",
    "    \n",
    "toc = time()    \n",
    "print(toc-tic)\n",
    "print(np.mean([ucb_all_rewards[i][-1] for i in range(len(ucb_all_rewards)) ]))"
   ]
  },
  {
   "cell_type": "code",
   "execution_count": null,
   "metadata": {},
   "outputs": [],
   "source": []
  },
  {
   "cell_type": "code",
   "execution_count": null,
   "metadata": {},
   "outputs": [],
   "source": [
    "print(np.mean(all_rewards[-1]))"
   ]
  },
  {
   "cell_type": "markdown",
   "metadata": {},
   "source": [
    "# Bandit class structure"
   ]
  },
  {
   "cell_type": "code",
   "execution_count": 70,
   "metadata": {},
   "outputs": [],
   "source": [
    "import numpy as np"
   ]
  },
  {
   "cell_type": "code",
   "execution_count": 105,
   "metadata": {},
   "outputs": [],
   "source": [
    "class samba_bandit:\n",
    "    ''' Stochastic approximation multi-arm bandit algorithm (sambsa)\n",
    "    \n",
    "    Summary: \n",
    "        A stochastic approximation algorithm for multi-arm bandits.\n",
    "        \n",
    "    Arguments:\n",
    "        num_actions -- number of actions/arms (int)\n",
    "        \n",
    "    Additional Arguments:\n",
    "        alpha -- learning rate between 0 and 1 (float)\n",
    "        cooling -- apply cooling to learning rate (bool)\n",
    "\n",
    "    Methods: \n",
    "        act()             -- returns arm index (int)\n",
    "        train(arm,reward) -- add to rewards of arm   \n",
    "    '''\n",
    "    \n",
    "    def __init__(self, num_actions, alpha=0.1, cooling=False):\n",
    "        self.num_arms = num_actions\n",
    "        self.probs = np.ones(self.num_arms)/self.num_arms\n",
    "        self.alpha = alpha\n",
    "        if cooling :\n",
    "            self.alphas = self.alpha / (1+np.log(self.probs))\n",
    "        else:\n",
    "            self.alphas = self.alpha * np.ones(self.num_arms)\n",
    "            \n",
    "        \n",
    "    def train(self,arm,reward):\n",
    "        arm_star = np.argmax(self.probs)\n",
    "        p_star = self.probs[arm_star]\n",
    "        \n",
    "        if arm == arm_star :\n",
    "            self.probs -= self.alphas * self.probs * reward / p_star\n",
    "        else :\n",
    "            self.probs[arm] += self.alphas[arm] * self.probs[arm] * reward\n",
    "        self.probs[arm_star] = 1-np.sum(np.delete(self.probs, arm_star, 0))\n",
    "        \n",
    "        if cooling :\n",
    "            self.alphas = self.alpha / (1+np.log(self.probs))\n",
    "        \n",
    "    def act(self):\n",
    "        return np.random.choice(self.num_actions,p=self.probs)\n",
    "            "
   ]
  },
  {
   "cell_type": "code",
   "execution_count": null,
   "metadata": {},
   "outputs": [],
   "source": [
    "class samba_cool_bandit:\n",
    "    ''' Stochastic approximation multi-arm bandit algorithm with parameter cooling\n",
    "        (samba cool)\n",
    "    \n",
    "    Summary: \n",
    "        A stochastic approximation algorithm for multi-arm bandits.\n",
    "        Applies parameter alpha[arm] = beta / (1+log(prob[arm]))\n",
    "        \n",
    "    Arguments:\n",
    "        num_actions -- number of actions/arms (int)\n",
    "\n",
    "    Methods: \n",
    "        act()             -- returns arm index (int)\n",
    "        train(arm,reward) -- add to rewards of arm   \n",
    "    '''\n",
    "    \n",
    "    def __init__(self, num_actions, beta=0.5):\n",
    "        self.num_arms = num_actions\n",
    "        self.probs = np.ones(self.num_arms)/self.num_arms\n",
    "        self.beta = beta\n",
    "        self.alphas = self.beta / (1+np.log(self.probs))\n",
    "        \n",
    "    def train(self,arm,reward):\n",
    "        arm_star = np.argmax(self.probs)\n",
    "        p_star = self.probs[arm_star]\n",
    "        if arm == arm_star :\n",
    "            self.probs -= self.alphas * self.probs * reward / p_star\n",
    "        else :\n",
    "            self.probs[arm] += self.alphas[arm] * self.probs[arm] * reward\n",
    "        self.probs[arm_star] = 1-np.sum(np.delete(self.probs, arm_star, 0))\n",
    "        self.alphas = self.beta / (1+np.log(self.probs))\n",
    "        \n",
    "    def act(self):\n",
    "        return np.random.choice(self.num_actions,p=self.probs)\n",
    "    "
   ]
  },
  {
   "cell_type": "markdown",
   "metadata": {},
   "source": [
    "# SAMBA bandit"
   ]
  },
  {
   "cell_type": "code",
   "execution_count": 31,
   "metadata": {},
   "outputs": [],
   "source": [
    "import numpy as np\n",
    "from time import time\n",
    "from IPython import display"
   ]
  },
  {
   "cell_type": "code",
   "execution_count": null,
   "metadata": {},
   "outputs": [],
   "source": [
    "class samba_bandit:\n",
    "    \n",
    "    def __init__(self,prob):"
   ]
  },
  {
   "cell_type": "code",
   "execution_count": 32,
   "metadata": {},
   "outputs": [],
   "source": [
    "class arm():   \n",
    "    \n",
    "    def __init__(self,theta,Prob):\n",
    "        self.theta=theta\n",
    "        self.Prob=Prob\n",
    "        \n",
    "    def pull(self):\n",
    "        if np.random.random() < self.theta :\n",
    "            return 1.\n",
    "        else :\n",
    "            return 0."
   ]
  },
  {
   "cell_type": "code",
   "execution_count": 33,
   "metadata": {},
   "outputs": [],
   "source": [
    "N = 10\n",
    "Arms = [arm(q/2,1/(N)) for q in np.arange(0,1,1/N)]\n",
    "Time=100000 # Takes about 2 minutes to run"
   ]
  },
  {
   "cell_type": "code",
   "execution_count": 34,
   "metadata": {},
   "outputs": [
    {
     "data": {
      "text/plain": [
       "[0.1, 0.1, 0.1, 0.1, 0.1, 0.1, 0.1, 0.1, 0.1, 0.1]"
      ]
     },
     "execution_count": 34,
     "metadata": {},
     "output_type": "execute_result"
    }
   ],
   "source": [
    "[arms.Prob for arms in Arms]"
   ]
  },
  {
   "cell_type": "code",
   "execution_count": 35,
   "metadata": {},
   "outputs": [
    {
     "data": {
      "text/plain": [
       "[0.0,\n",
       " 0.05,\n",
       " 0.1,\n",
       " 0.15000000000000002,\n",
       " 0.2,\n",
       " 0.25,\n",
       " 0.30000000000000004,\n",
       " 0.35000000000000003,\n",
       " 0.4,\n",
       " 0.45]"
      ]
     },
     "execution_count": 35,
     "metadata": {},
     "output_type": "execute_result"
    }
   ],
   "source": [
    "[arms.theta for arms in Arms]"
   ]
  },
  {
   "cell_type": "code",
   "execution_count": 36,
   "metadata": {},
   "outputs": [
    {
     "data": {
      "text/plain": [
       "0.11111111111111112"
      ]
     },
     "execution_count": 36,
     "metadata": {},
     "output_type": "execute_result"
    }
   ],
   "source": [
    "0.05/0.45"
   ]
  },
  {
   "cell_type": "code",
   "execution_count": 37,
   "metadata": {},
   "outputs": [],
   "source": [
    "action = np.random.choice(range(len(Arms)), p=[a.Prob for a in Arms])"
   ]
  },
  {
   "cell_type": "code",
   "execution_count": 38,
   "metadata": {},
   "outputs": [],
   "source": [
    "tic = time()\n",
    "Prob = np.ones(N)/N\n",
    "Ps = []\n",
    "Rewards = []\n",
    "Count = np.zeros(N)\n",
    "alpha = 0.1"
   ]
  },
  {
   "cell_type": "code",
   "execution_count": 39,
   "metadata": {},
   "outputs": [
    {
     "name": "stdout",
     "output_type": "stream",
     "text": [
      "5.409856081008911\n"
     ]
    }
   ],
   "source": [
    "for t in range(Time):\n",
    "    Arms.sort(key=lambda x: x.Prob)\n",
    "    action = np.random.choice(range(len(Prob)), p=[a.Prob for a in Arms])\n",
    "    R = Arms[action].pull()\n",
    "    \n",
    "    if action == N-1 :\n",
    "        D = 0.\n",
    "        for i in range(N-1):\n",
    "            d = alpha * (Arms[i].Prob)**2 * R / Arms[N-1].Prob\n",
    "            Arms[i].Prob = Arms[i].Prob - d\n",
    "            D +=d  \n",
    "        Arms[N-1].Prob = Arms[N-1].Prob + D     \n",
    "    else:    \n",
    "        d = alpha * (Arms[action].Prob) * R \n",
    "        Arms[action].Prob = Arms[action].Prob + d\n",
    "        Arms[N-1].Prob = Arms[N-1].Prob - d\n",
    "    \n",
    "   # print([arms.Prob for arms in Arms])\n",
    "    Ps.append(1-Arms[-1].Prob)\n",
    "    Count[action] +=1\n",
    "    if t % 5000 == 0 :\n",
    "        print(t)\n",
    "        display.clear_output(wait=True)\n",
    "print(time()-tic)"
   ]
  },
  {
   "cell_type": "code",
   "execution_count": 40,
   "metadata": {},
   "outputs": [
    {
     "data": {
      "text/plain": [
       "0.9958912452689692"
      ]
     },
     "execution_count": 40,
     "metadata": {},
     "output_type": "execute_result"
    }
   ],
   "source": [
    "Arms[-1].Prob"
   ]
  },
  {
   "cell_type": "code",
   "execution_count": 41,
   "metadata": {},
   "outputs": [
    {
     "name": "stdout",
     "output_type": "stream",
     "text": [
      "[(0.0002, 0.0), (0.0002, 0.05), (0.0003, 0.2), (0.0003, 0.15000000000000002), (0.0003, 0.1), (0.0004, 0.30000000000000004), (0.0006, 0.35000000000000003), (0.0007, 0.25), (0.0011, 0.4), (0.9959, 0.45)]\n"
     ]
    }
   ],
   "source": [
    "print([(np.round(arms.Prob,4), arms.theta  ) for arms in Arms])"
   ]
  },
  {
   "cell_type": "code",
   "execution_count": 42,
   "metadata": {},
   "outputs": [
    {
     "data": {
      "image/png": "[encoded data removed]",
      "text/plain": [
       "<Figure size 432x288 with 1 Axes>"
      ]
     },
     "metadata": {},
     "output_type": "display_data"
    }
   ],
   "source": [
    "import matplotlib\n",
    "import matplotlib.pyplot as plt\n",
    "import numpy as np\n",
    "\n",
    "# Data for plotting\n",
    "t = np.arange(1, Time+1, 1)\n",
    "\n",
    "fig, ax = plt.subplots()\n",
    "ax.plot(np.log(t), np.log(Ps), np.log(t), 6-1*np.log(t))\n",
    "\n",
    "#ax.set(xlabel='time (s)', ylabel='voltage (mV)',\n",
    "#       title='About as simple as it gets, folks')\n",
    "ax.grid()\n",
    "\n",
    "fig.savefig(\"test.png\")\n",
    "plt.show()"
   ]
  },
  {
   "cell_type": "code",
   "execution_count": 44,
   "metadata": {},
   "outputs": [
    {
     "data": {
      "text/plain": [
       "403.4287934927351"
      ]
     },
     "execution_count": 44,
     "metadata": {},
     "output_type": "execute_result"
    }
   ],
   "source": [
    "np.exp(6)"
   ]
  },
  {
   "cell_type": "code",
   "execution_count": 43,
   "metadata": {},
   "outputs": [
    {
     "name": "stdout",
     "output_type": "stream",
     "text": [
      "0.0 0.00022126176130531173\n",
      "0.05 0.00023337753953550725\n",
      "0.2 0.0002605957395306399\n",
      "0.15000000000000002 0.00027692581739312906\n",
      "0.1 0.00028848999923548587\n",
      "0.30000000000000004 0.00043126937419586767\n",
      "0.35000000000000003 0.0005607288102733525\n",
      "0.25 0.0006876727378383839\n",
      "0.4 0.001148432951709333\n",
      "0.45 0.9958912452689692\n"
     ]
    }
   ],
   "source": [
    "for idx, arms in enumerate(Arms):\n",
    "    print(arms.theta,arms.Prob)"
   ]
  },
  {
   "cell_type": "code",
   "execution_count": 29,
   "metadata": {},
   "outputs": [
    {
     "data": {
      "text/plain": [
       "403.4287934927351"
      ]
     },
     "execution_count": 29,
     "metadata": {},
     "output_type": "execute_result"
    }
   ],
   "source": [
    "np.exp(6)"
   ]
  },
  {
   "cell_type": "code",
   "execution_count": null,
   "metadata": {},
   "outputs": [],
   "source": []
  }
 ],
 "metadata": {
  "kernelspec": {
   "display_name": "Python 3",
   "language": "python",
   "name": "python3"
  },
  "language_info": {
   "codemirror_mode": {
    "name": "ipython",
    "version": 3
   },
   "file_extension": ".py",
   "mimetype": "text/x-python",
   "name": "python",
   "nbconvert_exporter": "python",
   "pygments_lexer": "ipython3",
   "version": "3.6.3"
  }
 },
 "nbformat": 4,
 "nbformat_minor": 4
}
