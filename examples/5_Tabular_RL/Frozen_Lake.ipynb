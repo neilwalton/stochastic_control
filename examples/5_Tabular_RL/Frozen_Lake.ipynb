{
 "cells": [
  {
   "cell_type": "code",
   "execution_count": 5,
   "metadata": {},
   "outputs": [
    {
     "name": "stdout",
     "output_type": "stream",
     "text": [
      "The autoreload extension is already loaded. To reload it, use:\n",
      "  %reload_ext autoreload\n"
     ]
    }
   ],
   "source": [
    "# Add location to import stochastic_control\n",
    "import sys\n",
    "sys.path.append('../../')\n",
    "\n",
    "import numpy as np\n",
    "\n",
    "# The main modules that we need\n",
    "import gym\n",
    "import stochastic_control\n",
    "\n",
    "from tqdm import tqdm\n",
    "from imp import reload\n",
    "\n",
    "%load_ext autoreload\n",
    "%autoreload 2"
   ]
  },
  {
   "cell_type": "code",
   "execution_count": 6,
   "metadata": {},
   "outputs": [],
   "source": [
    "def print_lake(vi,size=8):\n",
    "    '''prints the solution more nicely '''  \n",
    "    \n",
    "    # print the lake\n",
    "    env.render()\n",
    "    print('')\n",
    "    \n",
    "    # print the solution\n",
    "    A_dict = { 0 : 'L', 1: 'D', 2:'R', 3:'U' }\n",
    "    for s in range(vi.nS):\n",
    "        print(A_dict[vi.act(s)], end='')\n",
    "        if (s+1) % size ==0 :\n",
    "            print('')\n",
    "    \n",
    "    # print values/sucess_probabilities\n",
    "    print('')\n",
    "    for s in range(vi.nS):\n",
    "        print(np.round(vi.V[s],2), end=' ')\n",
    "        if (s+1) % size ==0 :\n",
    "            print('')"
   ]
  },
  {
   "cell_type": "code",
   "execution_count": 7,
   "metadata": {},
   "outputs": [],
   "source": [
    "env = gym.make('FrozenLake-v0', map_name=None)"
   ]
  },
  {
   "cell_type": "code",
   "execution_count": 8,
   "metadata": {},
   "outputs": [
    {
     "ename": "AttributeError",
     "evalue": "module 'stochastic_control' has no attribute 'Value_Iteration'",
     "output_type": "error",
     "traceback": [
      "\u001b[0;31m---------------------------------------------------------------------------\u001b[0m",
      "\u001b[0;31mAttributeError\u001b[0m                            Traceback (most recent call last)",
      "\u001b[0;32m<ipython-input-8-43f3ab5a3f8f>\u001b[0m in \u001b[0;36m<module>\u001b[0;34m()\u001b[0m\n\u001b[1;32m      1\u001b[0m \u001b[0;31m# value iteration solution\u001b[0m\u001b[0;34m\u001b[0m\u001b[0;34m\u001b[0m\u001b[0m\n\u001b[0;32m----> 2\u001b[0;31m \u001b[0mvi\u001b[0m \u001b[0;34m=\u001b[0m \u001b[0mstochastic_control\u001b[0m\u001b[0;34m.\u001b[0m\u001b[0mValue_Iteration\u001b[0m\u001b[0;34m(\u001b[0m\u001b[0menv\u001b[0m\u001b[0;34m.\u001b[0m\u001b[0mnS\u001b[0m\u001b[0;34m,\u001b[0m\u001b[0menv\u001b[0m\u001b[0;34m.\u001b[0m\u001b[0mnA\u001b[0m\u001b[0;34m,\u001b[0m\u001b[0menv\u001b[0m\u001b[0;34m.\u001b[0m\u001b[0mP\u001b[0m\u001b[0;34m,\u001b[0m\u001b[0mdisc\u001b[0m\u001b[0;34m=\u001b[0m\u001b[0;36m0.4\u001b[0m\u001b[0;34m)\u001b[0m\u001b[0;34m\u001b[0m\u001b[0m\n\u001b[0m\u001b[1;32m      3\u001b[0m \u001b[0mV\u001b[0m \u001b[0;34m=\u001b[0m \u001b[0mvi\u001b[0m\u001b[0;34m.\u001b[0m\u001b[0mtrain\u001b[0m\u001b[0;34m(\u001b[0m\u001b[0;36m10000\u001b[0m\u001b[0;34m)\u001b[0m\u001b[0;34m\u001b[0m\u001b[0m\n\u001b[1;32m      4\u001b[0m \u001b[0mprint_lake\u001b[0m\u001b[0;34m(\u001b[0m\u001b[0mvi\u001b[0m\u001b[0;34m)\u001b[0m\u001b[0;34m\u001b[0m\u001b[0m\n",
      "\u001b[0;31mAttributeError\u001b[0m: module 'stochastic_control' has no attribute 'Value_Iteration'"
     ]
    }
   ],
   "source": [
    "# value iteration solution\n",
    "vi = stochastic_control.Value_Iteration(env.nS,env.nA,env.P,disc=0.4)\n",
    "V = vi.train(10000)\n",
    "print_lake(vi)"
   ]
  },
  {
   "cell_type": "code",
   "execution_count": null,
   "metadata": {},
   "outputs": [],
   "source": [
    "#env = gym.make('FrozenLake-v0', map_name=None)\n",
    "\n",
    "# policy iteration solution\n",
    "poi = stochastic_control.Policy_Iteration(env.nS,env.nA,env.P,disc=.4)\n",
    "V = poi.train(time=10)\n",
    "print_lake(poi)"
   ]
  },
  {
   "cell_type": "code",
   "execution_count": null,
   "metadata": {},
   "outputs": [],
   "source": []
  }
 ],
 "metadata": {
  "kernelspec": {
   "display_name": "Python 3",
   "language": "python",
   "name": "python3"
  },
  "language_info": {
   "codemirror_mode": {
    "name": "ipython",
    "version": 3
   },
   "file_extension": ".py",
   "mimetype": "text/x-python",
   "name": "python",
   "nbconvert_exporter": "python",
   "pygments_lexer": "ipython3",
   "version": "3.6.3"
  }
 },
 "nbformat": 4,
 "nbformat_minor": 4
}
