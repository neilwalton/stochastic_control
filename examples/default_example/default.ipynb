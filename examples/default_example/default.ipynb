{
 "cells": [
  {
   "cell_type": "code",
   "execution_count": 4,
   "metadata": {},
   "outputs": [
    {
     "name": "stdout",
     "output_type": "stream",
     "text": [
      "The autoreload extension is already loaded. To reload it, use:\n",
      "  %reload_ext autoreload\n"
     ]
    }
   ],
   "source": [
    "# Add location to import stochastic_control\n",
    "import sys\n",
    "sys.path.append('../../')\n",
    "\n",
    "# Standard Libraries\n",
    "import numpy as np\n",
    "\n",
    "# Housekeeping modules and settings\n",
    "from tqdm import tqdm\n",
    "from time import time\n",
    "from IPython.display import clear_output\n",
    "%load_ext autoreload\n",
    "%autoreload 0\n",
    "\n",
    "# The main modules that we need\n",
    "import stochastic_control as sc\n",
    "# import gym\n",
    "# import scikit-learn\n",
    "# import torch\n"
   ]
  },
  {
   "cell_type": "code",
   "execution_count": null,
   "metadata": {},
   "outputs": [],
   "source": []
  }
 ],
 "metadata": {
  "kernelspec": {
   "display_name": "Python 3",
   "language": "python",
   "name": "python3"
  },
  "language_info": {
   "codemirror_mode": {
    "name": "ipython",
    "version": 3
   },
   "file_extension": ".py",
   "mimetype": "text/x-python",
   "name": "python",
   "nbconvert_exporter": "python",
   "pygments_lexer": "ipython3",
   "version": "3.6.3"
  }
 },
 "nbformat": 4,
 "nbformat_minor": 4
}
