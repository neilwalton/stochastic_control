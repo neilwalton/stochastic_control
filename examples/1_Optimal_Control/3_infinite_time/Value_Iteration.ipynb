{
 "cells": [
  {
   "cell_type": "code",
   "execution_count": 1,
   "metadata": {},
   "outputs": [],
   "source": [
    "import numpy as np\n",
    "\n",
    "def Value_Iteration(V,P,r,discount):\n",
    "    ''' Value Iteration - a numerical solution to a MDP\n",
    "    \n",
    "    # Arguments: \n",
    "        V - a 1D np.array. V[x] gives value for state x\n",
    "        P - a 3D np.array. P[a][x][y] gives probablity of x -> y for action a \n",
    "        r - a 3D np.array. r[a][x][y] gives reward for x -> y for action a\n",
    "        discount - a float. disount factor\n",
    "    \n",
    "    # Returns:\n",
    "        Value function and policy from **one** value iteration\n",
    "    '''\n",
    "    number_of_actions = len(P)\n",
    "    number_of_states = len(P[0])\n",
    "    \n",
    "    Q = np.zeros((number_of_actions,number_of_states))\n",
    "    \n",
    "    for a in range(number_of_actions):\n",
    "        for x in range(number_of_states):          \n",
    "            Q[a][x] = np.dot(P[a][x],r[a][x]+discount*V) \n",
    "            \n",
    "    V_new = np.amax(Q, axis=0)\n",
    "    \n",
    "    pi_new = np.argmax(Q, axis=0)\n",
    "    \n",
    "    return V_new, pi_new"
   ]
  },
  {
   "cell_type": "code",
   "execution_count": 2,
   "metadata": {
    "code_folding": []
   },
   "outputs": [],
   "source": [
    "'''\n",
    "Define the matrix P\n",
    "'''\n",
    "\n",
    "P_Left = np.array(\n",
    "        [\n",
    "        [1,0,0,0,0,0,0,0,0,0,0,0,0],\n",
    "        [1,0,0,0,0,0,0,0,0,0,0,0,0],\n",
    "        [0,1,0,0,0,0,0,0,0,0,0,0,0],\n",
    "        [0,0,0,0,0,0,0,0,0,0,0,0,1],\n",
    "        [0,0,0,0,1,0,0,0,0,0,0,0,0],\n",
    "        [0,0,0,0,0,0,0,0,0,0,0,0,1],\n",
    "        [0,0,0,0,0,0,1,0,0,0,0,0,0],\n",
    "        [0,0,0,0,0,0,1,0,0,0,0,0,0],\n",
    "        [0,0,0,0,0,0,0,0,1,0,0,0,0],\n",
    "        [0,0,0,0,0,0,0,0,1,0,0,0,0],\n",
    "        [0,0,0,0,0,0,0,0,0,1,0,0,0],\n",
    "        [0,0,0,0,0,0,0,0,0,0,0,0,1],\n",
    "        [0,0,0,0,0,0,0,0,0,0,0,0,1]\n",
    "        ])                   \n",
    "\n",
    "P_Right = np.array(\n",
    "        [\n",
    "        [0,1,0,0,0,0,0,0,0,0,0,0,0],\n",
    "        [0,0,1,0,0,0,0,0,0,0,0,0,0],\n",
    "        [0,0,0,1,0,0,0,0,0,0,0,0,0],\n",
    "        [0,0,0,0,0,0,0,0,0,0,0,0,1],\n",
    "        [0,0,0,0,1,0,0,0,0,0,0,0,0],\n",
    "        [0,0,0,0,0,0,0,0,0,0,0,0,1],\n",
    "        [0,0,0,0,0,0,0,1,0,0,0,0,0],\n",
    "        [0,0,0,0,0,0,0,1,0,0,0,0,0],\n",
    "        [0,0,0,0,0,0,0,0,0,1,0,0,0],\n",
    "        [0,0,0,0,0,0,0,0,0,0,1,0,0],\n",
    "        [0,0,0,0,0,0,0,0,0,0,0,1,0],\n",
    "        [0,0,0,0,0,0,0,0,0,0,0,0,1],\n",
    "        [0,0,0,0,0,0,0,0,0,0,0,0,1]\n",
    "        ])\n",
    "                   \n",
    "P_Up = np.array(\n",
    "        [\n",
    "        [0,0,0,0,1,0,0,0,0,0,0,0,0],\n",
    "        [0,1,0,0,0,0,0,0,0,0,0,0,0],\n",
    "        [0,0,0,0,0,0,1,0,0,0,0,0,0],\n",
    "        [0,0,0,0,0,0,0,0,0,0,0,0,1],\n",
    "        [0,0,0,0,0,0,0,0,1,0,0,0,0],\n",
    "        [0,0,0,0,0,0,0,0,0,0,0,0,1],\n",
    "        [0,0,0,0,0,0,0,0,0,0,1,0,0],\n",
    "        [0,0,0,0,0,0,0,0,0,0,0,1,0],\n",
    "        [0,0,0,0,0,0,0,0,1,0,0,0,0],\n",
    "        [0,0,0,0,0,0,0,0,0,1,0,0,0],\n",
    "        [0,0,0,0,0,0,0,0,0,0,1,0,0],\n",
    "        [0,0,0,0,0,0,0,0,0,0,0,0,1],\n",
    "        [0,0,0,0,0,0,0,0,0,0,0,0,1]\n",
    "        ])                   \n",
    "                   \n",
    "P_Down = np.array(\n",
    "        [\n",
    "        [1,0,0,0,0,0,0,0,0,0,0,0,0],\n",
    "        [0,1,0,0,0,0,0,0,0,0,0,0,0],\n",
    "        [0,0,1,0,0,0,0,0,0,0,0,0,0],\n",
    "        [0,0,0,0,0,0,0,0,0,0,0,0,1],\n",
    "        [1,0,0,0,0,0,0,0,0,0,0,0,0],\n",
    "        [0,0,0,0,0,0,0,0,0,0,0,0,1],\n",
    "        [0,0,1,0,0,0,0,0,0,0,0,0,0],\n",
    "        [0,0,0,1,0,0,0,0,0,0,0,0,0],\n",
    "        [0,0,0,0,1,0,0,0,0,0,0,0,0],\n",
    "        [0,0,0,0,0,1,0,0,0,0,0,0,0],\n",
    "        [0,0,0,0,0,0,1,0,0,0,0,0,0],\n",
    "        [0,0,0,0,0,0,0,0,0,0,0,0,1],\n",
    "        [0,0,0,0,0,0,0,0,0,0,0,0,1]\n",
    "        ])                 \n",
    "\n",
    "P_Random = 0.25*P_Left + 0.25*P_Right + 0.25*P_Up + 0.25*P_Down\n",
    "\n",
    "Epsilon = 0.8\n",
    "P_Left = ( ( 1 - Epsilon ) * P_Left + Epsilon * P_Random )\n",
    "P_Right = ( ( 1 - Epsilon ) * P_Right + Epsilon * P_Random )\n",
    "P_Up = ( ( 1 - Epsilon ) * P_Up + Epsilon * P_Random )\n",
    "P_Down = ( ( 1 - Epsilon ) * P_Down + Epsilon * P_Random )\n",
    "\n",
    "P = [P_Left, P_Right, P_Up, P_Down]"
   ]
  },
  {
   "cell_type": "code",
   "execution_count": 3,
   "metadata": {},
   "outputs": [],
   "source": [
    "number_of_states = 13 # including exit state \n",
    "number_of_actions = 4"
   ]
  },
  {
   "cell_type": "code",
   "execution_count": 4,
   "metadata": {},
   "outputs": [],
   "source": [
    "r = np.array([[\n",
    "                [0,0,0,-1,0,-2,0,0,0,0,0,+2,0] \n",
    "                    for x in range(number_of_states)] \n",
    "                        for a in range(number_of_actions)])\n",
    "Epsilon = 0.8\n",
    "discount = 0.9"
   ]
  },
  {
   "cell_type": "code",
   "execution_count": 5,
   "metadata": {},
   "outputs": [],
   "source": [
    "V =np.zeros(13)\n",
    "for _ in range(100):\n",
    "    V, pi = Value_Iteration(V,P,r,discount)"
   ]
  },
  {
   "cell_type": "code",
   "execution_count": 6,
   "metadata": {},
   "outputs": [
    {
     "data": {
      "text/plain": [
       "array([0.03957056, 0.0564322 , 0.08053864, 0.        , 0.02783092,\n",
       "       0.        , 0.71078858, 0.88773408, 0.01981325, 0.01478528,\n",
       "       1.13488207, 0.        , 0.        ])"
      ]
     },
     "execution_count": 6,
     "metadata": {},
     "output_type": "execute_result"
    }
   ],
   "source": [
    "V"
   ]
  },
  {
   "cell_type": "code",
   "execution_count": 7,
   "metadata": {},
   "outputs": [
    {
     "data": {
      "text/plain": [
       "array([1, 1, 2, 0, 3, 0, 2, 2, 3, 1, 1, 0, 0])"
      ]
     },
     "execution_count": 7,
     "metadata": {},
     "output_type": "execute_result"
    }
   ],
   "source": [
    "pi"
   ]
  },
  {
   "cell_type": "code",
   "execution_count": null,
   "metadata": {},
   "outputs": [],
   "source": []
  }
 ],
 "metadata": {
  "kernelspec": {
   "display_name": "Python 3",
   "language": "python",
   "name": "python3"
  },
  "language_info": {
   "codemirror_mode": {
    "name": "ipython",
    "version": 3
   },
   "file_extension": ".py",
   "mimetype": "text/x-python",
   "name": "python",
   "nbconvert_exporter": "python",
   "pygments_lexer": "ipython3",
   "version": "3.6.3"
  }
 },
 "nbformat": 4,
 "nbformat_minor": 2
}
