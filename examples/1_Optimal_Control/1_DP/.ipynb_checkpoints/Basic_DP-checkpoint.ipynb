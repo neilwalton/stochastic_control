{
 "cells": [
  {
   "cell_type": "markdown",
   "metadata": {},
   "source": [
    "# A Very Simple Dynamic Program\n",
    "\n",
    "Here we import a few standard libraries: one for numerics, the other for random numbers."
   ]
  },
  {
   "cell_type": "code",
   "execution_count": 271,
   "metadata": {
    "collapsed": true
   },
   "outputs": [],
   "source": [
    "import numpy as np\n",
    "import random "
   ]
  },
  {
   "cell_type": "markdown",
   "metadata": {},
   "source": [
    "We do dynamic programming on a tree of depth 'problem_size'"
   ]
  },
  {
   "cell_type": "code",
   "execution_count": 272,
   "metadata": {
    "collapsed": false
   },
   "outputs": [],
   "source": [
    "problem_size = 3"
   ]
  },
  {
   "cell_type": "markdown",
   "metadata": {},
   "source": [
    "Here get the data for our tree. Each branch has a cost that is a random number between 0 and 8"
   ]
  },
  {
   "cell_type": "code",
   "execution_count": 273,
   "metadata": {
    "collapsed": false
   },
   "outputs": [],
   "source": [
    "def Get_Data(problem_size):\n",
    "    data=[]\n",
    "    for i in range(problem_size):\n",
    "        data.append(np.random.randint(9, size=2**i))\n",
    "    return data"
   ]
  },
  {
   "cell_type": "markdown",
   "metadata": {},
   "source": [
    "The function below implements our Dynamic Program. Roughly we make the assignment:\n",
    "\n",
    "$$\n",
    "Data(n) \\leftarrow Data(n) + \\min \\{ Data(n_{left}) , Data(n_{right}) \\}\n",
    "$$\n",
    "\n",
    "where $n_{left}$ and $n_{right}$ are the left and right parents of node $n$."
   ]
  },
  {
   "cell_type": "code",
   "execution_count": 274,
   "metadata": {
    "collapsed": true
   },
   "outputs": [],
   "source": [
    "def Simple_DP(data):\n",
    "    for i in range(problem_size-1,0,-1):\n",
    "        for j in range(0, len(data[i-1])):\n",
    "            '''The next line is the main dynamic programing step'''\n",
    "            data[i-1][j]+=min(data[i][2*j],data[i][2*j+1])\n",
    "            arg = np.argmin([data[i][2*j],data[i][2*j+1]])\n",
    "            if arg == 0:\n",
    "                data[i][2*j]=1 \n",
    "                data[i][2*j+1]=0\n",
    "            else: \n",
    "                data[i][2*j]=0\n",
    "                data[i][2*j+1]=1\n",
    "    return data"
   ]
  },
  {
   "cell_type": "markdown",
   "metadata": {},
   "source": [
    "Below we get the tree data. Run the dynamic Program and output the cost"
   ]
  },
  {
   "cell_type": "code",
   "execution_count": 275,
   "metadata": {
    "collapsed": false
   },
   "outputs": [
    {
     "name": "stdout",
     "output_type": "stream",
     "text": [
      "[array([6]), array([7, 0]), array([1, 3, 1, 4])]\n"
     ]
    }
   ],
   "source": [
    "data=Get_Data(problem_size)\n",
    "print(data)"
   ]
  },
  {
   "cell_type": "code",
   "execution_count": 276,
   "metadata": {
    "collapsed": false
   },
   "outputs": [
    {
     "name": "stdout",
     "output_type": "stream",
     "text": [
      "[array([7]), array([0, 1]), array([1, 0, 1, 0])]\n"
     ]
    }
   ],
   "source": [
    "output=Simple_DP(data)\n",
    "print(output)\n"
   ]
  },
  {
   "cell_type": "code",
   "execution_count": 277,
   "metadata": {
    "collapsed": false
   },
   "outputs": [
    {
     "name": "stdout",
     "output_type": "stream",
     "text": [
      "Cost is: 7\n"
     ]
    }
   ],
   "source": [
    "print('Cost is:', data[0][0])"
   ]
  }
 ],
 "metadata": {
  "kernelspec": {
   "display_name": "Python 3",
   "language": "python",
   "name": "python3"
  },
  "language_info": {
   "codemirror_mode": {
    "name": "ipython",
    "version": 3
   },
   "file_extension": ".py",
   "mimetype": "text/x-python",
   "name": "python",
   "nbconvert_exporter": "python",
   "pygments_lexer": "ipython3",
   "version": "3.6.0"
  }
 },
 "nbformat": 4,
 "nbformat_minor": 2
}
