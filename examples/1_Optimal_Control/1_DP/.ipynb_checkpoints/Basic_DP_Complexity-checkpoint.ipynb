{
 "cells": [
  {
   "cell_type": "markdown",
   "metadata": {},
   "source": [
    "# Dynamic Program Time Test\n",
    "\n",
    "Here we make a simple point about the time that it take to run a dynamic program as the problem size grows. We use the same code from before, but solve over different problem sizes and plot."
   ]
  },
  {
   "cell_type": "code",
   "execution_count": 73,
   "metadata": {
    "collapsed": true
   },
   "outputs": [],
   "source": [
    "import numpy as np\n",
    "import random "
   ]
  },
  {
   "cell_type": "markdown",
   "metadata": {},
   "source": [
    "We add two extra libraries one for timing, one for plotting."
   ]
  },
  {
   "cell_type": "code",
   "execution_count": 74,
   "metadata": {
    "collapsed": true
   },
   "outputs": [],
   "source": [
    "import time \n",
    "import matplotlib.pyplot as plt"
   ]
  },
  {
   "cell_type": "markdown",
   "metadata": {},
   "source": [
    "This is the same code as before"
   ]
  },
  {
   "cell_type": "code",
   "execution_count": 75,
   "metadata": {
    "collapsed": true
   },
   "outputs": [],
   "source": [
    "problem_size = 25 # 20 is a better number if you don't like waiting \n",
    "\n",
    "def Get_Data(problem_size):\n",
    "    data=[]\n",
    "    for i in range(problem_size):\n",
    "        data.append(np.random.randint(9, size=2**i))\n",
    "    return data\n",
    "\n",
    "def Simple_DP(data):\n",
    "    problem_size=len(data)\n",
    "    for i in range(problem_size-1,0,-1):\n",
    "        for j in range(0, len(data[i-1])):\n",
    "            '''The next line is the main dynamic programing step'''\n",
    "            data[i-1][j]+=min(data[i][2*j],data[i][2*j+1])\n",
    "            arg = np.argmin([data[i][2*j],data[i][2*j+1]])\n",
    "            if arg == 0:\n",
    "                data[i][2*j]=1 \n",
    "                data[i][2*j+1]=0\n",
    "            else: \n",
    "                data[i][2*j]=0\n",
    "                data[i][2*j+1]=1\n",
    "    return data"
   ]
  },
  {
   "cell_type": "markdown",
   "metadata": {},
   "source": [
    "We get the data for everying "
   ]
  },
  {
   "cell_type": "code",
   "execution_count": 84,
   "metadata": {
    "collapsed": false
   },
   "outputs": [],
   "source": [
    "data=Get_Data(problem_size)"
   ]
  },
  {
   "cell_type": "markdown",
   "metadata": {},
   "source": [
    "We get an array to plot the x and y axis of our data\n"
   ]
  },
  {
   "cell_type": "code",
   "execution_count": 77,
   "metadata": {
    "collapsed": false
   },
   "outputs": [],
   "source": [
    "x=np.zeros(len(data))\n",
    "y=np.zeros(len(data))"
   ]
  },
  {
   "cell_type": "markdown",
   "metadata": {},
   "source": [
    "We get the run times for different tree depths."
   ]
  },
  {
   "cell_type": "code",
   "execution_count": 79,
   "metadata": {
    "collapsed": false
   },
   "outputs": [
    {
     "name": "stdout",
     "output_type": "stream",
     "text": [
      "run time of problem 0  is  8.821487426757812e-06\n",
      "run time of problem 1  is  1.1920928955078125e-05\n",
      "run time of problem 2  is  7.319450378417969e-05\n",
      "run time of problem 3  is  0.00014781951904296875\n",
      "run time of problem 4  is  0.00014591217041015625\n",
      "run time of problem 5  is  0.0002281665802001953\n",
      "run time of problem 6  is  0.0005991458892822266\n",
      "run time of problem 7  is  0.0008680820465087891\n",
      "run time of problem 8  is  0.0018248558044433594\n",
      "run time of problem 9  is  0.0039980411529541016\n",
      "run time of problem 10  is  0.0071790218353271484\n",
      "run time of problem 11  is  0.01954483985900879\n",
      "run time of problem 12  is  0.0254669189453125\n",
      "run time of problem 13  is  0.03761887550354004\n",
      "run time of problem 14  is  0.07317709922790527\n",
      "run time of problem 15  is  0.14967823028564453\n",
      "run time of problem 16  is  0.2746608257293701\n",
      "run time of problem 17  is  0.4893200397491455\n",
      "run time of problem 18  is  0.929192066192627\n",
      "run time of problem 19  is  1.8683910369873047\n",
      "run time of problem 20  is  3.6716089248657227\n",
      "run time of problem 21  is  7.136600017547607\n",
      "run time of problem 22  is  14.371768951416016\n",
      "run time of problem 23  is  29.246623992919922\n",
      "run time of problem 24  is  56.81994605064392\n"
     ]
    }
   ],
   "source": [
    "for i in range(problem_size):\n",
    "    start_time=time.time()\n",
    "    output=Simple_DP(data[0:i])\n",
    "    x[i]=i\n",
    "    y[i]=time.time()-start_time\n",
    "    print('run time of problem', i,' is ', time.time()-start_time)"
   ]
  },
  {
   "cell_type": "markdown",
   "metadata": {},
   "source": [
    "Now we plot the data.."
   ]
  },
  {
   "cell_type": "code",
   "execution_count": 80,
   "metadata": {
    "collapsed": false
   },
   "outputs": [
    {
     "data": {
      "image/png": "[encoded data removed]",
      "text/plain": [
       "<matplotlib.figure.Figure at 0x1159cb550>"
      ]
     },
     "metadata": {},
     "output_type": "display_data"
    }
   ],
   "source": [
    "plt.plot(x, y, color='lightblue', linewidth=3)\n",
    "plt.xlim(0, problem_size)\n",
    "plt.show()"
   ]
  },
  {
   "cell_type": "markdown",
   "metadata": {},
   "source": [
    "Below is a better plot, we take logarithms on the y-axis"
   ]
  },
  {
   "cell_type": "code",
   "execution_count": 86,
   "metadata": {
    "collapsed": false
   },
   "outputs": [
    {
     "data": {
      "image/png": "[encoded data removed]",
      "text/plain": [
       "<matplotlib.figure.Figure at 0x1255e2128>"
      ]
     },
     "metadata": {},
     "output_type": "display_data"
    }
   ],
   "source": [
    "plt.plot(x, np.log(y), color='lightblue', linewidth=3)\n",
    "plt.xlim(0, problem_size)\n",
    "plt.show()"
   ]
  }
 ],
 "metadata": {
  "kernelspec": {
   "display_name": "Python 3",
   "language": "python",
   "name": "python3"
  },
  "language_info": {
   "codemirror_mode": {
    "name": "ipython",
    "version": 3
   },
   "file_extension": ".py",
   "mimetype": "text/x-python",
   "name": "python",
   "nbconvert_exporter": "python",
   "pygments_lexer": "ipython3",
   "version": "3.6.0"
  }
 },
 "nbformat": 4,
 "nbformat_minor": 2
}
